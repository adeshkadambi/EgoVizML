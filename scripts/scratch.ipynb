{
 "cells": [
  {
   "cell_type": "code",
   "execution_count": 3,
   "metadata": {},
   "outputs": [],
   "source": [
    "import pickle\n",
    "import os"
   ]
  },
  {
   "cell_type": "code",
   "execution_count": 5,
   "metadata": {},
   "outputs": [],
   "source": [
    "dirpath = \"D:\\\\PhD\\\\adl_recognition\\\\test_folder\\\\detic\""
   ]
  },
  {
   "cell_type": "code",
   "execution_count": 11,
   "metadata": {},
   "outputs": [
    {
     "name": "stdout",
     "output_type": "stream",
     "text": [
      "Original:\n",
      "{'boxes': array([[9.89927795e+02, 1.82859009e+02, 1.04807776e+03, 2.42349182e+02],\n",
      "       [1.06218530e+03, 1.28651291e+02, 1.12460229e+03, 1.88572113e+02],\n",
      "       [1.06652893e+03, 1.91058212e+02, 1.12486426e+03, 2.55153900e+02],\n",
      "       [7.31757141e+02, 1.30582733e+02, 8.21192505e+02, 5.32828613e+02],\n",
      "       [3.30316223e+02, 6.08378947e-01, 1.92000000e+03, 1.06616870e+03],\n",
      "       [3.51884857e+02, 0.00000000e+00, 5.91561707e+02, 1.73263062e+02],\n",
      "       [1.15075806e+03, 1.22612572e+02, 1.44068042e+03, 5.00132050e+02],\n",
      "       [1.11466589e+03, 1.63433151e+02, 1.15822375e+03, 2.12310883e+02],\n",
      "       [9.53645813e+02, 1.38530701e+02, 1.00611615e+03, 1.84506760e+02],\n",
      "       [4.86112744e-01, 0.00000000e+00, 3.17907471e+02, 1.59359756e+02],\n",
      "       [1.03097766e+03, 1.67457153e+02, 1.07720593e+03, 2.19927994e+02],\n",
      "       [1.36411841e+03, 1.53217535e+01, 1.73021777e+03, 6.27760559e+02],\n",
      "       [7.76715210e+02, 2.73607254e+01, 1.32055457e+03, 6.28241394e+02],\n",
      "       [9.50044922e+02, 1.75432007e+02, 9.96169861e+02, 2.27721878e+02],\n",
      "       [1.10345837e+03, 1.03062355e+02, 1.16301404e+03, 1.61216949e+02],\n",
      "       [1.10243286e+03, 2.35756790e+02, 1.27290356e+03, 5.48379761e+02],\n",
      "       [1.04591785e+03, 1.09639374e+02, 1.09163342e+03, 1.53196259e+02],\n",
      "       [1.61882312e+03, 0.00000000e+00, 1.87919153e+03, 1.79936111e+02],\n",
      "       [1.04240491e+03, 2.39466461e+02, 1.27131445e+03, 5.54131714e+02],\n",
      "       [8.46096375e+02, 2.44654007e+02, 1.02803101e+03, 4.86646271e+02],\n",
      "       [9.95120117e+02, 1.33270752e+02, 1.05248401e+03, 1.82185776e+02],\n",
      "       [8.43878845e+02, 2.36675797e+02, 1.17467322e+03, 5.40497498e+02],\n",
      "       [9.97342285e+02, 8.55477295e+01, 1.01507001e+03, 1.03626785e+02],\n",
      "       [1.33972229e+03, 2.41147270e+01, 1.52139563e+03, 6.30793884e+02]],\n",
      "      dtype=float32), 'scores': array([0.9489074 , 0.92118114, 0.9103916 , 0.9087488 , 0.89097744,\n",
      "       0.8732587 , 0.8403482 , 0.7897673 , 0.7785757 , 0.7563104 ,\n",
      "       0.7429072 , 0.727977  , 0.70956886, 0.68214786, 0.672054  ,\n",
      "       0.6685874 , 0.65429235, 0.6299161 , 0.61799145, 0.6165301 ,\n",
      "       0.59222156, 0.57732993, 0.5102583 , 0.5059587 ], dtype=float32), 'classes': array([1098, 1098, 1098,  468,  792,  229,  149, 1098,  509,  231, 1098,\n",
      "        712,  817,  308, 1098,  905, 1098,  707,  527, 1179,  308, 1179,\n",
      "        337,  712], dtype=int64), 'metadata': ['tomato', 'tomato', 'tomato', 'fork', 'person', 'cellular_telephone', 'bread', 'tomato', 'grape', 'chair', 'tomato', 'napkin', 'plate', 'edible_corn', 'tomato', 'salami', 'tomato', 'mug', 'ham', 'whipped_cream', 'edible_corn', 'whipped_cream', 'crumb', 'napkin']}\n"
     ]
    }
   ],
   "source": [
    "for file in os.listdir(dirpath):\n",
    "    if file == \"SCI02-2--8_frame0_detic.pkl\":\n",
    "        print(\"Original:\")\n",
    "        with open(os.path.join(dirpath, file), \"rb\") as f:\n",
    "            data = pickle.load(f)\n",
    "            print(data)"
   ]
  },
  {
   "cell_type": "code",
   "execution_count": 12,
   "metadata": {},
   "outputs": [
    {
     "name": "stdout",
     "output_type": "stream",
     "text": [
      "Updated:\n",
      "{'boxes': array([[ 989,  182, 1048,  242],\n",
      "       [1062,  128, 1124,  188],\n",
      "       [1066,  191, 1124,  255],\n",
      "       [ 731,  130,  821,  532],\n",
      "       [ 351,    0,  591,  173],\n",
      "       [1150,  122, 1440,  500],\n",
      "       [1114,  163, 1158,  212],\n",
      "       [ 953,  138, 1006,  184],\n",
      "       [   0,    0,  317,  159],\n",
      "       [1030,  167, 1077,  219],\n",
      "       [1364,   15, 1730,  627],\n",
      "       [ 776,   27, 1320,  628],\n",
      "       [ 950,  175,  996,  227],\n",
      "       [1103,  103, 1163,  161],\n",
      "       [1102,  235, 1272,  548],\n",
      "       [1045,  109, 1091,  153],\n",
      "       [1618,    0, 1879,  179],\n",
      "       [1042,  239, 1271,  554],\n",
      "       [ 846,  244, 1028,  486],\n",
      "       [ 995,  133, 1052,  182],\n",
      "       [ 843,  236, 1174,  540],\n",
      "       [ 997,   85, 1015,  103],\n",
      "       [1339,   24, 1521,  630]]), 'scores': [0.9489074, 0.92118114, 0.9103916, 0.9087488, 0.8732587, 0.8403482, 0.7897673, 0.7785757, 0.7563104, 0.7429072, 0.727977, 0.70956886, 0.68214786, 0.672054, 0.6685874, 0.65429235, 0.6299161, 0.61799145, 0.6165301, 0.59222156, 0.57732993, 0.5102583, 0.5059587], 'classes': [1098, 1098, 1098, 468, 229, 149, 1098, 509, 231, 1098, 712, 817, 308, 1098, 905, 1098, 707, 527, 1179, 308, 1179, 337, 712], 'metadata': ['tomato', 'tomato', 'tomato', 'fork', 'cellular_telephone', 'bread', 'tomato', 'grape', 'chair', 'tomato', 'napkin', 'plate', 'edible_corn', 'tomato', 'salami', 'tomato', 'mug', 'ham', 'whipped_cream', 'edible_corn', 'whipped_cream', 'crumb', 'napkin'], 'remapped_metadata': ['food', 'food', 'food', 'tableware', 'phone_tablet', 'food', 'food', 'animal', 'furniture', 'food', 'cleaning_product', 'tableware', 'food', 'food', 'food', 'food', 'drinkware', 'food', 'food', 'food', 'food', 'food', 'cleaning_product'], 'remapped_classes': [1, 1, 1, 8, 17, 1, 1, 0, 11, 1, 18, 8, 1, 1, 1, 1, 9, 1, 1, 1, 1, 1, 18]}\n"
     ]
    }
   ],
   "source": [
    "for file in os.listdir(dirpath):\n",
    "    if file == \"SCI02-2--8_frame0_detic.pkl\":\n",
    "        print(\"Updated:\")\n",
    "        with open(os.path.join(dirpath, file), \"rb\") as f:\n",
    "            data = pickle.load(f)\n",
    "            print(data)"
   ]
  },
  {
   "cell_type": "code",
   "execution_count": null,
   "metadata": {},
   "outputs": [],
   "source": []
  }
 ],
 "metadata": {
  "kernelspec": {
   "display_name": "egovizml-XPfoP_XE-py3.11",
   "language": "python",
   "name": "python3"
  },
  "language_info": {
   "codemirror_mode": {
    "name": "ipython",
    "version": 3
   },
   "file_extension": ".py",
   "mimetype": "text/x-python",
   "name": "python",
   "nbconvert_exporter": "python",
   "pygments_lexer": "ipython3",
   "version": "3.11.5"
  },
  "orig_nbformat": 4
 },
 "nbformat": 4,
 "nbformat_minor": 2
}
