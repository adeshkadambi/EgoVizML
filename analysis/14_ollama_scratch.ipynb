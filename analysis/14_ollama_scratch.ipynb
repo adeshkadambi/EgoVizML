{
 "cells": [
  {
   "cell_type": "code",
   "execution_count": 6,
   "metadata": {},
   "outputs": [],
   "source": [
    "import pickle\n",
    "\n",
    "from egoviz.models.llm import llava_multi_image"
   ]
  },
  {
   "cell_type": "code",
   "execution_count": 7,
   "metadata": {},
   "outputs": [],
   "source": [
    "dirpaths = [\n",
    "    r'E:\\PhD\\adl_recognition\\grids\\leisure',\n",
    "    r'E:\\PhD\\adl_recognition\\grids\\communication-management',\n",
    "    r'E:\\PhD\\adl_recognition\\grids\\functional-mobility',\n",
    "    r'E:\\PhD\\adl_recognition\\grids\\grooming-health-management',\n",
    "    r'E:\\PhD\\adl_recognition\\grids\\home-management',\n",
    "    r'E:\\PhD\\adl_recognition\\grids\\meal-prep-cleanup',\n",
    "    r'E:\\PhD\\adl_recognition\\grids\\self-feeding',\n",
    "]"
   ]
  },
  {
   "cell_type": "code",
   "execution_count": 8,
   "metadata": {},
   "outputs": [
    {
     "name": "stderr",
     "output_type": "stream",
     "text": [
      "Processing Images: 100%|██████████| 165/165 [01:23<00:00,  1.97it/s]\n",
      "Processing Images: 100%|██████████| 428/428 [03:05<00:00,  2.30it/s]\n",
      "Processing Images: 100%|██████████| 207/207 [01:35<00:00,  2.18it/s]\n",
      "Processing Images: 100%|██████████| 172/172 [01:20<00:00,  2.13it/s]\n",
      "Processing Images: 100%|██████████| 407/407 [02:57<00:00,  2.29it/s]\n",
      "Processing Images: 100%|██████████| 625/625 [04:26<00:00,  2.34it/s]\n",
      "Processing Images: 100%|██████████| 257/257 [01:55<00:00,  2.22it/s]\n"
     ]
    }
   ],
   "source": [
    "results7b = {}\n",
    "\n",
    "for dirpath in dirpaths:\n",
    "    res = llava_multi_image(dirpath, model_name = \"llava:7b\")\n",
    "    results7b |= res\n",
    "\n",
    "with open('../data/llava_results_7b_new.pkl', 'wb') as f:\n",
    "    pickle.dump(results7b, f)\n",
    "\n",
    "loaded7b = pickle.load(open('../data/llava_results_7b_new.pkl', 'rb'))\n",
    "\n",
    "assert results7b == loaded7b"
   ]
  },
  {
   "cell_type": "code",
   "execution_count": 9,
   "metadata": {},
   "outputs": [
    {
     "name": "stderr",
     "output_type": "stream",
     "text": [
      "Processing Images:   0%|          | 0/165 [00:00<?, ?it/s]"
     ]
    },
    {
     "name": "stderr",
     "output_type": "stream",
     "text": [
      "Processing Images: 100%|██████████| 165/165 [17:50<00:00,  6.49s/it]\n",
      "Processing Images:  80%|████████  | 343/428 [36:20<09:00,  6.36s/it]  \n"
     ]
    }
   ],
   "source": [
    "result34b = {}\n",
    "\n",
    "for dirpath in dirpaths:\n",
    "    res = llava_multi_image(dirpath, model_name = \"llava:34b\")\n",
    "    result34b |= res\n",
    "\n",
    "with open(\"../data/llava_results_34b_new.pkl\", \"wb\") as f:\n",
    "    pickle.dump(result34b, f)\n",
    "\n",
    "loaded34b = pickle.load(open(\"../data/llava_results_34b_new.pkl\", \"rb\"))\n",
    "\n",
    "assert loaded34b == result34b"
   ]
  },
  {
   "cell_type": "code",
   "execution_count": null,
   "metadata": {},
   "outputs": [],
   "source": []
  }
 ],
 "metadata": {
  "kernelspec": {
   "display_name": "egovizml-XPfoP_XE-py3.11",
   "language": "python",
   "name": "python3"
  },
  "language_info": {
   "codemirror_mode": {
    "name": "ipython",
    "version": 3
   },
   "file_extension": ".py",
   "mimetype": "text/x-python",
   "name": "python",
   "nbconvert_exporter": "python",
   "pygments_lexer": "ipython3",
   "version": "3.11.5"
  }
 },
 "nbformat": 4,
 "nbformat_minor": 2
}
