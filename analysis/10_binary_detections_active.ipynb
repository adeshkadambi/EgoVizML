{
 "cells": [
  {
   "cell_type": "markdown",
   "metadata": {},
   "source": [
    "# Binary Presence Evaluations\n",
    "\n",
    "This notebook contains three different evaluations of the binary presence:\n",
    "- **Evaluation 1**: Binary Presence vs. counts.\n",
    "- **Evaluation 2**: Effect of detections vs. ground truth.\n",
    "- **Evaluation 3**: Effect of only active objects vs. all objects.\n",
    "- **Evaluation 4**: Effect of weighted active objects."
   ]
  },
  {
   "cell_type": "code",
   "execution_count": 1,
   "metadata": {},
   "outputs": [],
   "source": [
    "import os\n",
    "\n",
    "import pandas as pd\n",
    "from sklearn.ensemble import GradientBoostingClassifier, RandomForestClassifier\n",
    "from sklearn.linear_model import LogisticRegression\n",
    "from sklearn.neural_network import MLPClassifier\n",
    "from sklearn.preprocessing import LabelEncoder\n",
    "from xgboost import XGBClassifier\n",
    "\n",
    "import egoviz.models.evaluation as ev\n",
    "import egoviz.models.processing as pr\n",
    "import egoviz.visualize as viz\n",
    "\n",
    "SEED = 42\n",
    "\n",
    "pd.set_option(\"display.max_rows\", 300)\n",
    "cwd = os.getcwd()"
   ]
  },
  {
   "cell_type": "markdown",
   "metadata": {},
   "source": [
    "### Evaluation 1: Sum of Object Binary Presence vs. Sum of Object Counts"
   ]
  },
  {
   "cell_type": "code",
   "execution_count": 2,
   "metadata": {},
   "outputs": [],
   "source": [
    "# create counts df\n",
    "data = pr.load_pickle(os.path.join(cwd, '../data/home_data_all_preds.pkl'))\n",
    "df = pr.generate_df_from_preds(data)\n",
    "df_counts = pr.generate_counts_df(df)\n",
    "\n",
    "# create binary df\n",
    "data = pr.load_pickle(os.path.join(cwd, '../data/home_data_all_preds_df.pkl'))\n",
    "df_binary = pr.generate_binary_presence_df(data)\n",
    "\n",
    "# row wise min max scaling to prevent learning the number of objects vs. proportion of objects\n",
    "df_binary_scaled = pr.row_wise_min_max_scaling(df_binary)\n",
    "df_counts_scaled = pr.row_wise_min_max_scaling(df_counts)"
   ]
  },
  {
   "cell_type": "code",
   "execution_count": 3,
   "metadata": {},
   "outputs": [
    {
     "name": "stderr",
     "output_type": "stream",
     "text": [
      "2024-01-25 02:04:01,205 - root - INFO - LOGOCV complete for LogisticRegression\n",
      "2024-01-25 02:04:06,816 - root - INFO - LOGOCV complete for RandomForestClassifier\n",
      "2024-01-25 02:05:08,869 - root - INFO - LOGOCV complete for GradientBoostingClassifier\n",
      "2024-01-25 02:05:14,340 - root - INFO - LOGOCV complete for XGBClassifier\n",
      "2024-01-25 02:05:17,993 - root - INFO - LOGOCV complete for MLPClassifier\n",
      "2024-01-25 02:05:18,533 - root - INFO - LOGOCV complete for LogisticRegression\n",
      "2024-01-25 02:05:27,231 - root - INFO - LOGOCV complete for RandomForestClassifier\n",
      "2024-01-25 02:07:50,453 - root - INFO - LOGOCV complete for GradientBoostingClassifier\n",
      "2024-01-25 02:07:58,054 - root - INFO - LOGOCV complete for XGBClassifier\n",
      "2024-01-25 02:08:03,075 - root - INFO - LOGOCV complete for MLPClassifier\n"
     ]
    }
   ],
   "source": [
    "# prepare data for evaluation\n",
    "label_encoder = LabelEncoder()\n",
    "\n",
    "models_binary = [\n",
    "    ('Logistic Regression', LogisticRegression(max_iter=1000, random_state=SEED, class_weight='balanced')),\n",
    "    ('Random Forest', RandomForestClassifier(random_state=SEED, class_weight='balanced')),\n",
    "    ('Gradient Boosting', GradientBoostingClassifier(random_state=SEED)),\n",
    "    ('XGBoost', XGBClassifier(random_state=SEED)),\n",
    "    ('MLP', MLPClassifier(random_state=SEED, learning_rate='adaptive', max_iter=1000, early_stopping=True))\n",
    "]\n",
    "\n",
    "models_counts = [\n",
    "    ('Logistic Regression', LogisticRegression(max_iter=1000, random_state=SEED, class_weight='balanced')),\n",
    "    ('Random Forest', RandomForestClassifier(random_state=SEED, class_weight='balanced')),\n",
    "    ('Gradient Boosting', GradientBoostingClassifier(random_state=SEED)),\n",
    "    ('XGBoost', XGBClassifier(random_state=SEED)),\n",
    "    ('MLP', MLPClassifier(random_state=SEED, learning_rate='adaptive', max_iter=1000, early_stopping=True))\n",
    "]\n",
    "\n",
    "results_binary, results_binary_df = ev.evaluate_models(models_binary, df_binary_scaled, label_encoder)\n",
    "results_counts, results_counts_df = ev.evaluate_models(models_counts, df_counts_scaled, label_encoder)"
   ]
  },
  {
   "cell_type": "code",
   "execution_count": 4,
   "metadata": {},
   "outputs": [
    {
     "data": {
      "text/html": [
       "<div>\n",
       "<style scoped>\n",
       "    .dataframe tbody tr th:only-of-type {\n",
       "        vertical-align: middle;\n",
       "    }\n",
       "\n",
       "    .dataframe tbody tr th {\n",
       "        vertical-align: top;\n",
       "    }\n",
       "\n",
       "    .dataframe thead th {\n",
       "        text-align: right;\n",
       "    }\n",
       "</style>\n",
       "<table border=\"1\" class=\"dataframe\">\n",
       "  <thead>\n",
       "    <tr style=\"text-align: right;\">\n",
       "      <th></th>\n",
       "      <th>model</th>\n",
       "      <th>median_accuracy</th>\n",
       "      <th>median_precision</th>\n",
       "      <th>median_recall</th>\n",
       "      <th>median_f1</th>\n",
       "    </tr>\n",
       "  </thead>\n",
       "  <tbody>\n",
       "    <tr>\n",
       "      <th>0</th>\n",
       "      <td>GradientBoostingClassifier</td>\n",
       "      <td>0.717767</td>\n",
       "      <td>0.717767</td>\n",
       "      <td>0.717767</td>\n",
       "      <td>0.717767</td>\n",
       "    </tr>\n",
       "    <tr>\n",
       "      <th>1</th>\n",
       "      <td>LogisticRegression</td>\n",
       "      <td>0.750389</td>\n",
       "      <td>0.750389</td>\n",
       "      <td>0.750389</td>\n",
       "      <td>0.750389</td>\n",
       "    </tr>\n",
       "    <tr>\n",
       "      <th>2</th>\n",
       "      <td>MLPClassifier</td>\n",
       "      <td>0.733192</td>\n",
       "      <td>0.733192</td>\n",
       "      <td>0.733192</td>\n",
       "      <td>0.733192</td>\n",
       "    </tr>\n",
       "    <tr>\n",
       "      <th>3</th>\n",
       "      <td>RandomForestClassifier</td>\n",
       "      <td>0.707828</td>\n",
       "      <td>0.707828</td>\n",
       "      <td>0.707828</td>\n",
       "      <td>0.707828</td>\n",
       "    </tr>\n",
       "    <tr>\n",
       "      <th>4</th>\n",
       "      <td>XGBClassifier</td>\n",
       "      <td>0.718254</td>\n",
       "      <td>0.718254</td>\n",
       "      <td>0.718254</td>\n",
       "      <td>0.718254</td>\n",
       "    </tr>\n",
       "  </tbody>\n",
       "</table>\n",
       "</div>"
      ],
      "text/plain": [
       "                        model  median_accuracy  median_precision  \\\n",
       "0  GradientBoostingClassifier         0.717767          0.717767   \n",
       "1          LogisticRegression         0.750389          0.750389   \n",
       "2               MLPClassifier         0.733192          0.733192   \n",
       "3      RandomForestClassifier         0.707828          0.707828   \n",
       "4               XGBClassifier         0.718254          0.718254   \n",
       "\n",
       "   median_recall  median_f1  \n",
       "0       0.717767   0.717767  \n",
       "1       0.750389   0.750389  \n",
       "2       0.733192   0.733192  \n",
       "3       0.707828   0.707828  \n",
       "4       0.718254   0.718254  "
      ]
     },
     "execution_count": 4,
     "metadata": {},
     "output_type": "execute_result"
    }
   ],
   "source": [
    "ev.display_median_table(results_binary_df)"
   ]
  },
  {
   "cell_type": "code",
   "execution_count": 5,
   "metadata": {},
   "outputs": [
    {
     "data": {
      "text/html": [
       "<div>\n",
       "<style scoped>\n",
       "    .dataframe tbody tr th:only-of-type {\n",
       "        vertical-align: middle;\n",
       "    }\n",
       "\n",
       "    .dataframe tbody tr th {\n",
       "        vertical-align: top;\n",
       "    }\n",
       "\n",
       "    .dataframe thead th {\n",
       "        text-align: right;\n",
       "    }\n",
       "</style>\n",
       "<table border=\"1\" class=\"dataframe\">\n",
       "  <thead>\n",
       "    <tr style=\"text-align: right;\">\n",
       "      <th></th>\n",
       "      <th>model</th>\n",
       "      <th>median_f1</th>\n",
       "      <th>pct_above_0.5</th>\n",
       "    </tr>\n",
       "  </thead>\n",
       "  <tbody>\n",
       "    <tr>\n",
       "      <th>0</th>\n",
       "      <td>GradientBoostingClassifier</td>\n",
       "      <td>0.717767</td>\n",
       "      <td>0.81</td>\n",
       "    </tr>\n",
       "    <tr>\n",
       "      <th>1</th>\n",
       "      <td>LogisticRegression</td>\n",
       "      <td>0.750389</td>\n",
       "      <td>0.94</td>\n",
       "    </tr>\n",
       "    <tr>\n",
       "      <th>2</th>\n",
       "      <td>MLPClassifier</td>\n",
       "      <td>0.733192</td>\n",
       "      <td>0.81</td>\n",
       "    </tr>\n",
       "    <tr>\n",
       "      <th>3</th>\n",
       "      <td>RandomForestClassifier</td>\n",
       "      <td>0.707828</td>\n",
       "      <td>0.81</td>\n",
       "    </tr>\n",
       "    <tr>\n",
       "      <th>4</th>\n",
       "      <td>XGBClassifier</td>\n",
       "      <td>0.718254</td>\n",
       "      <td>0.88</td>\n",
       "    </tr>\n",
       "  </tbody>\n",
       "</table>\n",
       "</div>"
      ],
      "text/plain": [
       "                        model  median_f1  pct_above_0.5\n",
       "0  GradientBoostingClassifier   0.717767           0.81\n",
       "1          LogisticRegression   0.750389           0.94\n",
       "2               MLPClassifier   0.733192           0.81\n",
       "3      RandomForestClassifier   0.707828           0.81\n",
       "4               XGBClassifier   0.718254           0.88"
      ]
     },
     "execution_count": 5,
     "metadata": {},
     "output_type": "execute_result"
    }
   ],
   "source": [
    "ev.display_pct_table(results_binary_df)"
   ]
  },
  {
   "cell_type": "code",
   "execution_count": 6,
   "metadata": {},
   "outputs": [
    {
     "data": {
      "text/html": [
       "<div>\n",
       "<style scoped>\n",
       "    .dataframe tbody tr th:only-of-type {\n",
       "        vertical-align: middle;\n",
       "    }\n",
       "\n",
       "    .dataframe tbody tr th {\n",
       "        vertical-align: top;\n",
       "    }\n",
       "\n",
       "    .dataframe thead th {\n",
       "        text-align: right;\n",
       "    }\n",
       "</style>\n",
       "<table border=\"1\" class=\"dataframe\">\n",
       "  <thead>\n",
       "    <tr style=\"text-align: right;\">\n",
       "      <th></th>\n",
       "      <th>model</th>\n",
       "      <th>median_accuracy</th>\n",
       "      <th>median_precision</th>\n",
       "      <th>median_recall</th>\n",
       "      <th>median_f1</th>\n",
       "    </tr>\n",
       "  </thead>\n",
       "  <tbody>\n",
       "    <tr>\n",
       "      <th>0</th>\n",
       "      <td>GradientBoostingClassifier</td>\n",
       "      <td>0.721436</td>\n",
       "      <td>0.721436</td>\n",
       "      <td>0.721436</td>\n",
       "      <td>0.721436</td>\n",
       "    </tr>\n",
       "    <tr>\n",
       "      <th>1</th>\n",
       "      <td>LogisticRegression</td>\n",
       "      <td>0.723444</td>\n",
       "      <td>0.723444</td>\n",
       "      <td>0.723444</td>\n",
       "      <td>0.723444</td>\n",
       "    </tr>\n",
       "    <tr>\n",
       "      <th>2</th>\n",
       "      <td>MLPClassifier</td>\n",
       "      <td>0.704460</td>\n",
       "      <td>0.704460</td>\n",
       "      <td>0.704460</td>\n",
       "      <td>0.704460</td>\n",
       "    </tr>\n",
       "    <tr>\n",
       "      <th>3</th>\n",
       "      <td>RandomForestClassifier</td>\n",
       "      <td>0.737954</td>\n",
       "      <td>0.737954</td>\n",
       "      <td>0.737954</td>\n",
       "      <td>0.737954</td>\n",
       "    </tr>\n",
       "    <tr>\n",
       "      <th>4</th>\n",
       "      <td>XGBClassifier</td>\n",
       "      <td>0.689936</td>\n",
       "      <td>0.689936</td>\n",
       "      <td>0.689936</td>\n",
       "      <td>0.689936</td>\n",
       "    </tr>\n",
       "  </tbody>\n",
       "</table>\n",
       "</div>"
      ],
      "text/plain": [
       "                        model  median_accuracy  median_precision  \\\n",
       "0  GradientBoostingClassifier         0.721436          0.721436   \n",
       "1          LogisticRegression         0.723444          0.723444   \n",
       "2               MLPClassifier         0.704460          0.704460   \n",
       "3      RandomForestClassifier         0.737954          0.737954   \n",
       "4               XGBClassifier         0.689936          0.689936   \n",
       "\n",
       "   median_recall  median_f1  \n",
       "0       0.721436   0.721436  \n",
       "1       0.723444   0.723444  \n",
       "2       0.704460   0.704460  \n",
       "3       0.737954   0.737954  \n",
       "4       0.689936   0.689936  "
      ]
     },
     "execution_count": 6,
     "metadata": {},
     "output_type": "execute_result"
    }
   ],
   "source": [
    "ev.display_median_table(results_counts_df)"
   ]
  },
  {
   "cell_type": "code",
   "execution_count": 7,
   "metadata": {},
   "outputs": [
    {
     "data": {
      "text/html": [
       "<div>\n",
       "<style scoped>\n",
       "    .dataframe tbody tr th:only-of-type {\n",
       "        vertical-align: middle;\n",
       "    }\n",
       "\n",
       "    .dataframe tbody tr th {\n",
       "        vertical-align: top;\n",
       "    }\n",
       "\n",
       "    .dataframe thead th {\n",
       "        text-align: right;\n",
       "    }\n",
       "</style>\n",
       "<table border=\"1\" class=\"dataframe\">\n",
       "  <thead>\n",
       "    <tr style=\"text-align: right;\">\n",
       "      <th></th>\n",
       "      <th>model</th>\n",
       "      <th>median_f1</th>\n",
       "      <th>pct_above_0.5</th>\n",
       "    </tr>\n",
       "  </thead>\n",
       "  <tbody>\n",
       "    <tr>\n",
       "      <th>0</th>\n",
       "      <td>GradientBoostingClassifier</td>\n",
       "      <td>0.721436</td>\n",
       "      <td>0.81</td>\n",
       "    </tr>\n",
       "    <tr>\n",
       "      <th>1</th>\n",
       "      <td>LogisticRegression</td>\n",
       "      <td>0.723444</td>\n",
       "      <td>0.94</td>\n",
       "    </tr>\n",
       "    <tr>\n",
       "      <th>2</th>\n",
       "      <td>MLPClassifier</td>\n",
       "      <td>0.704460</td>\n",
       "      <td>0.75</td>\n",
       "    </tr>\n",
       "    <tr>\n",
       "      <th>3</th>\n",
       "      <td>RandomForestClassifier</td>\n",
       "      <td>0.737954</td>\n",
       "      <td>0.81</td>\n",
       "    </tr>\n",
       "    <tr>\n",
       "      <th>4</th>\n",
       "      <td>XGBClassifier</td>\n",
       "      <td>0.689936</td>\n",
       "      <td>0.81</td>\n",
       "    </tr>\n",
       "  </tbody>\n",
       "</table>\n",
       "</div>"
      ],
      "text/plain": [
       "                        model  median_f1  pct_above_0.5\n",
       "0  GradientBoostingClassifier   0.721436           0.81\n",
       "1          LogisticRegression   0.723444           0.94\n",
       "2               MLPClassifier   0.704460           0.75\n",
       "3      RandomForestClassifier   0.737954           0.81\n",
       "4               XGBClassifier   0.689936           0.81"
      ]
     },
     "execution_count": 7,
     "metadata": {},
     "output_type": "execute_result"
    }
   ],
   "source": [
    "ev.display_pct_table(results_counts_df)"
   ]
  },
  {
   "cell_type": "markdown",
   "metadata": {},
   "source": [
    "#### Conclusions\n",
    "\n",
    "LogisticRegression performs best with a median F1-score of 0.578817 and 75% of groups above the 0.50 threshold, indicating its effectiveness when using binary presence data. The RandomForestClassifier and MLPClassifier also show reasonable performance, with median F1-scores above 0.50 and half of the groups exceeding the 0.50 F1-score threshold. However, XGBClassifier stands out with the highest median F1-score of 0.586012 and 62% of groups above the 0.50 threshold using count-based data. The GradientBoostingClassifier also shows improved performance with total occurrences (median F1-score: 0.521464) compared to binary presence. However, this may indicate that the Gradient Boosting models are more reliant on correctly detected objects. So lets test this hypothesis by looking at the effect of detections vs. ground truth.\n",
    "\n",
    "> Going forward, we use binary presence for all classifiers except gradient boosting."
   ]
  },
  {
   "cell_type": "markdown",
   "metadata": {},
   "source": [
    "### Evaluation 2: Effect of Detections vs. Ground Truth (Binary Presence)"
   ]
  },
  {
   "cell_type": "code",
   "execution_count": 2,
   "metadata": {},
   "outputs": [],
   "source": [
    "eval_data = pr.load_pickle(os.path.join(cwd, '../data/home_data_eval_all_preds.pkl'))\n",
    "\n",
    "df_detections = pd.DataFrame(columns=['video', 'frame', 'classes', 'active', 'adl'])\n",
    "df_ground_truth = pd.DataFrame(columns=['video', 'frame', 'classes', 'active', 'adl'])\n",
    "\n",
    "for id, dets in eval_data.items():\n",
    "    adl = id.split('_', 1)[0]\n",
    "    video = id.split('_')[1]\n",
    "    frame = id.split('_')[2]\n",
    "    detected_classes = dets['detic_data']['labels']\n",
    "    detected_active = dets['detic_data']['active']\n",
    "    ground_truth_classes = dets['ground_truth']['labels']\n",
    "    ground_truth_active = dets['ground_truth']['active']\n",
    "\n",
    "    detected_row = {'video': video, 'frame': frame, 'classes': detected_classes, 'active': detected_active, 'adl': adl}\n",
    "    ground_truth_row = {'video': video, 'frame': frame, 'classes': ground_truth_classes, 'active': ground_truth_active, 'adl': adl}\n",
    "\n",
    "    df_detections.loc[len(df_detections)] = detected_row\n",
    "    df_ground_truth.loc[len(df_ground_truth)] = ground_truth_row\n",
    "\n",
    "# make sure they are not the same\n",
    "assert not df_detections.equals(df_ground_truth)"
   ]
  },
  {
   "cell_type": "code",
   "execution_count": 3,
   "metadata": {},
   "outputs": [],
   "source": [
    "df_detections_counts = pr.generate_counts_df(df_detections)\n",
    "df_ground_truth_counts = pr.generate_counts_df(df_ground_truth)\n",
    "\n",
    "df_detections_binary = pr.generate_binary_presence_df(df_detections)\n",
    "df_ground_truth_binary = pr.generate_binary_presence_df(df_ground_truth)\n",
    "\n",
    "df_detections_binary_scaled = pr.row_wise_min_max_scaling(df_detections_binary)\n",
    "df_ground_truth_binary_scaled = pr.row_wise_min_max_scaling(df_ground_truth_binary)\n",
    "\n",
    "df_detections_counts_scaled = pr.row_wise_min_max_scaling(df_detections_counts)\n",
    "df_ground_truth_counts_scaled = pr.row_wise_min_max_scaling(df_ground_truth_counts)\n",
    "\n",
    "# make sure they are not the same\n",
    "assert not df_detections_binary_scaled.equals(df_detections_counts_scaled)\n",
    "assert not df_ground_truth_binary_scaled.equals(df_ground_truth_counts_scaled)"
   ]
  },
  {
   "cell_type": "code",
   "execution_count": 4,
   "metadata": {},
   "outputs": [
    {
     "name": "stderr",
     "output_type": "stream",
     "text": [
      "2024-01-25 14:11:59,303 - root - INFO - LOGOCV complete for LogisticRegression\n",
      "2024-01-25 14:12:00,480 - root - INFO - LOGOCV complete for RandomForestClassifier\n",
      "2024-01-25 14:12:09,794 - root - INFO - LOGOCV complete for GradientBoostingClassifier\n",
      "2024-01-25 14:12:12,119 - root - INFO - LOGOCV complete for XGBClassifier\n",
      "2024-01-25 14:12:12,357 - root - INFO - LOGOCV complete for MLPClassifier\n",
      "2024-01-25 14:12:12,491 - root - INFO - LOGOCV complete for LogisticRegression\n",
      "2024-01-25 14:12:13,701 - root - INFO - LOGOCV complete for RandomForestClassifier\n",
      "2024-01-25 14:12:25,210 - root - INFO - LOGOCV complete for GradientBoostingClassifier\n",
      "2024-01-25 14:12:27,558 - root - INFO - LOGOCV complete for XGBClassifier\n",
      "2024-01-25 14:12:27,776 - root - INFO - LOGOCV complete for MLPClassifier\n",
      "2024-01-25 14:12:27,903 - root - INFO - LOGOCV complete for LogisticRegression\n",
      "2024-01-25 14:12:28,996 - root - INFO - LOGOCV complete for RandomForestClassifier\n",
      "2024-01-25 14:12:34,855 - root - INFO - LOGOCV complete for GradientBoostingClassifier\n",
      "2024-01-25 14:12:37,284 - root - INFO - LOGOCV complete for XGBClassifier\n",
      "2024-01-25 14:12:37,569 - root - INFO - LOGOCV complete for MLPClassifier\n",
      "2024-01-25 14:12:37,721 - root - INFO - LOGOCV complete for LogisticRegression\n",
      "2024-01-25 14:12:39,078 - root - INFO - LOGOCV complete for RandomForestClassifier\n",
      "2024-01-25 14:12:46,210 - root - INFO - LOGOCV complete for GradientBoostingClassifier\n",
      "2024-01-25 14:12:48,566 - root - INFO - LOGOCV complete for XGBClassifier\n",
      "2024-01-25 14:12:48,822 - root - INFO - LOGOCV complete for MLPClassifier\n"
     ]
    }
   ],
   "source": [
    "# prepare data for evaluation\n",
    "label_encoder = LabelEncoder()\n",
    "\n",
    "models_binary = [\n",
    "    ('Logistic Regression', LogisticRegression(max_iter=1000, random_state=SEED, class_weight='balanced')),\n",
    "    ('Random Forest', RandomForestClassifier(random_state=SEED, class_weight='balanced')),\n",
    "    ('Gradient Boosting', GradientBoostingClassifier(random_state=SEED)),\n",
    "    ('XGBoost', XGBClassifier(random_state=SEED)),\n",
    "    ('MLP', MLPClassifier(random_state=SEED, learning_rate='adaptive', max_iter=1000, early_stopping=True))\n",
    "]\n",
    "\n",
    "models_counts = [\n",
    "    ('Logistic Regression', LogisticRegression(max_iter=1000, random_state=SEED, class_weight='balanced')),\n",
    "    ('Random Forest', RandomForestClassifier(random_state=SEED, class_weight='balanced')),\n",
    "    ('Gradient Boosting', GradientBoostingClassifier(random_state=SEED)),\n",
    "    ('XGBoost', XGBClassifier(random_state=SEED)),\n",
    "    ('MLP', MLPClassifier(random_state=SEED, learning_rate='adaptive', max_iter=1000, early_stopping=True))\n",
    "]\n",
    "\n",
    "results_binary_dets, results_binary_dets_df = ev.evaluate_models(models_binary, df_detections_binary_scaled, label_encoder)\n",
    "results_counts_dets, results_counts_dets_df = ev.evaluate_models(models_counts, df_detections_counts_scaled, label_encoder)\n",
    "\n",
    "models_binary = [\n",
    "    ('Logistic Regression', LogisticRegression(max_iter=1000, random_state=SEED, class_weight='balanced')),\n",
    "    ('Random Forest', RandomForestClassifier(random_state=SEED, class_weight='balanced')),\n",
    "    ('Gradient Boosting', GradientBoostingClassifier(random_state=SEED)),\n",
    "    ('XGBoost', XGBClassifier(random_state=SEED)),\n",
    "    ('MLP', MLPClassifier(random_state=SEED, learning_rate='adaptive', max_iter=1000, early_stopping=True))\n",
    "]\n",
    "\n",
    "models_counts = [\n",
    "    ('Logistic Regression', LogisticRegression(max_iter=1000, random_state=SEED, class_weight='balanced')),\n",
    "    ('Random Forest', RandomForestClassifier(random_state=SEED, class_weight='balanced')),\n",
    "    ('Gradient Boosting', GradientBoostingClassifier(random_state=SEED)),\n",
    "    ('XGBoost', XGBClassifier(random_state=SEED)),\n",
    "    ('MLP', MLPClassifier(random_state=SEED, learning_rate='adaptive', max_iter=1000, early_stopping=True))\n",
    "]\n",
    "\n",
    "results_binary_gt, results_binary_gt_df = ev.evaluate_models(models_binary, df_ground_truth_binary_scaled, label_encoder)\n",
    "results_counts_gt, results_counts_gt_df = ev.evaluate_models(models_counts, df_ground_truth_counts_scaled, label_encoder)\n"
   ]
  },
  {
   "cell_type": "code",
   "execution_count": 5,
   "metadata": {},
   "outputs": [
    {
     "data": {
      "text/html": [
       "<div>\n",
       "<style scoped>\n",
       "    .dataframe tbody tr th:only-of-type {\n",
       "        vertical-align: middle;\n",
       "    }\n",
       "\n",
       "    .dataframe tbody tr th {\n",
       "        vertical-align: top;\n",
       "    }\n",
       "\n",
       "    .dataframe thead th {\n",
       "        text-align: right;\n",
       "    }\n",
       "</style>\n",
       "<table border=\"1\" class=\"dataframe\">\n",
       "  <thead>\n",
       "    <tr style=\"text-align: right;\">\n",
       "      <th></th>\n",
       "      <th>model</th>\n",
       "      <th>median_f1</th>\n",
       "      <th>pct_above_0.5</th>\n",
       "    </tr>\n",
       "  </thead>\n",
       "  <tbody>\n",
       "    <tr>\n",
       "      <th>0</th>\n",
       "      <td>GradientBoostingClassifier</td>\n",
       "      <td>0.569444</td>\n",
       "      <td>0.62</td>\n",
       "    </tr>\n",
       "    <tr>\n",
       "      <th>1</th>\n",
       "      <td>LogisticRegression</td>\n",
       "      <td>0.664286</td>\n",
       "      <td>0.75</td>\n",
       "    </tr>\n",
       "    <tr>\n",
       "      <th>2</th>\n",
       "      <td>MLPClassifier</td>\n",
       "      <td>0.326389</td>\n",
       "      <td>0.12</td>\n",
       "    </tr>\n",
       "    <tr>\n",
       "      <th>3</th>\n",
       "      <td>RandomForestClassifier</td>\n",
       "      <td>0.680736</td>\n",
       "      <td>0.62</td>\n",
       "    </tr>\n",
       "    <tr>\n",
       "      <th>4</th>\n",
       "      <td>XGBClassifier</td>\n",
       "      <td>0.569630</td>\n",
       "      <td>0.56</td>\n",
       "    </tr>\n",
       "  </tbody>\n",
       "</table>\n",
       "</div>"
      ],
      "text/plain": [
       "                        model  median_f1  pct_above_0.5\n",
       "0  GradientBoostingClassifier   0.569444           0.62\n",
       "1          LogisticRegression   0.664286           0.75\n",
       "2               MLPClassifier   0.326389           0.12\n",
       "3      RandomForestClassifier   0.680736           0.62\n",
       "4               XGBClassifier   0.569630           0.56"
      ]
     },
     "execution_count": 5,
     "metadata": {},
     "output_type": "execute_result"
    }
   ],
   "source": [
    "ev.display_pct_table(results_binary_dets_df)"
   ]
  },
  {
   "cell_type": "code",
   "execution_count": 19,
   "metadata": {},
   "outputs": [
    {
     "data": {
      "text/plain": [
       "[('Logistic Regression', 0.8847538059117666),\n",
       " ('Random Forest', 0.868265595037073),\n",
       " ('Gradient Boosting', 0.7620172379231754),\n",
       " ('XGBoost', 0.8236110105314469),\n",
       " ('MLP', 0.674316707239063)]"
      ]
     },
     "execution_count": 19,
     "metadata": {},
     "output_type": "execute_result"
    }
   ],
   "source": [
    "[(result.clf, result.auc) for result in results_binary_dets]"
   ]
  },
  {
   "cell_type": "code",
   "execution_count": 6,
   "metadata": {},
   "outputs": [
    {
     "data": {
      "text/html": [
       "<div>\n",
       "<style scoped>\n",
       "    .dataframe tbody tr th:only-of-type {\n",
       "        vertical-align: middle;\n",
       "    }\n",
       "\n",
       "    .dataframe tbody tr th {\n",
       "        vertical-align: top;\n",
       "    }\n",
       "\n",
       "    .dataframe thead th {\n",
       "        text-align: right;\n",
       "    }\n",
       "</style>\n",
       "<table border=\"1\" class=\"dataframe\">\n",
       "  <thead>\n",
       "    <tr style=\"text-align: right;\">\n",
       "      <th></th>\n",
       "      <th>model</th>\n",
       "      <th>median_f1</th>\n",
       "      <th>pct_above_0.5</th>\n",
       "    </tr>\n",
       "  </thead>\n",
       "  <tbody>\n",
       "    <tr>\n",
       "      <th>0</th>\n",
       "      <td>GradientBoostingClassifier</td>\n",
       "      <td>0.608333</td>\n",
       "      <td>0.62</td>\n",
       "    </tr>\n",
       "    <tr>\n",
       "      <th>1</th>\n",
       "      <td>LogisticRegression</td>\n",
       "      <td>0.648148</td>\n",
       "      <td>0.69</td>\n",
       "    </tr>\n",
       "    <tr>\n",
       "      <th>2</th>\n",
       "      <td>MLPClassifier</td>\n",
       "      <td>0.295408</td>\n",
       "      <td>0.25</td>\n",
       "    </tr>\n",
       "    <tr>\n",
       "      <th>3</th>\n",
       "      <td>RandomForestClassifier</td>\n",
       "      <td>0.591667</td>\n",
       "      <td>0.56</td>\n",
       "    </tr>\n",
       "    <tr>\n",
       "      <th>4</th>\n",
       "      <td>XGBClassifier</td>\n",
       "      <td>0.617130</td>\n",
       "      <td>0.69</td>\n",
       "    </tr>\n",
       "  </tbody>\n",
       "</table>\n",
       "</div>"
      ],
      "text/plain": [
       "                        model  median_f1  pct_above_0.5\n",
       "0  GradientBoostingClassifier   0.608333           0.62\n",
       "1          LogisticRegression   0.648148           0.69\n",
       "2               MLPClassifier   0.295408           0.25\n",
       "3      RandomForestClassifier   0.591667           0.56\n",
       "4               XGBClassifier   0.617130           0.69"
      ]
     },
     "execution_count": 6,
     "metadata": {},
     "output_type": "execute_result"
    }
   ],
   "source": [
    "ev.display_pct_table(results_binary_gt_df)"
   ]
  },
  {
   "cell_type": "code",
   "execution_count": 20,
   "metadata": {},
   "outputs": [
    {
     "data": {
      "text/plain": [
       "[('Logistic Regression', 0.8538363739050437),\n",
       " ('Random Forest', 0.8468472790357496),\n",
       " ('Gradient Boosting', 0.7379280202497865),\n",
       " ('XGBoost', 0.8377761634084273),\n",
       " ('MLP', 0.6347552465579837)]"
      ]
     },
     "execution_count": 20,
     "metadata": {},
     "output_type": "execute_result"
    }
   ],
   "source": [
    " [(result.clf, result.auc) for result in results_binary_gt]"
   ]
  },
  {
   "cell_type": "code",
   "execution_count": 7,
   "metadata": {},
   "outputs": [
    {
     "data": {
      "text/html": [
       "<div>\n",
       "<style scoped>\n",
       "    .dataframe tbody tr th:only-of-type {\n",
       "        vertical-align: middle;\n",
       "    }\n",
       "\n",
       "    .dataframe tbody tr th {\n",
       "        vertical-align: top;\n",
       "    }\n",
       "\n",
       "    .dataframe thead th {\n",
       "        text-align: right;\n",
       "    }\n",
       "</style>\n",
       "<table border=\"1\" class=\"dataframe\">\n",
       "  <thead>\n",
       "    <tr style=\"text-align: right;\">\n",
       "      <th></th>\n",
       "      <th>model</th>\n",
       "      <th>median_f1</th>\n",
       "      <th>pct_above_0.5</th>\n",
       "    </tr>\n",
       "  </thead>\n",
       "  <tbody>\n",
       "    <tr>\n",
       "      <th>0</th>\n",
       "      <td>GradientBoostingClassifier</td>\n",
       "      <td>0.666667</td>\n",
       "      <td>0.69</td>\n",
       "    </tr>\n",
       "    <tr>\n",
       "      <th>1</th>\n",
       "      <td>LogisticRegression</td>\n",
       "      <td>0.525397</td>\n",
       "      <td>0.50</td>\n",
       "    </tr>\n",
       "    <tr>\n",
       "      <th>2</th>\n",
       "      <td>MLPClassifier</td>\n",
       "      <td>0.182828</td>\n",
       "      <td>0.00</td>\n",
       "    </tr>\n",
       "    <tr>\n",
       "      <th>3</th>\n",
       "      <td>RandomForestClassifier</td>\n",
       "      <td>0.600000</td>\n",
       "      <td>0.56</td>\n",
       "    </tr>\n",
       "    <tr>\n",
       "      <th>4</th>\n",
       "      <td>XGBClassifier</td>\n",
       "      <td>0.677083</td>\n",
       "      <td>0.75</td>\n",
       "    </tr>\n",
       "  </tbody>\n",
       "</table>\n",
       "</div>"
      ],
      "text/plain": [
       "                        model  median_f1  pct_above_0.5\n",
       "0  GradientBoostingClassifier   0.666667           0.69\n",
       "1          LogisticRegression   0.525397           0.50\n",
       "2               MLPClassifier   0.182828           0.00\n",
       "3      RandomForestClassifier   0.600000           0.56\n",
       "4               XGBClassifier   0.677083           0.75"
      ]
     },
     "execution_count": 7,
     "metadata": {},
     "output_type": "execute_result"
    }
   ],
   "source": [
    "ev.display_pct_table(results_counts_dets_df)"
   ]
  },
  {
   "cell_type": "code",
   "execution_count": 8,
   "metadata": {},
   "outputs": [
    {
     "data": {
      "text/html": [
       "<div>\n",
       "<style scoped>\n",
       "    .dataframe tbody tr th:only-of-type {\n",
       "        vertical-align: middle;\n",
       "    }\n",
       "\n",
       "    .dataframe tbody tr th {\n",
       "        vertical-align: top;\n",
       "    }\n",
       "\n",
       "    .dataframe thead th {\n",
       "        text-align: right;\n",
       "    }\n",
       "</style>\n",
       "<table border=\"1\" class=\"dataframe\">\n",
       "  <thead>\n",
       "    <tr style=\"text-align: right;\">\n",
       "      <th></th>\n",
       "      <th>model</th>\n",
       "      <th>median_f1</th>\n",
       "      <th>pct_above_0.5</th>\n",
       "    </tr>\n",
       "  </thead>\n",
       "  <tbody>\n",
       "    <tr>\n",
       "      <th>0</th>\n",
       "      <td>GradientBoostingClassifier</td>\n",
       "      <td>0.462698</td>\n",
       "      <td>0.31</td>\n",
       "    </tr>\n",
       "    <tr>\n",
       "      <th>1</th>\n",
       "      <td>LogisticRegression</td>\n",
       "      <td>0.562500</td>\n",
       "      <td>0.56</td>\n",
       "    </tr>\n",
       "    <tr>\n",
       "      <th>2</th>\n",
       "      <td>MLPClassifier</td>\n",
       "      <td>0.325397</td>\n",
       "      <td>0.31</td>\n",
       "    </tr>\n",
       "    <tr>\n",
       "      <th>3</th>\n",
       "      <td>RandomForestClassifier</td>\n",
       "      <td>0.537500</td>\n",
       "      <td>0.56</td>\n",
       "    </tr>\n",
       "    <tr>\n",
       "      <th>4</th>\n",
       "      <td>XGBClassifier</td>\n",
       "      <td>0.537075</td>\n",
       "      <td>0.62</td>\n",
       "    </tr>\n",
       "  </tbody>\n",
       "</table>\n",
       "</div>"
      ],
      "text/plain": [
       "                        model  median_f1  pct_above_0.5\n",
       "0  GradientBoostingClassifier   0.462698           0.31\n",
       "1          LogisticRegression   0.562500           0.56\n",
       "2               MLPClassifier   0.325397           0.31\n",
       "3      RandomForestClassifier   0.537500           0.56\n",
       "4               XGBClassifier   0.537075           0.62"
      ]
     },
     "execution_count": 8,
     "metadata": {},
     "output_type": "execute_result"
    }
   ],
   "source": [
    "ev.display_pct_table(results_counts_gt_df)"
   ]
  },
  {
   "cell_type": "markdown",
   "metadata": {},
   "source": [
    "#### Conclusions\n",
    "\n",
    "The results show that the classifiers perform similarly whether using detections or ground truth. This indicates that the classifiers are not reliant on detections being really accurate to perform well. However, results show that some classifiers did perform better with the ground truth (i.e., RandomForestClassifier and MLPClassifier). Therefore, we invalidate our hypothesis that the Gradient Boosting models are more reliant on correctly detected objects. This may be due to the fact that we consolidated the objects from ~1200 down to 27 groups, which may have reduced the effect of detections vs. ground truth."
   ]
  },
  {
   "cell_type": "markdown",
   "metadata": {},
   "source": [
    "### Evaluation 3: Effect of Only Active Objects vs. All Objects (Binary Presence)"
   ]
  },
  {
   "cell_type": "code",
   "execution_count": 9,
   "metadata": {},
   "outputs": [],
   "source": [
    "data = pr.load_pickle(os.path.join(cwd, '../data/home_data_all_preds_df.pkl'))\n",
    "\n",
    "df_active = pr.generate_binary_presence_df(data)\n",
    "df_inactive = df_active.drop(columns=[col for col in df_active.columns if 'active' in col])\n",
    "\n",
    "df_binary_active_scaled = pr.row_wise_min_max_scaling(df_active)\n",
    "df_binary_inactive_scaled = pr.row_wise_min_max_scaling(df_inactive)\n",
    "\n",
    "data = pr.load_pickle(os.path.join(cwd, '../data/home_data_all_preds.pkl'))\n",
    "df_counts = pr.generate_counts_df(pr.generate_df_from_preds(data))\n",
    "df_counts_inactive = df_counts.drop(columns=[col for col in df_counts.columns if 'active' in col])\n",
    "\n",
    "df_counts_active_scaled = pr.row_wise_min_max_scaling(df_counts)\n",
    "df_counts_inactive_scaled = pr.row_wise_min_max_scaling(df_counts_inactive)"
   ]
  },
  {
   "cell_type": "code",
   "execution_count": 10,
   "metadata": {},
   "outputs": [
    {
     "name": "stderr",
     "output_type": "stream",
     "text": [
      "2024-01-25 14:13:17,097 - root - INFO - LOGOCV complete for LogisticRegression\n",
      "2024-01-25 14:13:23,095 - root - INFO - LOGOCV complete for RandomForestClassifier\n",
      "2024-01-25 14:14:33,624 - root - INFO - LOGOCV complete for GradientBoostingClassifier\n",
      "2024-01-25 14:14:39,101 - root - INFO - LOGOCV complete for XGBClassifier\n",
      "2024-01-25 14:14:43,092 - root - INFO - LOGOCV complete for MLPClassifier\n",
      "2024-01-25 14:14:43,628 - root - INFO - LOGOCV complete for LogisticRegression\n",
      "2024-01-25 14:14:49,873 - root - INFO - LOGOCV complete for RandomForestClassifier\n",
      "2024-01-25 14:15:46,519 - root - INFO - LOGOCV complete for GradientBoostingClassifier\n",
      "2024-01-25 14:15:51,393 - root - INFO - LOGOCV complete for XGBClassifier\n",
      "2024-01-25 14:15:54,525 - root - INFO - LOGOCV complete for MLPClassifier\n",
      "2024-01-25 14:15:55,280 - root - INFO - LOGOCV complete for LogisticRegression\n",
      "2024-01-25 14:16:08,128 - root - INFO - LOGOCV complete for RandomForestClassifier\n",
      "2024-01-25 14:18:56,197 - root - INFO - LOGOCV complete for GradientBoostingClassifier\n",
      "2024-01-25 14:19:04,257 - root - INFO - LOGOCV complete for XGBClassifier\n",
      "2024-01-25 14:19:09,232 - root - INFO - LOGOCV complete for MLPClassifier\n",
      "2024-01-25 14:19:09,697 - root - INFO - LOGOCV complete for LogisticRegression\n",
      "2024-01-25 14:19:19,453 - root - INFO - LOGOCV complete for RandomForestClassifier\n",
      "2024-01-25 14:21:25,444 - root - INFO - LOGOCV complete for GradientBoostingClassifier\n",
      "2024-01-25 14:21:32,278 - root - INFO - LOGOCV complete for XGBClassifier\n",
      "2024-01-25 14:21:35,645 - root - INFO - LOGOCV complete for MLPClassifier\n"
     ]
    }
   ],
   "source": [
    "models_active = [\n",
    "    ('Logistic Regression', LogisticRegression(max_iter=1000, random_state=SEED, class_weight='balanced')),\n",
    "    ('Random Forest', RandomForestClassifier(random_state=SEED, class_weight='balanced')),\n",
    "    ('Gradient Boosting', GradientBoostingClassifier(random_state=SEED)),\n",
    "    ('XGBoost', XGBClassifier(random_state=SEED)),\n",
    "    ('MLP', MLPClassifier(random_state=SEED, learning_rate='adaptive', max_iter=1000, early_stopping=True))\n",
    "]\n",
    "\n",
    "models_inactive = [\n",
    "    ('Logistic Regression', LogisticRegression(max_iter=1000, random_state=SEED, class_weight='balanced')),\n",
    "    ('Random Forest', RandomForestClassifier(random_state=SEED, class_weight='balanced')),\n",
    "    ('Gradient Boosting', GradientBoostingClassifier(random_state=SEED)),\n",
    "    ('XGBoost', XGBClassifier(random_state=SEED)),\n",
    "    ('MLP', MLPClassifier(random_state=SEED, learning_rate='adaptive', max_iter=1000, early_stopping=True))\n",
    "]\n",
    "\n",
    "results_active, results_active_df = ev.evaluate_models(models_active, df_binary_active_scaled, label_encoder)\n",
    "results_inactive, results_inactive_df = ev.evaluate_models(models_inactive, df_binary_inactive_scaled, label_encoder)\n",
    "\n",
    "models_active_counts = [\n",
    "    ('Logistic Regression', LogisticRegression(max_iter=1000, random_state=SEED, class_weight='balanced')),\n",
    "    ('Random Forest', RandomForestClassifier(random_state=SEED, class_weight='balanced')),\n",
    "    ('Gradient Boosting', GradientBoostingClassifier(random_state=SEED)),\n",
    "    ('XGBoost', XGBClassifier(random_state=SEED)),\n",
    "    ('MLP', MLPClassifier(random_state=SEED, learning_rate='adaptive', max_iter=1000, early_stopping=True))\n",
    "]\n",
    "\n",
    "models_inactive_counts = [\n",
    "    ('Logistic Regression', LogisticRegression(max_iter=1000, random_state=SEED, class_weight='balanced')),\n",
    "    ('Random Forest', RandomForestClassifier(random_state=SEED, class_weight='balanced')),\n",
    "    ('Gradient Boosting', GradientBoostingClassifier(random_state=SEED)),\n",
    "    ('XGBoost', XGBClassifier(random_state=SEED)),\n",
    "    ('MLP', MLPClassifier(random_state=SEED, learning_rate='adaptive', max_iter=1000, early_stopping=True))\n",
    "]\n",
    "\n",
    "results_counts_active, results_counts_active_df = ev.evaluate_models(models_active_counts, df_counts_active_scaled, label_encoder)\n",
    "results_counts_inactive, results_counts_inactive_df = ev.evaluate_models(models_inactive_counts, df_counts_inactive_scaled, label_encoder)"
   ]
  },
  {
   "cell_type": "code",
   "execution_count": 11,
   "metadata": {},
   "outputs": [
    {
     "data": {
      "text/html": [
       "<div>\n",
       "<style scoped>\n",
       "    .dataframe tbody tr th:only-of-type {\n",
       "        vertical-align: middle;\n",
       "    }\n",
       "\n",
       "    .dataframe tbody tr th {\n",
       "        vertical-align: top;\n",
       "    }\n",
       "\n",
       "    .dataframe thead th {\n",
       "        text-align: right;\n",
       "    }\n",
       "</style>\n",
       "<table border=\"1\" class=\"dataframe\">\n",
       "  <thead>\n",
       "    <tr style=\"text-align: right;\">\n",
       "      <th></th>\n",
       "      <th>model</th>\n",
       "      <th>median_f1</th>\n",
       "      <th>pct_above_0.5</th>\n",
       "    </tr>\n",
       "  </thead>\n",
       "  <tbody>\n",
       "    <tr>\n",
       "      <th>0</th>\n",
       "      <td>GradientBoostingClassifier</td>\n",
       "      <td>0.769829</td>\n",
       "      <td>0.88</td>\n",
       "    </tr>\n",
       "    <tr>\n",
       "      <th>1</th>\n",
       "      <td>LogisticRegression</td>\n",
       "      <td>0.811589</td>\n",
       "      <td>1.00</td>\n",
       "    </tr>\n",
       "    <tr>\n",
       "      <th>2</th>\n",
       "      <td>MLPClassifier</td>\n",
       "      <td>0.773618</td>\n",
       "      <td>0.81</td>\n",
       "    </tr>\n",
       "    <tr>\n",
       "      <th>3</th>\n",
       "      <td>RandomForestClassifier</td>\n",
       "      <td>0.788068</td>\n",
       "      <td>0.81</td>\n",
       "    </tr>\n",
       "    <tr>\n",
       "      <th>4</th>\n",
       "      <td>XGBClassifier</td>\n",
       "      <td>0.799526</td>\n",
       "      <td>0.88</td>\n",
       "    </tr>\n",
       "  </tbody>\n",
       "</table>\n",
       "</div>"
      ],
      "text/plain": [
       "                        model  median_f1  pct_above_0.5\n",
       "0  GradientBoostingClassifier   0.769829           0.88\n",
       "1          LogisticRegression   0.811589           1.00\n",
       "2               MLPClassifier   0.773618           0.81\n",
       "3      RandomForestClassifier   0.788068           0.81\n",
       "4               XGBClassifier   0.799526           0.88"
      ]
     },
     "execution_count": 11,
     "metadata": {},
     "output_type": "execute_result"
    }
   ],
   "source": [
    "ev.display_pct_table(results_active_df)"
   ]
  },
  {
   "cell_type": "code",
   "execution_count": 12,
   "metadata": {},
   "outputs": [
    {
     "data": {
      "text/html": [
       "<div>\n",
       "<style scoped>\n",
       "    .dataframe tbody tr th:only-of-type {\n",
       "        vertical-align: middle;\n",
       "    }\n",
       "\n",
       "    .dataframe tbody tr th {\n",
       "        vertical-align: top;\n",
       "    }\n",
       "\n",
       "    .dataframe thead th {\n",
       "        text-align: right;\n",
       "    }\n",
       "</style>\n",
       "<table border=\"1\" class=\"dataframe\">\n",
       "  <thead>\n",
       "    <tr style=\"text-align: right;\">\n",
       "      <th></th>\n",
       "      <th>model</th>\n",
       "      <th>median_f1</th>\n",
       "      <th>pct_above_0.5</th>\n",
       "    </tr>\n",
       "  </thead>\n",
       "  <tbody>\n",
       "    <tr>\n",
       "      <th>0</th>\n",
       "      <td>GradientBoostingClassifier</td>\n",
       "      <td>0.762649</td>\n",
       "      <td>0.81</td>\n",
       "    </tr>\n",
       "    <tr>\n",
       "      <th>1</th>\n",
       "      <td>LogisticRegression</td>\n",
       "      <td>0.762675</td>\n",
       "      <td>0.94</td>\n",
       "    </tr>\n",
       "    <tr>\n",
       "      <th>2</th>\n",
       "      <td>MLPClassifier</td>\n",
       "      <td>0.685295</td>\n",
       "      <td>0.81</td>\n",
       "    </tr>\n",
       "    <tr>\n",
       "      <th>3</th>\n",
       "      <td>RandomForestClassifier</td>\n",
       "      <td>0.709992</td>\n",
       "      <td>0.81</td>\n",
       "    </tr>\n",
       "    <tr>\n",
       "      <th>4</th>\n",
       "      <td>XGBClassifier</td>\n",
       "      <td>0.727006</td>\n",
       "      <td>0.88</td>\n",
       "    </tr>\n",
       "  </tbody>\n",
       "</table>\n",
       "</div>"
      ],
      "text/plain": [
       "                        model  median_f1  pct_above_0.5\n",
       "0  GradientBoostingClassifier   0.762649           0.81\n",
       "1          LogisticRegression   0.762675           0.94\n",
       "2               MLPClassifier   0.685295           0.81\n",
       "3      RandomForestClassifier   0.709992           0.81\n",
       "4               XGBClassifier   0.727006           0.88"
      ]
     },
     "execution_count": 12,
     "metadata": {},
     "output_type": "execute_result"
    }
   ],
   "source": [
    "ev.display_pct_table(results_inactive_df)"
   ]
  },
  {
   "cell_type": "code",
   "execution_count": 13,
   "metadata": {},
   "outputs": [
    {
     "data": {
      "text/html": [
       "<div>\n",
       "<style scoped>\n",
       "    .dataframe tbody tr th:only-of-type {\n",
       "        vertical-align: middle;\n",
       "    }\n",
       "\n",
       "    .dataframe tbody tr th {\n",
       "        vertical-align: top;\n",
       "    }\n",
       "\n",
       "    .dataframe thead th {\n",
       "        text-align: right;\n",
       "    }\n",
       "</style>\n",
       "<table border=\"1\" class=\"dataframe\">\n",
       "  <thead>\n",
       "    <tr style=\"text-align: right;\">\n",
       "      <th></th>\n",
       "      <th>model</th>\n",
       "      <th>median_f1</th>\n",
       "      <th>pct_above_0.5</th>\n",
       "    </tr>\n",
       "  </thead>\n",
       "  <tbody>\n",
       "    <tr>\n",
       "      <th>0</th>\n",
       "      <td>GradientBoostingClassifier</td>\n",
       "      <td>0.759167</td>\n",
       "      <td>0.88</td>\n",
       "    </tr>\n",
       "    <tr>\n",
       "      <th>1</th>\n",
       "      <td>LogisticRegression</td>\n",
       "      <td>0.765218</td>\n",
       "      <td>0.94</td>\n",
       "    </tr>\n",
       "    <tr>\n",
       "      <th>2</th>\n",
       "      <td>MLPClassifier</td>\n",
       "      <td>0.761630</td>\n",
       "      <td>0.88</td>\n",
       "    </tr>\n",
       "    <tr>\n",
       "      <th>3</th>\n",
       "      <td>RandomForestClassifier</td>\n",
       "      <td>0.740970</td>\n",
       "      <td>0.81</td>\n",
       "    </tr>\n",
       "    <tr>\n",
       "      <th>4</th>\n",
       "      <td>XGBClassifier</td>\n",
       "      <td>0.738499</td>\n",
       "      <td>0.88</td>\n",
       "    </tr>\n",
       "  </tbody>\n",
       "</table>\n",
       "</div>"
      ],
      "text/plain": [
       "                        model  median_f1  pct_above_0.5\n",
       "0  GradientBoostingClassifier   0.759167           0.88\n",
       "1          LogisticRegression   0.765218           0.94\n",
       "2               MLPClassifier   0.761630           0.88\n",
       "3      RandomForestClassifier   0.740970           0.81\n",
       "4               XGBClassifier   0.738499           0.88"
      ]
     },
     "execution_count": 13,
     "metadata": {},
     "output_type": "execute_result"
    }
   ],
   "source": [
    "ev.display_pct_table(results_counts_active_df)"
   ]
  },
  {
   "cell_type": "code",
   "execution_count": 14,
   "metadata": {},
   "outputs": [
    {
     "data": {
      "text/html": [
       "<div>\n",
       "<style scoped>\n",
       "    .dataframe tbody tr th:only-of-type {\n",
       "        vertical-align: middle;\n",
       "    }\n",
       "\n",
       "    .dataframe tbody tr th {\n",
       "        vertical-align: top;\n",
       "    }\n",
       "\n",
       "    .dataframe thead th {\n",
       "        text-align: right;\n",
       "    }\n",
       "</style>\n",
       "<table border=\"1\" class=\"dataframe\">\n",
       "  <thead>\n",
       "    <tr style=\"text-align: right;\">\n",
       "      <th></th>\n",
       "      <th>model</th>\n",
       "      <th>median_f1</th>\n",
       "      <th>pct_above_0.5</th>\n",
       "    </tr>\n",
       "  </thead>\n",
       "  <tbody>\n",
       "    <tr>\n",
       "      <th>0</th>\n",
       "      <td>GradientBoostingClassifier</td>\n",
       "      <td>0.725213</td>\n",
       "      <td>0.81</td>\n",
       "    </tr>\n",
       "    <tr>\n",
       "      <th>1</th>\n",
       "      <td>LogisticRegression</td>\n",
       "      <td>0.739945</td>\n",
       "      <td>0.88</td>\n",
       "    </tr>\n",
       "    <tr>\n",
       "      <th>2</th>\n",
       "      <td>MLPClassifier</td>\n",
       "      <td>0.680514</td>\n",
       "      <td>0.81</td>\n",
       "    </tr>\n",
       "    <tr>\n",
       "      <th>3</th>\n",
       "      <td>RandomForestClassifier</td>\n",
       "      <td>0.733428</td>\n",
       "      <td>0.75</td>\n",
       "    </tr>\n",
       "    <tr>\n",
       "      <th>4</th>\n",
       "      <td>XGBClassifier</td>\n",
       "      <td>0.713960</td>\n",
       "      <td>0.81</td>\n",
       "    </tr>\n",
       "  </tbody>\n",
       "</table>\n",
       "</div>"
      ],
      "text/plain": [
       "                        model  median_f1  pct_above_0.5\n",
       "0  GradientBoostingClassifier   0.725213           0.81\n",
       "1          LogisticRegression   0.739945           0.88\n",
       "2               MLPClassifier   0.680514           0.81\n",
       "3      RandomForestClassifier   0.733428           0.75\n",
       "4               XGBClassifier   0.713960           0.81"
      ]
     },
     "execution_count": 14,
     "metadata": {},
     "output_type": "execute_result"
    }
   ],
   "source": [
    "ev.display_pct_table(results_counts_inactive_df)"
   ]
  },
  {
   "cell_type": "code",
   "execution_count": 15,
   "metadata": {},
   "outputs": [
    {
     "data": {
      "text/plain": [
       "([('Logistic Regression', 0.944705415883279),\n",
       "  ('Random Forest', 0.9249648824441011),\n",
       "  ('Gradient Boosting', 0.9226537859854871),\n",
       "  ('XGBoost', 0.9304921178753186),\n",
       "  ('MLP', 0.9399813128095841)],\n",
       " [('Logistic Regression', 0.9291730802583055),\n",
       "  ('Random Forest', 0.9105371170753065),\n",
       "  ('Gradient Boosting', 0.9097523472125227),\n",
       "  ('XGBoost', 0.9139775935061348),\n",
       "  ('MLP', 0.9115096810728246)])"
      ]
     },
     "execution_count": 15,
     "metadata": {},
     "output_type": "execute_result"
    }
   ],
   "source": [
    "[(result.clf, result.auc) for result in results_active], [(result.clf, result.auc) for result in results_inactive]"
   ]
  },
  {
   "cell_type": "code",
   "execution_count": 16,
   "metadata": {},
   "outputs": [
    {
     "data": {
      "text/plain": [
       "([('Logistic Regression', 0.9116002051267486),\n",
       "  ('Random Forest', 0.9166068412139561),\n",
       "  ('Gradient Boosting', 0.9223710953312945),\n",
       "  ('XGBoost', 0.92156353516428),\n",
       "  ('MLP', 0.9110997931687254)],\n",
       " [('Logistic Regression', 0.9020359983055634),\n",
       "  ('Random Forest', 0.9056366423507453),\n",
       "  ('Gradient Boosting', 0.9052805250181856),\n",
       "  ('XGBoost', 0.9062981900168898),\n",
       "  ('MLP', 0.8848598229343779)])"
      ]
     },
     "execution_count": 16,
     "metadata": {},
     "output_type": "execute_result"
    }
   ],
   "source": [
    "[(result.clf, result.auc) for result in results_counts_active], [(result.clf, result.auc) for result in results_counts_inactive]"
   ]
  },
  {
   "cell_type": "markdown",
   "metadata": {},
   "source": [
    "#### Conclusions\n",
    "\n",
    "Results show pretty much across the board that including information about active objects improves the performance of the classifiers. This is expected since the active objects are the ones that are most likely to be informative about the activity being performed."
   ]
  },
  {
   "cell_type": "code",
   "execution_count": 21,
   "metadata": {},
   "outputs": [
    {
     "data": {
      "image/png": "[encoded data removed]",
      "text/plain": [
       "<Figure size 800x600 with 2 Axes>"
      ]
     },
     "metadata": {},
     "output_type": "display_data"
    }
   ],
   "source": [
    "viz.plot_cm(results_active[3].cm, models_active[3][1], label_encoder, normalize=True, title='Confusion Matrix - XGBoost')"
   ]
  },
  {
   "cell_type": "code",
   "execution_count": 22,
   "metadata": {},
   "outputs": [
    {
     "data": {
      "image/png": "[encoded data removed]",
      "text/plain": [
       "<Figure size 800x600 with 2 Axes>"
      ]
     },
     "metadata": {},
     "output_type": "display_data"
    }
   ],
   "source": [
    "viz.plot_cm(results_active[0].cm, models_active[0][1], label_encoder, normalize=True, title='Confusion Matrix - Logistic Regression')"
   ]
  },
  {
   "cell_type": "code",
   "execution_count": null,
   "metadata": {},
   "outputs": [],
   "source": []
  }
 ],
 "metadata": {
  "kernelspec": {
   "display_name": "egovizml-XPfoP_XE-py3.11",
   "language": "python",
   "name": "python3"
  },
  "language_info": {
   "codemirror_mode": {
    "name": "ipython",
    "version": 3
   },
   "file_extension": ".py",
   "mimetype": "text/x-python",
   "name": "python",
   "nbconvert_exporter": "python",
   "pygments_lexer": "ipython3",
   "version": "3.11.5"
  }
 },
 "nbformat": 4,
 "nbformat_minor": 2
}
