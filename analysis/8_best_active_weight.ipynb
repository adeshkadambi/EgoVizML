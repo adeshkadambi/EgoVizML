{
 "cells": [
  {
   "cell_type": "code",
   "execution_count": 1,
   "metadata": {},
   "outputs": [],
   "source": [
    "import os\n",
    "\n",
    "import pandas as pd\n",
    "from sklearn.ensemble import GradientBoostingClassifier, RandomForestClassifier\n",
    "from sklearn.linear_model import LogisticRegression\n",
    "from sklearn.neural_network import MLPClassifier\n",
    "from sklearn.preprocessing import LabelEncoder\n",
    "from xgboost import XGBClassifier\n",
    "\n",
    "import egoviz.models.evaluation as ev\n",
    "import egoviz.models.processing as pr\n",
    "\n",
    "SEED = 42\n",
    "\n",
    "pd.set_option(\"display.max_rows\", 300)"
   ]
  },
  {
   "cell_type": "code",
   "execution_count": 4,
   "metadata": {},
   "outputs": [],
   "source": [
    "# load and process data\n",
    "cwd = os.getcwd()\n",
    "df = pr.load_pickle(os.path.join(cwd, '../data/home_data_all_preds_df.pkl'))\n",
    "\n",
    "df_weight_10 = pr.generate_counts_df(df, weighted=True, weight=10)\n",
    "df_weight_25 = pr.generate_counts_df(df, weighted=True, weight=25)\n",
    "df_weight_50 = pr.generate_counts_df(df, weighted=True, weight=50)\n",
    "df_weight_100 = pr.generate_counts_df(df, weighted=True, weight=100)\n",
    "\n",
    "\n",
    "# scale data\n",
    "df_weight_10_scaled = pr.row_wise_min_max_scaling(df_weight_10)\n",
    "df_weight_25_scaled = pr.row_wise_min_max_scaling(df_weight_25)\n",
    "df_weight_50_scaled = pr.row_wise_min_max_scaling(df_weight_50)\n",
    "df_weight_100_scaled = pr.row_wise_min_max_scaling(df_weight_100)"
   ]
  },
  {
   "cell_type": "code",
   "execution_count": 3,
   "metadata": {},
   "outputs": [],
   "source": [
    "# prepare data for evaluation\n",
    "label_encoder = LabelEncoder()"
   ]
  },
  {
   "cell_type": "code",
   "execution_count": 6,
   "metadata": {},
   "outputs": [
    {
     "name": "stderr",
     "output_type": "stream",
     "text": [
      "2023-12-04 01:32:00,307 - root - INFO - LOGOCV complete for LogisticRegression\n",
      "2023-12-04 01:32:19,037 - root - INFO - LOGOCV complete for RandomForestClassifier\n",
      "2023-12-04 01:36:09,797 - root - INFO - LOGOCV complete for GradientBoostingClassifier\n",
      "2023-12-04 01:37:02,554 - root - INFO - LOGOCV complete for XGBClassifier\n",
      "2023-12-04 01:37:15,809 - root - INFO - LOGOCV complete for MLPClassifier\n"
     ]
    }
   ],
   "source": [
    "models = [\n",
    "    ('Logistic Regression', LogisticRegression(max_iter=1000, random_state=SEED, class_weight='balanced')),\n",
    "    ('Random Forest', RandomForestClassifier(random_state=SEED, class_weight='balanced')),\n",
    "    ('Gradient Boosting', GradientBoostingClassifier(random_state=SEED)),\n",
    "    ('XGBoost', XGBClassifier(random_state=SEED)),\n",
    "    ('MLP', MLPClassifier(random_state=SEED, learning_rate='adaptive', max_iter=1000, early_stopping=True))\n",
    "]\n",
    "\n",
    "results_weight_10 = ev.evaluate_models(models, df_weight_50_scaled, label_encoder)"
   ]
  },
  {
   "cell_type": "code",
   "execution_count": 7,
   "metadata": {},
   "outputs": [
    {
     "name": "stderr",
     "output_type": "stream",
     "text": [
      "2023-12-04 01:37:17,717 - root - INFO - LOGOCV complete for LogisticRegression\n",
      "2023-12-04 01:37:34,386 - root - INFO - LOGOCV complete for RandomForestClassifier\n",
      "2023-12-04 04:42:14,966 - root - INFO - LOGOCV complete for GradientBoostingClassifier\n",
      "2023-12-04 07:12:28,142 - root - INFO - LOGOCV complete for XGBClassifier\n",
      "/Users/adeshkadambi/Documents/GitHub/EgoVizML/.venv/lib/python3.11/site-packages/sklearn/neural_network/_multilayer_perceptron.py:698: UserWarning: Training interrupted by user.\n",
      "  warnings.warn(\"Training interrupted by user.\")\n",
      "2023-12-04 07:12:45,856 - root - INFO - LOGOCV complete for MLPClassifier\n"
     ]
    }
   ],
   "source": [
    "models = [\n",
    "    ('Logistic Regression', LogisticRegression(max_iter=1000, random_state=SEED, class_weight='balanced')),\n",
    "    ('Random Forest', RandomForestClassifier(random_state=SEED, class_weight='balanced')),\n",
    "    ('Gradient Boosting', GradientBoostingClassifier(random_state=SEED)),\n",
    "    ('XGBoost', XGBClassifier(random_state=SEED)),\n",
    "    ('MLP', MLPClassifier(random_state=SEED, learning_rate='adaptive', max_iter=1000, early_stopping=True))\n",
    "]\n",
    "\n",
    "results_weight_25 = ev.evaluate_models(models, df_weight_50_scaled, label_encoder)"
   ]
  },
  {
   "cell_type": "code",
   "execution_count": null,
   "metadata": {},
   "outputs": [],
   "source": [
    "models = [\n",
    "    ('Logistic Regression', LogisticRegression(max_iter=1000, random_state=SEED, class_weight='balanced')),\n",
    "    ('Random Forest', RandomForestClassifier(random_state=SEED, class_weight='balanced')),\n",
    "    ('Gradient Boosting', GradientBoostingClassifier(random_state=SEED)),\n",
    "    ('XGBoost', XGBClassifier(random_state=SEED)),\n",
    "    ('MLP', MLPClassifier(random_state=SEED, learning_rate='adaptive', max_iter=1000, early_stopping=True))\n",
    "]\n",
    "\n",
    "results_weight_50 = ev.evaluate_models(models, df_weight_50_scaled, label_encoder)"
   ]
  },
  {
   "cell_type": "code",
   "execution_count": null,
   "metadata": {},
   "outputs": [],
   "source": [
    "models = [\n",
    "    ('Logistic Regression', LogisticRegression(max_iter=1000, random_state=SEED, class_weight='balanced')),\n",
    "    ('Random Forest', RandomForestClassifier(random_state=SEED, class_weight='balanced')),\n",
    "    ('Gradient Boosting', GradientBoostingClassifier(random_state=SEED)),\n",
    "    ('XGBoost', XGBClassifier(random_state=SEED)),\n",
    "    ('MLP', MLPClassifier(random_state=SEED, learning_rate='adaptive', max_iter=1000, early_stopping=True))\n",
    "]\n",
    "\n",
    "results_weight_100 = ev.evaluate_models(models, df_weight_100_scaled, label_encoder)"
   ]
  },
  {
   "cell_type": "code",
   "execution_count": null,
   "metadata": {},
   "outputs": [],
   "source": [
    "results_weight_10[1][['f1', 'median_f1', 'model']].groupby('model').agg(\n",
    "    # get the first median f1 score\n",
    "    median_f1=('median_f1', 'first'),\n",
    "    # get the percentage of f1 scores that are above 0.5\n",
    "    percentage_above_05=('f1', lambda x: round(len(x[x > 0.5]) / len(x), 2)),\n",
    ")"
   ]
  },
  {
   "cell_type": "code",
   "execution_count": null,
   "metadata": {},
   "outputs": [],
   "source": [
    "results_weight_25[1][['f1', 'median_f1', 'model']].groupby('model').agg(\n",
    "    # get the first median f1 score\n",
    "    median_f1=('median_f1', 'first'),\n",
    "    # get the percentage of f1 scores that are above 0.5\n",
    "    percentage_above_05=('f1', lambda x: round(len(x[x > 0.5]) / len(x), 2)),\n",
    ")"
   ]
  },
  {
   "cell_type": "code",
   "execution_count": null,
   "metadata": {},
   "outputs": [],
   "source": [
    "results_weight_50[1][['f1', 'median_f1', 'model']].groupby('model').agg(\n",
    "    # get the first median f1 score\n",
    "    median_f1=('median_f1', 'first'),\n",
    "    # get the percentage of f1 scores that are above 0.5\n",
    "    percentage_above_05=('f1', lambda x: round(len(x[x > 0.5]) / len(x), 2)),\n",
    ")"
   ]
  },
  {
   "cell_type": "code",
   "execution_count": null,
   "metadata": {},
   "outputs": [],
   "source": [
    "results_weight_100[1][['f1', 'median_f1', 'model']].groupby('model').agg(\n",
    "    # get the first median f1 score\n",
    "    median_f1=('median_f1', 'first'),\n",
    "    # get the percentage of f1 scores that are above 0.5\n",
    "    percentage_above_05=('f1', lambda x: round(len(x[x > 0.5]) / len(x), 2)),\n",
    ")"
   ]
  },
  {
   "cell_type": "code",
   "execution_count": null,
   "metadata": {},
   "outputs": [],
   "source": []
  }
 ],
 "metadata": {
  "kernelspec": {
   "display_name": ".venv",
   "language": "python",
   "name": "python3"
  },
  "language_info": {
   "codemirror_mode": {
    "name": "ipython",
    "version": 3
   },
   "file_extension": ".py",
   "mimetype": "text/x-python",
   "name": "python",
   "nbconvert_exporter": "python",
   "pygments_lexer": "ipython3",
   "version": "3.11.5"
  }
 },
 "nbformat": 4,
 "nbformat_minor": 2
}
