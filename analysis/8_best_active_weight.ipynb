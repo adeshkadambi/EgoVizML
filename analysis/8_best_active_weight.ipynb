{
 "cells": [
  {
   "cell_type": "code",
   "execution_count": 1,
   "metadata": {},
   "outputs": [],
   "source": [
    "import os\n",
    "\n",
    "import pandas as pd\n",
    "from sklearn.ensemble import GradientBoostingClassifier, RandomForestClassifier\n",
    "from sklearn.linear_model import LogisticRegression\n",
    "from sklearn.neural_network import MLPClassifier\n",
    "from sklearn.preprocessing import LabelEncoder\n",
    "from xgboost import XGBClassifier\n",
    "\n",
    "import egoviz.models.evaluation as ev\n",
    "import egoviz.models.processing as pr\n",
    "\n",
    "SEED = 42\n",
    "\n",
    "pd.set_option(\"display.max_rows\", 300)"
   ]
  },
  {
   "cell_type": "code",
   "execution_count": 2,
   "metadata": {},
   "outputs": [],
   "source": [
    "# load and process data\n",
    "cwd = os.getcwd()\n",
    "df = pr.load_pickle(os.path.join(cwd, '../data/home_data_all_preds_df.pkl'))\n",
    "\n",
    "df_weight_10 = pr.generate_counts_df(df, weighted=True, weight=10)\n",
    "df_weight_25 = pr.generate_counts_df(df, weighted=True, weight=25)\n",
    "df_weight_50 = pr.generate_counts_df(df, weighted=True, weight=50)\n",
    "df_weight_100 = pr.generate_counts_df(df, weighted=True, weight=100)\n",
    "\n",
    "\n",
    "# scale data\n",
    "df_weight_10_scaled = pr.row_wise_min_max_scaling(df_weight_10)\n",
    "df_weight_25_scaled = pr.row_wise_min_max_scaling(df_weight_25)\n",
    "df_weight_50_scaled = pr.row_wise_min_max_scaling(df_weight_50)\n",
    "df_weight_100_scaled = pr.row_wise_min_max_scaling(df_weight_100)"
   ]
  },
  {
   "cell_type": "code",
   "execution_count": 3,
   "metadata": {},
   "outputs": [],
   "source": [
    "# prepare data for evaluation\n",
    "label_encoder = LabelEncoder()"
   ]
  },
  {
   "cell_type": "code",
   "execution_count": 4,
   "metadata": {},
   "outputs": [
    {
     "name": "stderr",
     "output_type": "stream",
     "text": [
      "2023-12-04 08:17:44,271 - root - INFO - LOGOCV complete for LogisticRegression\n",
      "2023-12-04 08:17:54,783 - root - INFO - LOGOCV complete for RandomForestClassifier\n",
      "2023-12-04 08:20:27,192 - root - INFO - LOGOCV complete for GradientBoostingClassifier\n",
      "2023-12-04 08:20:34,261 - root - INFO - LOGOCV complete for XGBClassifier\n",
      "2023-12-04 08:20:36,983 - root - INFO - LOGOCV complete for MLPClassifier\n"
     ]
    }
   ],
   "source": [
    "models = [\n",
    "    ('Logistic Regression', LogisticRegression(max_iter=1000, random_state=SEED, class_weight='balanced')),\n",
    "    ('Random Forest', RandomForestClassifier(random_state=SEED, class_weight='balanced')),\n",
    "    ('Gradient Boosting', GradientBoostingClassifier(random_state=SEED)),\n",
    "    ('XGBoost', XGBClassifier(random_state=SEED)),\n",
    "    ('MLP', MLPClassifier(random_state=SEED, learning_rate='adaptive', max_iter=1000, early_stopping=True))\n",
    "]\n",
    "\n",
    "results_weight_10 = ev.evaluate_models(models, df_weight_50_scaled, label_encoder)"
   ]
  },
  {
   "cell_type": "code",
   "execution_count": 5,
   "metadata": {},
   "outputs": [
    {
     "name": "stderr",
     "output_type": "stream",
     "text": [
      "2023-12-04 08:20:37,368 - root - INFO - LOGOCV complete for LogisticRegression\n",
      "2023-12-04 08:20:47,863 - root - INFO - LOGOCV complete for RandomForestClassifier\n",
      "2023-12-04 08:23:20,579 - root - INFO - LOGOCV complete for GradientBoostingClassifier\n",
      "2023-12-04 08:23:27,564 - root - INFO - LOGOCV complete for XGBClassifier\n",
      "2023-12-04 08:23:30,300 - root - INFO - LOGOCV complete for MLPClassifier\n"
     ]
    }
   ],
   "source": [
    "models = [\n",
    "    ('Logistic Regression', LogisticRegression(max_iter=1000, random_state=SEED, class_weight='balanced')),\n",
    "    ('Random Forest', RandomForestClassifier(random_state=SEED, class_weight='balanced')),\n",
    "    ('Gradient Boosting', GradientBoostingClassifier(random_state=SEED)),\n",
    "    ('XGBoost', XGBClassifier(random_state=SEED)),\n",
    "    ('MLP', MLPClassifier(random_state=SEED, learning_rate='adaptive', max_iter=1000, early_stopping=True))\n",
    "]\n",
    "\n",
    "results_weight_25 = ev.evaluate_models(models, df_weight_50_scaled, label_encoder)"
   ]
  },
  {
   "cell_type": "code",
   "execution_count": 6,
   "metadata": {},
   "outputs": [
    {
     "name": "stderr",
     "output_type": "stream",
     "text": [
      "2023-12-04 08:23:30,701 - root - INFO - LOGOCV complete for LogisticRegression\n",
      "2023-12-04 08:23:41,081 - root - INFO - LOGOCV complete for RandomForestClassifier\n",
      "2023-12-04 08:26:13,091 - root - INFO - LOGOCV complete for GradientBoostingClassifier\n",
      "2023-12-04 08:26:19,786 - root - INFO - LOGOCV complete for XGBClassifier\n",
      "2023-12-04 08:26:22,473 - root - INFO - LOGOCV complete for MLPClassifier\n"
     ]
    }
   ],
   "source": [
    "models = [\n",
    "    ('Logistic Regression', LogisticRegression(max_iter=1000, random_state=SEED, class_weight='balanced')),\n",
    "    ('Random Forest', RandomForestClassifier(random_state=SEED, class_weight='balanced')),\n",
    "    ('Gradient Boosting', GradientBoostingClassifier(random_state=SEED)),\n",
    "    ('XGBoost', XGBClassifier(random_state=SEED)),\n",
    "    ('MLP', MLPClassifier(random_state=SEED, learning_rate='adaptive', max_iter=1000, early_stopping=True))\n",
    "]\n",
    "\n",
    "results_weight_50 = ev.evaluate_models(models, df_weight_50_scaled, label_encoder)"
   ]
  },
  {
   "cell_type": "code",
   "execution_count": 7,
   "metadata": {},
   "outputs": [
    {
     "name": "stderr",
     "output_type": "stream",
     "text": [
      "2023-12-04 08:26:22,865 - root - INFO - LOGOCV complete for LogisticRegression\n",
      "2023-12-04 08:26:33,436 - root - INFO - LOGOCV complete for RandomForestClassifier\n",
      "2023-12-04 08:29:09,979 - root - INFO - LOGOCV complete for GradientBoostingClassifier\n",
      "2023-12-04 08:29:16,964 - root - INFO - LOGOCV complete for XGBClassifier\n",
      "2023-12-04 08:29:19,456 - root - INFO - LOGOCV complete for MLPClassifier\n"
     ]
    }
   ],
   "source": [
    "models = [\n",
    "    ('Logistic Regression', LogisticRegression(max_iter=1000, random_state=SEED, class_weight='balanced')),\n",
    "    ('Random Forest', RandomForestClassifier(random_state=SEED, class_weight='balanced')),\n",
    "    ('Gradient Boosting', GradientBoostingClassifier(random_state=SEED)),\n",
    "    ('XGBoost', XGBClassifier(random_state=SEED)),\n",
    "    ('MLP', MLPClassifier(random_state=SEED, learning_rate='adaptive', max_iter=1000, early_stopping=True))\n",
    "]\n",
    "\n",
    "results_weight_100 = ev.evaluate_models(models, df_weight_100_scaled, label_encoder)"
   ]
  },
  {
   "cell_type": "code",
   "execution_count": 8,
   "metadata": {},
   "outputs": [
    {
     "data": {
      "text/html": [
       "<div>\n",
       "<style scoped>\n",
       "    .dataframe tbody tr th:only-of-type {\n",
       "        vertical-align: middle;\n",
       "    }\n",
       "\n",
       "    .dataframe tbody tr th {\n",
       "        vertical-align: top;\n",
       "    }\n",
       "\n",
       "    .dataframe thead th {\n",
       "        text-align: right;\n",
       "    }\n",
       "</style>\n",
       "<table border=\"1\" class=\"dataframe\">\n",
       "  <thead>\n",
       "    <tr style=\"text-align: right;\">\n",
       "      <th></th>\n",
       "      <th>median_f1</th>\n",
       "      <th>percentage_above_05</th>\n",
       "    </tr>\n",
       "    <tr>\n",
       "      <th>model</th>\n",
       "      <th></th>\n",
       "      <th></th>\n",
       "    </tr>\n",
       "  </thead>\n",
       "  <tbody>\n",
       "    <tr>\n",
       "      <th>GradientBoostingClassifier</th>\n",
       "      <td>0.502764</td>\n",
       "      <td>0.50</td>\n",
       "    </tr>\n",
       "    <tr>\n",
       "      <th>LogisticRegression</th>\n",
       "      <td>0.482811</td>\n",
       "      <td>0.50</td>\n",
       "    </tr>\n",
       "    <tr>\n",
       "      <th>MLPClassifier</th>\n",
       "      <td>0.434088</td>\n",
       "      <td>0.44</td>\n",
       "    </tr>\n",
       "    <tr>\n",
       "      <th>RandomForestClassifier</th>\n",
       "      <td>0.480295</td>\n",
       "      <td>0.50</td>\n",
       "    </tr>\n",
       "    <tr>\n",
       "      <th>XGBClassifier</th>\n",
       "      <td>0.458956</td>\n",
       "      <td>0.44</td>\n",
       "    </tr>\n",
       "  </tbody>\n",
       "</table>\n",
       "</div>"
      ],
      "text/plain": [
       "                            median_f1  percentage_above_05\n",
       "model                                                     \n",
       "GradientBoostingClassifier   0.502764                 0.50\n",
       "LogisticRegression           0.482811                 0.50\n",
       "MLPClassifier                0.434088                 0.44\n",
       "RandomForestClassifier       0.480295                 0.50\n",
       "XGBClassifier                0.458956                 0.44"
      ]
     },
     "execution_count": 8,
     "metadata": {},
     "output_type": "execute_result"
    }
   ],
   "source": [
    "results_weight_10[1][['f1', 'median_f1', 'model']].groupby('model').agg(\n",
    "    # get the first median f1 score\n",
    "    median_f1=('median_f1', 'first'),\n",
    "    # get the percentage of f1 scores that are above 0.5\n",
    "    percentage_above_05=('f1', lambda x: round(len(x[x > 0.5]) / len(x), 2)),\n",
    ")"
   ]
  },
  {
   "cell_type": "code",
   "execution_count": 9,
   "metadata": {},
   "outputs": [
    {
     "data": {
      "text/html": [
       "<div>\n",
       "<style scoped>\n",
       "    .dataframe tbody tr th:only-of-type {\n",
       "        vertical-align: middle;\n",
       "    }\n",
       "\n",
       "    .dataframe tbody tr th {\n",
       "        vertical-align: top;\n",
       "    }\n",
       "\n",
       "    .dataframe thead th {\n",
       "        text-align: right;\n",
       "    }\n",
       "</style>\n",
       "<table border=\"1\" class=\"dataframe\">\n",
       "  <thead>\n",
       "    <tr style=\"text-align: right;\">\n",
       "      <th></th>\n",
       "      <th>median_f1</th>\n",
       "      <th>percentage_above_05</th>\n",
       "    </tr>\n",
       "    <tr>\n",
       "      <th>model</th>\n",
       "      <th></th>\n",
       "      <th></th>\n",
       "    </tr>\n",
       "  </thead>\n",
       "  <tbody>\n",
       "    <tr>\n",
       "      <th>GradientBoostingClassifier</th>\n",
       "      <td>0.502764</td>\n",
       "      <td>0.50</td>\n",
       "    </tr>\n",
       "    <tr>\n",
       "      <th>LogisticRegression</th>\n",
       "      <td>0.482811</td>\n",
       "      <td>0.50</td>\n",
       "    </tr>\n",
       "    <tr>\n",
       "      <th>MLPClassifier</th>\n",
       "      <td>0.434088</td>\n",
       "      <td>0.44</td>\n",
       "    </tr>\n",
       "    <tr>\n",
       "      <th>RandomForestClassifier</th>\n",
       "      <td>0.480295</td>\n",
       "      <td>0.50</td>\n",
       "    </tr>\n",
       "    <tr>\n",
       "      <th>XGBClassifier</th>\n",
       "      <td>0.458956</td>\n",
       "      <td>0.44</td>\n",
       "    </tr>\n",
       "  </tbody>\n",
       "</table>\n",
       "</div>"
      ],
      "text/plain": [
       "                            median_f1  percentage_above_05\n",
       "model                                                     \n",
       "GradientBoostingClassifier   0.502764                 0.50\n",
       "LogisticRegression           0.482811                 0.50\n",
       "MLPClassifier                0.434088                 0.44\n",
       "RandomForestClassifier       0.480295                 0.50\n",
       "XGBClassifier                0.458956                 0.44"
      ]
     },
     "execution_count": 9,
     "metadata": {},
     "output_type": "execute_result"
    }
   ],
   "source": [
    "results_weight_25[1][['f1', 'median_f1', 'model']].groupby('model').agg(\n",
    "    # get the first median f1 score\n",
    "    median_f1=('median_f1', 'first'),\n",
    "    # get the percentage of f1 scores that are above 0.5\n",
    "    percentage_above_05=('f1', lambda x: round(len(x[x > 0.5]) / len(x), 2)),\n",
    ")"
   ]
  },
  {
   "cell_type": "code",
   "execution_count": 10,
   "metadata": {},
   "outputs": [
    {
     "data": {
      "text/html": [
       "<div>\n",
       "<style scoped>\n",
       "    .dataframe tbody tr th:only-of-type {\n",
       "        vertical-align: middle;\n",
       "    }\n",
       "\n",
       "    .dataframe tbody tr th {\n",
       "        vertical-align: top;\n",
       "    }\n",
       "\n",
       "    .dataframe thead th {\n",
       "        text-align: right;\n",
       "    }\n",
       "</style>\n",
       "<table border=\"1\" class=\"dataframe\">\n",
       "  <thead>\n",
       "    <tr style=\"text-align: right;\">\n",
       "      <th></th>\n",
       "      <th>median_f1</th>\n",
       "      <th>percentage_above_05</th>\n",
       "    </tr>\n",
       "    <tr>\n",
       "      <th>model</th>\n",
       "      <th></th>\n",
       "      <th></th>\n",
       "    </tr>\n",
       "  </thead>\n",
       "  <tbody>\n",
       "    <tr>\n",
       "      <th>GradientBoostingClassifier</th>\n",
       "      <td>0.502764</td>\n",
       "      <td>0.50</td>\n",
       "    </tr>\n",
       "    <tr>\n",
       "      <th>LogisticRegression</th>\n",
       "      <td>0.482811</td>\n",
       "      <td>0.50</td>\n",
       "    </tr>\n",
       "    <tr>\n",
       "      <th>MLPClassifier</th>\n",
       "      <td>0.434088</td>\n",
       "      <td>0.44</td>\n",
       "    </tr>\n",
       "    <tr>\n",
       "      <th>RandomForestClassifier</th>\n",
       "      <td>0.480295</td>\n",
       "      <td>0.50</td>\n",
       "    </tr>\n",
       "    <tr>\n",
       "      <th>XGBClassifier</th>\n",
       "      <td>0.458956</td>\n",
       "      <td>0.44</td>\n",
       "    </tr>\n",
       "  </tbody>\n",
       "</table>\n",
       "</div>"
      ],
      "text/plain": [
       "                            median_f1  percentage_above_05\n",
       "model                                                     \n",
       "GradientBoostingClassifier   0.502764                 0.50\n",
       "LogisticRegression           0.482811                 0.50\n",
       "MLPClassifier                0.434088                 0.44\n",
       "RandomForestClassifier       0.480295                 0.50\n",
       "XGBClassifier                0.458956                 0.44"
      ]
     },
     "execution_count": 10,
     "metadata": {},
     "output_type": "execute_result"
    }
   ],
   "source": [
    "results_weight_50[1][['f1', 'median_f1', 'model']].groupby('model').agg(\n",
    "    # get the first median f1 score\n",
    "    median_f1=('median_f1', 'first'),\n",
    "    # get the percentage of f1 scores that are above 0.5\n",
    "    percentage_above_05=('f1', lambda x: round(len(x[x > 0.5]) / len(x), 2)),\n",
    ")"
   ]
  },
  {
   "cell_type": "code",
   "execution_count": 11,
   "metadata": {},
   "outputs": [
    {
     "data": {
      "text/html": [
       "<div>\n",
       "<style scoped>\n",
       "    .dataframe tbody tr th:only-of-type {\n",
       "        vertical-align: middle;\n",
       "    }\n",
       "\n",
       "    .dataframe tbody tr th {\n",
       "        vertical-align: top;\n",
       "    }\n",
       "\n",
       "    .dataframe thead th {\n",
       "        text-align: right;\n",
       "    }\n",
       "</style>\n",
       "<table border=\"1\" class=\"dataframe\">\n",
       "  <thead>\n",
       "    <tr style=\"text-align: right;\">\n",
       "      <th></th>\n",
       "      <th>median_f1</th>\n",
       "      <th>percentage_above_05</th>\n",
       "    </tr>\n",
       "    <tr>\n",
       "      <th>model</th>\n",
       "      <th></th>\n",
       "      <th></th>\n",
       "    </tr>\n",
       "  </thead>\n",
       "  <tbody>\n",
       "    <tr>\n",
       "      <th>GradientBoostingClassifier</th>\n",
       "      <td>0.528476</td>\n",
       "      <td>0.56</td>\n",
       "    </tr>\n",
       "    <tr>\n",
       "      <th>LogisticRegression</th>\n",
       "      <td>0.477762</td>\n",
       "      <td>0.38</td>\n",
       "    </tr>\n",
       "    <tr>\n",
       "      <th>MLPClassifier</th>\n",
       "      <td>0.434802</td>\n",
       "      <td>0.38</td>\n",
       "    </tr>\n",
       "    <tr>\n",
       "      <th>RandomForestClassifier</th>\n",
       "      <td>0.510054</td>\n",
       "      <td>0.50</td>\n",
       "    </tr>\n",
       "    <tr>\n",
       "      <th>XGBClassifier</th>\n",
       "      <td>0.470796</td>\n",
       "      <td>0.44</td>\n",
       "    </tr>\n",
       "  </tbody>\n",
       "</table>\n",
       "</div>"
      ],
      "text/plain": [
       "                            median_f1  percentage_above_05\n",
       "model                                                     \n",
       "GradientBoostingClassifier   0.528476                 0.56\n",
       "LogisticRegression           0.477762                 0.38\n",
       "MLPClassifier                0.434802                 0.38\n",
       "RandomForestClassifier       0.510054                 0.50\n",
       "XGBClassifier                0.470796                 0.44"
      ]
     },
     "execution_count": 11,
     "metadata": {},
     "output_type": "execute_result"
    }
   ],
   "source": [
    "results_weight_100[1][['f1', 'median_f1', 'model']].groupby('model').agg(\n",
    "    # get the first median f1 score\n",
    "    median_f1=('median_f1', 'first'),\n",
    "    # get the percentage of f1 scores that are above 0.5\n",
    "    percentage_above_05=('f1', lambda x: round(len(x[x > 0.5]) / len(x), 2)),\n",
    ")"
   ]
  },
  {
   "cell_type": "code",
   "execution_count": null,
   "metadata": {},
   "outputs": [],
   "source": []
  }
 ],
 "metadata": {
  "kernelspec": {
   "display_name": ".venv",
   "language": "python",
   "name": "python3"
  },
  "language_info": {
   "codemirror_mode": {
    "name": "ipython",
    "version": 3
   },
   "file_extension": ".py",
   "mimetype": "text/x-python",
   "name": "python",
   "nbconvert_exporter": "python",
   "pygments_lexer": "ipython3",
   "version": "3.11.5"
  }
 },
 "nbformat": 4,
 "nbformat_minor": 2
}
