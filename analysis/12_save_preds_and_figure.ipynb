{
 "cells": [
  {
   "cell_type": "markdown",
   "metadata": {},
   "source": [
    "# Figure Generation\n",
    "\n",
    "This notebook returns the input data, the predicted ADL label, and the true ADL label."
   ]
  },
  {
   "cell_type": "code",
   "execution_count": 1,
   "metadata": {},
   "outputs": [],
   "source": [
    "import os\n",
    "\n",
    "import pandas as pd\n",
    "import polars as pl\n",
    "from sklearn.linear_model import LogisticRegression\n",
    "from sklearn.preprocessing import LabelEncoder\n",
    "from xgboost import XGBClassifier\n",
    "\n",
    "import egoviz.models.evaluation as ev\n",
    "import egoviz.models.processing as pr\n",
    "import egoviz.visualize as viz\n",
    "\n",
    "SEED = 42\n",
    "\n",
    "pd.set_option(\"display.max_rows\", 300)\n",
    "\n",
    "cwd = os.getcwd()"
   ]
  },
  {
   "cell_type": "code",
   "execution_count": 2,
   "metadata": {},
   "outputs": [],
   "source": [
    "data = pr.load_pickle(os.path.join(cwd, '../data/home_data_all_preds_df.pkl'))\n",
    "df_active = pr.generate_binary_presence_df(data)\n",
    "df_binary_active_scaled = pr.row_wise_min_max_scaling(df_active)\n",
    "\n",
    "data = pr.load_pickle(os.path.join(cwd, '../data/home_data_all_preds.pkl'))\n",
    "df_counts = pr.generate_counts_df(pr.generate_df_from_preds(data))\n",
    "df_counts_active_scaled = pr.row_wise_min_max_scaling(df_counts)"
   ]
  },
  {
   "cell_type": "code",
   "execution_count": 3,
   "metadata": {},
   "outputs": [
    {
     "name": "stderr",
     "output_type": "stream",
     "text": [
      "2024-01-25 17:39:25,860 - root - INFO - LOGOCV complete for LogisticRegression\n",
      "2024-01-25 17:39:31,260 - root - INFO - LOGOCV complete for XGBClassifier\n"
     ]
    }
   ],
   "source": [
    "models_binary = [\n",
    "    ('Logistic Regression', LogisticRegression(max_iter=1000, random_state=SEED, class_weight='balanced')),\n",
    "    ('XGBoost', XGBClassifier(random_state=SEED)),\n",
    "]\n",
    "\n",
    "label_encoder = LabelEncoder()\n",
    "\n",
    "binary_results, binary_results_df = ev.evaluate_models(models_binary, df_binary_active_scaled, label_encoder)"
   ]
  },
  {
   "cell_type": "code",
   "execution_count": 4,
   "metadata": {},
   "outputs": [
    {
     "data": {
      "text/html": [
       "<div>\n",
       "<style scoped>\n",
       "    .dataframe tbody tr th:only-of-type {\n",
       "        vertical-align: middle;\n",
       "    }\n",
       "\n",
       "    .dataframe tbody tr th {\n",
       "        vertical-align: top;\n",
       "    }\n",
       "\n",
       "    .dataframe thead th {\n",
       "        text-align: right;\n",
       "    }\n",
       "</style>\n",
       "<table border=\"1\" class=\"dataframe\">\n",
       "  <thead>\n",
       "    <tr style=\"text-align: right;\">\n",
       "      <th></th>\n",
       "      <th>model</th>\n",
       "      <th>median_f1</th>\n",
       "      <th>pct_above_0.5</th>\n",
       "    </tr>\n",
       "  </thead>\n",
       "  <tbody>\n",
       "    <tr>\n",
       "      <th>0</th>\n",
       "      <td>LogisticRegression</td>\n",
       "      <td>0.811589</td>\n",
       "      <td>1.00</td>\n",
       "    </tr>\n",
       "    <tr>\n",
       "      <th>1</th>\n",
       "      <td>XGBClassifier</td>\n",
       "      <td>0.799526</td>\n",
       "      <td>0.88</td>\n",
       "    </tr>\n",
       "  </tbody>\n",
       "</table>\n",
       "</div>"
      ],
      "text/plain": [
       "                model  median_f1  pct_above_0.5\n",
       "0  LogisticRegression   0.811589           1.00\n",
       "1       XGBClassifier   0.799526           0.88"
      ]
     },
     "execution_count": 4,
     "metadata": {},
     "output_type": "execute_result"
    }
   ],
   "source": [
    "ev.display_pct_table(binary_results_df, threshold=0.5)"
   ]
  },
  {
   "cell_type": "markdown",
   "metadata": {},
   "source": [
    "### Get Samples"
   ]
  },
  {
   "cell_type": "code",
   "execution_count": 5,
   "metadata": {},
   "outputs": [
    {
     "data": {
      "text/plain": [
       "Index(['SCI02', 'SCI03', 'SCI06', 'SCI08', 'SCI10', 'SCI11', 'SCI12', 'SCI13',\n",
       "       'SCI14', 'SCI15', 'SCI16', 'SCI17', 'SCI18', 'SCI19', 'SCI20', 'SCI21'],\n",
       "      dtype='object')"
      ]
     },
     "execution_count": 5,
     "metadata": {},
     "output_type": "execute_result"
    }
   ],
   "source": [
    "binary_results[0].samples.index"
   ]
  },
  {
   "cell_type": "code",
   "execution_count": 15,
   "metadata": {},
   "outputs": [],
   "source": [
    "df = {}\n",
    "for idx in binary_results[0].samples.index:\n",
    "    df[idx] = (\n",
    "        pl.from_pandas(binary_results[0].samples.loc[idx][\"X_test\"])\n",
    "        .with_columns(\n",
    "            pl.Series(\"video_id\", binary_results[0].samples.loc[idx][\"videos\"]),\n",
    "            pl.Series(\"y_true\", binary_results[0].samples.loc[idx][\"y_test\"]),\n",
    "            pl.Series(\"y_pred\", binary_results[0].samples.loc[idx][\"y_pred\"]),\n",
    "            pl.Series(\"y_true_label\", binary_results[0].samples.loc[idx][\"y_test_label\"]),\n",
    "            pl.Series(\"y_pred_Label\", binary_results[0].samples.loc[idx][\"y_pred_label\"]),\n",
    "        )\n",
    "    )"
   ]
  },
  {
   "cell_type": "code",
   "execution_count": 64,
   "metadata": {},
   "outputs": [
    {
     "data": {
      "text/plain": [
       "{'count_clothing_accessory': 0.07692307692307693,\n",
       " 'count_phone_tablet': 0.0,\n",
       " 'count_other': 0.15384615384615385,\n",
       " 'count_office_stationary': 0.0,\n",
       " 'count_footwear': 0.0,\n",
       " 'count_furniture': 0.0,\n",
       " 'active_other': 0.0,\n",
       " 'active_furniture': 0.0,\n",
       " 'active_phone_tablet': 0.0,\n",
       " 'active_footwear': 0.0,\n",
       " 'active_office_stationary': 0.0,\n",
       " 'active_clothing_accessory': 0.0,\n",
       " 'count_furnishing': 0.07692307692307693,\n",
       " 'active_furnishing': 0.0,\n",
       " 'count_drinkware': 0.38461538461538464,\n",
       " 'active_drinkware': 0.0,\n",
       " 'count_home_appliance_tool': 0.5384615384615384,\n",
       " 'active_home_appliance_tool': 0.0,\n",
       " 'count_food': 1.0,\n",
       " 'active_food': 0.7692307692307693,\n",
       " 'count_animal': 1.0,\n",
       " 'active_animal': 0.0,\n",
       " 'count_clothing': 0.0,\n",
       " 'active_clothing': 0.0,\n",
       " 'count_cleaning_product': 1.0,\n",
       " 'active_cleaning_product': 0.0,\n",
       " 'count_bag': 0.0,\n",
       " 'active_bag': 0.0,\n",
       " 'count_toiletries': 0.07692307692307693,\n",
       " 'active_toiletries': 0.0,\n",
       " 'count_electronics': 0.0,\n",
       " 'active_electronics': 0.0,\n",
       " 'count_kitchen_utensils': 1.0,\n",
       " 'active_kitchen_utensils': 0.0,\n",
       " 'count_wheelchair_walker': 0.0,\n",
       " 'active_wheelchair_walker': 0.0,\n",
       " 'count_sports_equipment': 0.0,\n",
       " 'active_sports_equipment': 0.0,\n",
       " 'count_musical_instrument': 0.0,\n",
       " 'active_musical_instrument': 0.0,\n",
       " 'count_sink': 1.0,\n",
       " 'active_sink': 0.0,\n",
       " 'count_cabinetry': 0.0,\n",
       " 'count_kitchen_appliance': 0.0,\n",
       " 'count_tv_computer': 0.0,\n",
       " 'active_kitchen_appliance': 0.0,\n",
       " 'active_tv_computer': 0.0,\n",
       " 'active_cabinetry': 0.0,\n",
       " 'count_house_fixtures': 0.8461538461538461,\n",
       " 'active_house_fixtures': 0.0,\n",
       " 'count_tableware': 1.0,\n",
       " 'active_tableware': 0.0,\n",
       " 'count_bathroom_fixture': 0.6923076923076923,\n",
       " 'active_bathroom_fixture': 0.0,\n",
       " 'count_plant': 0.0,\n",
       " 'active_plant': 0.0,\n",
       " 'count_hat': 0.0,\n",
       " 'active_hat': 0.0,\n",
       " 'video_id': 'SCI02-1--11',\n",
       " 'y_true': 5,\n",
       " 'y_pred': 5,\n",
       " 'y_true_label': 'meal-preparation-cleanup',\n",
       " 'y_pred_Label': 'meal-preparation-cleanup'}"
      ]
     },
     "execution_count": 64,
     "metadata": {},
     "output_type": "execute_result"
    },
    {
     "ename": "",
     "evalue": "",
     "output_type": "error",
     "traceback": [
      "\u001b[1;31mThe Kernel crashed while executing code in the the current cell or a previous cell. Please review the code in the cell(s) to identify a possible cause of the failure. Click <a href='https://aka.ms/vscodeJupyterKernelCrash'>here</a> for more info. View Jupyter <a href='command:jupyter.viewOutput'>log</a> for further details."
     ]
    }
   ],
   "source": [
    "import numpy as np\n",
    "\n",
    "# pandas view all columns\n",
    "pd.set_option(\"display.max_columns\", None)\n",
    "\n",
    "id = 'SCI02'\n",
    "\n",
    "filtered = df[id].filter((pl.col('y_true') == pl.col('y_pred')) & (pl.col(\"y_true\")==5)).row(1, named=True); filtered"
   ]
  },
  {
   "cell_type": "code",
   "execution_count": 63,
   "metadata": {},
   "outputs": [
    {
     "ename": "AttributeError",
     "evalue": "'tuple' object has no attribute 'to_pandas'",
     "output_type": "error",
     "traceback": [
      "\u001b[1;31m---------------------------------------------------------------------------\u001b[0m",
      "\u001b[1;31mAttributeError\u001b[0m                            Traceback (most recent call last)",
      "Cell \u001b[1;32mIn[63], line 1\u001b[0m\n\u001b[1;32m----> 1\u001b[0m \u001b[43mfiltered\u001b[49m\u001b[38;5;241;43m.\u001b[39;49m\u001b[43mto_pandas\u001b[49m()\u001b[38;5;241m.\u001b[39mreplace(\u001b[38;5;241m0\u001b[39m, np\u001b[38;5;241m.\u001b[39mnan)\u001b[38;5;241m.\u001b[39mdropna(axis\u001b[38;5;241m=\u001b[39m\u001b[38;5;241m1\u001b[39m)\u001b[38;5;241m.\u001b[39mto_dict()\n",
      "\u001b[1;31mAttributeError\u001b[0m: 'tuple' object has no attribute 'to_pandas'"
     ]
    }
   ],
   "source": [
    "filtered.to_pandas().replace(0, np.nan).dropna(axis=1).to_dict()"
   ]
  }
 ],
 "metadata": {
  "kernelspec": {
   "display_name": "egovizml-XPfoP_XE-py3.11",
   "language": "python",
   "name": "python3"
  },
  "language_info": {
   "codemirror_mode": {
    "name": "ipython",
    "version": 3
   },
   "file_extension": ".py",
   "mimetype": "text/x-python",
   "name": "python",
   "nbconvert_exporter": "python",
   "pygments_lexer": "ipython3",
   "version": "3.11.5"
  }
 },
 "nbformat": 4,
 "nbformat_minor": 2
}
