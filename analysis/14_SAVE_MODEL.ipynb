{
 "cells": [
  {
   "cell_type": "code",
   "execution_count": 1,
   "metadata": {},
   "outputs": [],
   "source": [
    "import os\n",
    "\n",
    "import pandas as pd\n",
    "import polars as pl\n",
    "\n",
    "from sklearn.linear_model import LogisticRegression\n",
    "from sklearn.preprocessing import LabelEncoder\n",
    "\n",
    "import egoviz.models.evaluation as ev\n",
    "import egoviz.models.processing as pr\n",
    "import egoviz.visualize as viz\n",
    "\n",
    "SEED = 42\n",
    "\n",
    "pd.set_option(\"display.max_rows\", 300)\n",
    "cwd = os.getcwd()"
   ]
  },
  {
   "cell_type": "code",
   "execution_count": 2,
   "metadata": {},
   "outputs": [],
   "source": [
    "raw_binary = pr.load_pickle(os.path.join(cwd, '../data/home_data_all_preds_df.pkl'))\n",
    "df_binary_active = pr.generate_binary_presence_df(raw_binary)\n",
    "df_binary_active_pl = pl.from_pandas(df_binary_active)"
   ]
  },
  {
   "cell_type": "code",
   "execution_count": 3,
   "metadata": {},
   "outputs": [],
   "source": [
    "df_binary_active = pr.row_wise_min_max_scaling(df_binary_active)"
   ]
  },
  {
   "cell_type": "code",
   "execution_count": 4,
   "metadata": {},
   "outputs": [],
   "source": [
    "def get_models():\n",
    "    return [\n",
    "        ('Logistic Regression', LogisticRegression(max_iter=1000, random_state=SEED, class_weight='balanced')),\n",
    "    ]"
   ]
  },
  {
   "cell_type": "code",
   "execution_count": 5,
   "metadata": {},
   "outputs": [],
   "source": [
    "label_encoder = LabelEncoder()"
   ]
  },
  {
   "cell_type": "code",
   "execution_count": 6,
   "metadata": {},
   "outputs": [
    {
     "name": "stderr",
     "output_type": "stream",
     "text": [
      "2024-11-25 03:18:34,734 - root - INFO - LOGOCV complete for LogisticRegression\n"
     ]
    },
    {
     "data": {
      "text/html": [
       "<div>\n",
       "<style scoped>\n",
       "    .dataframe tbody tr th:only-of-type {\n",
       "        vertical-align: middle;\n",
       "    }\n",
       "\n",
       "    .dataframe tbody tr th {\n",
       "        vertical-align: top;\n",
       "    }\n",
       "\n",
       "    .dataframe thead th {\n",
       "        text-align: right;\n",
       "    }\n",
       "</style>\n",
       "<table border=\"1\" class=\"dataframe\">\n",
       "  <thead>\n",
       "    <tr style=\"text-align: right;\">\n",
       "      <th></th>\n",
       "      <th>model</th>\n",
       "      <th>median_f1</th>\n",
       "      <th>mean_f1</th>\n",
       "      <th>std_f1</th>\n",
       "      <th>pct_above_0.5</th>\n",
       "      <th>AUC</th>\n",
       "    </tr>\n",
       "  </thead>\n",
       "  <tbody>\n",
       "    <tr>\n",
       "      <th>0</th>\n",
       "      <td>LogisticRegression</td>\n",
       "      <td>0.811589</td>\n",
       "      <td>0.784882</td>\n",
       "      <td>0.119884</td>\n",
       "      <td>1.0</td>\n",
       "      <td>0.94</td>\n",
       "    </tr>\n",
       "  </tbody>\n",
       "</table>\n",
       "</div>"
      ],
      "text/plain": [
       "                model  median_f1   mean_f1    std_f1  pct_above_0.5   AUC\n",
       "0  LogisticRegression   0.811589  0.784882  0.119884            1.0  0.94"
      ]
     },
     "execution_count": 6,
     "metadata": {},
     "output_type": "execute_result"
    }
   ],
   "source": [
    "results_binary_active, results_binary_active_df = ev.evaluate_models(get_models(), df_binary_active, label_encoder)\n",
    "binary_active_table = ev.display_pct_table(results_binary_active_df)\n",
    "binary_active_table[\"AUC\"] = [round(result.auc, 2) for result in results_binary_active]\n",
    "\n",
    "binary_active_table"
   ]
  },
  {
   "cell_type": "code",
   "execution_count": 7,
   "metadata": {},
   "outputs": [
    {
     "name": "stderr",
     "output_type": "stream",
     "text": [
      "2024-11-25 03:23:45,426 - root - INFO - Saved production model to ../models/binary_active_logreg.joblib\n"
     ]
    },
    {
     "data": {
      "text/plain": [
       "ProductionModel(model=LogisticRegression(class_weight='balanced', max_iter=1000, random_state=42), label_encoder=LabelEncoder(), feature_names=['count_clothing_accessory', 'count_phone_tablet', 'count_other', 'count_office_stationary', 'count_footwear', 'count_furniture', 'active_other', 'active_furniture', 'active_office_stationary', 'active_footwear', 'active_phone_tablet', 'active_clothing_accessory', 'count_furnishing', 'active_furnishing', 'count_drinkware', 'active_drinkware', 'count_home_appliance_tool', 'active_home_appliance_tool', 'count_food', 'active_food', 'count_animal', 'active_animal', 'count_clothing', 'active_clothing', 'count_cleaning_product', 'active_cleaning_product', 'count_bag', 'active_bag', 'count_toiletries', 'active_toiletries', 'count_electronics', 'active_electronics', 'count_kitchen_utensils', 'active_kitchen_utensils', 'count_wheelchair_walker', 'active_wheelchair_walker', 'count_sports_equipment', 'active_sports_equipment', 'count_musical_instrument', 'active_musical_instrument', 'count_sink', 'active_sink', 'count_cabinetry', 'count_kitchen_appliance', 'count_tv_computer', 'active_kitchen_appliance', 'active_cabinetry', 'active_tv_computer', 'count_house_fixtures', 'active_house_fixtures', 'count_tableware', 'active_tableware', 'count_bathroom_fixture', 'active_bathroom_fixture', 'count_plant', 'active_plant', 'count_hat', 'active_hat'], validation_performance={'mean_f1': 0.784882, 'std_f1': 0.119884, 'median_f1': 0.811589, 'auc': 0.94, 'pct_above_0.5_f1': 1.0, 'validation_method': 'leave-one-subject-out CV'}, preprocessing_params={'feature_type': 'binary_and_active', 'scaling': 'row_wise_min_max'})"
      ]
     },
     "execution_count": 7,
     "metadata": {},
     "output_type": "execute_result"
    }
   ],
   "source": [
    "from egoviz.models import inference\n",
    "\n",
    "inference.train_final_model(df_binary_active_pl, '../models/binary_active_logreg.joblib')"
   ]
  },
  {
   "cell_type": "code",
   "execution_count": null,
   "metadata": {},
   "outputs": [],
   "source": []
  }
 ],
 "metadata": {
  "kernelspec": {
   "display_name": "egovizml-yCttfs_w-py3.12",
   "language": "python",
   "name": "python3"
  },
  "language_info": {
   "codemirror_mode": {
    "name": "ipython",
    "version": 3
   },
   "file_extension": ".py",
   "mimetype": "text/x-python",
   "name": "python",
   "nbconvert_exporter": "python",
   "pygments_lexer": "ipython3",
   "version": "3.12.3"
  }
 },
 "nbformat": 4,
 "nbformat_minor": 2
}
