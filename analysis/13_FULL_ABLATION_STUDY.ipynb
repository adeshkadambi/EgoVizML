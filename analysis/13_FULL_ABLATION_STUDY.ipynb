{
 "cells": [
  {
   "cell_type": "markdown",
   "metadata": {},
   "source": [
    "# Ablation Study\n",
    "\n",
    "This notebook is an ablation study of the model. We will train the model with different configurations and compare the results. The configurations are:\n",
    "- [Counts](#counts)\n",
    "- [Binary](#binary)\n",
    "- [Active](#active)\n",
    "- [Counts + Binary](#counts-binary)\n",
    "- [Counts + Active](#counts-active)\n",
    "- [Binary + Active](#binary-active)\n",
    "- [Counts + Binary + Active](#counts-binary-active)"
   ]
  },
  {
   "cell_type": "code",
   "execution_count": 2,
   "metadata": {},
   "outputs": [],
   "source": [
    "import os\n",
    "\n",
    "import numpy as np\n",
    "import pandas as pd\n",
    "import polars as pl\n",
    "\n",
    "from sklearn.ensemble import GradientBoostingClassifier, RandomForestClassifier\n",
    "from sklearn.linear_model import LogisticRegression\n",
    "from sklearn.neural_network import MLPClassifier\n",
    "from sklearn.preprocessing import LabelEncoder\n",
    "from xgboost import XGBClassifier\n",
    "\n",
    "import egoviz.models.evaluation as ev\n",
    "import egoviz.models.processing as pr\n",
    "import egoviz.visualize as viz\n",
    "\n",
    "SEED = 42\n",
    "\n",
    "pd.set_option(\"display.max_rows\", 300)\n",
    "cwd = os.getcwd()"
   ]
  },
  {
   "cell_type": "code",
   "execution_count": 14,
   "metadata": {},
   "outputs": [],
   "source": [
    "# load data\n",
    "\n",
    "raw_binary = pr.load_pickle(os.path.join(cwd, '../data/home_data_all_preds_df.pkl'))\n",
    "raw_counts = pr.load_pickle(os.path.join(cwd, '../data/home_data_all_preds.pkl'))\n",
    "\n",
    "# process data\n",
    "df_counts_active = pr.generate_counts_df(pr.generate_df_from_preds(raw_counts))\n",
    "df_counts = df_counts_active.drop(columns=[col for col in df_counts_active.columns if 'active' in col])\n",
    "\n",
    "\n",
    "df_binary_active = pr.generate_binary_presence_df(raw_binary)\n",
    "df_binary = df_binary_active.drop(columns=[col for col in df_binary_active.columns if 'active' in col])\n"
   ]
  },
  {
   "cell_type": "code",
   "execution_count": 38,
   "metadata": {},
   "outputs": [],
   "source": [
    "df_counts_pl = pl.from_pandas(df_counts)\n",
    "df_binary_pl = pl.from_pandas(df_binary)\n",
    "\n",
    "df_counts_binary = df_counts_pl.join(df_binary_pl, on='video', how='inner', suffix='_binary').drop(['video_binary', 'adl_binary']).to_pandas()\n",
    "\n",
    "df_counts_active_pl = pl.from_pandas(df_counts_active)\n",
    "df_binary_active_pl = pl.from_pandas(df_binary_active)\n",
    "\n",
    "df_counts_active_binary = df_counts_active_pl.join(df_binary_active_pl, on='video', how='inner', suffix='_binary').drop(['video_binary', 'adl_binary']).to_pandas()\n",
    "\n",
    "df_active_from_binary = pl.from_pandas(df_binary_active.drop(columns=[col for col in df_binary_active.columns if 'count_' in col]))\n",
    "df_active_from_counts = pl.from_pandas(df_counts_active.drop(columns=[col for col in df_binary_active.columns if 'count_' in col]))\n",
    "\n",
    "df_active = df_active_from_binary.join(df_active_from_counts, on='video', how='inner', suffix='_counts').drop(['video_counts', 'adl_counts']).to_pandas()"
   ]
  },
  {
   "cell_type": "code",
   "execution_count": null,
   "metadata": {},
   "outputs": [],
   "source": [
    "# scale data\n",
    "\n",
    "df_counts = pr.row_wise_min_max_scaling(df_counts)\n",
    "df_counts_active = pr.row_wise_min_max_scaling(df_counts_active)\n",
    "df_binary = pr.row_wise_min_max_scaling(df_binary)\n",
    "df_binary_active = pr.row_wise_min_max_scaling(df_binary_active)\n",
    "df_counts_binary = pr.row_wise_min_max_scaling(df_counts_binary)\n",
    "df_counts_active_binary = pr.row_wise_min_max_scaling(df_counts_active_binary)\n",
    "df_active = pr.row_wise_min_max_scaling(df_active)"
   ]
  },
  {
   "cell_type": "code",
   "execution_count": null,
   "metadata": {},
   "outputs": [],
   "source": [
    "def get_models():\n",
    "    return [\n",
    "        ('Logistic Regression', LogisticRegression(max_iter=1000, random_state=SEED, class_weight='balanced')),\n",
    "        ('Random Forest', RandomForestClassifier(random_state=SEED, class_weight='balanced')),\n",
    "        ('Gradient Boosting', GradientBoostingClassifier(random_state=SEED)),\n",
    "        ('XGBoost', XGBClassifier(random_state=SEED)),\n",
    "        ('MLP', MLPClassifier(random_state=SEED, learning_rate='adaptive', max_iter=1000, early_stopping=True))\n",
    "    ]"
   ]
  },
  {
   "cell_type": "code",
   "execution_count": null,
   "metadata": {},
   "outputs": [],
   "source": [
    "label_encoder = LabelEncoder()"
   ]
  },
  {
   "cell_type": "markdown",
   "metadata": {},
   "source": [
    "<a id=\"counts\"></a>\n",
    "## Counts"
   ]
  },
  {
   "cell_type": "code",
   "execution_count": null,
   "metadata": {},
   "outputs": [],
   "source": [
    "results_counts, results_counts_df = ev.evaluate_models(get_models(), df_counts, label_encoder)"
   ]
  },
  {
   "cell_type": "code",
   "execution_count": null,
   "metadata": {},
   "outputs": [],
   "source": [
    "ev.display_pct_table(results_counts_df)"
   ]
  },
  {
   "cell_type": "markdown",
   "metadata": {},
   "source": [
    "<a id=\"binary\"></a>\n",
    "## Binary"
   ]
  },
  {
   "cell_type": "code",
   "execution_count": null,
   "metadata": {},
   "outputs": [],
   "source": [
    "results_binary, results_binary_df = ev.evaluate_models(get_models(), df_binary, label_encoder)"
   ]
  },
  {
   "cell_type": "markdown",
   "metadata": {},
   "source": [
    "<a id=\"active\"></a>\n",
    "## Active"
   ]
  },
  {
   "cell_type": "markdown",
   "metadata": {},
   "source": [
    "<a id=\"counts-binary\"></a>\n",
    "## Counts + Binary"
   ]
  },
  {
   "cell_type": "markdown",
   "metadata": {},
   "source": [
    "<a id=\"counts-active\"></a>\n",
    "## Counts + Active"
   ]
  },
  {
   "cell_type": "markdown",
   "metadata": {},
   "source": [
    "<a id=\"binary-active\"></a>\n",
    "## Binary + Active"
   ]
  },
  {
   "cell_type": "markdown",
   "metadata": {},
   "source": [
    "<a id=\"counts-binary-active\"></a>\n",
    "## Counts + Binary + Active"
   ]
  },
  {
   "cell_type": "code",
   "execution_count": null,
   "metadata": {},
   "outputs": [],
   "source": []
  }
 ],
 "metadata": {
  "kernelspec": {
   "display_name": "egovizml-XPfoP_XE-py3.11",
   "language": "python",
   "name": "python3"
  },
  "language_info": {
   "codemirror_mode": {
    "name": "ipython",
    "version": 3
   },
   "file_extension": ".py",
   "mimetype": "text/x-python",
   "name": "python",
   "nbconvert_exporter": "python",
   "pygments_lexer": "ipython3",
   "version": "3.11.5"
  }
 },
 "nbformat": 4,
 "nbformat_minor": 2
}
