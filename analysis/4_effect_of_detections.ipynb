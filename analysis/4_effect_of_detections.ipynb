{
 "cells": [
  {
   "cell_type": "markdown",
   "metadata": {},
   "source": [
    "## Investigate effect of object detections on ADL detection\n",
    "\n",
    "Check if detections have an impact on the performance of ADL detection by comparing the performance of models trained on detected active objects versus labelled active objects."
   ]
  },
  {
   "cell_type": "code",
   "execution_count": 1,
   "metadata": {},
   "outputs": [],
   "source": [
    "import os\n",
    "from collections import Counter\n",
    "\n",
    "import pandas as pd\n",
    "from sklearn.ensemble import GradientBoostingClassifier, RandomForestClassifier\n",
    "from sklearn.linear_model import LogisticRegression\n",
    "from sklearn.neural_network import MLPClassifier\n",
    "from sklearn.preprocessing import LabelEncoder\n",
    "from sklearn.svm import SVC\n",
    "from xgboost import XGBClassifier\n",
    "\n",
    "import egoviz.models.evaluation as ev\n",
    "import egoviz.models.processing as pr\n",
    "\n",
    "SEED = 42\n",
    "\n",
    "pd.set_option(\"display.max_rows\", 300)"
   ]
  },
  {
   "cell_type": "code",
   "execution_count": 2,
   "metadata": {},
   "outputs": [],
   "source": [
    "cwd = os.getcwd()\n",
    "file_path = os.path.join(cwd, '../data/home_data_eval_all_preds.pkl')\n",
    "data = pr.load_pickle(file_path)"
   ]
  },
  {
   "cell_type": "code",
   "execution_count": 3,
   "metadata": {},
   "outputs": [
    {
     "data": {
      "text/html": [
       "<div>\n",
       "<style scoped>\n",
       "    .dataframe tbody tr th:only-of-type {\n",
       "        vertical-align: middle;\n",
       "    }\n",
       "\n",
       "    .dataframe tbody tr th {\n",
       "        vertical-align: top;\n",
       "    }\n",
       "\n",
       "    .dataframe thead th {\n",
       "        text-align: right;\n",
       "    }\n",
       "</style>\n",
       "<table border=\"1\" class=\"dataframe\">\n",
       "  <thead>\n",
       "    <tr style=\"text-align: right;\">\n",
       "      <th></th>\n",
       "      <th>video</th>\n",
       "      <th>frame</th>\n",
       "      <th>classes</th>\n",
       "      <th>active</th>\n",
       "      <th>adl</th>\n",
       "    </tr>\n",
       "  </thead>\n",
       "  <tbody>\n",
       "    <tr>\n",
       "      <th>0</th>\n",
       "      <td>SCI06-7--11</td>\n",
       "      <td>frame49</td>\n",
       "      <td>[phone_tablet, electronics, furniture, furnitu...</td>\n",
       "      <td>[True, False, False, False, False, False, Fals...</td>\n",
       "      <td>communication-mgmt</td>\n",
       "    </tr>\n",
       "    <tr>\n",
       "      <th>1</th>\n",
       "      <td>SCI06-7--11</td>\n",
       "      <td>frame98</td>\n",
       "      <td>[phone_tablet, furniture, furniture, cabinetry...</td>\n",
       "      <td>[True, False, False, False, False, False, Fals...</td>\n",
       "      <td>communication-mgmt</td>\n",
       "    </tr>\n",
       "    <tr>\n",
       "      <th>2</th>\n",
       "      <td>SCI06-7--11</td>\n",
       "      <td>frame196</td>\n",
       "      <td>[phone_tablet, cabinetry, furniture, furniture...</td>\n",
       "      <td>[True, False, False, False, False, False, Fals...</td>\n",
       "      <td>communication-mgmt</td>\n",
       "    </tr>\n",
       "    <tr>\n",
       "      <th>3</th>\n",
       "      <td>SCI06-7--11</td>\n",
       "      <td>frame147</td>\n",
       "      <td>[phone_tablet, furniture, cabinetry, cabinetry...</td>\n",
       "      <td>[True, False, False, False, False, False, Fals...</td>\n",
       "      <td>communication-mgmt</td>\n",
       "    </tr>\n",
       "    <tr>\n",
       "      <th>4</th>\n",
       "      <td>SCI06-7--11</td>\n",
       "      <td>frame294</td>\n",
       "      <td>[phone_tablet, furniture, kitchen_appliance, f...</td>\n",
       "      <td>[True, False, False, False, False, False, Fals...</td>\n",
       "      <td>communication-mgmt</td>\n",
       "    </tr>\n",
       "  </tbody>\n",
       "</table>\n",
       "</div>"
      ],
      "text/plain": [
       "         video     frame                                            classes  \\\n",
       "0  SCI06-7--11   frame49  [phone_tablet, electronics, furniture, furnitu...   \n",
       "1  SCI06-7--11   frame98  [phone_tablet, furniture, furniture, cabinetry...   \n",
       "2  SCI06-7--11  frame196  [phone_tablet, cabinetry, furniture, furniture...   \n",
       "3  SCI06-7--11  frame147  [phone_tablet, furniture, cabinetry, cabinetry...   \n",
       "4  SCI06-7--11  frame294  [phone_tablet, furniture, kitchen_appliance, f...   \n",
       "\n",
       "                                              active                 adl  \n",
       "0  [True, False, False, False, False, False, Fals...  communication-mgmt  \n",
       "1  [True, False, False, False, False, False, Fals...  communication-mgmt  \n",
       "2  [True, False, False, False, False, False, Fals...  communication-mgmt  \n",
       "3  [True, False, False, False, False, False, Fals...  communication-mgmt  \n",
       "4  [True, False, False, False, False, False, Fals...  communication-mgmt  "
      ]
     },
     "execution_count": 3,
     "metadata": {},
     "output_type": "execute_result"
    }
   ],
   "source": [
    "df_dets = pd.DataFrame(columns=['video', 'frame', 'classes', 'active', 'adl'])\n",
    "\n",
    "for id, dets in data.items():\n",
    "    adl = id.split('_', 1)[0]\n",
    "    video = id.split('_')[1]\n",
    "    frame = id.split('_')[2]\n",
    "    classes = dets['detic_data']['labels']\n",
    "    active = dets['detic_data']['active']\n",
    "\n",
    "    row = {'video': video, 'frame': frame, 'classes': classes, 'adl': adl, 'active': active}\n",
    "\n",
    "    df_dets.loc[len(df_dets)] = row\n",
    "\n",
    "df_dets.head()"
   ]
  },
  {
   "cell_type": "code",
   "execution_count": 4,
   "metadata": {},
   "outputs": [
    {
     "data": {
      "text/html": [
       "<div>\n",
       "<style scoped>\n",
       "    .dataframe tbody tr th:only-of-type {\n",
       "        vertical-align: middle;\n",
       "    }\n",
       "\n",
       "    .dataframe tbody tr th {\n",
       "        vertical-align: top;\n",
       "    }\n",
       "\n",
       "    .dataframe thead th {\n",
       "        text-align: right;\n",
       "    }\n",
       "</style>\n",
       "<table border=\"1\" class=\"dataframe\">\n",
       "  <thead>\n",
       "    <tr style=\"text-align: right;\">\n",
       "      <th></th>\n",
       "      <th>video</th>\n",
       "      <th>frame</th>\n",
       "      <th>classes</th>\n",
       "      <th>active</th>\n",
       "      <th>adl</th>\n",
       "    </tr>\n",
       "  </thead>\n",
       "  <tbody>\n",
       "    <tr>\n",
       "      <th>0</th>\n",
       "      <td>SCI06-7--11</td>\n",
       "      <td>frame49</td>\n",
       "      <td>[phone_tablet, furniture, furniture, electronics]</td>\n",
       "      <td>[True, False, False, False]</td>\n",
       "      <td>communication-mgmt</td>\n",
       "    </tr>\n",
       "    <tr>\n",
       "      <th>1</th>\n",
       "      <td>SCI06-7--11</td>\n",
       "      <td>frame98</td>\n",
       "      <td>[phone_tablet, furniture, furniture, electroni...</td>\n",
       "      <td>[True, False, False, False, False]</td>\n",
       "      <td>communication-mgmt</td>\n",
       "    </tr>\n",
       "    <tr>\n",
       "      <th>2</th>\n",
       "      <td>SCI06-7--11</td>\n",
       "      <td>frame196</td>\n",
       "      <td>[food, phone_tablet, furniture, furniture]</td>\n",
       "      <td>[False, True, False, False]</td>\n",
       "      <td>communication-mgmt</td>\n",
       "    </tr>\n",
       "    <tr>\n",
       "      <th>3</th>\n",
       "      <td>SCI06-7--11</td>\n",
       "      <td>frame147</td>\n",
       "      <td>[phone_tablet, furniture, furniture, food]</td>\n",
       "      <td>[True, False, False, False]</td>\n",
       "      <td>communication-mgmt</td>\n",
       "    </tr>\n",
       "    <tr>\n",
       "      <th>4</th>\n",
       "      <td>SCI06-7--11</td>\n",
       "      <td>frame294</td>\n",
       "      <td>[food, phone_tablet, furniture, furniture]</td>\n",
       "      <td>[False, True, False, False]</td>\n",
       "      <td>communication-mgmt</td>\n",
       "    </tr>\n",
       "  </tbody>\n",
       "</table>\n",
       "</div>"
      ],
      "text/plain": [
       "         video     frame                                            classes  \\\n",
       "0  SCI06-7--11   frame49  [phone_tablet, furniture, furniture, electronics]   \n",
       "1  SCI06-7--11   frame98  [phone_tablet, furniture, furniture, electroni...   \n",
       "2  SCI06-7--11  frame196         [food, phone_tablet, furniture, furniture]   \n",
       "3  SCI06-7--11  frame147         [phone_tablet, furniture, furniture, food]   \n",
       "4  SCI06-7--11  frame294         [food, phone_tablet, furniture, furniture]   \n",
       "\n",
       "                               active                 adl  \n",
       "0         [True, False, False, False]  communication-mgmt  \n",
       "1  [True, False, False, False, False]  communication-mgmt  \n",
       "2         [False, True, False, False]  communication-mgmt  \n",
       "3         [True, False, False, False]  communication-mgmt  \n",
       "4         [False, True, False, False]  communication-mgmt  "
      ]
     },
     "execution_count": 4,
     "metadata": {},
     "output_type": "execute_result"
    }
   ],
   "source": [
    "df_truth = pd.DataFrame(columns=['video', 'frame', 'classes', 'active', 'adl'])\n",
    "\n",
    "for id, dets in data.items():\n",
    "    adl = id.split('_', 1)[0]\n",
    "    video = id.split('_')[1]\n",
    "    frame = id.split('_')[2]\n",
    "    classes = dets['ground_truth']['labels']\n",
    "    active = dets['ground_truth']['active']\n",
    "\n",
    "    row = {'video': video, 'frame': frame, 'classes': classes, 'adl': adl, 'active': active}\n",
    "\n",
    "    df_truth.loc[len(df_truth)] = row\n",
    "\n",
    "df_truth.head()"
   ]
  },
  {
   "cell_type": "code",
   "execution_count": 5,
   "metadata": {},
   "outputs": [],
   "source": [
    "def count_occurrences(classes, active):\n",
    "    class_counts = Counter(classes)\n",
    "    active_counts = Counter({cls: sum([act and (cls == c) for act, c in zip(active, classes)]) for cls in set(classes)})\n",
    "    return class_counts, active_counts\n",
    "\n",
    "# Apply the function to create new columns\n",
    "df_dets['class_counts'], df_dets['active_counts'] = zip(*df_dets.apply(lambda row: count_occurrences(row['classes'], row['active']), axis=1))\n",
    "df_truth['class_counts'], df_truth['active_counts'] = zip(*df_truth.apply(lambda row: count_occurrences(row['classes'], row['active']), axis=1))"
   ]
  },
  {
   "cell_type": "code",
   "execution_count": 6,
   "metadata": {},
   "outputs": [],
   "source": [
    "def process_df(df):\n",
    "    # Create a new DataFrame from class_counts and active_counts\n",
    "    counts_df = pd.DataFrame(df.apply(lambda row: {'adl': row['adl'], 'video': row['video'], **{f'count_{key}': value for key, value in row['class_counts'].items()}, **{f'active_{key}': value for key, value in row['active_counts'].items()}}, axis=1).tolist())\n",
    "    # Group by video and sum the values for each video\n",
    "    grouped_counts_df = counts_df.groupby('video').agg({**{'adl': 'first'}, **{col: 'sum' for col in counts_df.columns if col not in ['adl', 'video']}})\n",
    "\n",
    "    return grouped_counts_df.reset_index()"
   ]
  },
  {
   "cell_type": "code",
   "execution_count": 7,
   "metadata": {},
   "outputs": [],
   "source": [
    "df_truth_processed = process_df(df_truth)\n",
    "df_dets_processed = process_df(df_dets)\n",
    "\n",
    "dftruth_scaled = pr.row_wise_min_max_scaling(df_truth_processed)\n",
    "dfdets_scaled = pr.row_wise_min_max_scaling(df_dets_processed)"
   ]
  },
  {
   "cell_type": "code",
   "execution_count": 18,
   "metadata": {},
   "outputs": [
    {
     "data": {
      "text/plain": [
       "(114, 56)"
      ]
     },
     "execution_count": 18,
     "metadata": {},
     "output_type": "execute_result"
    }
   ],
   "source": [
    "dftruth_scaled.shape"
   ]
  },
  {
   "cell_type": "markdown",
   "metadata": {},
   "source": [
    "### Modeling"
   ]
  },
  {
   "cell_type": "code",
   "execution_count": 9,
   "metadata": {},
   "outputs": [],
   "source": [
    "label_encoder = LabelEncoder()"
   ]
  },
  {
   "cell_type": "code",
   "execution_count": 10,
   "metadata": {},
   "outputs": [
    {
     "name": "stderr",
     "output_type": "stream",
     "text": [
      "2023-12-03 22:31:35,109 - root - INFO - LOGOCV complete for LogisticRegression\n",
      "2023-12-03 22:31:36,165 - root - INFO - LOGOCV complete for RandomForestClassifier\n",
      "2023-12-03 22:31:42,578 - root - INFO - LOGOCV complete for GradientBoostingClassifier\n",
      "2023-12-03 22:31:45,078 - root - INFO - LOGOCV complete for XGBClassifier\n",
      "2023-12-03 22:31:45,203 - root - INFO - LOGOCV complete for SVC\n",
      "2023-12-03 22:31:45,392 - root - INFO - LOGOCV complete for MLPClassifier\n"
     ]
    }
   ],
   "source": [
    "models = [\n",
    "    ('Logistic Regression', LogisticRegression(max_iter=1000, random_state=SEED, class_weight='balanced')),\n",
    "    ('Random Forest', RandomForestClassifier(random_state=SEED, class_weight='balanced')),\n",
    "    ('Gradient Boosting', GradientBoostingClassifier(random_state=SEED)),\n",
    "    ('XGBoost', XGBClassifier(random_state=SEED)),\n",
    "    ('SVM', SVC(random_state=SEED, class_weight='balanced')),\n",
    "    ('MLP', MLPClassifier(random_state=SEED, learning_rate='adaptive', max_iter=1000, early_stopping=True))\n",
    "]\n",
    "\n",
    "results_truth = ev.evaluate_models(models, dftruth_scaled, label_encoder)"
   ]
  },
  {
   "cell_type": "code",
   "execution_count": 11,
   "metadata": {},
   "outputs": [
    {
     "name": "stderr",
     "output_type": "stream",
     "text": [
      "2023-12-03 22:31:45,525 - root - INFO - LOGOCV complete for LogisticRegression\n",
      "2023-12-03 22:31:46,664 - root - INFO - LOGOCV complete for RandomForestClassifier\n",
      "2023-12-03 22:31:58,028 - root - INFO - LOGOCV complete for GradientBoostingClassifier\n",
      "2023-12-03 22:32:00,399 - root - INFO - LOGOCV complete for XGBClassifier\n",
      "2023-12-03 22:32:00,527 - root - INFO - LOGOCV complete for SVC\n",
      "2023-12-03 22:32:00,714 - root - INFO - LOGOCV complete for MLPClassifier\n"
     ]
    }
   ],
   "source": [
    "models = [\n",
    "    ('Logistic Regression', LogisticRegression(max_iter=1000, random_state=SEED, class_weight='balanced')),\n",
    "    ('Random Forest', RandomForestClassifier(random_state=SEED, class_weight='balanced')),\n",
    "    ('Gradient Boosting', GradientBoostingClassifier(random_state=SEED)),\n",
    "    ('XGBoost', XGBClassifier(random_state=SEED)),\n",
    "    ('SVM', SVC(random_state=SEED, class_weight='balanced')),\n",
    "    ('MLP', MLPClassifier(random_state=SEED, learning_rate='adaptive', max_iter=1000, early_stopping=True))\n",
    "]\n",
    "\n",
    "results_dets = ev.evaluate_models(models, dfdets_scaled, label_encoder)"
   ]
  },
  {
   "cell_type": "code",
   "execution_count": 14,
   "metadata": {},
   "outputs": [
    {
     "data": {
      "text/html": [
       "<div>\n",
       "<style scoped>\n",
       "    .dataframe tbody tr th:only-of-type {\n",
       "        vertical-align: middle;\n",
       "    }\n",
       "\n",
       "    .dataframe tbody tr th {\n",
       "        vertical-align: top;\n",
       "    }\n",
       "\n",
       "    .dataframe thead th {\n",
       "        text-align: right;\n",
       "    }\n",
       "</style>\n",
       "<table border=\"1\" class=\"dataframe\">\n",
       "  <thead>\n",
       "    <tr style=\"text-align: right;\">\n",
       "      <th></th>\n",
       "      <th>model</th>\n",
       "      <th>median_precision</th>\n",
       "      <th>median_recall</th>\n",
       "      <th>median_f1</th>\n",
       "    </tr>\n",
       "  </thead>\n",
       "  <tbody>\n",
       "    <tr>\n",
       "      <th>0</th>\n",
       "      <td>GradientBoostingClassifier</td>\n",
       "      <td>0.516667</td>\n",
       "      <td>0.585714</td>\n",
       "      <td>0.456349</td>\n",
       "    </tr>\n",
       "    <tr>\n",
       "      <th>1</th>\n",
       "      <td>LogisticRegression</td>\n",
       "      <td>0.591667</td>\n",
       "      <td>0.500000</td>\n",
       "      <td>0.436111</td>\n",
       "    </tr>\n",
       "    <tr>\n",
       "      <th>2</th>\n",
       "      <td>MLPClassifier</td>\n",
       "      <td>0.694444</td>\n",
       "      <td>0.309524</td>\n",
       "      <td>0.166667</td>\n",
       "    </tr>\n",
       "    <tr>\n",
       "      <th>3</th>\n",
       "      <td>RandomForestClassifier</td>\n",
       "      <td>0.711111</td>\n",
       "      <td>0.683333</td>\n",
       "      <td>0.466667</td>\n",
       "    </tr>\n",
       "    <tr>\n",
       "      <th>4</th>\n",
       "      <td>SVC</td>\n",
       "      <td>0.600000</td>\n",
       "      <td>0.500000</td>\n",
       "      <td>0.500000</td>\n",
       "    </tr>\n",
       "    <tr>\n",
       "      <th>5</th>\n",
       "      <td>XGBClassifier</td>\n",
       "      <td>0.585714</td>\n",
       "      <td>0.479167</td>\n",
       "      <td>0.562500</td>\n",
       "    </tr>\n",
       "  </tbody>\n",
       "</table>\n",
       "</div>"
      ],
      "text/plain": [
       "                        model  median_precision  median_recall  median_f1\n",
       "0  GradientBoostingClassifier          0.516667       0.585714   0.456349\n",
       "1          LogisticRegression          0.591667       0.500000   0.436111\n",
       "2               MLPClassifier          0.694444       0.309524   0.166667\n",
       "3      RandomForestClassifier          0.711111       0.683333   0.466667\n",
       "4                         SVC          0.600000       0.500000   0.500000\n",
       "5               XGBClassifier          0.585714       0.479167   0.562500"
      ]
     },
     "execution_count": 14,
     "metadata": {},
     "output_type": "execute_result"
    }
   ],
   "source": [
    "results_dets[1][['median_precision', 'median_recall', 'median_f1', 'model']].groupby('model').first().reset_index()"
   ]
  },
  {
   "cell_type": "code",
   "execution_count": 15,
   "metadata": {},
   "outputs": [
    {
     "data": {
      "text/html": [
       "<div>\n",
       "<style scoped>\n",
       "    .dataframe tbody tr th:only-of-type {\n",
       "        vertical-align: middle;\n",
       "    }\n",
       "\n",
       "    .dataframe tbody tr th {\n",
       "        vertical-align: top;\n",
       "    }\n",
       "\n",
       "    .dataframe thead th {\n",
       "        text-align: right;\n",
       "    }\n",
       "</style>\n",
       "<table border=\"1\" class=\"dataframe\">\n",
       "  <thead>\n",
       "    <tr style=\"text-align: right;\">\n",
       "      <th></th>\n",
       "      <th>model</th>\n",
       "      <th>median_precision</th>\n",
       "      <th>median_recall</th>\n",
       "      <th>median_f1</th>\n",
       "    </tr>\n",
       "  </thead>\n",
       "  <tbody>\n",
       "    <tr>\n",
       "      <th>0</th>\n",
       "      <td>GradientBoostingClassifier</td>\n",
       "      <td>0.653571</td>\n",
       "      <td>0.585714</td>\n",
       "      <td>0.408466</td>\n",
       "    </tr>\n",
       "    <tr>\n",
       "      <th>1</th>\n",
       "      <td>LogisticRegression</td>\n",
       "      <td>0.725000</td>\n",
       "      <td>0.600000</td>\n",
       "      <td>0.472222</td>\n",
       "    </tr>\n",
       "    <tr>\n",
       "      <th>2</th>\n",
       "      <td>MLPClassifier</td>\n",
       "      <td>0.612500</td>\n",
       "      <td>0.400000</td>\n",
       "      <td>0.333333</td>\n",
       "    </tr>\n",
       "    <tr>\n",
       "      <th>3</th>\n",
       "      <td>RandomForestClassifier</td>\n",
       "      <td>0.700000</td>\n",
       "      <td>0.600000</td>\n",
       "      <td>0.458333</td>\n",
       "    </tr>\n",
       "    <tr>\n",
       "      <th>4</th>\n",
       "      <td>SVC</td>\n",
       "      <td>0.700000</td>\n",
       "      <td>0.600000</td>\n",
       "      <td>0.416667</td>\n",
       "    </tr>\n",
       "    <tr>\n",
       "      <th>5</th>\n",
       "      <td>XGBClassifier</td>\n",
       "      <td>0.697222</td>\n",
       "      <td>0.600000</td>\n",
       "      <td>0.500000</td>\n",
       "    </tr>\n",
       "  </tbody>\n",
       "</table>\n",
       "</div>"
      ],
      "text/plain": [
       "                        model  median_precision  median_recall  median_f1\n",
       "0  GradientBoostingClassifier          0.653571       0.585714   0.408466\n",
       "1          LogisticRegression          0.725000       0.600000   0.472222\n",
       "2               MLPClassifier          0.612500       0.400000   0.333333\n",
       "3      RandomForestClassifier          0.700000       0.600000   0.458333\n",
       "4                         SVC          0.700000       0.600000   0.416667\n",
       "5               XGBClassifier          0.697222       0.600000   0.500000"
      ]
     },
     "execution_count": 15,
     "metadata": {},
     "output_type": "execute_result"
    }
   ],
   "source": [
    "results_truth[1][['median_precision', 'median_recall', 'median_f1', 'model']].groupby('model').first().reset_index()"
   ]
  },
  {
   "cell_type": "markdown",
   "metadata": {},
   "source": [
    "### Conclusions\n",
    "\n",
    "The ADL classification model performs slightly better on the detection data vs. the ground truth data. This could be due to the fact that the detection data on average contains more objects than the ground truth data where only objects related to the activity are annotated, therefore, the ADL classification model is able to leverage the contextual information from the detection of additional objects to make better predictions."
   ]
  }
 ],
 "metadata": {
  "kernelspec": {
   "display_name": ".venv",
   "language": "python",
   "name": "python3"
  },
  "language_info": {
   "codemirror_mode": {
    "name": "ipython",
    "version": 3
   },
   "file_extension": ".py",
   "mimetype": "text/x-python",
   "name": "python",
   "nbconvert_exporter": "python",
   "pygments_lexer": "ipython3",
   "version": "3.11.5"
  }
 },
 "nbformat": 4,
 "nbformat_minor": 2
}
