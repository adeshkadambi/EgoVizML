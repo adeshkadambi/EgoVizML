{
 "cells": [
  {
   "cell_type": "markdown",
   "metadata": {},
   "source": [
    "# Computing AUC\n",
    "\n",
    "We previously completed all evaluations in Notebook 10. In this notebook, we will compute the AUC for each model, save the best models, and plot the ROC curves."
   ]
  },
  {
   "cell_type": "code",
   "execution_count": 1,
   "metadata": {},
   "outputs": [],
   "source": [
    "import os\n",
    "\n",
    "import pandas as pd\n",
    "from sklearn.ensemble import GradientBoostingClassifier, RandomForestClassifier\n",
    "from sklearn.linear_model import LogisticRegression\n",
    "from sklearn.neural_network import MLPClassifier\n",
    "from sklearn.preprocessing import LabelEncoder\n",
    "from xgboost import XGBClassifier\n",
    "\n",
    "import egoviz.models.evaluation as ev\n",
    "import egoviz.models.processing as pr\n",
    "import egoviz.visualize as viz\n",
    "\n",
    "SEED = 42\n",
    "\n",
    "pd.set_option(\"display.max_rows\", 300)\n",
    "\n",
    "cwd = os.getcwd()"
   ]
  },
  {
   "cell_type": "code",
   "execution_count": 2,
   "metadata": {},
   "outputs": [],
   "source": [
    "data = pr.load_pickle(os.path.join(cwd, '../data/home_data_all_preds_df.pkl'))\n",
    "df_active = pr.generate_binary_presence_df(data)\n",
    "df_binary_active_scaled = pr.row_wise_min_max_scaling(df_active)\n",
    "\n",
    "data = pr.load_pickle(os.path.join(cwd, '../data/home_data_all_preds.pkl'))\n",
    "df_counts = pr.generate_counts_df(pr.generate_df_from_preds(data))\n",
    "df_counts_active_scaled = pr.row_wise_min_max_scaling(df_counts)"
   ]
  },
  {
   "cell_type": "code",
   "execution_count": 3,
   "metadata": {},
   "outputs": [],
   "source": [
    "models_binary = [\n",
    "    ('Logistic Regression', LogisticRegression(max_iter=1000, random_state=SEED, class_weight='balanced')),\n",
    "    ('Random Forest', RandomForestClassifier(random_state=SEED, class_weight='balanced')),\n",
    "    ('Gradient Boosting', GradientBoostingClassifier(random_state=SEED)),\n",
    "    ('XGBoost', XGBClassifier(random_state=SEED)),\n",
    "    ('MLP', MLPClassifier(random_state=SEED, learning_rate='adaptive', max_iter=1000, early_stopping=True))\n",
    "]\n",
    "\n",
    "models_counts = [\n",
    "    ('Logistic Regression', LogisticRegression(max_iter=1000, random_state=SEED, class_weight='balanced')),\n",
    "    ('Random Forest', RandomForestClassifier(random_state=SEED, class_weight='balanced')),\n",
    "    ('Gradient Boosting', GradientBoostingClassifier(random_state=SEED)),\n",
    "    ('XGBoost', XGBClassifier(random_state=SEED)),\n",
    "    ('MLP', MLPClassifier(random_state=SEED, learning_rate='adaptive', max_iter=1000, early_stopping=True))\n",
    "]"
   ]
  },
  {
   "cell_type": "code",
   "execution_count": 4,
   "metadata": {},
   "outputs": [
    {
     "name": "stderr",
     "output_type": "stream",
     "text": [
      "2024-01-25 14:12:09,627 - root - INFO - LOGOCV complete for LogisticRegression\n",
      "2024-01-25 14:12:15,999 - root - INFO - LOGOCV complete for RandomForestClassifier\n",
      "2024-01-25 14:13:26,894 - root - INFO - LOGOCV complete for GradientBoostingClassifier\n",
      "2024-01-25 14:13:32,465 - root - INFO - LOGOCV complete for XGBClassifier\n",
      "2024-01-25 14:13:36,612 - root - INFO - LOGOCV complete for MLPClassifier\n",
      "2024-01-25 14:13:37,353 - root - INFO - LOGOCV complete for LogisticRegression\n",
      "2024-01-25 14:13:50,382 - root - INFO - LOGOCV complete for RandomForestClassifier\n",
      "2024-01-25 14:17:11,715 - root - INFO - LOGOCV complete for GradientBoostingClassifier\n",
      "2024-01-25 14:17:19,919 - root - INFO - LOGOCV complete for XGBClassifier\n",
      "2024-01-25 14:17:25,703 - root - INFO - LOGOCV complete for MLPClassifier\n"
     ]
    }
   ],
   "source": [
    "binary_results, binary_results_df = ev.evaluate_models(models_binary, df_binary_active_scaled, LabelEncoder())\n",
    "counts_results, counts_results_df = ev.evaluate_models(models_counts, df_counts_active_scaled, LabelEncoder())"
   ]
  },
  {
   "cell_type": "code",
   "execution_count": 12,
   "metadata": {},
   "outputs": [
    {
     "data": {
      "text/html": [
       "<div>\n",
       "<style scoped>\n",
       "    .dataframe tbody tr th:only-of-type {\n",
       "        vertical-align: middle;\n",
       "    }\n",
       "\n",
       "    .dataframe tbody tr th {\n",
       "        vertical-align: top;\n",
       "    }\n",
       "\n",
       "    .dataframe thead th {\n",
       "        text-align: right;\n",
       "    }\n",
       "</style>\n",
       "<table border=\"1\" class=\"dataframe\">\n",
       "  <thead>\n",
       "    <tr style=\"text-align: right;\">\n",
       "      <th></th>\n",
       "      <th>model</th>\n",
       "      <th>median_f1</th>\n",
       "      <th>pct_above_0.5</th>\n",
       "    </tr>\n",
       "  </thead>\n",
       "  <tbody>\n",
       "    <tr>\n",
       "      <th>0</th>\n",
       "      <td>GradientBoostingClassifier</td>\n",
       "      <td>0.767482</td>\n",
       "      <td>0.88</td>\n",
       "    </tr>\n",
       "    <tr>\n",
       "      <th>1</th>\n",
       "      <td>LogisticRegression</td>\n",
       "      <td>0.811589</td>\n",
       "      <td>1.00</td>\n",
       "    </tr>\n",
       "    <tr>\n",
       "      <th>2</th>\n",
       "      <td>MLPClassifier</td>\n",
       "      <td>0.802238</td>\n",
       "      <td>0.81</td>\n",
       "    </tr>\n",
       "    <tr>\n",
       "      <th>3</th>\n",
       "      <td>RandomForestClassifier</td>\n",
       "      <td>0.797958</td>\n",
       "      <td>0.81</td>\n",
       "    </tr>\n",
       "    <tr>\n",
       "      <th>4</th>\n",
       "      <td>XGBClassifier</td>\n",
       "      <td>0.799526</td>\n",
       "      <td>0.88</td>\n",
       "    </tr>\n",
       "  </tbody>\n",
       "</table>\n",
       "</div>"
      ],
      "text/plain": [
       "                        model  median_f1  pct_above_0.5\n",
       "0  GradientBoostingClassifier   0.767482           0.88\n",
       "1          LogisticRegression   0.811589           1.00\n",
       "2               MLPClassifier   0.802238           0.81\n",
       "3      RandomForestClassifier   0.797958           0.81\n",
       "4               XGBClassifier   0.799526           0.88"
      ]
     },
     "execution_count": 12,
     "metadata": {},
     "output_type": "execute_result"
    }
   ],
   "source": [
    "ev.display_pct_table(binary_results_df, threshold=0.5)"
   ]
  },
  {
   "cell_type": "code",
   "execution_count": 13,
   "metadata": {},
   "outputs": [
    {
     "data": {
      "text/html": [
       "<div>\n",
       "<style scoped>\n",
       "    .dataframe tbody tr th:only-of-type {\n",
       "        vertical-align: middle;\n",
       "    }\n",
       "\n",
       "    .dataframe tbody tr th {\n",
       "        vertical-align: top;\n",
       "    }\n",
       "\n",
       "    .dataframe thead th {\n",
       "        text-align: right;\n",
       "    }\n",
       "</style>\n",
       "<table border=\"1\" class=\"dataframe\">\n",
       "  <thead>\n",
       "    <tr style=\"text-align: right;\">\n",
       "      <th></th>\n",
       "      <th>model</th>\n",
       "      <th>median_f1</th>\n",
       "      <th>pct_above_0.5</th>\n",
       "    </tr>\n",
       "  </thead>\n",
       "  <tbody>\n",
       "    <tr>\n",
       "      <th>0</th>\n",
       "      <td>GradientBoostingClassifier</td>\n",
       "      <td>0.760268</td>\n",
       "      <td>0.88</td>\n",
       "    </tr>\n",
       "    <tr>\n",
       "      <th>1</th>\n",
       "      <td>LogisticRegression</td>\n",
       "      <td>0.765218</td>\n",
       "      <td>0.94</td>\n",
       "    </tr>\n",
       "    <tr>\n",
       "      <th>2</th>\n",
       "      <td>MLPClassifier</td>\n",
       "      <td>0.745355</td>\n",
       "      <td>0.88</td>\n",
       "    </tr>\n",
       "    <tr>\n",
       "      <th>3</th>\n",
       "      <td>RandomForestClassifier</td>\n",
       "      <td>0.772283</td>\n",
       "      <td>0.81</td>\n",
       "    </tr>\n",
       "    <tr>\n",
       "      <th>4</th>\n",
       "      <td>XGBClassifier</td>\n",
       "      <td>0.738499</td>\n",
       "      <td>0.88</td>\n",
       "    </tr>\n",
       "  </tbody>\n",
       "</table>\n",
       "</div>"
      ],
      "text/plain": [
       "                        model  median_f1  pct_above_0.5\n",
       "0  GradientBoostingClassifier   0.760268           0.88\n",
       "1          LogisticRegression   0.765218           0.94\n",
       "2               MLPClassifier   0.745355           0.88\n",
       "3      RandomForestClassifier   0.772283           0.81\n",
       "4               XGBClassifier   0.738499           0.88"
      ]
     },
     "execution_count": 13,
     "metadata": {},
     "output_type": "execute_result"
    }
   ],
   "source": [
    "ev.display_pct_table(counts_results_df, threshold=0.5)"
   ]
  },
  {
   "cell_type": "code",
   "execution_count": 7,
   "metadata": {},
   "outputs": [
    {
     "data": {
      "text/plain": [
       "[('Logistic Regression', 0.9447056365829677),\n",
       " ('Random Forest', 0.9290431890816366),\n",
       " ('Gradient Boosting', 0.9250543389842623),\n",
       " ('XGBoost', 0.9304546543761788),\n",
       " ('MLP', 0.939277343425017)]"
      ]
     },
     "execution_count": 7,
     "metadata": {},
     "output_type": "execute_result"
    }
   ],
   "source": [
    "[(result.clf, result.auc) for result in binary_results]"
   ]
  },
  {
   "cell_type": "code",
   "execution_count": 8,
   "metadata": {},
   "outputs": [
    {
     "data": {
      "text/plain": [
       "[('Logistic Regression', 0.9116002051267486),\n",
       " ('Random Forest', 0.9241585056522278),\n",
       " ('Gradient Boosting', 0.9217500361825736),\n",
       " ('XGBoost', 0.9218572615087869),\n",
       " ('MLP', 0.9102456161272194)]"
      ]
     },
     "execution_count": 8,
     "metadata": {},
     "output_type": "execute_result"
    }
   ],
   "source": [
    " [(result.clf, result.auc) for result in counts_results]"
   ]
  }
 ],
 "metadata": {
  "kernelspec": {
   "display_name": "egovizml-XPfoP_XE-py3.11",
   "language": "python",
   "name": "python3"
  },
  "language_info": {
   "codemirror_mode": {
    "name": "ipython",
    "version": 3
   },
   "file_extension": ".py",
   "mimetype": "text/x-python",
   "name": "python",
   "nbconvert_exporter": "python",
   "pygments_lexer": "ipython3",
   "version": "3.11.5"
  }
 },
 "nbformat": 4,
 "nbformat_minor": 2
}
