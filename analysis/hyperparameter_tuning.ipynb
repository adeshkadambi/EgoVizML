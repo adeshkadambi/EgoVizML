{
 "cells": [
  {
   "cell_type": "code",
   "execution_count": 1,
   "metadata": {},
   "outputs": [],
   "source": [
    "import os\n",
    "\n",
    "import pandas as pd\n",
    "from sklearn.ensemble import RandomForestClassifier\n",
    "from sklearn.linear_model import LogisticRegression\n",
    "\n",
    "import egoviz.models.processing as pr\n",
    "import egoviz.models.evaluation as ev\n",
    "\n",
    "SEED = 42"
   ]
  },
  {
   "cell_type": "code",
   "execution_count": 2,
   "metadata": {},
   "outputs": [],
   "source": [
    "# if df pkl exists, load it\n",
    "cwd = os.getcwd()\n",
    "\n",
    "try:\n",
    "    file_path = os.path.join(cwd, '../data/home_data_all_preds_df.pkl')\n",
    "    df = pr.load_pickle(file_path)\n",
    "\n",
    "except FileNotFoundError:\n",
    "    file_path = os.path.join(cwd, '../data/home_data_all_preds.pkl')\n",
    "    data = pr.load_pickle(file_path)\n",
    "    df = pd.DataFrame(columns=['video', 'frame', 'classes', 'active', 'adl'])\n",
    "\n",
    "    for id, dets in data.items():\n",
    "        adl = id.split('_', 1)[0]\n",
    "        video = id.split('_')[1]\n",
    "        frame = id.split('_')[2]\n",
    "        classes = dets['remapped_metadata']\n",
    "        active = dets['active_objects']\n",
    "\n",
    "        row = {'video': video, 'frame': frame, 'classes': classes, 'adl': adl, 'active': active}\n",
    "\n",
    "        df.loc[len(df)] = row\n",
    "\n",
    "    # save df\n",
    "    df.to_pickle(os.path.join(cwd, '../data/home_data_eval_all_preds_df.pkl'))"
   ]
  },
  {
   "cell_type": "code",
   "execution_count": 3,
   "metadata": {},
   "outputs": [
    {
     "data": {
      "text/html": [
       "<div>\n",
       "<style scoped>\n",
       "    .dataframe tbody tr th:only-of-type {\n",
       "        vertical-align: middle;\n",
       "    }\n",
       "\n",
       "    .dataframe tbody tr th {\n",
       "        vertical-align: top;\n",
       "    }\n",
       "\n",
       "    .dataframe thead th {\n",
       "        text-align: right;\n",
       "    }\n",
       "</style>\n",
       "<table border=\"1\" class=\"dataframe\">\n",
       "  <thead>\n",
       "    <tr style=\"text-align: right;\">\n",
       "      <th></th>\n",
       "      <th>video</th>\n",
       "      <th>adl</th>\n",
       "      <th>count_clothing_accessory</th>\n",
       "      <th>count_phone_tablet</th>\n",
       "      <th>count_other</th>\n",
       "      <th>count_office_stationary</th>\n",
       "      <th>count_footwear</th>\n",
       "      <th>count_furniture</th>\n",
       "      <th>active_other</th>\n",
       "      <th>active_clothing_accessory</th>\n",
       "      <th>...</th>\n",
       "      <th>count_house_fixtures</th>\n",
       "      <th>active_house_fixtures</th>\n",
       "      <th>count_tableware</th>\n",
       "      <th>active_tableware</th>\n",
       "      <th>count_bathroom_fixture</th>\n",
       "      <th>active_bathroom_fixture</th>\n",
       "      <th>count_plant</th>\n",
       "      <th>active_plant</th>\n",
       "      <th>count_hat</th>\n",
       "      <th>active_hat</th>\n",
       "    </tr>\n",
       "  </thead>\n",
       "  <tbody>\n",
       "    <tr>\n",
       "      <th>0</th>\n",
       "      <td>SCI02-1--1</td>\n",
       "      <td>functional-mobility</td>\n",
       "      <td>0.0</td>\n",
       "      <td>6.0</td>\n",
       "      <td>7.0</td>\n",
       "      <td>13.0</td>\n",
       "      <td>3.0</td>\n",
       "      <td>10.0</td>\n",
       "      <td>0.0</td>\n",
       "      <td>0.0</td>\n",
       "      <td>...</td>\n",
       "      <td>20.0</td>\n",
       "      <td>0.0</td>\n",
       "      <td>6.0</td>\n",
       "      <td>0.0</td>\n",
       "      <td>4.0</td>\n",
       "      <td>0.0</td>\n",
       "      <td>0.0</td>\n",
       "      <td>0.0</td>\n",
       "      <td>0.0</td>\n",
       "      <td>0.0</td>\n",
       "    </tr>\n",
       "    <tr>\n",
       "      <th>1</th>\n",
       "      <td>SCI02-1--10</td>\n",
       "      <td>meal-preparation-cleanup</td>\n",
       "      <td>2.0</td>\n",
       "      <td>0.0</td>\n",
       "      <td>6.0</td>\n",
       "      <td>2.0</td>\n",
       "      <td>1.0</td>\n",
       "      <td>2.0</td>\n",
       "      <td>0.0</td>\n",
       "      <td>0.0</td>\n",
       "      <td>...</td>\n",
       "      <td>17.0</td>\n",
       "      <td>0.0</td>\n",
       "      <td>18.0</td>\n",
       "      <td>1.0</td>\n",
       "      <td>6.0</td>\n",
       "      <td>0.0</td>\n",
       "      <td>0.0</td>\n",
       "      <td>0.0</td>\n",
       "      <td>0.0</td>\n",
       "      <td>0.0</td>\n",
       "    </tr>\n",
       "    <tr>\n",
       "      <th>2</th>\n",
       "      <td>SCI02-1--11</td>\n",
       "      <td>meal-preparation-cleanup</td>\n",
       "      <td>1.0</td>\n",
       "      <td>0.0</td>\n",
       "      <td>2.0</td>\n",
       "      <td>0.0</td>\n",
       "      <td>0.0</td>\n",
       "      <td>0.0</td>\n",
       "      <td>0.0</td>\n",
       "      <td>0.0</td>\n",
       "      <td>...</td>\n",
       "      <td>17.0</td>\n",
       "      <td>0.0</td>\n",
       "      <td>25.0</td>\n",
       "      <td>0.0</td>\n",
       "      <td>13.0</td>\n",
       "      <td>0.0</td>\n",
       "      <td>0.0</td>\n",
       "      <td>0.0</td>\n",
       "      <td>0.0</td>\n",
       "      <td>0.0</td>\n",
       "    </tr>\n",
       "    <tr>\n",
       "      <th>3</th>\n",
       "      <td>SCI02-1--12</td>\n",
       "      <td>meal-preparation-cleanup</td>\n",
       "      <td>0.0</td>\n",
       "      <td>0.0</td>\n",
       "      <td>8.0</td>\n",
       "      <td>3.0</td>\n",
       "      <td>0.0</td>\n",
       "      <td>4.0</td>\n",
       "      <td>0.0</td>\n",
       "      <td>0.0</td>\n",
       "      <td>...</td>\n",
       "      <td>15.0</td>\n",
       "      <td>0.0</td>\n",
       "      <td>21.0</td>\n",
       "      <td>0.0</td>\n",
       "      <td>7.0</td>\n",
       "      <td>0.0</td>\n",
       "      <td>1.0</td>\n",
       "      <td>0.0</td>\n",
       "      <td>0.0</td>\n",
       "      <td>0.0</td>\n",
       "    </tr>\n",
       "    <tr>\n",
       "      <th>4</th>\n",
       "      <td>SCI02-1--2</td>\n",
       "      <td>meal-preparation-cleanup</td>\n",
       "      <td>10.0</td>\n",
       "      <td>4.0</td>\n",
       "      <td>6.0</td>\n",
       "      <td>2.0</td>\n",
       "      <td>1.0</td>\n",
       "      <td>2.0</td>\n",
       "      <td>0.0</td>\n",
       "      <td>0.0</td>\n",
       "      <td>...</td>\n",
       "      <td>35.0</td>\n",
       "      <td>1.0</td>\n",
       "      <td>8.0</td>\n",
       "      <td>0.0</td>\n",
       "      <td>11.0</td>\n",
       "      <td>0.0</td>\n",
       "      <td>3.0</td>\n",
       "      <td>0.0</td>\n",
       "      <td>0.0</td>\n",
       "      <td>0.0</td>\n",
       "    </tr>\n",
       "  </tbody>\n",
       "</table>\n",
       "<p>5 rows × 60 columns</p>\n",
       "</div>"
      ],
      "text/plain": [
       "         video                       adl  count_clothing_accessory  \\\n",
       "0   SCI02-1--1       functional-mobility                       0.0   \n",
       "1  SCI02-1--10  meal-preparation-cleanup                       2.0   \n",
       "2  SCI02-1--11  meal-preparation-cleanup                       1.0   \n",
       "3  SCI02-1--12  meal-preparation-cleanup                       0.0   \n",
       "4   SCI02-1--2  meal-preparation-cleanup                      10.0   \n",
       "\n",
       "   count_phone_tablet  count_other  count_office_stationary  count_footwear  \\\n",
       "0                 6.0          7.0                     13.0             3.0   \n",
       "1                 0.0          6.0                      2.0             1.0   \n",
       "2                 0.0          2.0                      0.0             0.0   \n",
       "3                 0.0          8.0                      3.0             0.0   \n",
       "4                 4.0          6.0                      2.0             1.0   \n",
       "\n",
       "   count_furniture  active_other  active_clothing_accessory  ...  \\\n",
       "0             10.0           0.0                        0.0  ...   \n",
       "1              2.0           0.0                        0.0  ...   \n",
       "2              0.0           0.0                        0.0  ...   \n",
       "3              4.0           0.0                        0.0  ...   \n",
       "4              2.0           0.0                        0.0  ...   \n",
       "\n",
       "   count_house_fixtures  active_house_fixtures  count_tableware  \\\n",
       "0                  20.0                    0.0              6.0   \n",
       "1                  17.0                    0.0             18.0   \n",
       "2                  17.0                    0.0             25.0   \n",
       "3                  15.0                    0.0             21.0   \n",
       "4                  35.0                    1.0              8.0   \n",
       "\n",
       "   active_tableware  count_bathroom_fixture  active_bathroom_fixture  \\\n",
       "0               0.0                     4.0                      0.0   \n",
       "1               1.0                     6.0                      0.0   \n",
       "2               0.0                    13.0                      0.0   \n",
       "3               0.0                     7.0                      0.0   \n",
       "4               0.0                    11.0                      0.0   \n",
       "\n",
       "   count_plant  active_plant  count_hat  active_hat  \n",
       "0          0.0           0.0        0.0         0.0  \n",
       "1          0.0           0.0        0.0         0.0  \n",
       "2          0.0           0.0        0.0         0.0  \n",
       "3          1.0           0.0        0.0         0.0  \n",
       "4          3.0           0.0        0.0         0.0  \n",
       "\n",
       "[5 rows x 60 columns]"
      ]
     },
     "execution_count": 3,
     "metadata": {},
     "output_type": "execute_result"
    }
   ],
   "source": [
    "df = pr.generate_counts_df(df); df.head()"
   ]
  },
  {
   "cell_type": "markdown",
   "metadata": {},
   "source": [
    "### Classifiers"
   ]
  },
  {
   "cell_type": "code",
   "execution_count": 4,
   "metadata": {},
   "outputs": [],
   "source": [
    "# Random Forest Classifier\n",
    "rf_clf = RandomForestClassifier(random_state=SEED)\n",
    "\n",
    "# Logistic Regression\n",
    "log_clf = LogisticRegression(random_state=SEED)"
   ]
  },
  {
   "cell_type": "code",
   "execution_count": 5,
   "metadata": {},
   "outputs": [],
   "source": [
    "# create param grids for random forest and logistic regression\n",
    "\n",
    "# random forest\n",
    "rf_param_grid = {\n",
    "    'n_estimators': [100, 200, 500, 1000],\n",
    "    'criterion': ['gini', 'entropy'],\n",
    "    'max_depth': [None, 2, 5, 10],\n",
    "    'min_samples_split': [2, 5, 10],\n",
    "    'min_samples_leaf': [1, 2, 5],\n",
    "    'max_features': ['auto', 'sqrt', 'log2', None]\n",
    "}\n",
    "\n",
    "# logistic regression\n",
    "log_param_grid = {\n",
    "    'penalty': ['l1', 'l2'],\n",
    "    'C': [0.001, 0.01, 0.1, 1, 10, 100],\n",
    "    'solver': ['newton-cg', 'lbfgs', 'liblinear', 'sag', 'saga'],\n",
    "    'max_iter': [100, 500, 1000]\n",
    "}"
   ]
  },
  {
   "cell_type": "code",
   "execution_count": 7,
   "metadata": {},
   "outputs": [],
   "source": [
    "# tune hyperparameters for random forest using random search cv from sklearn\n",
    "\n",
    "from sklearn.model_selection import RandomizedSearchCV\n",
    "\n",
    "rf_random_search = RandomizedSearchCV(estimator=rf_clf,\n",
    "                                        param_distributions=rf_param_grid,\n",
    "                                        n_iter=100,\n",
    "                                        cv=5,\n",
    "                                        verbose=2,\n",
    "                                        random_state=SEED,\n",
    "                                        n_jobs=-1)\n",
    "\n",
    "# tune hyperparameters for logistic regression using random search cv from sklearn\n",
    "\n",
    "log_random_search = RandomizedSearchCV(estimator=log_clf,\n",
    "                                        param_distributions=log_param_grid,\n",
    "                                        n_iter=100,\n",
    "                                        cv=5,\n",
    "                                        verbose=2,\n",
    "                                        random_state=SEED,\n",
    "                                        n_jobs=-1)"
   ]
  },
  {
   "cell_type": "code",
   "execution_count": 9,
   "metadata": {},
   "outputs": [],
   "source": [
    "# split data into train and test sets\n",
    "\n",
    "from sklearn.model_selection import train_test_split\n",
    "\n",
    "X = df.drop(['adl', 'video'], axis=1)\n",
    "y = df['adl']\n",
    "\n",
    "X_train, X_test, y_train, y_test = train_test_split(X, y, test_size=0.2, random_state=SEED)"
   ]
  },
  {
   "cell_type": "code",
   "execution_count": 10,
   "metadata": {},
   "outputs": [
    {
     "name": "stdout",
     "output_type": "stream",
     "text": [
      "Fitting 5 folds for each of 100 candidates, totalling 500 fits\n",
      "[CV] END criterion=gini, max_depth=2, max_features=auto, min_samples_leaf=5, min_samples_split=5, n_estimators=500; total time=   0.0s\n",
      "[CV] END criterion=gini, max_depth=2, max_features=auto, min_samples_leaf=5, min_samples_split=5, n_estimators=500; total time=   0.0s\n",
      "[CV] END criterion=gini, max_depth=2, max_features=auto, min_samples_leaf=5, min_samples_split=5, n_estimators=500; total time=   0.0s\n",
      "[CV] END criterion=gini, max_depth=2, max_features=auto, min_samples_leaf=5, min_samples_split=5, n_estimators=500; total time=   0.0s\n",
      "[CV] END criterion=entropy, max_depth=2, max_features=auto, min_samples_leaf=5, min_samples_split=10, n_estimators=500; total time=   0.0s\n",
      "[CV] END criterion=entropy, max_depth=2, max_features=auto, min_samples_leaf=5, min_samples_split=10, n_estimators=500; total time=   0.0s\n",
      "[CV] END criterion=gini, max_depth=2, max_features=auto, min_samples_leaf=5, min_samples_split=5, n_estimators=500; total time=   0.0s\n",
      "[CV] END criterion=entropy, max_depth=2, max_features=auto, min_samples_leaf=5, min_samples_split=10, n_estimators=500; total time=   0.0s\n",
      "[CV] END criterion=entropy, max_depth=2, max_features=auto, min_samples_leaf=5, min_samples_split=10, n_estimators=500; total time=   0.0s\n",
      "[CV] END criterion=entropy, max_depth=2, max_features=auto, min_samples_leaf=5, min_samples_split=10, n_estimators=500; total time=   0.0s\n",
      "[CV] END criterion=entropy, max_depth=None, max_features=auto, min_samples_leaf=1, min_samples_split=10, n_estimators=100; total time=   0.0s\n",
      "[CV] END criterion=entropy, max_depth=None, max_features=auto, min_samples_leaf=1, min_samples_split=10, n_estimators=100; total time=   0.0s\n",
      "[CV] END criterion=entropy, max_depth=None, max_features=auto, min_samples_leaf=1, min_samples_split=10, n_estimators=100; total time=   0.0s\n",
      "[CV] END criterion=entropy, max_depth=None, max_features=auto, min_samples_leaf=1, min_samples_split=10, n_estimators=100; total time=   0.0s\n",
      "[CV] END criterion=entropy, max_depth=None, max_features=auto, min_samples_leaf=1, min_samples_split=10, n_estimators=100; total time=   0.0s\n",
      "[CV] END criterion=gini, max_depth=2, max_features=log2, min_samples_leaf=5, min_samples_split=2, n_estimators=100; total time=   0.5s\n",
      "[CV] END criterion=gini, max_depth=2, max_features=log2, min_samples_leaf=5, min_samples_split=2, n_estimators=100; total time=   0.5s\n",
      "[CV] END criterion=gini, max_depth=2, max_features=log2, min_samples_leaf=5, min_samples_split=2, n_estimators=100; total time=   0.5s\n",
      "[CV] END criterion=gini, max_depth=2, max_features=log2, min_samples_leaf=5, min_samples_split=2, n_estimators=100; total time=   0.5s\n",
      "[CV] END criterion=gini, max_depth=2, max_features=log2, min_samples_leaf=5, min_samples_split=2, n_estimators=100; total time=   0.5s\n",
      "[CV] END criterion=gini, max_depth=2, max_features=log2, min_samples_leaf=1, min_samples_split=2, n_estimators=500; total time=   2.4s\n",
      "[CV] END criterion=gini, max_depth=2, max_features=log2, min_samples_leaf=1, min_samples_split=2, n_estimators=500; total time=   2.4s\n",
      "[CV] END criterion=gini, max_depth=2, max_features=log2, min_samples_leaf=1, min_samples_split=2, n_estimators=500; total time=   2.4s\n",
      "[CV] END criterion=entropy, max_depth=None, max_features=sqrt, min_samples_leaf=2, min_samples_split=5, n_estimators=200; total time=   1.7s\n",
      "[CV] END criterion=gini, max_depth=2, max_features=log2, min_samples_leaf=1, min_samples_split=2, n_estimators=500; total time=   2.1s\n",
      "[CV] END criterion=gini, max_depth=2, max_features=log2, min_samples_leaf=1, min_samples_split=2, n_estimators=500; total time=   2.0s\n",
      "[CV] END criterion=entropy, max_depth=None, max_features=sqrt, min_samples_leaf=2, min_samples_split=5, n_estimators=200; total time=   1.6s\n",
      "[CV] END criterion=entropy, max_depth=None, max_features=sqrt, min_samples_leaf=2, min_samples_split=5, n_estimators=200; total time=   1.6s\n",
      "[CV] END criterion=entropy, max_depth=None, max_features=sqrt, min_samples_leaf=2, min_samples_split=5, n_estimators=200; total time=   1.6s\n",
      "[CV] END criterion=entropy, max_depth=None, max_features=sqrt, min_samples_leaf=2, min_samples_split=5, n_estimators=200; total time=   1.5s\n",
      "[CV] END criterion=gini, max_depth=10, max_features=None, min_samples_leaf=2, min_samples_split=2, n_estimators=500; total time=  13.5s\n",
      "[CV] END criterion=gini, max_depth=10, max_features=None, min_samples_leaf=2, min_samples_split=2, n_estimators=500; total time=  13.6s\n",
      "[CV] END criterion=gini, max_depth=10, max_features=None, min_samples_leaf=2, min_samples_split=2, n_estimators=500; total time=  13.4s\n",
      "[CV] END criterion=gini, max_depth=5, max_features=sqrt, min_samples_leaf=5, min_samples_split=2, n_estimators=1000; total time=   6.0s\n",
      "[CV] END criterion=entropy, max_depth=None, max_features=None, min_samples_leaf=5, min_samples_split=5, n_estimators=1000; total time=  28.2s\n",
      "[CV] END criterion=entropy, max_depth=None, max_features=None, min_samples_leaf=5, min_samples_split=5, n_estimators=1000; total time=  28.3s\n",
      "[CV] END criterion=entropy, max_depth=None, max_features=None, min_samples_leaf=5, min_samples_split=5, n_estimators=1000; total time=  28.0s\n",
      "[CV] END criterion=entropy, max_depth=None, max_features=None, min_samples_leaf=5, min_samples_split=5, n_estimators=1000; total time=  28.6s\n",
      "[CV] END criterion=gini, max_depth=5, max_features=sqrt, min_samples_leaf=1, min_samples_split=5, n_estimators=100; total time=   0.5s\n",
      "[CV] END criterion=entropy, max_depth=None, max_features=None, min_samples_leaf=5, min_samples_split=5, n_estimators=1000; total time=  28.7s\n",
      "[CV] END criterion=gini, max_depth=5, max_features=sqrt, min_samples_leaf=1, min_samples_split=5, n_estimators=100; total time=   0.5s\n",
      "[CV] END criterion=gini, max_depth=5, max_features=sqrt, min_samples_leaf=1, min_samples_split=5, n_estimators=100; total time=   0.6s\n",
      "[CV] END criterion=gini, max_depth=5, max_features=sqrt, min_samples_leaf=1, min_samples_split=5, n_estimators=100; total time=   0.6s\n",
      "[CV] END criterion=gini, max_depth=5, max_features=sqrt, min_samples_leaf=1, min_samples_split=5, n_estimators=100; total time=   0.5s\n",
      "[CV] END criterion=gini, max_depth=5, max_features=sqrt, min_samples_leaf=5, min_samples_split=2, n_estimators=1000; total time=   5.1s\n",
      "[CV] END criterion=gini, max_depth=10, max_features=None, min_samples_leaf=2, min_samples_split=2, n_estimators=500; total time=  12.8s\n",
      "[CV] END criterion=gini, max_depth=10, max_features=None, min_samples_leaf=2, min_samples_split=2, n_estimators=500; total time=  12.8s\n",
      "[CV] END criterion=gini, max_depth=5, max_features=sqrt, min_samples_leaf=5, min_samples_split=2, n_estimators=1000; total time=   5.2s\n",
      "[CV] END criterion=gini, max_depth=5, max_features=sqrt, min_samples_leaf=5, min_samples_split=2, n_estimators=1000; total time=   5.2s\n",
      "[CV] END criterion=gini, max_depth=5, max_features=sqrt, min_samples_leaf=5, min_samples_split=2, n_estimators=1000; total time=   5.1s\n",
      "[CV] END criterion=entropy, max_depth=2, max_features=log2, min_samples_leaf=1, min_samples_split=5, n_estimators=100; total time=   0.5s\n",
      "[CV] END criterion=entropy, max_depth=2, max_features=log2, min_samples_leaf=1, min_samples_split=5, n_estimators=100; total time=   0.5s\n",
      "[CV] END criterion=entropy, max_depth=2, max_features=log2, min_samples_leaf=1, min_samples_split=5, n_estimators=100; total time=   0.4s\n",
      "[CV] END criterion=entropy, max_depth=2, max_features=log2, min_samples_leaf=1, min_samples_split=5, n_estimators=100; total time=   0.5s\n",
      "[CV] END criterion=entropy, max_depth=2, max_features=log2, min_samples_leaf=1, min_samples_split=5, n_estimators=100; total time=   0.5s\n",
      "[CV] END criterion=entropy, max_depth=5, max_features=sqrt, min_samples_leaf=5, min_samples_split=2, n_estimators=100; total time=   0.6s\n",
      "[CV] END criterion=entropy, max_depth=5, max_features=sqrt, min_samples_leaf=5, min_samples_split=2, n_estimators=100; total time=   0.6s\n",
      "[CV] END criterion=entropy, max_depth=5, max_features=sqrt, min_samples_leaf=5, min_samples_split=2, n_estimators=100; total time=   0.7s\n",
      "[CV] END criterion=entropy, max_depth=5, max_features=sqrt, min_samples_leaf=5, min_samples_split=2, n_estimators=100; total time=   0.8s\n",
      "[CV] END criterion=entropy, max_depth=5, max_features=sqrt, min_samples_leaf=5, min_samples_split=2, n_estimators=100; total time=   0.9s\n",
      "[CV] END criterion=gini, max_depth=2, max_features=None, min_samples_leaf=2, min_samples_split=2, n_estimators=200; total time=   1.7s\n",
      "[CV] END criterion=gini, max_depth=2, max_features=None, min_samples_leaf=2, min_samples_split=2, n_estimators=200; total time=   1.6s\n",
      "[CV] END criterion=gini, max_depth=2, max_features=None, min_samples_leaf=2, min_samples_split=2, n_estimators=200; total time=   1.5s\n",
      "[CV] END criterion=gini, max_depth=2, max_features=None, min_samples_leaf=2, min_samples_split=2, n_estimators=200; total time=   1.4s\n",
      "[CV] END criterion=gini, max_depth=2, max_features=None, min_samples_leaf=2, min_samples_split=2, n_estimators=200; total time=   1.4s\n",
      "[CV] END criterion=entropy, max_depth=None, max_features=log2, min_samples_leaf=1, min_samples_split=10, n_estimators=200; total time=   1.3s\n",
      "[CV] END criterion=entropy, max_depth=None, max_features=log2, min_samples_leaf=1, min_samples_split=10, n_estimators=200; total time=   1.3s\n",
      "[CV] END criterion=entropy, max_depth=None, max_features=log2, min_samples_leaf=1, min_samples_split=10, n_estimators=200; total time=   1.3s\n",
      "[CV] END criterion=gini, max_depth=10, max_features=auto, min_samples_leaf=2, min_samples_split=2, n_estimators=1000; total time=   0.0s\n",
      "[CV] END criterion=entropy, max_depth=None, max_features=log2, min_samples_leaf=1, min_samples_split=10, n_estimators=200; total time=   1.3s\n",
      "[CV] END criterion=gini, max_depth=10, max_features=auto, min_samples_leaf=2, min_samples_split=2, n_estimators=1000; total time=   0.0s\n",
      "[CV] END criterion=gini, max_depth=10, max_features=auto, min_samples_leaf=2, min_samples_split=2, n_estimators=1000; total time=   0.0s\n",
      "[CV] END criterion=gini, max_depth=10, max_features=auto, min_samples_leaf=2, min_samples_split=2, n_estimators=1000; total time=   0.0s\n",
      "[CV] END criterion=gini, max_depth=10, max_features=auto, min_samples_leaf=2, min_samples_split=2, n_estimators=1000; total time=   0.0s\n",
      "[CV] END criterion=entropy, max_depth=None, max_features=log2, min_samples_leaf=1, min_samples_split=10, n_estimators=200; total time=   1.4s\n",
      "[CV] END criterion=entropy, max_depth=None, max_features=None, min_samples_leaf=1, min_samples_split=10, n_estimators=500; total time=  15.7s\n",
      "[CV] END criterion=entropy, max_depth=None, max_features=None, min_samples_leaf=1, min_samples_split=10, n_estimators=500; total time=  15.7s\n",
      "[CV] END criterion=entropy, max_depth=None, max_features=None, min_samples_leaf=2, min_samples_split=5, n_estimators=200; total time=   6.7s\n",
      "[CV] END criterion=entropy, max_depth=None, max_features=None, min_samples_leaf=2, min_samples_split=5, n_estimators=200; total time=   6.7s\n",
      "[CV] END criterion=gini, max_depth=5, max_features=auto, min_samples_leaf=1, min_samples_split=2, n_estimators=200; total time=   0.0s\n",
      "[CV] END criterion=gini, max_depth=5, max_features=auto, min_samples_leaf=1, min_samples_split=2, n_estimators=200; total time=   0.0s\n",
      "[CV] END criterion=gini, max_depth=5, max_features=auto, min_samples_leaf=1, min_samples_split=2, n_estimators=200; total time=   0.0s\n",
      "[CV] END criterion=gini, max_depth=5, max_features=auto, min_samples_leaf=1, min_samples_split=2, n_estimators=200; total time=   0.0s\n",
      "[CV] END criterion=gini, max_depth=5, max_features=auto, min_samples_leaf=1, min_samples_split=2, n_estimators=200; total time=   0.0s\n",
      "[CV] END criterion=gini, max_depth=2, max_features=log2, min_samples_leaf=1, min_samples_split=5, n_estimators=100; total time=   0.5s\n",
      "[CV] END criterion=gini, max_depth=2, max_features=log2, min_samples_leaf=1, min_samples_split=5, n_estimators=100; total time=   0.5s\n",
      "[CV] END criterion=gini, max_depth=2, max_features=log2, min_samples_leaf=1, min_samples_split=5, n_estimators=100; total time=   0.4s\n",
      "[CV] END criterion=gini, max_depth=2, max_features=log2, min_samples_leaf=1, min_samples_split=5, n_estimators=100; total time=   0.4s\n",
      "[CV] END criterion=gini, max_depth=10, max_features=auto, min_samples_leaf=1, min_samples_split=2, n_estimators=100; total time=   0.0s\n",
      "[CV] END criterion=gini, max_depth=10, max_features=auto, min_samples_leaf=1, min_samples_split=2, n_estimators=100; total time=   0.0s\n",
      "[CV] END criterion=gini, max_depth=10, max_features=auto, min_samples_leaf=1, min_samples_split=2, n_estimators=100; total time=   0.0s\n",
      "[CV] END criterion=gini, max_depth=10, max_features=auto, min_samples_leaf=1, min_samples_split=2, n_estimators=100; total time=   0.0s\n",
      "[CV] END criterion=gini, max_depth=10, max_features=auto, min_samples_leaf=1, min_samples_split=2, n_estimators=100; total time=   0.0s\n",
      "[CV] END criterion=entropy, max_depth=None, max_features=None, min_samples_leaf=2, min_samples_split=5, n_estimators=200; total time=   6.8s\n",
      "[CV] END criterion=gini, max_depth=2, max_features=log2, min_samples_leaf=1, min_samples_split=5, n_estimators=100; total time=   0.5s\n",
      "[CV] END criterion=entropy, max_depth=None, max_features=None, min_samples_leaf=1, min_samples_split=10, n_estimators=500; total time=  16.0s\n",
      "[CV] END criterion=entropy, max_depth=None, max_features=None, min_samples_leaf=1, min_samples_split=10, n_estimators=500; total time=  16.3s\n",
      "[CV] END criterion=entropy, max_depth=None, max_features=None, min_samples_leaf=1, min_samples_split=10, n_estimators=500; total time=  16.5s\n",
      "[CV] END criterion=entropy, max_depth=None, max_features=None, min_samples_leaf=2, min_samples_split=5, n_estimators=200; total time=   6.8s\n",
      "[CV] END criterion=entropy, max_depth=None, max_features=None, min_samples_leaf=2, min_samples_split=5, n_estimators=200; total time=   6.9s\n",
      "[CV] END criterion=entropy, max_depth=2, max_features=None, min_samples_leaf=2, min_samples_split=2, n_estimators=500; total time=   5.1s\n",
      "[CV] END criterion=entropy, max_depth=2, max_features=None, min_samples_leaf=2, min_samples_split=2, n_estimators=500; total time=   5.2s\n",
      "[CV] END criterion=entropy, max_depth=2, max_features=None, min_samples_leaf=2, min_samples_split=2, n_estimators=500; total time=   5.2s\n",
      "[CV] END criterion=entropy, max_depth=2, max_features=None, min_samples_leaf=2, min_samples_split=2, n_estimators=500; total time=   5.1s\n",
      "[CV] END criterion=entropy, max_depth=None, max_features=log2, min_samples_leaf=1, min_samples_split=2, n_estimators=500; total time=   4.5s\n",
      "[CV] END criterion=entropy, max_depth=2, max_features=None, min_samples_leaf=2, min_samples_split=2, n_estimators=500; total time=   5.0s\n",
      "[CV] END criterion=entropy, max_depth=5, max_features=log2, min_samples_leaf=1, min_samples_split=10, n_estimators=500; total time=   2.6s\n",
      "[CV] END criterion=entropy, max_depth=5, max_features=log2, min_samples_leaf=1, min_samples_split=10, n_estimators=500; total time=   2.6s\n",
      "[CV] END criterion=entropy, max_depth=5, max_features=log2, min_samples_leaf=1, min_samples_split=10, n_estimators=500; total time=   2.5s\n",
      "[CV] END criterion=entropy, max_depth=5, max_features=log2, min_samples_leaf=1, min_samples_split=10, n_estimators=500; total time=   2.5s\n",
      "[CV] END criterion=entropy, max_depth=None, max_features=log2, min_samples_leaf=1, min_samples_split=2, n_estimators=500; total time=   4.0s\n",
      "[CV] END criterion=entropy, max_depth=None, max_features=log2, min_samples_leaf=1, min_samples_split=2, n_estimators=500; total time=   4.0s\n",
      "[CV] END criterion=entropy, max_depth=None, max_features=log2, min_samples_leaf=1, min_samples_split=2, n_estimators=500; total time=   4.1s\n",
      "[CV] END criterion=entropy, max_depth=None, max_features=log2, min_samples_leaf=1, min_samples_split=2, n_estimators=500; total time=   4.2s\n",
      "[CV] END criterion=entropy, max_depth=5, max_features=log2, min_samples_leaf=1, min_samples_split=10, n_estimators=500; total time=   2.8s\n",
      "[CV] END criterion=entropy, max_depth=5, max_features=log2, min_samples_leaf=1, min_samples_split=2, n_estimators=1000; total time=   5.9s\n",
      "[CV] END criterion=entropy, max_depth=5, max_features=log2, min_samples_leaf=1, min_samples_split=2, n_estimators=1000; total time=   5.9s\n",
      "[CV] END criterion=entropy, max_depth=5, max_features=log2, min_samples_leaf=1, min_samples_split=2, n_estimators=1000; total time=   5.8s\n",
      "[CV] END criterion=entropy, max_depth=2, max_features=auto, min_samples_leaf=1, min_samples_split=5, n_estimators=1000; total time=   0.0s\n",
      "[CV] END criterion=entropy, max_depth=2, max_features=auto, min_samples_leaf=1, min_samples_split=5, n_estimators=1000; total time=   0.0s\n",
      "[CV] END criterion=entropy, max_depth=2, max_features=auto, min_samples_leaf=1, min_samples_split=5, n_estimators=1000; total time=   0.0s\n",
      "[CV] END criterion=entropy, max_depth=2, max_features=auto, min_samples_leaf=1, min_samples_split=5, n_estimators=1000; total time=   0.0s\n",
      "[CV] END criterion=entropy, max_depth=2, max_features=auto, min_samples_leaf=1, min_samples_split=5, n_estimators=1000; total time=   0.0s\n",
      "[CV] END criterion=entropy, max_depth=5, max_features=auto, min_samples_leaf=5, min_samples_split=10, n_estimators=100; total time=   0.0s\n",
      "[CV] END criterion=entropy, max_depth=5, max_features=auto, min_samples_leaf=5, min_samples_split=10, n_estimators=100; total time=   0.0s\n",
      "[CV] END criterion=entropy, max_depth=5, max_features=auto, min_samples_leaf=5, min_samples_split=10, n_estimators=100; total time=   0.0s\n",
      "[CV] END criterion=entropy, max_depth=5, max_features=auto, min_samples_leaf=5, min_samples_split=10, n_estimators=100; total time=   0.0s\n",
      "[CV] END criterion=entropy, max_depth=5, max_features=auto, min_samples_leaf=5, min_samples_split=10, n_estimators=100; total time=   0.0s\n",
      "[CV] END criterion=entropy, max_depth=5, max_features=log2, min_samples_leaf=1, min_samples_split=2, n_estimators=1000; total time=   5.8s\n",
      "[CV] END criterion=entropy, max_depth=5, max_features=log2, min_samples_leaf=1, min_samples_split=2, n_estimators=1000; total time=   5.8s\n",
      "[CV] END criterion=entropy, max_depth=5, max_features=log2, min_samples_leaf=1, min_samples_split=5, n_estimators=1000; total time=   5.7s\n",
      "[CV] END criterion=entropy, max_depth=5, max_features=log2, min_samples_leaf=1, min_samples_split=5, n_estimators=1000; total time=   5.7s\n",
      "[CV] END criterion=gini, max_depth=None, max_features=log2, min_samples_leaf=5, min_samples_split=5, n_estimators=200; total time=   1.1s\n",
      "[CV] END criterion=gini, max_depth=None, max_features=log2, min_samples_leaf=5, min_samples_split=5, n_estimators=200; total time=   1.1s\n",
      "[CV] END criterion=gini, max_depth=None, max_features=log2, min_samples_leaf=5, min_samples_split=5, n_estimators=200; total time=   1.1s\n",
      "[CV] END criterion=gini, max_depth=None, max_features=log2, min_samples_leaf=5, min_samples_split=5, n_estimators=200; total time=   1.1s\n",
      "[CV] END criterion=gini, max_depth=None, max_features=log2, min_samples_leaf=5, min_samples_split=5, n_estimators=200; total time=   1.1s\n",
      "[CV] END criterion=entropy, max_depth=5, max_features=log2, min_samples_leaf=1, min_samples_split=5, n_estimators=1000; total time=   5.5s\n",
      "[CV] END criterion=gini, max_depth=5, max_features=sqrt, min_samples_leaf=5, min_samples_split=5, n_estimators=100; total time=   0.5s\n",
      "[CV] END criterion=gini, max_depth=5, max_features=sqrt, min_samples_leaf=5, min_samples_split=5, n_estimators=100; total time=   0.5s\n",
      "[CV] END criterion=gini, max_depth=5, max_features=sqrt, min_samples_leaf=5, min_samples_split=5, n_estimators=100; total time=   0.5s\n",
      "[CV] END criterion=gini, max_depth=5, max_features=sqrt, min_samples_leaf=5, min_samples_split=5, n_estimators=100; total time=   0.5s\n",
      "[CV] END criterion=gini, max_depth=5, max_features=sqrt, min_samples_leaf=5, min_samples_split=5, n_estimators=100; total time=   0.5s\n",
      "[CV] END criterion=gini, max_depth=10, max_features=auto, min_samples_leaf=5, min_samples_split=10, n_estimators=100; total time=   0.0s\n",
      "[CV] END criterion=gini, max_depth=10, max_features=auto, min_samples_leaf=5, min_samples_split=10, n_estimators=100; total time=   0.0s\n",
      "[CV] END criterion=gini, max_depth=10, max_features=auto, min_samples_leaf=5, min_samples_split=10, n_estimators=100; total time=   0.0s\n",
      "[CV] END criterion=gini, max_depth=10, max_features=auto, min_samples_leaf=5, min_samples_split=10, n_estimators=100; total time=   0.0s\n",
      "[CV] END criterion=gini, max_depth=10, max_features=auto, min_samples_leaf=5, min_samples_split=10, n_estimators=100; total time=   0.0s\n",
      "[CV] END criterion=entropy, max_depth=5, max_features=log2, min_samples_leaf=1, min_samples_split=5, n_estimators=1000; total time=   5.0s\n",
      "[CV] END criterion=entropy, max_depth=5, max_features=log2, min_samples_leaf=1, min_samples_split=5, n_estimators=1000; total time=   4.9s\n",
      "[CV] END criterion=gini, max_depth=None, max_features=sqrt, min_samples_leaf=2, min_samples_split=2, n_estimators=200; total time=   1.3s\n",
      "[CV] END criterion=gini, max_depth=None, max_features=sqrt, min_samples_leaf=2, min_samples_split=2, n_estimators=200; total time=   1.3s\n",
      "[CV] END criterion=gini, max_depth=None, max_features=sqrt, min_samples_leaf=2, min_samples_split=2, n_estimators=200; total time=   1.3s\n",
      "[CV] END criterion=gini, max_depth=None, max_features=sqrt, min_samples_leaf=2, min_samples_split=2, n_estimators=200; total time=   1.3s\n",
      "[CV] END criterion=gini, max_depth=None, max_features=sqrt, min_samples_leaf=2, min_samples_split=2, n_estimators=200; total time=   1.4s\n",
      "[CV] END criterion=entropy, max_depth=None, max_features=sqrt, min_samples_leaf=2, min_samples_split=5, n_estimators=500; total time=   3.7s\n",
      "[CV] END criterion=entropy, max_depth=None, max_features=sqrt, min_samples_leaf=2, min_samples_split=5, n_estimators=500; total time=   3.7s\n",
      "[CV] END criterion=entropy, max_depth=None, max_features=sqrt, min_samples_leaf=2, min_samples_split=5, n_estimators=500; total time=   3.7s\n",
      "[CV] END criterion=entropy, max_depth=None, max_features=sqrt, min_samples_leaf=1, min_samples_split=2, n_estimators=200; total time=   1.6s\n",
      "[CV] END criterion=entropy, max_depth=None, max_features=sqrt, min_samples_leaf=2, min_samples_split=5, n_estimators=500; total time=   3.6s\n",
      "[CV] END criterion=entropy, max_depth=None, max_features=sqrt, min_samples_leaf=1, min_samples_split=2, n_estimators=200; total time=   1.6s\n",
      "[CV] END criterion=entropy, max_depth=None, max_features=sqrt, min_samples_leaf=2, min_samples_split=5, n_estimators=500; total time=   3.6s\n",
      "[CV] END criterion=entropy, max_depth=None, max_features=sqrt, min_samples_leaf=1, min_samples_split=2, n_estimators=200; total time=   1.6s\n",
      "[CV] END criterion=entropy, max_depth=2, max_features=auto, min_samples_leaf=2, min_samples_split=10, n_estimators=100; total time=   0.0s\n",
      "[CV] END criterion=entropy, max_depth=2, max_features=auto, min_samples_leaf=2, min_samples_split=10, n_estimators=100; total time=   0.0s\n",
      "[CV] END criterion=entropy, max_depth=2, max_features=auto, min_samples_leaf=2, min_samples_split=10, n_estimators=100; total time=   0.0s\n",
      "[CV] END criterion=entropy, max_depth=2, max_features=auto, min_samples_leaf=2, min_samples_split=10, n_estimators=100; total time=   0.0s\n",
      "[CV] END criterion=entropy, max_depth=2, max_features=auto, min_samples_leaf=2, min_samples_split=10, n_estimators=100; total time=   0.0s\n",
      "[CV] END criterion=entropy, max_depth=None, max_features=sqrt, min_samples_leaf=1, min_samples_split=2, n_estimators=200; total time=   1.6s\n",
      "[CV] END criterion=entropy, max_depth=None, max_features=sqrt, min_samples_leaf=1, min_samples_split=2, n_estimators=200; total time=   1.6s\n",
      "[CV] END criterion=entropy, max_depth=2, max_features=log2, min_samples_leaf=5, min_samples_split=10, n_estimators=1000; total time=   3.6s\n",
      "[CV] END criterion=entropy, max_depth=2, max_features=log2, min_samples_leaf=5, min_samples_split=10, n_estimators=1000; total time=   3.7s\n",
      "[CV] END criterion=entropy, max_depth=2, max_features=log2, min_samples_leaf=5, min_samples_split=10, n_estimators=1000; total time=   3.6s\n",
      "[CV] END criterion=entropy, max_depth=2, max_features=log2, min_samples_leaf=5, min_samples_split=10, n_estimators=1000; total time=   3.7s\n",
      "[CV] END criterion=entropy, max_depth=2, max_features=log2, min_samples_leaf=5, min_samples_split=10, n_estimators=1000; total time=   3.7s\n",
      "[CV] END criterion=entropy, max_depth=2, max_features=log2, min_samples_leaf=2, min_samples_split=2, n_estimators=1000; total time=   3.6s\n",
      "[CV] END criterion=entropy, max_depth=10, max_features=None, min_samples_leaf=5, min_samples_split=2, n_estimators=1000; total time=  22.4s\n",
      "[CV] END criterion=entropy, max_depth=10, max_features=None, min_samples_leaf=5, min_samples_split=2, n_estimators=1000; total time=  22.6s\n",
      "[CV] END criterion=entropy, max_depth=10, max_features=None, min_samples_leaf=5, min_samples_split=2, n_estimators=1000; total time=  22.5s\n",
      "[CV] END criterion=entropy, max_depth=10, max_features=None, min_samples_leaf=5, min_samples_split=2, n_estimators=1000; total time=  22.7s\n",
      "[CV] END criterion=entropy, max_depth=10, max_features=None, min_samples_leaf=5, min_samples_split=2, n_estimators=1000; total time=  22.7s\n",
      "[CV] END criterion=entropy, max_depth=2, max_features=log2, min_samples_leaf=2, min_samples_split=2, n_estimators=1000; total time=   3.8s\n",
      "[CV] END criterion=entropy, max_depth=2, max_features=log2, min_samples_leaf=2, min_samples_split=2, n_estimators=1000; total time=   3.8s\n",
      "[CV] END criterion=entropy, max_depth=2, max_features=log2, min_samples_leaf=2, min_samples_split=2, n_estimators=1000; total time=   3.7s\n",
      "[CV] END criterion=entropy, max_depth=2, max_features=log2, min_samples_leaf=2, min_samples_split=2, n_estimators=1000; total time=   3.8s\n",
      "[CV] END criterion=gini, max_depth=10, max_features=None, min_samples_leaf=2, min_samples_split=2, n_estimators=200; total time=   4.4s\n",
      "[CV] END criterion=gini, max_depth=10, max_features=None, min_samples_leaf=2, min_samples_split=2, n_estimators=200; total time=   4.5s\n",
      "[CV] END criterion=gini, max_depth=10, max_features=None, min_samples_leaf=2, min_samples_split=2, n_estimators=200; total time=   4.4s\n",
      "[CV] END criterion=gini, max_depth=10, max_features=None, min_samples_leaf=2, min_samples_split=2, n_estimators=200; total time=   4.6s\n",
      "[CV] END criterion=entropy, max_depth=5, max_features=sqrt, min_samples_leaf=2, min_samples_split=10, n_estimators=200; total time=   1.0s\n",
      "[CV] END criterion=entropy, max_depth=5, max_features=sqrt, min_samples_leaf=2, min_samples_split=10, n_estimators=200; total time=   1.1s\n",
      "[CV] END criterion=gini, max_depth=10, max_features=None, min_samples_leaf=2, min_samples_split=2, n_estimators=200; total time=   4.3s\n",
      "[CV] END criterion=entropy, max_depth=5, max_features=sqrt, min_samples_leaf=2, min_samples_split=10, n_estimators=200; total time=   1.1s\n",
      "[CV] END criterion=entropy, max_depth=5, max_features=sqrt, min_samples_leaf=2, min_samples_split=10, n_estimators=200; total time=   1.1s\n",
      "[CV] END criterion=entropy, max_depth=2, max_features=log2, min_samples_leaf=5, min_samples_split=5, n_estimators=100; total time=   0.4s\n",
      "[CV] END criterion=entropy, max_depth=2, max_features=log2, min_samples_leaf=5, min_samples_split=5, n_estimators=100; total time=   0.4s\n",
      "[CV] END criterion=entropy, max_depth=2, max_features=log2, min_samples_leaf=5, min_samples_split=5, n_estimators=100; total time=   0.4s\n",
      "[CV] END criterion=entropy, max_depth=5, max_features=sqrt, min_samples_leaf=2, min_samples_split=10, n_estimators=200; total time=   1.0s\n",
      "[CV] END criterion=entropy, max_depth=2, max_features=log2, min_samples_leaf=5, min_samples_split=5, n_estimators=100; total time=   0.4s\n",
      "[CV] END criterion=entropy, max_depth=2, max_features=log2, min_samples_leaf=5, min_samples_split=5, n_estimators=100; total time=   0.4s\n",
      "[CV] END criterion=gini, max_depth=10, max_features=log2, min_samples_leaf=5, min_samples_split=10, n_estimators=1000; total time=   5.1s\n",
      "[CV] END criterion=gini, max_depth=10, max_features=log2, min_samples_leaf=5, min_samples_split=10, n_estimators=1000; total time=   5.1s\n",
      "[CV] END criterion=gini, max_depth=10, max_features=log2, min_samples_leaf=5, min_samples_split=10, n_estimators=1000; total time=   5.1s\n",
      "[CV] END criterion=gini, max_depth=10, max_features=log2, min_samples_leaf=5, min_samples_split=10, n_estimators=1000; total time=   5.0s\n",
      "[CV] END criterion=entropy, max_depth=2, max_features=sqrt, min_samples_leaf=2, min_samples_split=5, n_estimators=500; total time=   1.9s\n",
      "[CV] END criterion=gini, max_depth=10, max_features=log2, min_samples_leaf=5, min_samples_split=10, n_estimators=1000; total time=   5.0s\n",
      "[CV] END criterion=entropy, max_depth=2, max_features=sqrt, min_samples_leaf=2, min_samples_split=5, n_estimators=500; total time=   1.9s\n",
      "[CV] END criterion=entropy, max_depth=2, max_features=sqrt, min_samples_leaf=2, min_samples_split=5, n_estimators=500; total time=   1.8s\n",
      "[CV] END criterion=entropy, max_depth=5, max_features=auto, min_samples_leaf=5, min_samples_split=2, n_estimators=200; total time=   0.0s\n",
      "[CV] END criterion=entropy, max_depth=5, max_features=auto, min_samples_leaf=5, min_samples_split=2, n_estimators=200; total time=   0.0s\n",
      "[CV] END criterion=entropy, max_depth=5, max_features=auto, min_samples_leaf=5, min_samples_split=2, n_estimators=200; total time=   0.0s\n",
      "[CV] END criterion=entropy, max_depth=5, max_features=auto, min_samples_leaf=5, min_samples_split=2, n_estimators=200; total time=   0.0s\n",
      "[CV] END criterion=entropy, max_depth=5, max_features=auto, min_samples_leaf=5, min_samples_split=2, n_estimators=200; total time=   0.0s\n",
      "[CV] END criterion=entropy, max_depth=5, max_features=auto, min_samples_leaf=5, min_samples_split=2, n_estimators=100; total time=   0.0s\n",
      "[CV] END criterion=entropy, max_depth=5, max_features=auto, min_samples_leaf=5, min_samples_split=2, n_estimators=100; total time=   0.0s\n",
      "[CV] END criterion=entropy, max_depth=5, max_features=auto, min_samples_leaf=5, min_samples_split=2, n_estimators=100; total time=   0.0s\n",
      "[CV] END criterion=entropy, max_depth=5, max_features=auto, min_samples_leaf=5, min_samples_split=2, n_estimators=100; total time=   0.0s\n",
      "[CV] END criterion=entropy, max_depth=5, max_features=auto, min_samples_leaf=5, min_samples_split=2, n_estimators=100; total time=   0.0s\n",
      "[CV] END criterion=entropy, max_depth=2, max_features=sqrt, min_samples_leaf=2, min_samples_split=5, n_estimators=500; total time=   1.9s\n",
      "[CV] END criterion=entropy, max_depth=2, max_features=sqrt, min_samples_leaf=2, min_samples_split=5, n_estimators=500; total time=   1.9s\n",
      "[CV] END criterion=gini, max_depth=5, max_features=None, min_samples_leaf=5, min_samples_split=5, n_estimators=200; total time=   2.6s\n",
      "[CV] END criterion=gini, max_depth=5, max_features=None, min_samples_leaf=5, min_samples_split=5, n_estimators=200; total time=   2.6s\n",
      "[CV] END criterion=gini, max_depth=5, max_features=None, min_samples_leaf=5, min_samples_split=5, n_estimators=200; total time=   2.6s\n",
      "[CV] END criterion=entropy, max_depth=10, max_features=None, min_samples_leaf=1, min_samples_split=5, n_estimators=200; total time=   5.5s\n",
      "[CV] END criterion=entropy, max_depth=10, max_features=None, min_samples_leaf=1, min_samples_split=5, n_estimators=200; total time=   5.4s\n",
      "[CV] END criterion=entropy, max_depth=10, max_features=None, min_samples_leaf=1, min_samples_split=5, n_estimators=200; total time=   5.5s\n",
      "[CV] END criterion=entropy, max_depth=10, max_features=None, min_samples_leaf=1, min_samples_split=5, n_estimators=200; total time=   5.5s\n",
      "[CV] END criterion=gini, max_depth=5, max_features=None, min_samples_leaf=5, min_samples_split=5, n_estimators=200; total time=   2.5s\n",
      "[CV] END criterion=gini, max_depth=5, max_features=None, min_samples_leaf=5, min_samples_split=5, n_estimators=200; total time=   2.6s\n",
      "[CV] END criterion=entropy, max_depth=10, max_features=None, min_samples_leaf=1, min_samples_split=5, n_estimators=200; total time=   5.5s\n",
      "[CV] END criterion=gini, max_depth=None, max_features=sqrt, min_samples_leaf=5, min_samples_split=10, n_estimators=500; total time=   3.0s\n",
      "[CV] END criterion=gini, max_depth=None, max_features=sqrt, min_samples_leaf=5, min_samples_split=10, n_estimators=500; total time=   2.9s\n",
      "[CV] END criterion=gini, max_depth=None, max_features=sqrt, min_samples_leaf=5, min_samples_split=10, n_estimators=500; total time=   3.0s\n",
      "[CV] END criterion=gini, max_depth=5, max_features=auto, min_samples_leaf=1, min_samples_split=10, n_estimators=1000; total time=   0.0s\n",
      "[CV] END criterion=gini, max_depth=5, max_features=auto, min_samples_leaf=1, min_samples_split=10, n_estimators=1000; total time=   0.0s\n",
      "[CV] END criterion=gini, max_depth=5, max_features=auto, min_samples_leaf=1, min_samples_split=10, n_estimators=1000; total time=   0.0s\n",
      "[CV] END criterion=gini, max_depth=5, max_features=auto, min_samples_leaf=1, min_samples_split=10, n_estimators=1000; total time=   0.0s\n",
      "[CV] END criterion=gini, max_depth=5, max_features=auto, min_samples_leaf=1, min_samples_split=10, n_estimators=1000; total time=   0.0s\n",
      "[CV] END criterion=gini, max_depth=None, max_features=sqrt, min_samples_leaf=5, min_samples_split=10, n_estimators=500; total time=   3.0s\n",
      "[CV] END criterion=gini, max_depth=None, max_features=sqrt, min_samples_leaf=5, min_samples_split=10, n_estimators=500; total time=   3.0s\n",
      "[CV] END criterion=gini, max_depth=10, max_features=sqrt, min_samples_leaf=1, min_samples_split=10, n_estimators=1000; total time=   6.0s\n",
      "[CV] END criterion=gini, max_depth=10, max_features=sqrt, min_samples_leaf=1, min_samples_split=10, n_estimators=1000; total time=   6.0s\n",
      "[CV] END criterion=gini, max_depth=10, max_features=sqrt, min_samples_leaf=1, min_samples_split=10, n_estimators=1000; total time=   6.0s\n",
      "[CV] END criterion=gini, max_depth=10, max_features=sqrt, min_samples_leaf=1, min_samples_split=10, n_estimators=1000; total time=   6.0s\n",
      "[CV] END criterion=gini, max_depth=10, max_features=sqrt, min_samples_leaf=1, min_samples_split=10, n_estimators=1000; total time=   6.1s\n",
      "[CV] END criterion=gini, max_depth=10, max_features=log2, min_samples_leaf=2, min_samples_split=5, n_estimators=500; total time=   2.8s\n",
      "[CV] END criterion=gini, max_depth=10, max_features=log2, min_samples_leaf=2, min_samples_split=5, n_estimators=500; total time=   2.8s\n",
      "[CV] END criterion=gini, max_depth=10, max_features=log2, min_samples_leaf=2, min_samples_split=5, n_estimators=500; total time=   2.7s\n",
      "[CV] END criterion=entropy, max_depth=5, max_features=None, min_samples_leaf=5, min_samples_split=10, n_estimators=500; total time=   8.2s\n",
      "[CV] END criterion=entropy, max_depth=5, max_features=None, min_samples_leaf=5, min_samples_split=10, n_estimators=500; total time=   8.2s\n",
      "[CV] END criterion=entropy, max_depth=5, max_features=None, min_samples_leaf=5, min_samples_split=10, n_estimators=500; total time=   8.2s\n",
      "[CV] END criterion=gini, max_depth=10, max_features=log2, min_samples_leaf=2, min_samples_split=5, n_estimators=500; total time=   2.7s\n",
      "[CV] END criterion=entropy, max_depth=2, max_features=sqrt, min_samples_leaf=1, min_samples_split=5, n_estimators=200; total time=   0.8s\n",
      "[CV] END criterion=entropy, max_depth=2, max_features=sqrt, min_samples_leaf=1, min_samples_split=5, n_estimators=200; total time=   0.8s\n",
      "[CV] END criterion=entropy, max_depth=2, max_features=sqrt, min_samples_leaf=1, min_samples_split=5, n_estimators=200; total time=   0.8s\n",
      "[CV] END criterion=entropy, max_depth=2, max_features=sqrt, min_samples_leaf=1, min_samples_split=5, n_estimators=200; total time=   0.8s\n",
      "[CV] END criterion=gini, max_depth=10, max_features=log2, min_samples_leaf=2, min_samples_split=5, n_estimators=500; total time=   2.7s\n",
      "[CV] END criterion=entropy, max_depth=2, max_features=sqrt, min_samples_leaf=1, min_samples_split=5, n_estimators=200; total time=   0.8s\n",
      "[CV] END criterion=gini, max_depth=None, max_features=auto, min_samples_leaf=2, min_samples_split=10, n_estimators=1000; total time=   0.0s\n",
      "[CV] END criterion=gini, max_depth=None, max_features=auto, min_samples_leaf=2, min_samples_split=10, n_estimators=1000; total time=   0.0s\n",
      "[CV] END criterion=gini, max_depth=None, max_features=auto, min_samples_leaf=2, min_samples_split=10, n_estimators=1000; total time=   0.0s\n",
      "[CV] END criterion=gini, max_depth=None, max_features=auto, min_samples_leaf=2, min_samples_split=10, n_estimators=1000; total time=   0.0s\n",
      "[CV] END criterion=gini, max_depth=None, max_features=auto, min_samples_leaf=2, min_samples_split=10, n_estimators=1000; total time=   0.0s\n",
      "[CV] END criterion=gini, max_depth=None, max_features=sqrt, min_samples_leaf=1, min_samples_split=10, n_estimators=100; total time=   0.7s\n",
      "[CV] END criterion=gini, max_depth=None, max_features=sqrt, min_samples_leaf=1, min_samples_split=10, n_estimators=100; total time=   0.7s\n",
      "[CV] END criterion=entropy, max_depth=5, max_features=None, min_samples_leaf=5, min_samples_split=10, n_estimators=500; total time=   8.3s\n",
      "[CV] END criterion=entropy, max_depth=5, max_features=None, min_samples_leaf=5, min_samples_split=10, n_estimators=500; total time=   8.4s\n",
      "[CV] END criterion=gini, max_depth=None, max_features=sqrt, min_samples_leaf=1, min_samples_split=10, n_estimators=100; total time=   0.6s\n",
      "[CV] END criterion=gini, max_depth=None, max_features=sqrt, min_samples_leaf=1, min_samples_split=10, n_estimators=100; total time=   0.7s\n",
      "[CV] END criterion=gini, max_depth=None, max_features=sqrt, min_samples_leaf=1, min_samples_split=10, n_estimators=100; total time=   0.7s\n",
      "[CV] END criterion=gini, max_depth=None, max_features=sqrt, min_samples_leaf=2, min_samples_split=2, n_estimators=1000; total time=   6.8s\n",
      "[CV] END criterion=gini, max_depth=None, max_features=sqrt, min_samples_leaf=2, min_samples_split=2, n_estimators=1000; total time=   6.6s\n",
      "[CV] END criterion=gini, max_depth=None, max_features=sqrt, min_samples_leaf=2, min_samples_split=2, n_estimators=1000; total time=   6.6s\n",
      "[CV] END criterion=gini, max_depth=None, max_features=sqrt, min_samples_leaf=2, min_samples_split=2, n_estimators=1000; total time=   6.6s\n",
      "[CV] END criterion=gini, max_depth=2, max_features=auto, min_samples_leaf=5, min_samples_split=2, n_estimators=500; total time=   0.0s\n",
      "[CV] END criterion=gini, max_depth=2, max_features=auto, min_samples_leaf=5, min_samples_split=2, n_estimators=500; total time=   0.0s\n",
      "[CV] END criterion=gini, max_depth=2, max_features=auto, min_samples_leaf=5, min_samples_split=2, n_estimators=500; total time=   0.0s\n",
      "[CV] END criterion=gini, max_depth=2, max_features=auto, min_samples_leaf=5, min_samples_split=2, n_estimators=500; total time=   0.0s\n",
      "[CV] END criterion=gini, max_depth=2, max_features=auto, min_samples_leaf=5, min_samples_split=2, n_estimators=500; total time=   0.0s\n",
      "[CV] END criterion=gini, max_depth=None, max_features=sqrt, min_samples_leaf=2, min_samples_split=2, n_estimators=1000; total time=   6.6s\n",
      "[CV] END criterion=gini, max_depth=2, max_features=None, min_samples_leaf=1, min_samples_split=10, n_estimators=100; total time=   0.8s\n",
      "[CV] END criterion=gini, max_depth=2, max_features=None, min_samples_leaf=1, min_samples_split=10, n_estimators=100; total time=   0.8s\n",
      "[CV] END criterion=gini, max_depth=2, max_features=None, min_samples_leaf=1, min_samples_split=10, n_estimators=100; total time=   0.7s\n",
      "[CV] END criterion=gini, max_depth=2, max_features=None, min_samples_leaf=1, min_samples_split=10, n_estimators=100; total time=   0.7s\n",
      "[CV] END criterion=gini, max_depth=2, max_features=None, min_samples_leaf=1, min_samples_split=10, n_estimators=100; total time=   0.7s\n",
      "[CV] END criterion=entropy, max_depth=2, max_features=None, min_samples_leaf=5, min_samples_split=5, n_estimators=200; total time=   1.5s\n",
      "[CV] END criterion=entropy, max_depth=2, max_features=None, min_samples_leaf=5, min_samples_split=5, n_estimators=200; total time=   1.5s\n",
      "[CV] END criterion=entropy, max_depth=2, max_features=None, min_samples_leaf=5, min_samples_split=5, n_estimators=200; total time=   1.5s\n",
      "[CV] END criterion=entropy, max_depth=2, max_features=None, min_samples_leaf=5, min_samples_split=5, n_estimators=200; total time=   1.5s\n",
      "[CV] END criterion=entropy, max_depth=2, max_features=None, min_samples_leaf=5, min_samples_split=5, n_estimators=200; total time=   1.5s\n",
      "[CV] END criterion=gini, max_depth=10, max_features=None, min_samples_leaf=5, min_samples_split=2, n_estimators=1000; total time=  18.8s\n",
      "[CV] END criterion=gini, max_depth=10, max_features=None, min_samples_leaf=5, min_samples_split=2, n_estimators=1000; total time=  19.4s\n",
      "[CV] END criterion=entropy, max_depth=10, max_features=None, min_samples_leaf=2, min_samples_split=10, n_estimators=500; total time=  12.3s\n",
      "[CV] END criterion=gini, max_depth=10, max_features=None, min_samples_leaf=5, min_samples_split=2, n_estimators=1000; total time=  19.1s\n",
      "[CV] END criterion=entropy, max_depth=10, max_features=None, min_samples_leaf=2, min_samples_split=10, n_estimators=500; total time=  12.7s\n",
      "[CV] END criterion=entropy, max_depth=10, max_features=None, min_samples_leaf=2, min_samples_split=10, n_estimators=500; total time=  12.3s\n",
      "[CV] END criterion=entropy, max_depth=None, max_features=sqrt, min_samples_leaf=1, min_samples_split=10, n_estimators=200; total time=   1.4s\n",
      "[CV] END criterion=entropy, max_depth=None, max_features=sqrt, min_samples_leaf=1, min_samples_split=10, n_estimators=200; total time=   1.4s\n",
      "[CV] END criterion=entropy, max_depth=5, max_features=log2, min_samples_leaf=1, min_samples_split=2, n_estimators=200; total time=   1.0s\n",
      "[CV] END criterion=entropy, max_depth=None, max_features=sqrt, min_samples_leaf=1, min_samples_split=10, n_estimators=200; total time=   1.5s\n",
      "[CV] END criterion=entropy, max_depth=None, max_features=sqrt, min_samples_leaf=1, min_samples_split=10, n_estimators=200; total time=   1.5s\n",
      "[CV] END criterion=entropy, max_depth=None, max_features=sqrt, min_samples_leaf=1, min_samples_split=10, n_estimators=200; total time=   1.5s\n",
      "[CV] END criterion=entropy, max_depth=5, max_features=log2, min_samples_leaf=1, min_samples_split=2, n_estimators=200; total time=   1.0s\n",
      "[CV] END criterion=gini, max_depth=10, max_features=None, min_samples_leaf=5, min_samples_split=2, n_estimators=1000; total time=  19.2s\n",
      "[CV] END criterion=gini, max_depth=10, max_features=None, min_samples_leaf=5, min_samples_split=2, n_estimators=1000; total time=  19.3s\n",
      "[CV] END criterion=entropy, max_depth=5, max_features=log2, min_samples_leaf=1, min_samples_split=2, n_estimators=200; total time=   0.9s\n",
      "[CV] END criterion=entropy, max_depth=5, max_features=log2, min_samples_leaf=1, min_samples_split=2, n_estimators=200; total time=   0.9s\n",
      "[CV] END criterion=entropy, max_depth=5, max_features=log2, min_samples_leaf=1, min_samples_split=2, n_estimators=200; total time=   0.9s\n",
      "[CV] END criterion=gini, max_depth=10, max_features=sqrt, min_samples_leaf=1, min_samples_split=10, n_estimators=200; total time=   1.2s\n",
      "[CV] END criterion=gini, max_depth=10, max_features=sqrt, min_samples_leaf=1, min_samples_split=10, n_estimators=200; total time=   1.2s\n",
      "[CV] END criterion=gini, max_depth=10, max_features=sqrt, min_samples_leaf=1, min_samples_split=10, n_estimators=200; total time=   1.2s\n",
      "[CV] END criterion=gini, max_depth=10, max_features=sqrt, min_samples_leaf=1, min_samples_split=10, n_estimators=200; total time=   1.2s\n",
      "[CV] END criterion=gini, max_depth=10, max_features=sqrt, min_samples_leaf=1, min_samples_split=10, n_estimators=200; total time=   1.2s\n",
      "[CV] END criterion=gini, max_depth=5, max_features=None, min_samples_leaf=5, min_samples_split=10, n_estimators=100; total time=   1.3s\n",
      "[CV] END criterion=entropy, max_depth=2, max_features=sqrt, min_samples_leaf=5, min_samples_split=10, n_estimators=200; total time=   0.8s\n",
      "[CV] END criterion=entropy, max_depth=2, max_features=sqrt, min_samples_leaf=5, min_samples_split=10, n_estimators=200; total time=   0.8s\n",
      "[CV] END criterion=gini, max_depth=5, max_features=None, min_samples_leaf=5, min_samples_split=10, n_estimators=100; total time=   1.3s\n",
      "[CV] END criterion=gini, max_depth=5, max_features=None, min_samples_leaf=5, min_samples_split=10, n_estimators=100; total time=   1.3s\n",
      "[CV] END criterion=gini, max_depth=5, max_features=None, min_samples_leaf=5, min_samples_split=10, n_estimators=100; total time=   1.3s\n",
      "[CV] END criterion=gini, max_depth=5, max_features=None, min_samples_leaf=5, min_samples_split=10, n_estimators=100; total time=   1.3s\n",
      "[CV] END criterion=entropy, max_depth=2, max_features=sqrt, min_samples_leaf=5, min_samples_split=10, n_estimators=200; total time=   0.8s\n",
      "[CV] END criterion=entropy, max_depth=2, max_features=sqrt, min_samples_leaf=5, min_samples_split=10, n_estimators=200; total time=   0.7s\n",
      "[CV] END criterion=entropy, max_depth=2, max_features=sqrt, min_samples_leaf=5, min_samples_split=10, n_estimators=200; total time=   0.8s\n",
      "[CV] END criterion=gini, max_depth=5, max_features=auto, min_samples_leaf=2, min_samples_split=10, n_estimators=200; total time=   0.0s\n",
      "[CV] END criterion=gini, max_depth=5, max_features=auto, min_samples_leaf=2, min_samples_split=10, n_estimators=200; total time=   0.0s\n",
      "[CV] END criterion=gini, max_depth=5, max_features=auto, min_samples_leaf=2, min_samples_split=10, n_estimators=200; total time=   0.0s\n",
      "[CV] END criterion=gini, max_depth=5, max_features=auto, min_samples_leaf=2, min_samples_split=10, n_estimators=200; total time=   0.0s\n",
      "[CV] END criterion=gini, max_depth=5, max_features=auto, min_samples_leaf=2, min_samples_split=10, n_estimators=200; total time=   0.0s\n",
      "[CV] END criterion=gini, max_depth=2, max_features=auto, min_samples_leaf=2, min_samples_split=2, n_estimators=500; total time=   0.0s\n",
      "[CV] END criterion=gini, max_depth=2, max_features=auto, min_samples_leaf=2, min_samples_split=2, n_estimators=500; total time=   0.0s\n",
      "[CV] END criterion=gini, max_depth=2, max_features=auto, min_samples_leaf=2, min_samples_split=2, n_estimators=500; total time=   0.0s\n",
      "[CV] END criterion=gini, max_depth=2, max_features=auto, min_samples_leaf=2, min_samples_split=2, n_estimators=500; total time=   0.0s\n",
      "[CV] END criterion=gini, max_depth=2, max_features=auto, min_samples_leaf=2, min_samples_split=2, n_estimators=500; total time=   0.0s\n",
      "[CV] END criterion=gini, max_depth=5, max_features=sqrt, min_samples_leaf=1, min_samples_split=10, n_estimators=100; total time=   0.5s\n",
      "[CV] END criterion=gini, max_depth=5, max_features=sqrt, min_samples_leaf=1, min_samples_split=10, n_estimators=100; total time=   0.5s\n",
      "[CV] END criterion=gini, max_depth=5, max_features=sqrt, min_samples_leaf=1, min_samples_split=10, n_estimators=100; total time=   0.5s\n",
      "[CV] END criterion=gini, max_depth=5, max_features=sqrt, min_samples_leaf=1, min_samples_split=10, n_estimators=100; total time=   0.5s\n",
      "[CV] END criterion=gini, max_depth=5, max_features=sqrt, min_samples_leaf=1, min_samples_split=10, n_estimators=100; total time=   0.5s\n",
      "[CV] END criterion=entropy, max_depth=10, max_features=auto, min_samples_leaf=5, min_samples_split=10, n_estimators=1000; total time=   0.0s\n",
      "[CV] END criterion=entropy, max_depth=10, max_features=auto, min_samples_leaf=5, min_samples_split=10, n_estimators=1000; total time=   0.0s\n",
      "[CV] END criterion=entropy, max_depth=10, max_features=auto, min_samples_leaf=5, min_samples_split=10, n_estimators=1000; total time=   0.0s\n",
      "[CV] END criterion=entropy, max_depth=10, max_features=auto, min_samples_leaf=5, min_samples_split=10, n_estimators=1000; total time=   0.0s\n",
      "[CV] END criterion=entropy, max_depth=10, max_features=auto, min_samples_leaf=5, min_samples_split=10, n_estimators=1000; total time=   0.0s\n",
      "[CV] END criterion=gini, max_depth=None, max_features=sqrt, min_samples_leaf=2, min_samples_split=10, n_estimators=100; total time=   0.6s\n",
      "[CV] END criterion=gini, max_depth=None, max_features=sqrt, min_samples_leaf=2, min_samples_split=10, n_estimators=100; total time=   0.6s\n",
      "[CV] END criterion=entropy, max_depth=10, max_features=None, min_samples_leaf=2, min_samples_split=10, n_estimators=200; total time=   5.0s\n",
      "[CV] END criterion=entropy, max_depth=10, max_features=None, min_samples_leaf=2, min_samples_split=10, n_estimators=200; total time=   5.0s\n",
      "[CV] END criterion=entropy, max_depth=10, max_features=None, min_samples_leaf=2, min_samples_split=10, n_estimators=200; total time=   4.9s\n",
      "[CV] END criterion=gini, max_depth=None, max_features=sqrt, min_samples_leaf=2, min_samples_split=10, n_estimators=100; total time=   0.6s\n",
      "[CV] END criterion=entropy, max_depth=10, max_features=None, min_samples_leaf=2, min_samples_split=10, n_estimators=200; total time=   5.0s\n",
      "[CV] END criterion=gini, max_depth=None, max_features=sqrt, min_samples_leaf=2, min_samples_split=10, n_estimators=100; total time=   0.6s\n",
      "[CV] END criterion=entropy, max_depth=10, max_features=None, min_samples_leaf=2, min_samples_split=10, n_estimators=200; total time=   5.0s\n",
      "[CV] END criterion=gini, max_depth=None, max_features=sqrt, min_samples_leaf=2, min_samples_split=10, n_estimators=100; total time=   0.6s\n",
      "[CV] END criterion=entropy, max_depth=10, max_features=None, min_samples_leaf=2, min_samples_split=10, n_estimators=500; total time=  12.5s\n",
      "[CV] END criterion=entropy, max_depth=10, max_features=None, min_samples_leaf=2, min_samples_split=10, n_estimators=500; total time=  12.6s\n",
      "[CV] END criterion=gini, max_depth=5, max_features=None, min_samples_leaf=2, min_samples_split=5, n_estimators=200; total time=   2.5s\n",
      "[CV] END criterion=entropy, max_depth=2, max_features=sqrt, min_samples_leaf=5, min_samples_split=5, n_estimators=500; total time=   1.9s\n",
      "[CV] END criterion=gini, max_depth=5, max_features=None, min_samples_leaf=2, min_samples_split=5, n_estimators=200; total time=   2.6s\n",
      "[CV] END criterion=entropy, max_depth=2, max_features=sqrt, min_samples_leaf=5, min_samples_split=5, n_estimators=500; total time=   1.9s\n",
      "[CV] END criterion=gini, max_depth=5, max_features=None, min_samples_leaf=2, min_samples_split=5, n_estimators=200; total time=   2.6s\n",
      "[CV] END criterion=entropy, max_depth=2, max_features=sqrt, min_samples_leaf=5, min_samples_split=5, n_estimators=500; total time=   1.9s\n",
      "[CV] END criterion=gini, max_depth=5, max_features=None, min_samples_leaf=2, min_samples_split=5, n_estimators=200; total time=   2.6s\n",
      "[CV] END criterion=gini, max_depth=5, max_features=None, min_samples_leaf=2, min_samples_split=5, n_estimators=200; total time=   2.7s\n",
      "[CV] END criterion=entropy, max_depth=2, max_features=sqrt, min_samples_leaf=5, min_samples_split=5, n_estimators=500; total time=   2.1s\n",
      "[CV] END criterion=entropy, max_depth=2, max_features=sqrt, min_samples_leaf=5, min_samples_split=5, n_estimators=500; total time=   2.0s\n",
      "[CV] END criterion=gini, max_depth=2, max_features=sqrt, min_samples_leaf=2, min_samples_split=5, n_estimators=1000; total time=   3.8s\n",
      "[CV] END criterion=gini, max_depth=2, max_features=sqrt, min_samples_leaf=2, min_samples_split=5, n_estimators=1000; total time=   3.8s\n",
      "[CV] END criterion=gini, max_depth=2, max_features=sqrt, min_samples_leaf=2, min_samples_split=5, n_estimators=1000; total time=   3.8s\n",
      "[CV] END criterion=gini, max_depth=2, max_features=sqrt, min_samples_leaf=2, min_samples_split=5, n_estimators=1000; total time=   3.8s\n",
      "[CV] END criterion=entropy, max_depth=2, max_features=log2, min_samples_leaf=5, min_samples_split=5, n_estimators=1000; total time=   3.8s\n",
      "[CV] END criterion=entropy, max_depth=None, max_features=auto, min_samples_leaf=2, min_samples_split=5, n_estimators=500; total time=   0.0s\n",
      "[CV] END criterion=gini, max_depth=2, max_features=sqrt, min_samples_leaf=2, min_samples_split=5, n_estimators=1000; total time=   3.9s\n",
      "[CV] END criterion=entropy, max_depth=None, max_features=auto, min_samples_leaf=2, min_samples_split=5, n_estimators=500; total time=   0.0s\n",
      "[CV] END criterion=entropy, max_depth=None, max_features=auto, min_samples_leaf=2, min_samples_split=5, n_estimators=500; total time=   0.0s\n",
      "[CV] END criterion=entropy, max_depth=None, max_features=auto, min_samples_leaf=2, min_samples_split=5, n_estimators=500; total time=   0.0s\n",
      "[CV] END criterion=entropy, max_depth=None, max_features=auto, min_samples_leaf=2, min_samples_split=5, n_estimators=500; total time=   0.0s\n",
      "[CV] END criterion=entropy, max_depth=2, max_features=log2, min_samples_leaf=5, min_samples_split=5, n_estimators=1000; total time=   3.7s\n",
      "[CV] END criterion=entropy, max_depth=2, max_features=log2, min_samples_leaf=5, min_samples_split=5, n_estimators=1000; total time=   3.7s\n",
      "[CV] END criterion=entropy, max_depth=2, max_features=log2, min_samples_leaf=5, min_samples_split=5, n_estimators=1000; total time=   3.8s\n",
      "[CV] END criterion=gini, max_depth=None, max_features=None, min_samples_leaf=5, min_samples_split=10, n_estimators=100; total time=   2.3s\n",
      "[CV] END criterion=entropy, max_depth=2, max_features=log2, min_samples_leaf=5, min_samples_split=5, n_estimators=1000; total time=   3.9s\n",
      "[CV] END criterion=gini, max_depth=None, max_features=None, min_samples_leaf=5, min_samples_split=10, n_estimators=100; total time=   2.1s\n",
      "[CV] END criterion=gini, max_depth=None, max_features=None, min_samples_leaf=5, min_samples_split=10, n_estimators=100; total time=   2.2s\n",
      "[CV] END criterion=gini, max_depth=None, max_features=None, min_samples_leaf=5, min_samples_split=10, n_estimators=100; total time=   2.2s\n",
      "[CV] END criterion=entropy, max_depth=10, max_features=log2, min_samples_leaf=2, min_samples_split=5, n_estimators=1000; total time=   6.4s\n",
      "[CV] END criterion=entropy, max_depth=10, max_features=log2, min_samples_leaf=2, min_samples_split=5, n_estimators=1000; total time=   6.5s\n",
      "[CV] END criterion=entropy, max_depth=10, max_features=log2, min_samples_leaf=2, min_samples_split=5, n_estimators=1000; total time=   6.5s\n",
      "[CV] END criterion=entropy, max_depth=10, max_features=log2, min_samples_leaf=2, min_samples_split=5, n_estimators=1000; total time=   6.5s\n",
      "[CV] END criterion=gini, max_depth=None, max_features=None, min_samples_leaf=5, min_samples_split=10, n_estimators=100; total time=   2.1s\n",
      "[CV] END criterion=entropy, max_depth=10, max_features=log2, min_samples_leaf=2, min_samples_split=5, n_estimators=1000; total time=   6.5s\n",
      "[CV] END criterion=entropy, max_depth=2, max_features=sqrt, min_samples_leaf=5, min_samples_split=2, n_estimators=1000; total time=   4.0s\n",
      "[CV] END criterion=entropy, max_depth=2, max_features=sqrt, min_samples_leaf=5, min_samples_split=2, n_estimators=1000; total time=   4.0s\n",
      "[CV] END criterion=entropy, max_depth=2, max_features=sqrt, min_samples_leaf=5, min_samples_split=2, n_estimators=1000; total time=   3.9s\n",
      "[CV] END criterion=entropy, max_depth=2, max_features=sqrt, min_samples_leaf=5, min_samples_split=2, n_estimators=1000; total time=   4.0s\n",
      "[CV] END criterion=entropy, max_depth=2, max_features=sqrt, min_samples_leaf=5, min_samples_split=2, n_estimators=1000; total time=   4.0s\n",
      "[CV] END criterion=gini, max_depth=None, max_features=log2, min_samples_leaf=5, min_samples_split=10, n_estimators=1000; total time=   5.6s\n",
      "[CV] END criterion=gini, max_depth=None, max_features=log2, min_samples_leaf=5, min_samples_split=10, n_estimators=1000; total time=   5.4s\n",
      "[CV] END criterion=gini, max_depth=None, max_features=log2, min_samples_leaf=5, min_samples_split=10, n_estimators=1000; total time=   5.5s\n",
      "[CV] END criterion=gini, max_depth=None, max_features=log2, min_samples_leaf=5, min_samples_split=10, n_estimators=1000; total time=   5.5s\n",
      "[CV] END criterion=gini, max_depth=None, max_features=log2, min_samples_leaf=5, min_samples_split=10, n_estimators=1000; total time=   5.4s\n",
      "[CV] END criterion=gini, max_depth=None, max_features=log2, min_samples_leaf=2, min_samples_split=2, n_estimators=500; total time=   3.0s\n",
      "[CV] END criterion=gini, max_depth=None, max_features=log2, min_samples_leaf=2, min_samples_split=2, n_estimators=500; total time=   3.0s\n",
      "[CV] END criterion=gini, max_depth=None, max_features=log2, min_samples_leaf=2, min_samples_split=2, n_estimators=500; total time=   2.9s\n",
      "[CV] END criterion=gini, max_depth=None, max_features=log2, min_samples_leaf=2, min_samples_split=2, n_estimators=500; total time=   3.0s\n",
      "[CV] END criterion=gini, max_depth=None, max_features=log2, min_samples_leaf=2, min_samples_split=2, n_estimators=500; total time=   3.0s\n",
      "[CV] END criterion=gini, max_depth=2, max_features=None, min_samples_leaf=2, min_samples_split=5, n_estimators=500; total time=   3.4s\n",
      "[CV] END criterion=gini, max_depth=2, max_features=None, min_samples_leaf=2, min_samples_split=5, n_estimators=500; total time=   3.6s\n",
      "[CV] END criterion=gini, max_depth=2, max_features=None, min_samples_leaf=2, min_samples_split=5, n_estimators=500; total time=   3.6s\n",
      "[CV] END criterion=gini, max_depth=2, max_features=None, min_samples_leaf=2, min_samples_split=5, n_estimators=500; total time=   3.6s\n",
      "[CV] END criterion=gini, max_depth=2, max_features=None, min_samples_leaf=2, min_samples_split=5, n_estimators=500; total time=   3.5s\n",
      "[CV] END criterion=gini, max_depth=2, max_features=log2, min_samples_leaf=5, min_samples_split=5, n_estimators=1000; total time=   3.8s\n",
      "[CV] END criterion=gini, max_depth=2, max_features=log2, min_samples_leaf=5, min_samples_split=5, n_estimators=1000; total time=   3.7s\n",
      "[CV] END criterion=gini, max_depth=2, max_features=log2, min_samples_leaf=5, min_samples_split=5, n_estimators=1000; total time=   3.7s\n",
      "[CV] END criterion=gini, max_depth=2, max_features=log2, min_samples_leaf=5, min_samples_split=5, n_estimators=1000; total time=   3.6s\n",
      "[CV] END criterion=gini, max_depth=2, max_features=log2, min_samples_leaf=5, min_samples_split=5, n_estimators=1000; total time=   3.6s\n",
      "[CV] END criterion=gini, max_depth=2, max_features=None, min_samples_leaf=2, min_samples_split=10, n_estimators=500; total time=   3.5s\n",
      "[CV] END criterion=gini, max_depth=2, max_features=None, min_samples_leaf=2, min_samples_split=10, n_estimators=500; total time=   3.5s\n",
      "[CV] END criterion=entropy, max_depth=10, max_features=None, min_samples_leaf=2, min_samples_split=10, n_estimators=1000; total time=  25.4s\n",
      "[CV] END criterion=entropy, max_depth=10, max_features=None, min_samples_leaf=2, min_samples_split=10, n_estimators=1000; total time=  25.6s\n",
      "[CV] END criterion=gini, max_depth=2, max_features=None, min_samples_leaf=2, min_samples_split=10, n_estimators=500; total time=   3.4s\n",
      "[CV] END criterion=entropy, max_depth=10, max_features=None, min_samples_leaf=2, min_samples_split=10, n_estimators=1000; total time=  25.8s\n",
      "[CV] END criterion=gini, max_depth=2, max_features=None, min_samples_leaf=2, min_samples_split=10, n_estimators=500; total time=   3.5s\n",
      "[CV] END criterion=entropy, max_depth=10, max_features=None, min_samples_leaf=2, min_samples_split=10, n_estimators=1000; total time=  25.8s\n",
      "[CV] END criterion=gini, max_depth=5, max_features=auto, min_samples_leaf=1, min_samples_split=2, n_estimators=500; total time=   0.0s\n",
      "[CV] END criterion=gini, max_depth=5, max_features=auto, min_samples_leaf=1, min_samples_split=2, n_estimators=500; total time=   0.0s\n",
      "[CV] END criterion=gini, max_depth=5, max_features=auto, min_samples_leaf=1, min_samples_split=2, n_estimators=500; total time=   0.0s\n",
      "[CV] END criterion=gini, max_depth=5, max_features=auto, min_samples_leaf=1, min_samples_split=2, n_estimators=500; total time=   0.0s\n",
      "[CV] END criterion=gini, max_depth=5, max_features=auto, min_samples_leaf=1, min_samples_split=2, n_estimators=500; total time=   0.0s\n",
      "[CV] END criterion=entropy, max_depth=5, max_features=sqrt, min_samples_leaf=2, min_samples_split=5, n_estimators=500; total time=   2.7s\n",
      "[CV] END criterion=entropy, max_depth=5, max_features=sqrt, min_samples_leaf=2, min_samples_split=5, n_estimators=500; total time=   2.7s\n",
      "[CV] END criterion=entropy, max_depth=5, max_features=sqrt, min_samples_leaf=2, min_samples_split=5, n_estimators=500; total time=   2.7s\n",
      "[CV] END criterion=entropy, max_depth=5, max_features=sqrt, min_samples_leaf=2, min_samples_split=5, n_estimators=500; total time=   2.7s\n",
      "[CV] END criterion=entropy, max_depth=10, max_features=None, min_samples_leaf=2, min_samples_split=10, n_estimators=1000; total time=  25.9s\n",
      "[CV] END criterion=gini, max_depth=2, max_features=None, min_samples_leaf=2, min_samples_split=10, n_estimators=500; total time=   3.5s\n",
      "[CV] END criterion=gini, max_depth=5, max_features=log2, min_samples_leaf=2, min_samples_split=10, n_estimators=100; total time=   0.4s\n",
      "[CV] END criterion=entropy, max_depth=5, max_features=sqrt, min_samples_leaf=2, min_samples_split=5, n_estimators=500; total time=   2.6s\n",
      "[CV] END criterion=gini, max_depth=5, max_features=log2, min_samples_leaf=2, min_samples_split=10, n_estimators=100; total time=   0.4s\n",
      "[CV] END criterion=gini, max_depth=5, max_features=log2, min_samples_leaf=2, min_samples_split=10, n_estimators=100; total time=   0.5s\n",
      "[CV] END criterion=gini, max_depth=5, max_features=log2, min_samples_leaf=2, min_samples_split=10, n_estimators=100; total time=   0.4s\n",
      "[CV] END criterion=gini, max_depth=5, max_features=log2, min_samples_leaf=1, min_samples_split=2, n_estimators=500; total time=   2.2s\n",
      "[CV] END criterion=gini, max_depth=5, max_features=log2, min_samples_leaf=2, min_samples_split=10, n_estimators=100; total time=   0.5s\n",
      "[CV] END criterion=gini, max_depth=5, max_features=log2, min_samples_leaf=1, min_samples_split=2, n_estimators=500; total time=   2.1s\n",
      "[CV] END criterion=gini, max_depth=5, max_features=log2, min_samples_leaf=1, min_samples_split=2, n_estimators=500; total time=   2.2s\n",
      "[CV] END criterion=gini, max_depth=5, max_features=sqrt, min_samples_leaf=1, min_samples_split=10, n_estimators=200; total time=   1.0s\n",
      "[CV] END criterion=gini, max_depth=5, max_features=sqrt, min_samples_leaf=1, min_samples_split=10, n_estimators=200; total time=   0.9s\n",
      "[CV] END criterion=gini, max_depth=5, max_features=sqrt, min_samples_leaf=1, min_samples_split=10, n_estimators=200; total time=   0.9s\n",
      "[CV] END criterion=gini, max_depth=5, max_features=log2, min_samples_leaf=1, min_samples_split=2, n_estimators=500; total time=   2.1s\n",
      "[CV] END criterion=gini, max_depth=5, max_features=log2, min_samples_leaf=1, min_samples_split=2, n_estimators=500; total time=   2.2s\n",
      "[CV] END criterion=gini, max_depth=5, max_features=sqrt, min_samples_leaf=1, min_samples_split=10, n_estimators=200; total time=   1.0s\n",
      "[CV] END criterion=gini, max_depth=5, max_features=sqrt, min_samples_leaf=1, min_samples_split=10, n_estimators=200; total time=   0.9s\n",
      "[CV] END criterion=entropy, max_depth=None, max_features=log2, min_samples_leaf=2, min_samples_split=2, n_estimators=200; total time=   1.3s\n",
      "[CV] END criterion=entropy, max_depth=None, max_features=log2, min_samples_leaf=2, min_samples_split=2, n_estimators=200; total time=   1.3s\n",
      "[CV] END criterion=entropy, max_depth=None, max_features=log2, min_samples_leaf=2, min_samples_split=2, n_estimators=200; total time=   1.4s\n",
      "[CV] END criterion=gini, max_depth=2, max_features=log2, min_samples_leaf=5, min_samples_split=5, n_estimators=100; total time=   0.4s\n",
      "[CV] END criterion=gini, max_depth=2, max_features=log2, min_samples_leaf=5, min_samples_split=5, n_estimators=100; total time=   0.4s\n",
      "[CV] END criterion=entropy, max_depth=None, max_features=log2, min_samples_leaf=2, min_samples_split=2, n_estimators=200; total time=   1.4s\n",
      "[CV] END criterion=entropy, max_depth=None, max_features=log2, min_samples_leaf=2, min_samples_split=2, n_estimators=200; total time=   1.4s\n",
      "[CV] END criterion=gini, max_depth=2, max_features=log2, min_samples_leaf=5, min_samples_split=5, n_estimators=100; total time=   0.4s\n",
      "[CV] END criterion=gini, max_depth=2, max_features=log2, min_samples_leaf=5, min_samples_split=5, n_estimators=100; total time=   0.4s\n",
      "[CV] END criterion=gini, max_depth=2, max_features=log2, min_samples_leaf=5, min_samples_split=5, n_estimators=100; total time=   0.4s\n",
      "[CV] END criterion=entropy, max_depth=2, max_features=sqrt, min_samples_leaf=1, min_samples_split=10, n_estimators=100; total time=   0.4s\n",
      "[CV] END criterion=entropy, max_depth=2, max_features=sqrt, min_samples_leaf=1, min_samples_split=10, n_estimators=100; total time=   0.4s\n",
      "[CV] END criterion=entropy, max_depth=2, max_features=sqrt, min_samples_leaf=1, min_samples_split=10, n_estimators=100; total time=   0.4s\n",
      "[CV] END criterion=entropy, max_depth=2, max_features=sqrt, min_samples_leaf=1, min_samples_split=10, n_estimators=100; total time=   0.4s\n",
      "[CV] END criterion=entropy, max_depth=2, max_features=sqrt, min_samples_leaf=1, min_samples_split=10, n_estimators=100; total time=   0.4s\n",
      "[CV] END criterion=gini, max_depth=None, max_features=None, min_samples_leaf=1, min_samples_split=5, n_estimators=200; total time=   5.3s\n",
      "[CV] END criterion=gini, max_depth=None, max_features=None, min_samples_leaf=1, min_samples_split=5, n_estimators=200; total time=   5.3s\n",
      "[CV] END criterion=gini, max_depth=None, max_features=None, min_samples_leaf=1, min_samples_split=5, n_estimators=200; total time=   5.3s\n",
      "[CV] END criterion=gini, max_depth=None, max_features=None, min_samples_leaf=1, min_samples_split=5, n_estimators=200; total time=   5.6s\n",
      "[CV] END criterion=gini, max_depth=None, max_features=None, min_samples_leaf=1, min_samples_split=5, n_estimators=200; total time=   5.4s\n",
      "[CV] END criterion=gini, max_depth=10, max_features=log2, min_samples_leaf=1, min_samples_split=10, n_estimators=200; total time=   1.1s\n",
      "[CV] END criterion=gini, max_depth=10, max_features=log2, min_samples_leaf=1, min_samples_split=10, n_estimators=200; total time=   1.1s\n",
      "[CV] END criterion=gini, max_depth=10, max_features=log2, min_samples_leaf=1, min_samples_split=10, n_estimators=200; total time=   1.1s\n",
      "[CV] END criterion=entropy, max_depth=5, max_features=auto, min_samples_leaf=1, min_samples_split=10, n_estimators=1000; total time=   0.0s\n",
      "[CV] END criterion=entropy, max_depth=5, max_features=auto, min_samples_leaf=1, min_samples_split=10, n_estimators=1000; total time=   0.0s\n",
      "[CV] END criterion=entropy, max_depth=5, max_features=auto, min_samples_leaf=1, min_samples_split=10, n_estimators=1000; total time=   0.0s\n",
      "[CV] END criterion=entropy, max_depth=5, max_features=auto, min_samples_leaf=1, min_samples_split=10, n_estimators=1000; total time=   0.0s\n",
      "[CV] END criterion=entropy, max_depth=5, max_features=auto, min_samples_leaf=1, min_samples_split=10, n_estimators=1000; total time=   0.0s\n",
      "[CV] END criterion=gini, max_depth=None, max_features=log2, min_samples_leaf=5, min_samples_split=2, n_estimators=100; total time=   0.6s\n",
      "[CV] END criterion=gini, max_depth=10, max_features=log2, min_samples_leaf=1, min_samples_split=10, n_estimators=200; total time=   1.1s\n",
      "[CV] END criterion=gini, max_depth=10, max_features=log2, min_samples_leaf=1, min_samples_split=10, n_estimators=200; total time=   1.1s\n",
      "[CV] END criterion=gini, max_depth=None, max_features=log2, min_samples_leaf=5, min_samples_split=2, n_estimators=100; total time=   0.5s\n",
      "[CV] END criterion=gini, max_depth=None, max_features=log2, min_samples_leaf=5, min_samples_split=2, n_estimators=100; total time=   0.5s\n",
      "[CV] END criterion=gini, max_depth=None, max_features=log2, min_samples_leaf=5, min_samples_split=2, n_estimators=100; total time=   0.5s\n",
      "[CV] END criterion=gini, max_depth=None, max_features=log2, min_samples_leaf=5, min_samples_split=2, n_estimators=100; total time=   0.5s\n",
      "[CV] END criterion=entropy, max_depth=2, max_features=sqrt, min_samples_leaf=2, min_samples_split=2, n_estimators=1000; total time=   3.8s\n",
      "[CV] END criterion=entropy, max_depth=2, max_features=sqrt, min_samples_leaf=2, min_samples_split=2, n_estimators=1000; total time=   3.8s\n",
      "[CV] END criterion=entropy, max_depth=2, max_features=sqrt, min_samples_leaf=2, min_samples_split=2, n_estimators=1000; total time=   3.8s\n",
      "[CV] END criterion=entropy, max_depth=2, max_features=sqrt, min_samples_leaf=2, min_samples_split=2, n_estimators=1000; total time=   3.8s\n",
      "[CV] END criterion=entropy, max_depth=2, max_features=sqrt, min_samples_leaf=2, min_samples_split=2, n_estimators=1000; total time=   3.8s\n",
      "[CV] END criterion=gini, max_depth=5, max_features=log2, min_samples_leaf=1, min_samples_split=10, n_estimators=1000; total time=   4.3s\n",
      "[CV] END criterion=entropy, max_depth=5, max_features=None, min_samples_leaf=5, min_samples_split=5, n_estimators=1000; total time=  16.5s\n",
      "[CV] END criterion=gini, max_depth=5, max_features=log2, min_samples_leaf=1, min_samples_split=10, n_estimators=1000; total time=   4.4s\n",
      "[CV] END criterion=gini, max_depth=5, max_features=log2, min_samples_leaf=1, min_samples_split=10, n_estimators=1000; total time=   4.4s\n",
      "[CV] END criterion=entropy, max_depth=5, max_features=None, min_samples_leaf=5, min_samples_split=5, n_estimators=1000; total time=  16.5s\n",
      "[CV] END criterion=entropy, max_depth=5, max_features=None, min_samples_leaf=5, min_samples_split=5, n_estimators=1000; total time=  16.5s\n",
      "[CV] END criterion=gini, max_depth=5, max_features=log2, min_samples_leaf=1, min_samples_split=10, n_estimators=1000; total time=   4.2s\n",
      "[CV] END criterion=entropy, max_depth=5, max_features=None, min_samples_leaf=5, min_samples_split=5, n_estimators=1000; total time=  16.0s\n",
      "[CV] END criterion=entropy, max_depth=5, max_features=None, min_samples_leaf=5, min_samples_split=5, n_estimators=1000; total time=  16.1s\n",
      "[CV] END criterion=gini, max_depth=5, max_features=log2, min_samples_leaf=1, min_samples_split=10, n_estimators=1000; total time=   2.5s\n"
     ]
    },
    {
     "name": "stderr",
     "output_type": "stream",
     "text": [
      "/Users/adeshkadambi/Documents/GitHub/EgoVizML/.venv/lib/python3.11/site-packages/sklearn/model_selection/_validation.py:425: FitFailedWarning: \n",
      "105 fits failed out of a total of 500.\n",
      "The score on these train-test partitions for these parameters will be set to nan.\n",
      "If these failures are not expected, you can try to debug them by setting error_score='raise'.\n",
      "\n",
      "Below are more details about the failures:\n",
      "--------------------------------------------------------------------------------\n",
      "6 fits failed with the following error:\n",
      "Traceback (most recent call last):\n",
      "  File \"/Users/adeshkadambi/Documents/GitHub/EgoVizML/.venv/lib/python3.11/site-packages/sklearn/model_selection/_validation.py\", line 729, in _fit_and_score\n",
      "    estimator.fit(X_train, y_train, **fit_params)\n",
      "  File \"/Users/adeshkadambi/Documents/GitHub/EgoVizML/.venv/lib/python3.11/site-packages/sklearn/base.py\", line 1145, in wrapper\n",
      "    estimator._validate_params()\n",
      "  File \"/Users/adeshkadambi/Documents/GitHub/EgoVizML/.venv/lib/python3.11/site-packages/sklearn/base.py\", line 638, in _validate_params\n",
      "    validate_parameter_constraints(\n",
      "  File \"/Users/adeshkadambi/Documents/GitHub/EgoVizML/.venv/lib/python3.11/site-packages/sklearn/utils/_param_validation.py\", line 95, in validate_parameter_constraints\n",
      "    raise InvalidParameterError(\n",
      "sklearn.utils._param_validation.InvalidParameterError: The 'max_features' parameter of RandomForestClassifier must be an int in the range [1, inf), a float in the range (0.0, 1.0], a str among {'sqrt', 'log2'} or None. Got 'auto' instead.\n",
      "\n",
      "--------------------------------------------------------------------------------\n",
      "99 fits failed with the following error:\n",
      "Traceback (most recent call last):\n",
      "  File \"/Users/adeshkadambi/Documents/GitHub/EgoVizML/.venv/lib/python3.11/site-packages/sklearn/model_selection/_validation.py\", line 729, in _fit_and_score\n",
      "    estimator.fit(X_train, y_train, **fit_params)\n",
      "  File \"/Users/adeshkadambi/Documents/GitHub/EgoVizML/.venv/lib/python3.11/site-packages/sklearn/base.py\", line 1145, in wrapper\n",
      "    estimator._validate_params()\n",
      "  File \"/Users/adeshkadambi/Documents/GitHub/EgoVizML/.venv/lib/python3.11/site-packages/sklearn/base.py\", line 638, in _validate_params\n",
      "    validate_parameter_constraints(\n",
      "  File \"/Users/adeshkadambi/Documents/GitHub/EgoVizML/.venv/lib/python3.11/site-packages/sklearn/utils/_param_validation.py\", line 95, in validate_parameter_constraints\n",
      "    raise InvalidParameterError(\n",
      "sklearn.utils._param_validation.InvalidParameterError: The 'max_features' parameter of RandomForestClassifier must be an int in the range [1, inf), a float in the range (0.0, 1.0], a str among {'log2', 'sqrt'} or None. Got 'auto' instead.\n",
      "\n",
      "  warnings.warn(some_fits_failed_message, FitFailedWarning)\n",
      "/Users/adeshkadambi/Documents/GitHub/EgoVizML/.venv/lib/python3.11/site-packages/sklearn/model_selection/_search.py:979: UserWarning: One or more of the test scores are non-finite: [       nan        nan        nan 0.60620284 0.88108079 0.61947782\n",
      " 0.90099937 0.8655974  0.84347347 0.84292404 0.8915918  0.61173383\n",
      " 0.84402902 0.56968213 0.89602547        nan 0.89214735        nan\n",
      " 0.60675686        nan 0.60618601 0.90597787 0.83905511 0.83959994\n",
      " 0.83960301        nan        nan 0.88827536 0.8794218  0.83684057\n",
      "        nan 0.90210894 0.9048729  0.90707978        nan 0.61615831\n",
      " 0.61615831 0.86891385 0.88440795 0.84457844 0.61173383 0.62997658\n",
      " 0.88992975        nan        nan 0.77488866 0.89215194 0.8938094\n",
      "        nan 0.8091826  0.89546992 0.63274973 0.90155492        nan\n",
      " 0.8971335  0.85287186        nan 0.56968213 0.60010101 0.88605929\n",
      " 0.89767833 0.83849956 0.89048683 0.77433464 0.63219571 0.88495432\n",
      "        nan        nan 0.83849956        nan 0.89270596 0.77655071\n",
      " 0.62997658 0.62998271 0.61615831        nan 0.89381246 0.85508027\n",
      " 0.62997658 0.88938339 0.88661178 0.90211047 0.56968213 0.6200303\n",
      " 0.56968213 0.84955847        nan 0.83794096 0.82742688 0.84292098\n",
      " 0.87278891 0.90376946 0.60620284 0.63053519 0.80807762 0.88828148\n",
      "        nan 0.88772287 0.62997658 0.8351724 ]\n",
      "  warnings.warn(\n"
     ]
    },
    {
     "data": {
      "text/html": [
       "<style>#sk-container-id-1 {color: black;}#sk-container-id-1 pre{padding: 0;}#sk-container-id-1 div.sk-toggleable {background-color: white;}#sk-container-id-1 label.sk-toggleable__label {cursor: pointer;display: block;width: 100%;margin-bottom: 0;padding: 0.3em;box-sizing: border-box;text-align: center;}#sk-container-id-1 label.sk-toggleable__label-arrow:before {content: \"▸\";float: left;margin-right: 0.25em;color: #696969;}#sk-container-id-1 label.sk-toggleable__label-arrow:hover:before {color: black;}#sk-container-id-1 div.sk-estimator:hover label.sk-toggleable__label-arrow:before {color: black;}#sk-container-id-1 div.sk-toggleable__content {max-height: 0;max-width: 0;overflow: hidden;text-align: left;background-color: #f0f8ff;}#sk-container-id-1 div.sk-toggleable__content pre {margin: 0.2em;color: black;border-radius: 0.25em;background-color: #f0f8ff;}#sk-container-id-1 input.sk-toggleable__control:checked~div.sk-toggleable__content {max-height: 200px;max-width: 100%;overflow: auto;}#sk-container-id-1 input.sk-toggleable__control:checked~label.sk-toggleable__label-arrow:before {content: \"▾\";}#sk-container-id-1 div.sk-estimator input.sk-toggleable__control:checked~label.sk-toggleable__label {background-color: #d4ebff;}#sk-container-id-1 div.sk-label input.sk-toggleable__control:checked~label.sk-toggleable__label {background-color: #d4ebff;}#sk-container-id-1 input.sk-hidden--visually {border: 0;clip: rect(1px 1px 1px 1px);clip: rect(1px, 1px, 1px, 1px);height: 1px;margin: -1px;overflow: hidden;padding: 0;position: absolute;width: 1px;}#sk-container-id-1 div.sk-estimator {font-family: monospace;background-color: #f0f8ff;border: 1px dotted black;border-radius: 0.25em;box-sizing: border-box;margin-bottom: 0.5em;}#sk-container-id-1 div.sk-estimator:hover {background-color: #d4ebff;}#sk-container-id-1 div.sk-parallel-item::after {content: \"\";width: 100%;border-bottom: 1px solid gray;flex-grow: 1;}#sk-container-id-1 div.sk-label:hover label.sk-toggleable__label {background-color: #d4ebff;}#sk-container-id-1 div.sk-serial::before {content: \"\";position: absolute;border-left: 1px solid gray;box-sizing: border-box;top: 0;bottom: 0;left: 50%;z-index: 0;}#sk-container-id-1 div.sk-serial {display: flex;flex-direction: column;align-items: center;background-color: white;padding-right: 0.2em;padding-left: 0.2em;position: relative;}#sk-container-id-1 div.sk-item {position: relative;z-index: 1;}#sk-container-id-1 div.sk-parallel {display: flex;align-items: stretch;justify-content: center;background-color: white;position: relative;}#sk-container-id-1 div.sk-item::before, #sk-container-id-1 div.sk-parallel-item::before {content: \"\";position: absolute;border-left: 1px solid gray;box-sizing: border-box;top: 0;bottom: 0;left: 50%;z-index: -1;}#sk-container-id-1 div.sk-parallel-item {display: flex;flex-direction: column;z-index: 1;position: relative;background-color: white;}#sk-container-id-1 div.sk-parallel-item:first-child::after {align-self: flex-end;width: 50%;}#sk-container-id-1 div.sk-parallel-item:last-child::after {align-self: flex-start;width: 50%;}#sk-container-id-1 div.sk-parallel-item:only-child::after {width: 0;}#sk-container-id-1 div.sk-dashed-wrapped {border: 1px dashed gray;margin: 0 0.4em 0.5em 0.4em;box-sizing: border-box;padding-bottom: 0.4em;background-color: white;}#sk-container-id-1 div.sk-label label {font-family: monospace;font-weight: bold;display: inline-block;line-height: 1.2em;}#sk-container-id-1 div.sk-label-container {text-align: center;}#sk-container-id-1 div.sk-container {/* jupyter's `normalize.less` sets `[hidden] { display: none; }` but bootstrap.min.css set `[hidden] { display: none !important; }` so we also need the `!important` here to be able to override the default hidden behavior on the sphinx rendered scikit-learn.org. See: https://github.com/scikit-learn/scikit-learn/issues/21755 */display: inline-block !important;position: relative;}#sk-container-id-1 div.sk-text-repr-fallback {display: none;}</style><div id=\"sk-container-id-1\" class=\"sk-top-container\"><div class=\"sk-text-repr-fallback\"><pre>RandomizedSearchCV(cv=5, estimator=RandomForestClassifier(random_state=42),\n",
       "                   n_iter=100, n_jobs=-1,\n",
       "                   param_distributions={&#x27;criterion&#x27;: [&#x27;gini&#x27;, &#x27;entropy&#x27;],\n",
       "                                        &#x27;max_depth&#x27;: [None, 2, 5, 10],\n",
       "                                        &#x27;max_features&#x27;: [&#x27;auto&#x27;, &#x27;sqrt&#x27;, &#x27;log2&#x27;,\n",
       "                                                         None],\n",
       "                                        &#x27;min_samples_leaf&#x27;: [1, 2, 5],\n",
       "                                        &#x27;min_samples_split&#x27;: [2, 5, 10],\n",
       "                                        &#x27;n_estimators&#x27;: [100, 200, 500, 1000]},\n",
       "                   random_state=42, verbose=2)</pre><b>In a Jupyter environment, please rerun this cell to show the HTML representation or trust the notebook. <br />On GitHub, the HTML representation is unable to render, please try loading this page with nbviewer.org.</b></div><div class=\"sk-container\" hidden><div class=\"sk-item sk-dashed-wrapped\"><div class=\"sk-label-container\"><div class=\"sk-label sk-toggleable\"><input class=\"sk-toggleable__control sk-hidden--visually\" id=\"sk-estimator-id-1\" type=\"checkbox\" ><label for=\"sk-estimator-id-1\" class=\"sk-toggleable__label sk-toggleable__label-arrow\">RandomizedSearchCV</label><div class=\"sk-toggleable__content\"><pre>RandomizedSearchCV(cv=5, estimator=RandomForestClassifier(random_state=42),\n",
       "                   n_iter=100, n_jobs=-1,\n",
       "                   param_distributions={&#x27;criterion&#x27;: [&#x27;gini&#x27;, &#x27;entropy&#x27;],\n",
       "                                        &#x27;max_depth&#x27;: [None, 2, 5, 10],\n",
       "                                        &#x27;max_features&#x27;: [&#x27;auto&#x27;, &#x27;sqrt&#x27;, &#x27;log2&#x27;,\n",
       "                                                         None],\n",
       "                                        &#x27;min_samples_leaf&#x27;: [1, 2, 5],\n",
       "                                        &#x27;min_samples_split&#x27;: [2, 5, 10],\n",
       "                                        &#x27;n_estimators&#x27;: [100, 200, 500, 1000]},\n",
       "                   random_state=42, verbose=2)</pre></div></div></div><div class=\"sk-parallel\"><div class=\"sk-parallel-item\"><div class=\"sk-item\"><div class=\"sk-label-container\"><div class=\"sk-label sk-toggleable\"><input class=\"sk-toggleable__control sk-hidden--visually\" id=\"sk-estimator-id-2\" type=\"checkbox\" ><label for=\"sk-estimator-id-2\" class=\"sk-toggleable__label sk-toggleable__label-arrow\">estimator: RandomForestClassifier</label><div class=\"sk-toggleable__content\"><pre>RandomForestClassifier(random_state=42)</pre></div></div></div><div class=\"sk-serial\"><div class=\"sk-item\"><div class=\"sk-estimator sk-toggleable\"><input class=\"sk-toggleable__control sk-hidden--visually\" id=\"sk-estimator-id-3\" type=\"checkbox\" ><label for=\"sk-estimator-id-3\" class=\"sk-toggleable__label sk-toggleable__label-arrow\">RandomForestClassifier</label><div class=\"sk-toggleable__content\"><pre>RandomForestClassifier(random_state=42)</pre></div></div></div></div></div></div></div></div></div></div>"
      ],
      "text/plain": [
       "RandomizedSearchCV(cv=5, estimator=RandomForestClassifier(random_state=42),\n",
       "                   n_iter=100, n_jobs=-1,\n",
       "                   param_distributions={'criterion': ['gini', 'entropy'],\n",
       "                                        'max_depth': [None, 2, 5, 10],\n",
       "                                        'max_features': ['auto', 'sqrt', 'log2',\n",
       "                                                         None],\n",
       "                                        'min_samples_leaf': [1, 2, 5],\n",
       "                                        'min_samples_split': [2, 5, 10],\n",
       "                                        'n_estimators': [100, 200, 500, 1000]},\n",
       "                   random_state=42, verbose=2)"
      ]
     },
     "execution_count": 10,
     "metadata": {},
     "output_type": "execute_result"
    }
   ],
   "source": [
    "# fit random forest model\n",
    "\n",
    "rf_random_search.fit(X_train, y_train)"
   ]
  },
  {
   "cell_type": "code",
   "execution_count": 12,
   "metadata": {},
   "outputs": [
    {
     "name": "stdout",
     "output_type": "stream",
     "text": [
      "{'n_estimators': 200, 'min_samples_split': 2, 'min_samples_leaf': 1, 'max_features': 'sqrt', 'max_depth': None, 'criterion': 'entropy'}\n"
     ]
    }
   ],
   "source": [
    "# print best params\n",
    "\n",
    "print(rf_random_search.best_params_)"
   ]
  },
  {
   "cell_type": "code",
   "execution_count": 13,
   "metadata": {},
   "outputs": [
    {
     "name": "stdout",
     "output_type": "stream",
     "text": [
      "Fitting 5 folds for each of 100 candidates, totalling 500 fits\n"
     ]
    },
    {
     "name": "stdout",
     "output_type": "stream",
     "text": [
      "[CV] END .C=0.01, max_iter=500, penalty=l1, solver=liblinear; total time=   0.1s\n",
      "[CV] END .C=0.01, max_iter=500, penalty=l1, solver=liblinear; total time=   0.1s\n",
      "[CV] END .C=0.01, max_iter=500, penalty=l1, solver=liblinear; total time=   0.1s\n",
      "[CV] END .C=0.01, max_iter=500, penalty=l1, solver=liblinear; total time=   0.1s\n",
      "[CV] END .C=0.01, max_iter=500, penalty=l1, solver=liblinear; total time=   0.1s\n",
      "[CV] END ........C=100, max_iter=100, penalty=l1, solver=sag; total time=   0.0s\n",
      "[CV] END ........C=100, max_iter=100, penalty=l1, solver=sag; total time=   0.0s\n",
      "[CV] END ........C=100, max_iter=100, penalty=l1, solver=sag; total time=   0.0s\n",
      "[CV] END ........C=100, max_iter=100, penalty=l1, solver=sag; total time=   0.0s\n",
      "[CV] END ........C=100, max_iter=100, penalty=l1, solver=sag; total time=   0.0s\n"
     ]
    },
    {
     "name": "stderr",
     "output_type": "stream",
     "text": [
      "/Users/adeshkadambi/Documents/GitHub/EgoVizML/.venv/lib/python3.11/site-packages/sklearn/linear_model/_sag.py:350: ConvergenceWarning: The max_iter was reached which means the coef_ did not converge\n",
      "  warnings.warn(\n",
      "/Users/adeshkadambi/Documents/GitHub/EgoVizML/.venv/lib/python3.11/site-packages/sklearn/linear_model/_sag.py:350: ConvergenceWarning: The max_iter was reached which means the coef_ did not converge\n",
      "  warnings.warn(\n",
      "/Users/adeshkadambi/Documents/GitHub/EgoVizML/.venv/lib/python3.11/site-packages/sklearn/linear_model/_sag.py:350: ConvergenceWarning: The max_iter was reached which means the coef_ did not converge\n",
      "  warnings.warn(\n"
     ]
    },
    {
     "name": "stdout",
     "output_type": "stream",
     "text": [
      "[CV] END ........C=0.1, max_iter=500, penalty=l2, solver=sag; total time=   3.4s\n",
      "[CV] END ........C=0.1, max_iter=500, penalty=l2, solver=sag; total time=   3.5s\n",
      "[CV] END ........C=0.1, max_iter=500, penalty=l2, solver=sag; total time=   3.5s\n",
      "[CV] END .....C=0.001, max_iter=500, penalty=l2, solver=saga; total time=   4.2s\n",
      "[CV] END .....C=0.001, max_iter=500, penalty=l2, solver=saga; total time=   4.3s\n",
      "[CV] END .....C=0.001, max_iter=500, penalty=l2, solver=saga; total time=   4.3s\n",
      "[CV] END .....C=0.001, max_iter=500, penalty=l2, solver=saga; total time=   4.3s\n",
      "[CV] END .....C=0.001, max_iter=500, penalty=l2, solver=saga; total time=   4.3s\n"
     ]
    },
    {
     "name": "stderr",
     "output_type": "stream",
     "text": [
      "/Users/adeshkadambi/Documents/GitHub/EgoVizML/.venv/lib/python3.11/site-packages/sklearn/linear_model/_sag.py:350: ConvergenceWarning: The max_iter was reached which means the coef_ did not converge\n",
      "  warnings.warn(\n",
      "/Users/adeshkadambi/Documents/GitHub/EgoVizML/.venv/lib/python3.11/site-packages/sklearn/linear_model/_sag.py:350: ConvergenceWarning: The max_iter was reached which means the coef_ did not converge\n",
      "  warnings.warn(\n",
      "/Users/adeshkadambi/Documents/GitHub/EgoVizML/.venv/lib/python3.11/site-packages/sklearn/linear_model/_sag.py:350: ConvergenceWarning: The max_iter was reached which means the coef_ did not converge\n",
      "  warnings.warn(\n",
      "/Users/adeshkadambi/Documents/GitHub/EgoVizML/.venv/lib/python3.11/site-packages/sklearn/linear_model/_sag.py:350: ConvergenceWarning: The max_iter was reached which means the coef_ did not converge\n",
      "  warnings.warn(\n"
     ]
    },
    {
     "name": "stdout",
     "output_type": "stream",
     "text": [
      "[CV] END C=0.001, max_iter=500, penalty=l2, solver=newton-cg; total time=   0.8s\n",
      "[CV] END C=0.001, max_iter=500, penalty=l2, solver=newton-cg; total time=   0.6s\n",
      "[CV] END C=0.001, max_iter=500, penalty=l2, solver=newton-cg; total time=   0.8s\n"
     ]
    },
    {
     "name": "stderr",
     "output_type": "stream",
     "text": [
      "/Users/adeshkadambi/Documents/GitHub/EgoVizML/.venv/lib/python3.11/site-packages/sklearn/linear_model/_sag.py:350: ConvergenceWarning: The max_iter was reached which means the coef_ did not converge\n",
      "  warnings.warn(\n",
      "/Users/adeshkadambi/Documents/GitHub/EgoVizML/.venv/lib/python3.11/site-packages/sklearn/linear_model/_sag.py:350: ConvergenceWarning: The max_iter was reached which means the coef_ did not converge\n",
      "  warnings.warn(\n"
     ]
    },
    {
     "name": "stdout",
     "output_type": "stream",
     "text": [
      "[CV] END ........C=0.1, max_iter=500, penalty=l2, solver=sag; total time=   3.4s\n",
      "[CV] END ........C=0.1, max_iter=500, penalty=l2, solver=sag; total time=   3.5s\n",
      "[CV] END C=0.001, max_iter=500, penalty=l2, solver=newton-cg; total time=   0.6s\n",
      "[CV] END ..C=10, max_iter=1000, penalty=l2, solver=newton-cg; total time=   3.8s\n",
      "[CV] END C=0.001, max_iter=500, penalty=l2, solver=newton-cg; total time=   0.8s\n",
      "[CV] END ..C=10, max_iter=1000, penalty=l2, solver=newton-cg; total time=   3.7s\n",
      "[CV] END ..C=10, max_iter=1000, penalty=l2, solver=newton-cg; total time=   3.8s\n",
      "[CV] END ....C=0.001, max_iter=1000, penalty=l1, solver=saga; total time=   1.5s\n",
      "[CV] END ..C=10, max_iter=1000, penalty=l2, solver=newton-cg; total time=   4.5s\n"
     ]
    },
    {
     "name": "stderr",
     "output_type": "stream",
     "text": [
      "/Users/adeshkadambi/Documents/GitHub/EgoVizML/.venv/lib/python3.11/site-packages/sklearn/linear_model/_sag.py:350: ConvergenceWarning: The max_iter was reached which means the coef_ did not converge\n",
      "  warnings.warn(\n"
     ]
    },
    {
     "name": "stdout",
     "output_type": "stream",
     "text": [
      "[CV] END ........C=0.1, max_iter=100, penalty=l2, solver=sag; total time=   0.8s\n",
      "[CV] END ....C=0.001, max_iter=1000, penalty=l1, solver=saga; total time=   1.7s\n",
      "[CV] END ..C=10, max_iter=1000, penalty=l2, solver=newton-cg; total time=   4.8s\n",
      "[CV] END .........C=1, max_iter=1000, penalty=l1, solver=sag; total time=   0.0s\n",
      "[CV] END .........C=1, max_iter=1000, penalty=l1, solver=sag; total time=   0.0s\n",
      "[CV] END .........C=1, max_iter=1000, penalty=l1, solver=sag; total time=   0.0s\n",
      "[CV] END .........C=1, max_iter=1000, penalty=l1, solver=sag; total time=   0.0s\n",
      "[CV] END .........C=1, max_iter=1000, penalty=l1, solver=sag; total time=   0.0s\n",
      "[CV] END ....C=0.001, max_iter=1000, penalty=l1, solver=saga; total time=   1.8s\n",
      "[CV] END ........C=0.1, max_iter=100, penalty=l2, solver=sag; total time=   0.7s\n",
      "[CV] END ....C=0.001, max_iter=1000, penalty=l1, solver=saga; total time=   1.5s\n",
      "[CV] END ........C=0.1, max_iter=100, penalty=l2, solver=sag; total time=   0.7s\n",
      "[CV] END ....C=0.001, max_iter=1000, penalty=l1, solver=saga; total time=   1.5s\n",
      "[CV] END ..........C=1, max_iter=100, penalty=l1, solver=sag; total time=   0.0s\n",
      "[CV] END ..........C=1, max_iter=100, penalty=l1, solver=sag; total time=   0.0s\n",
      "[CV] END ..........C=1, max_iter=100, penalty=l1, solver=sag; total time=   0.0s\n",
      "[CV] END ..........C=1, max_iter=100, penalty=l1, solver=sag; total time=   0.0s\n"
     ]
    },
    {
     "name": "stderr",
     "output_type": "stream",
     "text": [
      "/Users/adeshkadambi/Documents/GitHub/EgoVizML/.venv/lib/python3.11/site-packages/sklearn/linear_model/_sag.py:350: ConvergenceWarning: The max_iter was reached which means the coef_ did not converge\n",
      "  warnings.warn(\n",
      "/Users/adeshkadambi/Documents/GitHub/EgoVizML/.venv/lib/python3.11/site-packages/sklearn/linear_model/_sag.py:350: ConvergenceWarning: The max_iter was reached which means the coef_ did not converge\n",
      "  warnings.warn(\n"
     ]
    },
    {
     "name": "stdout",
     "output_type": "stream",
     "text": [
      "[CV] END ..........C=1, max_iter=100, penalty=l1, solver=sag; total time=   0.0s\n",
      "[CV] END ........C=0.1, max_iter=100, penalty=l2, solver=sag; total time=   0.7s\n",
      "[CV] END ........C=0.1, max_iter=100, penalty=l2, solver=sag; total time=   0.8s\n"
     ]
    },
    {
     "name": "stderr",
     "output_type": "stream",
     "text": [
      "/Users/adeshkadambi/Documents/GitHub/EgoVizML/.venv/lib/python3.11/site-packages/sklearn/linear_model/_sag.py:350: ConvergenceWarning: The max_iter was reached which means the coef_ did not converge\n",
      "  warnings.warn(\n",
      "/Users/adeshkadambi/Documents/GitHub/EgoVizML/.venv/lib/python3.11/site-packages/sklearn/linear_model/_sag.py:350: ConvergenceWarning: The max_iter was reached which means the coef_ did not converge\n",
      "  warnings.warn(\n",
      "/Users/adeshkadambi/Documents/GitHub/EgoVizML/.venv/lib/python3.11/site-packages/sklearn/linear_model/_sag.py:350: ConvergenceWarning: The max_iter was reached which means the coef_ did not converge\n",
      "  warnings.warn(\n",
      "/Users/adeshkadambi/Documents/GitHub/EgoVizML/.venv/lib/python3.11/site-packages/sklearn/linear_model/_sag.py:350: ConvergenceWarning: The max_iter was reached which means the coef_ did not converge\n",
      "  warnings.warn(\n",
      "/Users/adeshkadambi/Documents/GitHub/EgoVizML/.venv/lib/python3.11/site-packages/sklearn/linear_model/_sag.py:350: ConvergenceWarning: The max_iter was reached which means the coef_ did not converge\n",
      "  warnings.warn(\n"
     ]
    },
    {
     "name": "stdout",
     "output_type": "stream",
     "text": [
      "[CV] END .......C=100, max_iter=100, penalty=l2, solver=saga; total time=   0.9s\n",
      "[CV] END .......C=100, max_iter=100, penalty=l2, solver=saga; total time=   0.8s\n",
      "[CV] END .......C=100, max_iter=100, penalty=l2, solver=saga; total time=   0.8s\n"
     ]
    },
    {
     "name": "stderr",
     "output_type": "stream",
     "text": [
      "/Users/adeshkadambi/Documents/GitHub/EgoVizML/.venv/lib/python3.11/site-packages/sklearn/linear_model/_sag.py:350: ConvergenceWarning: The max_iter was reached which means the coef_ did not converge\n",
      "  warnings.warn(\n",
      "/Users/adeshkadambi/Documents/GitHub/EgoVizML/.venv/lib/python3.11/site-packages/sklearn/linear_model/_sag.py:350: ConvergenceWarning: The max_iter was reached which means the coef_ did not converge\n",
      "  warnings.warn(\n",
      "/Users/adeshkadambi/Documents/GitHub/EgoVizML/.venv/lib/python3.11/site-packages/sklearn/linear_model/_sag.py:350: ConvergenceWarning: The max_iter was reached which means the coef_ did not converge\n",
      "  warnings.warn(\n"
     ]
    },
    {
     "name": "stdout",
     "output_type": "stream",
     "text": [
      "[CV] END .......C=100, max_iter=100, penalty=l2, solver=saga; total time=   0.8s\n",
      "[CV] END .......C=100, max_iter=100, penalty=l2, solver=saga; total time=   0.8s\n",
      "[CV] END .......C=0.1, max_iter=100, penalty=l2, solver=saga; total time=   0.8s\n"
     ]
    },
    {
     "name": "stderr",
     "output_type": "stream",
     "text": [
      "/Users/adeshkadambi/Documents/GitHub/EgoVizML/.venv/lib/python3.11/site-packages/sklearn/linear_model/_sag.py:350: ConvergenceWarning: The max_iter was reached which means the coef_ did not converge\n",
      "  warnings.warn(\n",
      "/Users/adeshkadambi/Documents/GitHub/EgoVizML/.venv/lib/python3.11/site-packages/sklearn/linear_model/_sag.py:350: ConvergenceWarning: The max_iter was reached which means the coef_ did not converge\n",
      "  warnings.warn(\n",
      "/Users/adeshkadambi/Documents/GitHub/EgoVizML/.venv/lib/python3.11/site-packages/sklearn/linear_model/_sag.py:350: ConvergenceWarning: The max_iter was reached which means the coef_ did not converge\n",
      "  warnings.warn(\n"
     ]
    },
    {
     "name": "stdout",
     "output_type": "stream",
     "text": [
      "[CV] END .......C=0.1, max_iter=100, penalty=l2, solver=saga; total time=   0.8s\n",
      "[CV] END .......C=0.1, max_iter=100, penalty=l2, solver=saga; total time=   0.8s\n",
      "[CV] END .......C=0.1, max_iter=100, penalty=l2, solver=saga; total time=   0.8s\n",
      "[CV] END ..C=10, max_iter=1000, penalty=l1, solver=liblinear; total time=   0.2s\n",
      "[CV] END ..C=10, max_iter=1000, penalty=l1, solver=liblinear; total time=   0.2s\n",
      "[CV] END ..C=10, max_iter=1000, penalty=l1, solver=liblinear; total time=   0.2s\n",
      "[CV] END ..C=10, max_iter=1000, penalty=l1, solver=liblinear; total time=   0.2s\n",
      "[CV] END ..C=10, max_iter=1000, penalty=l1, solver=liblinear; total time=   0.2s\n"
     ]
    },
    {
     "name": "stderr",
     "output_type": "stream",
     "text": [
      "/Users/adeshkadambi/Documents/GitHub/EgoVizML/.venv/lib/python3.11/site-packages/sklearn/linear_model/_sag.py:350: ConvergenceWarning: The max_iter was reached which means the coef_ did not converge\n",
      "  warnings.warn(\n"
     ]
    },
    {
     "name": "stdout",
     "output_type": "stream",
     "text": [
      "[CV] END .......C=0.1, max_iter=100, penalty=l2, solver=saga; total time=   0.8s\n",
      "[CV] END .C=0.01, max_iter=500, penalty=l2, solver=newton-cg; total time=   0.9s\n",
      "[CV] END .C=0.01, max_iter=500, penalty=l2, solver=newton-cg; total time=   1.0s\n",
      "[CV] END .C=0.01, max_iter=500, penalty=l2, solver=newton-cg; total time=   1.0s\n",
      "[CV] END .C=0.01, max_iter=500, penalty=l2, solver=newton-cg; total time=   1.1s\n",
      "[CV] END ....C=0.001, max_iter=500, penalty=l2, solver=lbfgs; total time=   0.7s\n",
      "[CV] END .C=0.01, max_iter=500, penalty=l2, solver=newton-cg; total time=   1.1s\n",
      "[CV] END ....C=0.001, max_iter=500, penalty=l2, solver=lbfgs; total time=   0.7s\n",
      "[CV] END ....C=0.001, max_iter=500, penalty=l2, solver=lbfgs; total time=   0.6s\n",
      "[CV] END ....C=0.01, max_iter=1000, penalty=l1, solver=lbfgs; total time=   0.0s\n",
      "[CV] END ....C=0.01, max_iter=1000, penalty=l1, solver=lbfgs; total time=   0.0s\n",
      "[CV] END ....C=0.01, max_iter=1000, penalty=l1, solver=lbfgs; total time=   0.0s\n",
      "[CV] END ....C=0.01, max_iter=1000, penalty=l1, solver=lbfgs; total time=   0.0s\n",
      "[CV] END ....C=0.01, max_iter=1000, penalty=l1, solver=lbfgs; total time=   0.0s\n",
      "[CV] END ....C=0.001, max_iter=500, penalty=l2, solver=lbfgs; total time=   0.9s\n"
     ]
    },
    {
     "name": "stderr",
     "output_type": "stream",
     "text": [
      "/Users/adeshkadambi/Documents/GitHub/EgoVizML/.venv/lib/python3.11/site-packages/sklearn/linear_model/_logistic.py:460: ConvergenceWarning: lbfgs failed to converge (status=1):\n",
      "STOP: TOTAL NO. of ITERATIONS REACHED LIMIT.\n",
      "\n",
      "Increase the number of iterations (max_iter) or scale the data as shown in:\n",
      "    https://scikit-learn.org/stable/modules/preprocessing.html\n",
      "Please also refer to the documentation for alternative solver options:\n",
      "    https://scikit-learn.org/stable/modules/linear_model.html#logistic-regression\n",
      "  n_iter_i = _check_optimize_result(\n"
     ]
    },
    {
     "name": "stdout",
     "output_type": "stream",
     "text": [
      "[CV] END ....C=0.001, max_iter=500, penalty=l2, solver=lbfgs; total time=   0.7s\n",
      "[CV] END .........C=1, max_iter=1000, penalty=l2, solver=sag; total time=   6.9s\n"
     ]
    },
    {
     "name": "stderr",
     "output_type": "stream",
     "text": [
      "/Users/adeshkadambi/Documents/GitHub/EgoVizML/.venv/lib/python3.11/site-packages/sklearn/linear_model/_sag.py:350: ConvergenceWarning: The max_iter was reached which means the coef_ did not converge\n",
      "  warnings.warn(\n",
      "/Users/adeshkadambi/Documents/GitHub/EgoVizML/.venv/lib/python3.11/site-packages/sklearn/linear_model/_sag.py:350: ConvergenceWarning: The max_iter was reached which means the coef_ did not converge\n",
      "  warnings.warn(\n",
      "/Users/adeshkadambi/Documents/GitHub/EgoVizML/.venv/lib/python3.11/site-packages/sklearn/linear_model/_sag.py:350: ConvergenceWarning: The max_iter was reached which means the coef_ did not converge\n",
      "  warnings.warn(\n",
      "/Users/adeshkadambi/Documents/GitHub/EgoVizML/.venv/lib/python3.11/site-packages/sklearn/linear_model/_sag.py:350: ConvergenceWarning: The max_iter was reached which means the coef_ did not converge\n",
      "  warnings.warn(\n",
      "/Users/adeshkadambi/Documents/GitHub/EgoVizML/.venv/lib/python3.11/site-packages/sklearn/linear_model/_sag.py:350: ConvergenceWarning: The max_iter was reached which means the coef_ did not converge\n",
      "  warnings.warn(\n"
     ]
    },
    {
     "name": "stdout",
     "output_type": "stream",
     "text": [
      "[CV] END .........C=1, max_iter=1000, penalty=l2, solver=sag; total time=   6.9s\n",
      "[CV] END .........C=1, max_iter=1000, penalty=l2, solver=sag; total time=   7.0s\n",
      "[CV] END .........C=1, max_iter=1000, penalty=l2, solver=sag; total time=   7.0s\n",
      "[CV] END .........C=1, max_iter=1000, penalty=l2, solver=sag; total time=   7.0s\n"
     ]
    },
    {
     "name": "stderr",
     "output_type": "stream",
     "text": [
      "/Users/adeshkadambi/Documents/GitHub/EgoVizML/.venv/lib/python3.11/site-packages/sklearn/linear_model/_logistic.py:460: ConvergenceWarning: lbfgs failed to converge (status=1):\n",
      "STOP: TOTAL NO. of ITERATIONS REACHED LIMIT.\n",
      "\n",
      "Increase the number of iterations (max_iter) or scale the data as shown in:\n",
      "    https://scikit-learn.org/stable/modules/preprocessing.html\n",
      "Please also refer to the documentation for alternative solver options:\n",
      "    https://scikit-learn.org/stable/modules/linear_model.html#logistic-regression\n",
      "  n_iter_i = _check_optimize_result(\n",
      "/Users/adeshkadambi/Documents/GitHub/EgoVizML/.venv/lib/python3.11/site-packages/sklearn/linear_model/_logistic.py:460: ConvergenceWarning: lbfgs failed to converge (status=1):\n",
      "STOP: TOTAL NO. of ITERATIONS REACHED LIMIT.\n",
      "\n",
      "Increase the number of iterations (max_iter) or scale the data as shown in:\n",
      "    https://scikit-learn.org/stable/modules/preprocessing.html\n",
      "Please also refer to the documentation for alternative solver options:\n",
      "    https://scikit-learn.org/stable/modules/linear_model.html#logistic-regression\n",
      "  n_iter_i = _check_optimize_result(\n",
      "/Users/adeshkadambi/Documents/GitHub/EgoVizML/.venv/lib/python3.11/site-packages/sklearn/linear_model/_logistic.py:460: ConvergenceWarning: lbfgs failed to converge (status=1):\n",
      "STOP: TOTAL NO. of ITERATIONS REACHED LIMIT.\n",
      "\n",
      "Increase the number of iterations (max_iter) or scale the data as shown in:\n",
      "    https://scikit-learn.org/stable/modules/preprocessing.html\n",
      "Please also refer to the documentation for alternative solver options:\n",
      "    https://scikit-learn.org/stable/modules/linear_model.html#logistic-regression\n",
      "  n_iter_i = _check_optimize_result(\n",
      "/Users/adeshkadambi/Documents/GitHub/EgoVizML/.venv/lib/python3.11/site-packages/sklearn/linear_model/_logistic.py:460: ConvergenceWarning: lbfgs failed to converge (status=1):\n",
      "STOP: TOTAL NO. of ITERATIONS REACHED LIMIT.\n",
      "\n",
      "Increase the number of iterations (max_iter) or scale the data as shown in:\n",
      "    https://scikit-learn.org/stable/modules/preprocessing.html\n",
      "Please also refer to the documentation for alternative solver options:\n",
      "    https://scikit-learn.org/stable/modules/linear_model.html#logistic-regression\n",
      "  n_iter_i = _check_optimize_result(\n",
      "/Users/adeshkadambi/Documents/GitHub/EgoVizML/.venv/lib/python3.11/site-packages/sklearn/linear_model/_logistic.py:460: ConvergenceWarning: lbfgs failed to converge (status=1):\n",
      "STOP: TOTAL NO. of ITERATIONS REACHED LIMIT.\n",
      "\n",
      "Increase the number of iterations (max_iter) or scale the data as shown in:\n",
      "    https://scikit-learn.org/stable/modules/preprocessing.html\n",
      "Please also refer to the documentation for alternative solver options:\n",
      "    https://scikit-learn.org/stable/modules/linear_model.html#logistic-regression\n",
      "  n_iter_i = _check_optimize_result(\n"
     ]
    },
    {
     "name": "stdout",
     "output_type": "stream",
     "text": [
      "[CV] END ........C=1, max_iter=100, penalty=l2, solver=lbfgs; total time=   0.2s\n",
      "[CV] END ........C=1, max_iter=100, penalty=l2, solver=lbfgs; total time=   0.2s\n",
      "[CV] END ........C=1, max_iter=100, penalty=l2, solver=lbfgs; total time=   0.2s\n",
      "[CV] END ........C=1, max_iter=100, penalty=l2, solver=lbfgs; total time=   0.2s\n",
      "[CV] END ........C=1, max_iter=100, penalty=l2, solver=lbfgs; total time=   0.2s\n",
      "[CV] END ....C=0.01, max_iter=1000, penalty=l2, solver=lbfgs; total time=   1.1s\n",
      "[CV] END ....C=0.01, max_iter=1000, penalty=l2, solver=lbfgs; total time=   1.2s\n",
      "[CV] END ....C=0.01, max_iter=1000, penalty=l2, solver=lbfgs; total time=   1.5s\n",
      "[CV] END ....C=1, max_iter=100, penalty=l2, solver=liblinear; total time=   0.4s\n",
      "[CV] END ....C=0.01, max_iter=1000, penalty=l2, solver=lbfgs; total time=   1.2s\n",
      "[CV] END ....C=1, max_iter=100, penalty=l2, solver=liblinear; total time=   0.4s\n",
      "[CV] END ....C=0.01, max_iter=1000, penalty=l2, solver=lbfgs; total time=   1.6s\n",
      "[CV] END ....C=1, max_iter=100, penalty=l2, solver=liblinear; total time=   0.4s\n",
      "[CV] END ...C=10, max_iter=100, penalty=l1, solver=newton-cg; total time=   0.0s\n",
      "[CV] END ...C=10, max_iter=100, penalty=l1, solver=newton-cg; total time=   0.0s\n",
      "[CV] END ...C=10, max_iter=100, penalty=l2, solver=newton-cg; total time=   4.1s\n",
      "[CV] END ...C=10, max_iter=100, penalty=l1, solver=newton-cg; total time=   0.0s\n",
      "[CV] END ...C=10, max_iter=100, penalty=l1, solver=newton-cg; total time=   0.0s\n",
      "[CV] END ...C=10, max_iter=100, penalty=l1, solver=newton-cg; total time=   0.0s\n",
      "[CV] END ........C=10, max_iter=1000, penalty=l1, solver=sag; total time=   0.0s\n",
      "[CV] END ........C=10, max_iter=1000, penalty=l1, solver=sag; total time=   0.0s\n",
      "[CV] END ........C=10, max_iter=1000, penalty=l1, solver=sag; total time=   0.0s\n",
      "[CV] END ....C=1, max_iter=100, penalty=l2, solver=liblinear; total time=   0.5s\n",
      "[CV] END ........C=10, max_iter=1000, penalty=l1, solver=sag; total time=   0.0s\n",
      "[CV] END ........C=10, max_iter=1000, penalty=l1, solver=sag; total time=   0.0s\n",
      "[CV] END .C=0.01, max_iter=100, penalty=l1, solver=newton-cg; total time=   0.0s\n",
      "[CV] END .C=0.01, max_iter=100, penalty=l1, solver=newton-cg; total time=   0.0s\n",
      "[CV] END .C=0.01, max_iter=100, penalty=l1, solver=newton-cg; total time=   0.0s\n",
      "[CV] END .C=0.01, max_iter=100, penalty=l1, solver=newton-cg; total time=   0.0s\n",
      "[CV] END .C=0.01, max_iter=100, penalty=l1, solver=newton-cg; total time=   0.0s\n",
      "[CV] END ....C=1, max_iter=100, penalty=l2, solver=liblinear; total time=   0.5s\n",
      "[CV] END ...C=10, max_iter=100, penalty=l2, solver=newton-cg; total time=   3.9s\n",
      "[CV] END ...C=10, max_iter=100, penalty=l2, solver=newton-cg; total time=   4.1s\n",
      "[CV] END .C=100, max_iter=1000, penalty=l1, solver=liblinear; total time=   0.2s\n",
      "[CV] END ...C=10, max_iter=100, penalty=l2, solver=newton-cg; total time=   4.7s\n",
      "[CV] END .C=100, max_iter=1000, penalty=l1, solver=liblinear; total time=   0.2s\n",
      "[CV] END .C=100, max_iter=1000, penalty=l1, solver=liblinear; total time=   0.2s\n",
      "[CV] END .....C=0.001, max_iter=100, penalty=l2, solver=saga; total time=   0.8s\n",
      "[CV] END .....C=0.001, max_iter=100, penalty=l2, solver=saga; total time=   0.8s\n",
      "[CV] END ..C=0.1, max_iter=100, penalty=l1, solver=newton-cg; total time=   0.0s\n",
      "[CV] END .....C=0.001, max_iter=100, penalty=l2, solver=saga; total time=   0.8s\n",
      "[CV] END ..C=0.1, max_iter=100, penalty=l1, solver=newton-cg; total time=   0.0s\n",
      "[CV] END ..C=0.1, max_iter=100, penalty=l1, solver=newton-cg; total time=   0.0s\n",
      "[CV] END ..C=0.1, max_iter=100, penalty=l1, solver=newton-cg; total time=   0.0s\n",
      "[CV] END ..C=0.1, max_iter=100, penalty=l1, solver=newton-cg; total time=   0.0s\n",
      "[CV] END .....C=0.001, max_iter=100, penalty=l2, solver=saga; total time=   0.8s\n",
      "[CV] END .C=100, max_iter=1000, penalty=l1, solver=liblinear; total time=   0.2s\n",
      "[CV] END .C=100, max_iter=1000, penalty=l1, solver=liblinear; total time=   0.2s\n"
     ]
    },
    {
     "name": "stderr",
     "output_type": "stream",
     "text": [
      "/Users/adeshkadambi/Documents/GitHub/EgoVizML/.venv/lib/python3.11/site-packages/sklearn/linear_model/_sag.py:350: ConvergenceWarning: The max_iter was reached which means the coef_ did not converge\n",
      "  warnings.warn(\n",
      "/Users/adeshkadambi/Documents/GitHub/EgoVizML/.venv/lib/python3.11/site-packages/sklearn/linear_model/_sag.py:350: ConvergenceWarning: The max_iter was reached which means the coef_ did not converge\n",
      "  warnings.warn(\n",
      "/Users/adeshkadambi/Documents/GitHub/EgoVizML/.venv/lib/python3.11/site-packages/sklearn/linear_model/_sag.py:350: ConvergenceWarning: The max_iter was reached which means the coef_ did not converge\n",
      "  warnings.warn(\n",
      "/Users/adeshkadambi/Documents/GitHub/EgoVizML/.venv/lib/python3.11/site-packages/sklearn/linear_model/_sag.py:350: ConvergenceWarning: The max_iter was reached which means the coef_ did not converge\n",
      "  warnings.warn(\n",
      "/Users/adeshkadambi/Documents/GitHub/EgoVizML/.venv/lib/python3.11/site-packages/sklearn/linear_model/_sag.py:350: ConvergenceWarning: The max_iter was reached which means the coef_ did not converge\n",
      "  warnings.warn(\n"
     ]
    },
    {
     "name": "stdout",
     "output_type": "stream",
     "text": [
      "[CV] END .....C=0.001, max_iter=100, penalty=l2, solver=saga; total time=   0.7s\n",
      "[CV] END ...C=10, max_iter=100, penalty=l2, solver=newton-cg; total time=   4.8s\n",
      "[CV] END ......C=0.001, max_iter=500, penalty=l2, solver=sag; total time=   2.2s\n",
      "[CV] END ......C=0.001, max_iter=500, penalty=l2, solver=sag; total time=   2.2s\n",
      "[CV] END ......C=0.001, max_iter=500, penalty=l2, solver=sag; total time=   2.3s\n",
      "[CV] END ......C=0.001, max_iter=500, penalty=l2, solver=sag; total time=   2.3s\n",
      "[CV] END .......C=100, max_iter=1000, penalty=l1, solver=sag; total time=   0.0s\n",
      "[CV] END .......C=100, max_iter=1000, penalty=l1, solver=sag; total time=   0.0s\n",
      "[CV] END .......C=100, max_iter=1000, penalty=l1, solver=sag; total time=   0.0s\n",
      "[CV] END .......C=100, max_iter=1000, penalty=l1, solver=sag; total time=   0.0s\n",
      "[CV] END .......C=100, max_iter=1000, penalty=l1, solver=sag; total time=   0.0s\n",
      "[CV] END ......C=0.001, max_iter=500, penalty=l2, solver=sag; total time=   2.4s\n"
     ]
    },
    {
     "name": "stderr",
     "output_type": "stream",
     "text": [
      "/Users/adeshkadambi/Documents/GitHub/EgoVizML/.venv/lib/python3.11/site-packages/sklearn/linear_model/_sag.py:350: ConvergenceWarning: The max_iter was reached which means the coef_ did not converge\n",
      "  warnings.warn(\n",
      "/Users/adeshkadambi/Documents/GitHub/EgoVizML/.venv/lib/python3.11/site-packages/sklearn/linear_model/_sag.py:350: ConvergenceWarning: The max_iter was reached which means the coef_ did not converge\n",
      "  warnings.warn(\n",
      "/Users/adeshkadambi/Documents/GitHub/EgoVizML/.venv/lib/python3.11/site-packages/sklearn/linear_model/_sag.py:350: ConvergenceWarning: The max_iter was reached which means the coef_ did not converge\n",
      "  warnings.warn(\n"
     ]
    },
    {
     "name": "stdout",
     "output_type": "stream",
     "text": [
      "[CV] END .........C=1, max_iter=500, penalty=l2, solver=saga; total time=   4.0s\n",
      "[CV] END .........C=1, max_iter=500, penalty=l2, solver=saga; total time=   4.1s\n",
      "[CV] END .........C=1, max_iter=500, penalty=l2, solver=saga; total time=   4.1s\n"
     ]
    },
    {
     "name": "stderr",
     "output_type": "stream",
     "text": [
      "/Users/adeshkadambi/Documents/GitHub/EgoVizML/.venv/lib/python3.11/site-packages/sklearn/linear_model/_sag.py:350: ConvergenceWarning: The max_iter was reached which means the coef_ did not converge\n",
      "  warnings.warn(\n",
      "/Users/adeshkadambi/Documents/GitHub/EgoVizML/.venv/lib/python3.11/site-packages/sklearn/linear_model/_sag.py:350: ConvergenceWarning: The max_iter was reached which means the coef_ did not converge\n",
      "  warnings.warn(\n"
     ]
    },
    {
     "name": "stdout",
     "output_type": "stream",
     "text": [
      "[CV] END ........C=10, max_iter=1000, penalty=l2, solver=sag; total time=   6.9s\n",
      "[CV] END ........C=10, max_iter=1000, penalty=l2, solver=sag; total time=   6.9s\n"
     ]
    },
    {
     "name": "stderr",
     "output_type": "stream",
     "text": [
      "/Users/adeshkadambi/Documents/GitHub/EgoVizML/.venv/lib/python3.11/site-packages/sklearn/linear_model/_sag.py:350: ConvergenceWarning: The max_iter was reached which means the coef_ did not converge\n",
      "  warnings.warn(\n"
     ]
    },
    {
     "name": "stdout",
     "output_type": "stream",
     "text": [
      "[CV] END ........C=10, max_iter=1000, penalty=l2, solver=sag; total time=   6.9s\n",
      "[CV] END C=0.01, max_iter=1000, penalty=l2, solver=newton-cg; total time=   1.2s\n",
      "[CV] END C=0.01, max_iter=1000, penalty=l2, solver=newton-cg; total time=   1.2s\n",
      "[CV] END ..C=10, max_iter=1000, penalty=l1, solver=newton-cg; total time=   0.0s\n",
      "[CV] END ..C=10, max_iter=1000, penalty=l1, solver=newton-cg; total time=   0.0s\n",
      "[CV] END ..C=10, max_iter=1000, penalty=l1, solver=newton-cg; total time=   0.0s\n",
      "[CV] END ..C=10, max_iter=1000, penalty=l1, solver=newton-cg; total time=   0.0s\n",
      "[CV] END C=0.01, max_iter=1000, penalty=l2, solver=newton-cg; total time=   1.2s\n",
      "[CV] END ..C=10, max_iter=1000, penalty=l1, solver=newton-cg; total time=   0.0s\n"
     ]
    },
    {
     "name": "stderr",
     "output_type": "stream",
     "text": [
      "/Users/adeshkadambi/Documents/GitHub/EgoVizML/.venv/lib/python3.11/site-packages/sklearn/linear_model/_logistic.py:460: ConvergenceWarning: lbfgs failed to converge (status=1):\n",
      "STOP: TOTAL NO. of ITERATIONS REACHED LIMIT.\n",
      "\n",
      "Increase the number of iterations (max_iter) or scale the data as shown in:\n",
      "    https://scikit-learn.org/stable/modules/preprocessing.html\n",
      "Please also refer to the documentation for alternative solver options:\n",
      "    https://scikit-learn.org/stable/modules/linear_model.html#logistic-regression\n",
      "  n_iter_i = _check_optimize_result(\n",
      "/Users/adeshkadambi/Documents/GitHub/EgoVizML/.venv/lib/python3.11/site-packages/sklearn/linear_model/_logistic.py:460: ConvergenceWarning: lbfgs failed to converge (status=1):\n",
      "STOP: TOTAL NO. of ITERATIONS REACHED LIMIT.\n",
      "\n",
      "Increase the number of iterations (max_iter) or scale the data as shown in:\n",
      "    https://scikit-learn.org/stable/modules/preprocessing.html\n",
      "Please also refer to the documentation for alternative solver options:\n",
      "    https://scikit-learn.org/stable/modules/linear_model.html#logistic-regression\n",
      "  n_iter_i = _check_optimize_result(\n",
      "/Users/adeshkadambi/Documents/GitHub/EgoVizML/.venv/lib/python3.11/site-packages/sklearn/linear_model/_logistic.py:460: ConvergenceWarning: lbfgs failed to converge (status=1):\n",
      "STOP: TOTAL NO. of ITERATIONS REACHED LIMIT.\n",
      "\n",
      "Increase the number of iterations (max_iter) or scale the data as shown in:\n",
      "    https://scikit-learn.org/stable/modules/preprocessing.html\n",
      "Please also refer to the documentation for alternative solver options:\n",
      "    https://scikit-learn.org/stable/modules/linear_model.html#logistic-regression\n",
      "  n_iter_i = _check_optimize_result(\n"
     ]
    },
    {
     "name": "stdout",
     "output_type": "stream",
     "text": [
      "[CV] END .......C=10, max_iter=100, penalty=l2, solver=lbfgs; total time=   0.2s\n",
      "[CV] END .......C=10, max_iter=100, penalty=l2, solver=lbfgs; total time=   0.2s\n",
      "[CV] END C=0.01, max_iter=1000, penalty=l2, solver=newton-cg; total time=   1.2s\n",
      "[CV] END .......C=10, max_iter=100, penalty=l2, solver=lbfgs; total time=   0.2s\n"
     ]
    },
    {
     "name": "stderr",
     "output_type": "stream",
     "text": [
      "/Users/adeshkadambi/Documents/GitHub/EgoVizML/.venv/lib/python3.11/site-packages/sklearn/linear_model/_logistic.py:460: ConvergenceWarning: lbfgs failed to converge (status=1):\n",
      "STOP: TOTAL NO. of ITERATIONS REACHED LIMIT.\n",
      "\n",
      "Increase the number of iterations (max_iter) or scale the data as shown in:\n",
      "    https://scikit-learn.org/stable/modules/preprocessing.html\n",
      "Please also refer to the documentation for alternative solver options:\n",
      "    https://scikit-learn.org/stable/modules/linear_model.html#logistic-regression\n",
      "  n_iter_i = _check_optimize_result(\n",
      "/Users/adeshkadambi/Documents/GitHub/EgoVizML/.venv/lib/python3.11/site-packages/sklearn/linear_model/_logistic.py:460: ConvergenceWarning: lbfgs failed to converge (status=1):\n",
      "STOP: TOTAL NO. of ITERATIONS REACHED LIMIT.\n",
      "\n",
      "Increase the number of iterations (max_iter) or scale the data as shown in:\n",
      "    https://scikit-learn.org/stable/modules/preprocessing.html\n",
      "Please also refer to the documentation for alternative solver options:\n",
      "    https://scikit-learn.org/stable/modules/linear_model.html#logistic-regression\n",
      "  n_iter_i = _check_optimize_result(\n"
     ]
    },
    {
     "name": "stdout",
     "output_type": "stream",
     "text": [
      "[CV] END .......C=10, max_iter=100, penalty=l2, solver=lbfgs; total time=   0.2s\n",
      "[CV] END .......C=10, max_iter=100, penalty=l2, solver=lbfgs; total time=   0.2s\n"
     ]
    },
    {
     "name": "stderr",
     "output_type": "stream",
     "text": [
      "/Users/adeshkadambi/Documents/GitHub/EgoVizML/.venv/lib/python3.11/site-packages/sklearn/linear_model/_logistic.py:460: ConvergenceWarning: lbfgs failed to converge (status=1):\n",
      "STOP: TOTAL NO. of ITERATIONS REACHED LIMIT.\n",
      "\n",
      "Increase the number of iterations (max_iter) or scale the data as shown in:\n",
      "    https://scikit-learn.org/stable/modules/preprocessing.html\n",
      "Please also refer to the documentation for alternative solver options:\n",
      "    https://scikit-learn.org/stable/modules/linear_model.html#logistic-regression\n",
      "  n_iter_i = _check_optimize_result(\n",
      "/Users/adeshkadambi/Documents/GitHub/EgoVizML/.venv/lib/python3.11/site-packages/sklearn/linear_model/_logistic.py:460: ConvergenceWarning: lbfgs failed to converge (status=1):\n",
      "STOP: TOTAL NO. of ITERATIONS REACHED LIMIT.\n",
      "\n",
      "Increase the number of iterations (max_iter) or scale the data as shown in:\n",
      "    https://scikit-learn.org/stable/modules/preprocessing.html\n",
      "Please also refer to the documentation for alternative solver options:\n",
      "    https://scikit-learn.org/stable/modules/linear_model.html#logistic-regression\n",
      "  n_iter_i = _check_optimize_result(\n",
      "/Users/adeshkadambi/Documents/GitHub/EgoVizML/.venv/lib/python3.11/site-packages/sklearn/linear_model/_logistic.py:460: ConvergenceWarning: lbfgs failed to converge (status=1):\n",
      "STOP: TOTAL NO. of ITERATIONS REACHED LIMIT.\n",
      "\n",
      "Increase the number of iterations (max_iter) or scale the data as shown in:\n",
      "    https://scikit-learn.org/stable/modules/preprocessing.html\n",
      "Please also refer to the documentation for alternative solver options:\n",
      "    https://scikit-learn.org/stable/modules/linear_model.html#logistic-regression\n",
      "  n_iter_i = _check_optimize_result(\n"
     ]
    },
    {
     "name": "stdout",
     "output_type": "stream",
     "text": [
      "[CV] END ......C=0.1, max_iter=100, penalty=l2, solver=lbfgs; total time=   0.3s\n",
      "[CV] END ......C=0.1, max_iter=100, penalty=l2, solver=lbfgs; total time=   0.3s\n",
      "[CV] END C=0.01, max_iter=1000, penalty=l2, solver=newton-cg; total time=   1.3s\n",
      "[CV] END ......C=0.1, max_iter=100, penalty=l2, solver=lbfgs; total time=   0.2s\n"
     ]
    },
    {
     "name": "stderr",
     "output_type": "stream",
     "text": [
      "/Users/adeshkadambi/Documents/GitHub/EgoVizML/.venv/lib/python3.11/site-packages/sklearn/linear_model/_logistic.py:460: ConvergenceWarning: lbfgs failed to converge (status=1):\n",
      "STOP: TOTAL NO. of ITERATIONS REACHED LIMIT.\n",
      "\n",
      "Increase the number of iterations (max_iter) or scale the data as shown in:\n",
      "    https://scikit-learn.org/stable/modules/preprocessing.html\n",
      "Please also refer to the documentation for alternative solver options:\n",
      "    https://scikit-learn.org/stable/modules/linear_model.html#logistic-regression\n",
      "  n_iter_i = _check_optimize_result(\n",
      "/Users/adeshkadambi/Documents/GitHub/EgoVizML/.venv/lib/python3.11/site-packages/sklearn/linear_model/_logistic.py:460: ConvergenceWarning: lbfgs failed to converge (status=1):\n",
      "STOP: TOTAL NO. of ITERATIONS REACHED LIMIT.\n",
      "\n",
      "Increase the number of iterations (max_iter) or scale the data as shown in:\n",
      "    https://scikit-learn.org/stable/modules/preprocessing.html\n",
      "Please also refer to the documentation for alternative solver options:\n",
      "    https://scikit-learn.org/stable/modules/linear_model.html#logistic-regression\n",
      "  n_iter_i = _check_optimize_result(\n",
      "/Users/adeshkadambi/Documents/GitHub/EgoVizML/.venv/lib/python3.11/site-packages/sklearn/linear_model/_sag.py:350: ConvergenceWarning: The max_iter was reached which means the coef_ did not converge\n",
      "  warnings.warn(\n"
     ]
    },
    {
     "name": "stdout",
     "output_type": "stream",
     "text": [
      "[CV] END ......C=0.1, max_iter=100, penalty=l2, solver=lbfgs; total time=   0.2s\n",
      "[CV] END ......C=0.1, max_iter=100, penalty=l2, solver=lbfgs; total time=   0.2s\n",
      "[CV] END ........C=10, max_iter=1000, penalty=l2, solver=sag; total time=   7.1s\n"
     ]
    },
    {
     "name": "stderr",
     "output_type": "stream",
     "text": [
      "/Users/adeshkadambi/Documents/GitHub/EgoVizML/.venv/lib/python3.11/site-packages/sklearn/linear_model/_sag.py:350: ConvergenceWarning: The max_iter was reached which means the coef_ did not converge\n",
      "  warnings.warn(\n"
     ]
    },
    {
     "name": "stdout",
     "output_type": "stream",
     "text": [
      "[CV] END ........C=10, max_iter=1000, penalty=l2, solver=sag; total time=   7.1s\n",
      "[CV] END ...C=1, max_iter=1000, penalty=l2, solver=liblinear; total time=   0.5s\n",
      "[CV] END ...C=1, max_iter=1000, penalty=l2, solver=liblinear; total time=   0.4s\n",
      "[CV] END ...C=1, max_iter=1000, penalty=l2, solver=liblinear; total time=   0.4s\n",
      "[CV] END .........C=1, max_iter=500, penalty=l2, solver=saga; total time=   4.6s\n"
     ]
    },
    {
     "name": "stderr",
     "output_type": "stream",
     "text": [
      "/Users/adeshkadambi/Documents/GitHub/EgoVizML/.venv/lib/python3.11/site-packages/sklearn/linear_model/_sag.py:350: ConvergenceWarning: The max_iter was reached which means the coef_ did not converge\n",
      "  warnings.warn(\n",
      "/Users/adeshkadambi/Documents/GitHub/EgoVizML/.venv/lib/python3.11/site-packages/sklearn/linear_model/_sag.py:350: ConvergenceWarning: The max_iter was reached which means the coef_ did not converge\n",
      "  warnings.warn(\n"
     ]
    },
    {
     "name": "stdout",
     "output_type": "stream",
     "text": [
      "[CV] END .........C=1, max_iter=500, penalty=l2, solver=saga; total time=   4.8s\n",
      "[CV] END ...C=1, max_iter=1000, penalty=l2, solver=liblinear; total time=   0.5s\n",
      "[CV] END ...C=1, max_iter=1000, penalty=l2, solver=liblinear; total time=   0.4s\n",
      "[CV] END ..C=0.1, max_iter=100, penalty=l2, solver=newton-cg; total time=   1.3s\n",
      "[CV] END ..C=0.1, max_iter=100, penalty=l2, solver=newton-cg; total time=   1.7s\n",
      "[CV] END ..C=0.1, max_iter=100, penalty=l2, solver=newton-cg; total time=   1.8s\n",
      "[CV] END ..C=0.1, max_iter=100, penalty=l2, solver=liblinear; total time=   0.2s\n",
      "[CV] END ....C=0.001, max_iter=1000, penalty=l2, solver=saga; total time=   4.4s\n",
      "[CV] END ....C=0.001, max_iter=1000, penalty=l2, solver=saga; total time=   4.5s\n",
      "[CV] END ..C=0.1, max_iter=100, penalty=l2, solver=liblinear; total time=   0.3s\n",
      "[CV] END ....C=0.001, max_iter=1000, penalty=l2, solver=saga; total time=   4.8s\n",
      "[CV] END .....C=0.01, max_iter=100, penalty=l1, solver=lbfgs; total time=   0.0s\n",
      "[CV] END ....C=0.001, max_iter=1000, penalty=l2, solver=saga; total time=   4.8s\n",
      "[CV] END .....C=0.01, max_iter=100, penalty=l1, solver=lbfgs; total time=   0.0s\n",
      "[CV] END .....C=0.01, max_iter=100, penalty=l1, solver=lbfgs; total time=   0.0s\n",
      "[CV] END .....C=0.01, max_iter=100, penalty=l1, solver=lbfgs; total time=   0.0s\n",
      "[CV] END .....C=0.01, max_iter=100, penalty=l1, solver=lbfgs; total time=   0.0s\n",
      "[CV] END ..C=0.1, max_iter=100, penalty=l2, solver=liblinear; total time=   0.3s\n",
      "[CV] END ..C=0.1, max_iter=100, penalty=l2, solver=liblinear; total time=   0.3s\n",
      "[CV] END C=0.001, max_iter=500, penalty=l1, solver=liblinear; total time=   0.1s\n",
      "[CV] END ..C=0.1, max_iter=100, penalty=l2, solver=liblinear; total time=   0.3s\n",
      "[CV] END ....C=0.001, max_iter=1000, penalty=l2, solver=saga; total time=   4.8s\n",
      "[CV] END C=0.001, max_iter=500, penalty=l1, solver=liblinear; total time=   0.1s\n",
      "[CV] END .....C=0.01, max_iter=500, penalty=l1, solver=lbfgs; total time=   0.0s\n",
      "[CV] END C=0.001, max_iter=500, penalty=l1, solver=liblinear; total time=   0.1s\n",
      "[CV] END C=0.001, max_iter=500, penalty=l1, solver=liblinear; total time=   0.0s\n",
      "[CV] END .....C=0.01, max_iter=500, penalty=l1, solver=lbfgs; total time=   0.0s\n",
      "[CV] END .....C=0.01, max_iter=500, penalty=l1, solver=lbfgs; total time=   0.0s\n",
      "[CV] END .....C=0.01, max_iter=500, penalty=l1, solver=lbfgs; total time=   0.0s\n",
      "[CV] END .....C=0.01, max_iter=500, penalty=l1, solver=lbfgs; total time=   0.0s\n",
      "[CV] END C=0.001, max_iter=500, penalty=l1, solver=liblinear; total time=   0.0s\n",
      "[CV] END ....C=1, max_iter=500, penalty=l1, solver=newton-cg; total time=   0.0s\n",
      "[CV] END ....C=1, max_iter=500, penalty=l1, solver=newton-cg; total time=   0.0s\n",
      "[CV] END ....C=1, max_iter=500, penalty=l1, solver=newton-cg; total time=   0.0s\n",
      "[CV] END ....C=1, max_iter=500, penalty=l1, solver=newton-cg; total time=   0.0s\n",
      "[CV] END ....C=1, max_iter=500, penalty=l1, solver=newton-cg; total time=   0.0s\n",
      "[CV] END ......C=100, max_iter=500, penalty=l1, solver=lbfgs; total time=   0.0s\n",
      "[CV] END ......C=100, max_iter=500, penalty=l1, solver=lbfgs; total time=   0.0s\n",
      "[CV] END ......C=100, max_iter=500, penalty=l1, solver=lbfgs; total time=   0.0s\n",
      "[CV] END ......C=100, max_iter=500, penalty=l1, solver=lbfgs; total time=   0.0s\n",
      "[CV] END ......C=100, max_iter=500, penalty=l1, solver=lbfgs; total time=   0.0s\n",
      "[CV] END ..C=0.1, max_iter=100, penalty=l2, solver=newton-cg; total time=   1.8s\n",
      "[CV] END ...C=10, max_iter=500, penalty=l1, solver=liblinear; total time=   0.2s\n",
      "[CV] END ...C=10, max_iter=500, penalty=l1, solver=liblinear; total time=   0.1s\n",
      "[CV] END ..C=0.1, max_iter=100, penalty=l2, solver=newton-cg; total time=   1.5s\n",
      "[CV] END ...C=10, max_iter=500, penalty=l1, solver=liblinear; total time=   0.1s\n",
      "[CV] END ....C=1, max_iter=100, penalty=l1, solver=newton-cg; total time=   0.0s\n",
      "[CV] END ....C=1, max_iter=100, penalty=l1, solver=newton-cg; total time=   0.0s\n",
      "[CV] END ...C=10, max_iter=500, penalty=l1, solver=liblinear; total time=   0.2s\n",
      "[CV] END ....C=1, max_iter=100, penalty=l1, solver=newton-cg; total time=   0.0s\n",
      "[CV] END ....C=1, max_iter=100, penalty=l1, solver=newton-cg; total time=   0.0s\n",
      "[CV] END ....C=1, max_iter=100, penalty=l1, solver=newton-cg; total time=   0.0s\n",
      "[CV] END ...C=10, max_iter=500, penalty=l1, solver=liblinear; total time=   0.2s\n"
     ]
    },
    {
     "name": "stderr",
     "output_type": "stream",
     "text": [
      "/Users/adeshkadambi/Documents/GitHub/EgoVizML/.venv/lib/python3.11/site-packages/sklearn/linear_model/_sag.py:350: ConvergenceWarning: The max_iter was reached which means the coef_ did not converge\n",
      "  warnings.warn(\n",
      "/Users/adeshkadambi/Documents/GitHub/EgoVizML/.venv/lib/python3.11/site-packages/sklearn/linear_model/_sag.py:350: ConvergenceWarning: The max_iter was reached which means the coef_ did not converge\n",
      "  warnings.warn(\n",
      "/Users/adeshkadambi/Documents/GitHub/EgoVizML/.venv/lib/python3.11/site-packages/sklearn/linear_model/_sag.py:350: ConvergenceWarning: The max_iter was reached which means the coef_ did not converge\n",
      "  warnings.warn(\n",
      "/Users/adeshkadambi/Documents/GitHub/EgoVizML/.venv/lib/python3.11/site-packages/sklearn/linear_model/_sag.py:350: ConvergenceWarning: The max_iter was reached which means the coef_ did not converge\n",
      "  warnings.warn(\n",
      "/Users/adeshkadambi/Documents/GitHub/EgoVizML/.venv/lib/python3.11/site-packages/sklearn/linear_model/_sag.py:350: ConvergenceWarning: The max_iter was reached which means the coef_ did not converge\n",
      "  warnings.warn(\n",
      "/Users/adeshkadambi/Documents/GitHub/EgoVizML/.venv/lib/python3.11/site-packages/sklearn/linear_model/_sag.py:350: ConvergenceWarning: The max_iter was reached which means the coef_ did not converge\n",
      "  warnings.warn(\n",
      "/Users/adeshkadambi/Documents/GitHub/EgoVizML/.venv/lib/python3.11/site-packages/sklearn/linear_model/_sag.py:350: ConvergenceWarning: The max_iter was reached which means the coef_ did not converge\n",
      "  warnings.warn(\n",
      "/Users/adeshkadambi/Documents/GitHub/EgoVizML/.venv/lib/python3.11/site-packages/sklearn/linear_model/_sag.py:350: ConvergenceWarning: The max_iter was reached which means the coef_ did not converge\n",
      "  warnings.warn(\n"
     ]
    },
    {
     "name": "stdout",
     "output_type": "stream",
     "text": [
      "[CV] END ........C=10, max_iter=100, penalty=l1, solver=saga; total time=   1.3s\n",
      "[CV] END ........C=10, max_iter=100, penalty=l1, solver=saga; total time=   1.3s\n",
      "[CV] END ........C=10, max_iter=100, penalty=l1, solver=saga; total time=   1.3s\n",
      "[CV] END ........C=10, max_iter=100, penalty=l1, solver=saga; total time=   1.3s\n",
      "[CV] END ........C=10, max_iter=100, penalty=l1, solver=saga; total time=   1.3s\n",
      "[CV] END .......C=0.01, max_iter=100, penalty=l2, solver=sag; total time=   0.8s\n",
      "[CV] END .....C=100, max_iter=1000, penalty=l1, solver=lbfgs; total time=   0.0s\n",
      "[CV] END .....C=100, max_iter=1000, penalty=l1, solver=lbfgs; total time=   0.0s\n",
      "[CV] END .......C=0.01, max_iter=100, penalty=l2, solver=sag; total time=   0.8s\n",
      "[CV] END .....C=100, max_iter=1000, penalty=l1, solver=lbfgs; total time=   0.0s\n",
      "[CV] END .....C=100, max_iter=1000, penalty=l1, solver=lbfgs; total time=   0.0s\n",
      "[CV] END .....C=100, max_iter=1000, penalty=l1, solver=lbfgs; total time=   0.0s\n",
      "[CV] END .......C=0.01, max_iter=100, penalty=l2, solver=sag; total time=   0.8s\n"
     ]
    },
    {
     "name": "stderr",
     "output_type": "stream",
     "text": [
      "/Users/adeshkadambi/Documents/GitHub/EgoVizML/.venv/lib/python3.11/site-packages/sklearn/linear_model/_logistic.py:460: ConvergenceWarning: lbfgs failed to converge (status=1):\n",
      "STOP: TOTAL NO. of ITERATIONS REACHED LIMIT.\n",
      "\n",
      "Increase the number of iterations (max_iter) or scale the data as shown in:\n",
      "    https://scikit-learn.org/stable/modules/preprocessing.html\n",
      "Please also refer to the documentation for alternative solver options:\n",
      "    https://scikit-learn.org/stable/modules/linear_model.html#logistic-regression\n",
      "  n_iter_i = _check_optimize_result(\n"
     ]
    },
    {
     "name": "stdout",
     "output_type": "stream",
     "text": [
      "[CV] END ......C=100, max_iter=100, penalty=l2, solver=lbfgs; total time=   0.3s\n"
     ]
    },
    {
     "name": "stderr",
     "output_type": "stream",
     "text": [
      "/Users/adeshkadambi/Documents/GitHub/EgoVizML/.venv/lib/python3.11/site-packages/sklearn/linear_model/_logistic.py:460: ConvergenceWarning: lbfgs failed to converge (status=1):\n",
      "STOP: TOTAL NO. of ITERATIONS REACHED LIMIT.\n",
      "\n",
      "Increase the number of iterations (max_iter) or scale the data as shown in:\n",
      "    https://scikit-learn.org/stable/modules/preprocessing.html\n",
      "Please also refer to the documentation for alternative solver options:\n",
      "    https://scikit-learn.org/stable/modules/linear_model.html#logistic-regression\n",
      "  n_iter_i = _check_optimize_result(\n"
     ]
    },
    {
     "name": "stdout",
     "output_type": "stream",
     "text": [
      "[CV] END ......C=100, max_iter=100, penalty=l2, solver=lbfgs; total time=   0.3s\n"
     ]
    },
    {
     "name": "stderr",
     "output_type": "stream",
     "text": [
      "/Users/adeshkadambi/Documents/GitHub/EgoVizML/.venv/lib/python3.11/site-packages/sklearn/linear_model/_logistic.py:460: ConvergenceWarning: lbfgs failed to converge (status=1):\n",
      "STOP: TOTAL NO. of ITERATIONS REACHED LIMIT.\n",
      "\n",
      "Increase the number of iterations (max_iter) or scale the data as shown in:\n",
      "    https://scikit-learn.org/stable/modules/preprocessing.html\n",
      "Please also refer to the documentation for alternative solver options:\n",
      "    https://scikit-learn.org/stable/modules/linear_model.html#logistic-regression\n",
      "  n_iter_i = _check_optimize_result(\n",
      "/Users/adeshkadambi/Documents/GitHub/EgoVizML/.venv/lib/python3.11/site-packages/sklearn/linear_model/_sag.py:350: ConvergenceWarning: The max_iter was reached which means the coef_ did not converge\n",
      "  warnings.warn(\n"
     ]
    },
    {
     "name": "stdout",
     "output_type": "stream",
     "text": [
      "[CV] END ......C=100, max_iter=100, penalty=l2, solver=lbfgs; total time=   0.2s\n",
      "[CV] END .......C=0.01, max_iter=100, penalty=l2, solver=sag; total time=   1.0s\n"
     ]
    },
    {
     "name": "stderr",
     "output_type": "stream",
     "text": [
      "/Users/adeshkadambi/Documents/GitHub/EgoVizML/.venv/lib/python3.11/site-packages/sklearn/linear_model/_sag.py:350: ConvergenceWarning: The max_iter was reached which means the coef_ did not converge\n",
      "  warnings.warn(\n",
      "/Users/adeshkadambi/Documents/GitHub/EgoVizML/.venv/lib/python3.11/site-packages/sklearn/linear_model/_logistic.py:460: ConvergenceWarning: lbfgs failed to converge (status=1):\n",
      "STOP: TOTAL NO. of ITERATIONS REACHED LIMIT.\n",
      "\n",
      "Increase the number of iterations (max_iter) or scale the data as shown in:\n",
      "    https://scikit-learn.org/stable/modules/preprocessing.html\n",
      "Please also refer to the documentation for alternative solver options:\n",
      "    https://scikit-learn.org/stable/modules/linear_model.html#logistic-regression\n",
      "  n_iter_i = _check_optimize_result(\n"
     ]
    },
    {
     "name": "stdout",
     "output_type": "stream",
     "text": [
      "[CV] END ......C=100, max_iter=100, penalty=l2, solver=lbfgs; total time=   0.2s\n",
      "[CV] END .......C=0.01, max_iter=100, penalty=l2, solver=sag; total time=   1.0s\n",
      "[CV] END C=0.001, max_iter=100, penalty=l1, solver=liblinear; total time=   0.1s\n",
      "[CV] END C=0.001, max_iter=100, penalty=l1, solver=liblinear; total time=   0.1s\n",
      "[CV] END C=0.001, max_iter=100, penalty=l1, solver=liblinear; total time=   0.1s\n",
      "[CV] END C=0.001, max_iter=100, penalty=l1, solver=liblinear; total time=   0.0s\n",
      "[CV] END C=0.001, max_iter=100, penalty=l1, solver=liblinear; total time=   0.0s\n"
     ]
    },
    {
     "name": "stderr",
     "output_type": "stream",
     "text": [
      "/Users/adeshkadambi/Documents/GitHub/EgoVizML/.venv/lib/python3.11/site-packages/sklearn/linear_model/_logistic.py:460: ConvergenceWarning: lbfgs failed to converge (status=1):\n",
      "STOP: TOTAL NO. of ITERATIONS REACHED LIMIT.\n",
      "\n",
      "Increase the number of iterations (max_iter) or scale the data as shown in:\n",
      "    https://scikit-learn.org/stable/modules/preprocessing.html\n",
      "Please also refer to the documentation for alternative solver options:\n",
      "    https://scikit-learn.org/stable/modules/linear_model.html#logistic-regression\n",
      "  n_iter_i = _check_optimize_result(\n"
     ]
    },
    {
     "name": "stdout",
     "output_type": "stream",
     "text": [
      "[CV] END ......C=100, max_iter=100, penalty=l2, solver=lbfgs; total time=   0.3s\n",
      "[CV] END ...C=1, max_iter=1000, penalty=l2, solver=newton-cg; total time=   2.3s\n",
      "[CV] END ...C=1, max_iter=1000, penalty=l2, solver=newton-cg; total time=   2.4s\n"
     ]
    },
    {
     "name": "stderr",
     "output_type": "stream",
     "text": [
      "/Users/adeshkadambi/Documents/GitHub/EgoVizML/.venv/lib/python3.11/site-packages/sklearn/linear_model/_logistic.py:460: ConvergenceWarning: lbfgs failed to converge (status=1):\n",
      "STOP: TOTAL NO. of ITERATIONS REACHED LIMIT.\n",
      "\n",
      "Increase the number of iterations (max_iter) or scale the data as shown in:\n",
      "    https://scikit-learn.org/stable/modules/preprocessing.html\n",
      "Please also refer to the documentation for alternative solver options:\n",
      "    https://scikit-learn.org/stable/modules/linear_model.html#logistic-regression\n",
      "  n_iter_i = _check_optimize_result(\n",
      "/Users/adeshkadambi/Documents/GitHub/EgoVizML/.venv/lib/python3.11/site-packages/sklearn/linear_model/_logistic.py:460: ConvergenceWarning: lbfgs failed to converge (status=1):\n",
      "STOP: TOTAL NO. of ITERATIONS REACHED LIMIT.\n",
      "\n",
      "Increase the number of iterations (max_iter) or scale the data as shown in:\n",
      "    https://scikit-learn.org/stable/modules/preprocessing.html\n",
      "Please also refer to the documentation for alternative solver options:\n",
      "    https://scikit-learn.org/stable/modules/linear_model.html#logistic-regression\n",
      "  n_iter_i = _check_optimize_result(\n",
      "/Users/adeshkadambi/Documents/GitHub/EgoVizML/.venv/lib/python3.11/site-packages/sklearn/linear_model/_logistic.py:460: ConvergenceWarning: lbfgs failed to converge (status=1):\n",
      "STOP: TOTAL NO. of ITERATIONS REACHED LIMIT.\n",
      "\n",
      "Increase the number of iterations (max_iter) or scale the data as shown in:\n",
      "    https://scikit-learn.org/stable/modules/preprocessing.html\n",
      "Please also refer to the documentation for alternative solver options:\n",
      "    https://scikit-learn.org/stable/modules/linear_model.html#logistic-regression\n",
      "  n_iter_i = _check_optimize_result(\n"
     ]
    },
    {
     "name": "stdout",
     "output_type": "stream",
     "text": [
      "[CV] END .....C=100, max_iter=1000, penalty=l2, solver=lbfgs; total time=   1.8s\n",
      "[CV] END .....C=100, max_iter=1000, penalty=l2, solver=lbfgs; total time=   1.8s\n",
      "[CV] END .....C=100, max_iter=1000, penalty=l2, solver=lbfgs; total time=   1.7s\n"
     ]
    },
    {
     "name": "stderr",
     "output_type": "stream",
     "text": [
      "/Users/adeshkadambi/Documents/GitHub/EgoVizML/.venv/lib/python3.11/site-packages/sklearn/linear_model/_logistic.py:460: ConvergenceWarning: lbfgs failed to converge (status=1):\n",
      "STOP: TOTAL NO. of ITERATIONS REACHED LIMIT.\n",
      "\n",
      "Increase the number of iterations (max_iter) or scale the data as shown in:\n",
      "    https://scikit-learn.org/stable/modules/preprocessing.html\n",
      "Please also refer to the documentation for alternative solver options:\n",
      "    https://scikit-learn.org/stable/modules/linear_model.html#logistic-regression\n",
      "  n_iter_i = _check_optimize_result(\n"
     ]
    },
    {
     "name": "stdout",
     "output_type": "stream",
     "text": [
      "[CV] END .....C=0.01, max_iter=500, penalty=l2, solver=lbfgs; total time=   0.8s\n"
     ]
    },
    {
     "name": "stderr",
     "output_type": "stream",
     "text": [
      "/Users/adeshkadambi/Documents/GitHub/EgoVizML/.venv/lib/python3.11/site-packages/sklearn/linear_model/_logistic.py:460: ConvergenceWarning: lbfgs failed to converge (status=1):\n",
      "STOP: TOTAL NO. of ITERATIONS REACHED LIMIT.\n",
      "\n",
      "Increase the number of iterations (max_iter) or scale the data as shown in:\n",
      "    https://scikit-learn.org/stable/modules/preprocessing.html\n",
      "Please also refer to the documentation for alternative solver options:\n",
      "    https://scikit-learn.org/stable/modules/linear_model.html#logistic-regression\n",
      "  n_iter_i = _check_optimize_result(\n",
      "/Users/adeshkadambi/Documents/GitHub/EgoVizML/.venv/lib/python3.11/site-packages/sklearn/linear_model/_logistic.py:460: ConvergenceWarning: lbfgs failed to converge (status=1):\n",
      "STOP: TOTAL NO. of ITERATIONS REACHED LIMIT.\n",
      "\n",
      "Increase the number of iterations (max_iter) or scale the data as shown in:\n",
      "    https://scikit-learn.org/stable/modules/preprocessing.html\n",
      "Please also refer to the documentation for alternative solver options:\n",
      "    https://scikit-learn.org/stable/modules/linear_model.html#logistic-regression\n",
      "  n_iter_i = _check_optimize_result(\n",
      "/Users/adeshkadambi/Documents/GitHub/EgoVizML/.venv/lib/python3.11/site-packages/sklearn/linear_model/_logistic.py:460: ConvergenceWarning: lbfgs failed to converge (status=1):\n",
      "STOP: TOTAL NO. of ITERATIONS REACHED LIMIT.\n",
      "\n",
      "Increase the number of iterations (max_iter) or scale the data as shown in:\n",
      "    https://scikit-learn.org/stable/modules/preprocessing.html\n",
      "Please also refer to the documentation for alternative solver options:\n",
      "    https://scikit-learn.org/stable/modules/linear_model.html#logistic-regression\n",
      "  n_iter_i = _check_optimize_result(\n",
      "/Users/adeshkadambi/Documents/GitHub/EgoVizML/.venv/lib/python3.11/site-packages/sklearn/linear_model/_sag.py:350: ConvergenceWarning: The max_iter was reached which means the coef_ did not converge\n",
      "  warnings.warn(\n",
      "/Users/adeshkadambi/Documents/GitHub/EgoVizML/.venv/lib/python3.11/site-packages/sklearn/linear_model/_sag.py:350: ConvergenceWarning: The max_iter was reached which means the coef_ did not converge\n",
      "  warnings.warn(\n",
      "/Users/adeshkadambi/Documents/GitHub/EgoVizML/.venv/lib/python3.11/site-packages/sklearn/linear_model/_sag.py:350: ConvergenceWarning: The max_iter was reached which means the coef_ did not converge\n",
      "  warnings.warn(\n"
     ]
    },
    {
     "name": "stdout",
     "output_type": "stream",
     "text": [
      "[CV] END ...C=1, max_iter=1000, penalty=l2, solver=newton-cg; total time=   2.5s\n",
      "[CV] END ...C=1, max_iter=1000, penalty=l2, solver=newton-cg; total time=   2.3s\n",
      "[CV] END .....C=100, max_iter=1000, penalty=l2, solver=lbfgs; total time=   1.7s\n",
      "[CV] END .....C=0.01, max_iter=500, penalty=l2, solver=lbfgs; total time=   0.9s\n",
      "[CV] END .....C=100, max_iter=1000, penalty=l2, solver=lbfgs; total time=   1.7s\n",
      "[CV] END .......C=100, max_iter=500, penalty=l2, solver=saga; total time=   4.8s\n",
      "[CV] END .......C=100, max_iter=500, penalty=l2, solver=saga; total time=   4.9s\n",
      "[CV] END .......C=100, max_iter=500, penalty=l2, solver=saga; total time=   4.9s\n",
      "[CV] END ..C=100, max_iter=100, penalty=l1, solver=liblinear; total time=   0.2s\n",
      "[CV] END ..C=100, max_iter=100, penalty=l1, solver=liblinear; total time=   0.2s\n",
      "[CV] END ..C=100, max_iter=100, penalty=l1, solver=liblinear; total time=   0.2s\n"
     ]
    },
    {
     "name": "stderr",
     "output_type": "stream",
     "text": [
      "/Users/adeshkadambi/Documents/GitHub/EgoVizML/.venv/lib/python3.11/site-packages/sklearn/linear_model/_logistic.py:460: ConvergenceWarning: lbfgs failed to converge (status=1):\n",
      "STOP: TOTAL NO. of ITERATIONS REACHED LIMIT.\n",
      "\n",
      "Increase the number of iterations (max_iter) or scale the data as shown in:\n",
      "    https://scikit-learn.org/stable/modules/preprocessing.html\n",
      "Please also refer to the documentation for alternative solver options:\n",
      "    https://scikit-learn.org/stable/modules/linear_model.html#logistic-regression\n",
      "  n_iter_i = _check_optimize_result(\n",
      "/Users/adeshkadambi/Documents/GitHub/EgoVizML/.venv/lib/python3.11/site-packages/sklearn/linear_model/_logistic.py:460: ConvergenceWarning: lbfgs failed to converge (status=1):\n",
      "STOP: TOTAL NO. of ITERATIONS REACHED LIMIT.\n",
      "\n",
      "Increase the number of iterations (max_iter) or scale the data as shown in:\n",
      "    https://scikit-learn.org/stable/modules/preprocessing.html\n",
      "Please also refer to the documentation for alternative solver options:\n",
      "    https://scikit-learn.org/stable/modules/linear_model.html#logistic-regression\n",
      "  n_iter_i = _check_optimize_result(\n"
     ]
    },
    {
     "name": "stdout",
     "output_type": "stream",
     "text": [
      "[CV] END .....C=0.01, max_iter=500, penalty=l2, solver=lbfgs; total time=   0.9s\n",
      "[CV] END ..C=100, max_iter=100, penalty=l1, solver=liblinear; total time=   0.2s\n",
      "[CV] END .....C=0.01, max_iter=500, penalty=l2, solver=lbfgs; total time=   0.9s\n",
      "[CV] END ..C=100, max_iter=100, penalty=l1, solver=liblinear; total time=   0.3s\n",
      "[CV] END .C=0.1, max_iter=1000, penalty=l1, solver=liblinear; total time=   0.1s\n",
      "[CV] END .C=0.1, max_iter=1000, penalty=l1, solver=liblinear; total time=   0.1s\n",
      "[CV] END .C=0.1, max_iter=1000, penalty=l1, solver=liblinear; total time=   0.1s\n",
      "[CV] END .C=0.1, max_iter=1000, penalty=l1, solver=liblinear; total time=   0.1s\n",
      "[CV] END .C=0.1, max_iter=1000, penalty=l1, solver=liblinear; total time=   0.1s\n"
     ]
    },
    {
     "name": "stderr",
     "output_type": "stream",
     "text": [
      "/Users/adeshkadambi/Documents/GitHub/EgoVizML/.venv/lib/python3.11/site-packages/sklearn/linear_model/_logistic.py:460: ConvergenceWarning: lbfgs failed to converge (status=1):\n",
      "STOP: TOTAL NO. of ITERATIONS REACHED LIMIT.\n",
      "\n",
      "Increase the number of iterations (max_iter) or scale the data as shown in:\n",
      "    https://scikit-learn.org/stable/modules/preprocessing.html\n",
      "Please also refer to the documentation for alternative solver options:\n",
      "    https://scikit-learn.org/stable/modules/linear_model.html#logistic-regression\n",
      "  n_iter_i = _check_optimize_result(\n"
     ]
    },
    {
     "name": "stdout",
     "output_type": "stream",
     "text": [
      "[CV] END .....C=0.01, max_iter=500, penalty=l2, solver=lbfgs; total time=   0.9s\n",
      "[CV] END .C=0.1, max_iter=1000, penalty=l2, solver=newton-cg; total time=   1.9s\n",
      "[CV] END .C=0.1, max_iter=1000, penalty=l2, solver=newton-cg; total time=   1.8s\n",
      "[CV] END .C=0.1, max_iter=1000, penalty=l2, solver=newton-cg; total time=   1.4s\n",
      "[CV] END ...C=1, max_iter=1000, penalty=l2, solver=newton-cg; total time=   2.3s\n",
      "[CV] END ..C=10, max_iter=1000, penalty=l2, solver=liblinear; total time=   0.7s\n",
      "[CV] END ..C=10, max_iter=1000, penalty=l2, solver=liblinear; total time=   0.6s\n",
      "[CV] END ..C=10, max_iter=1000, penalty=l2, solver=liblinear; total time=   0.7s\n",
      "[CV] END ..C=10, max_iter=1000, penalty=l2, solver=liblinear; total time=   0.7s\n",
      "[CV] END ...C=0.001, max_iter=1000, penalty=l2, solver=lbfgs; total time=   0.8s\n",
      "[CV] END ..C=10, max_iter=1000, penalty=l2, solver=liblinear; total time=   0.8s\n",
      "[CV] END .C=0.1, max_iter=1000, penalty=l2, solver=newton-cg; total time=   1.4s\n",
      "[CV] END .C=0.1, max_iter=1000, penalty=l2, solver=newton-cg; total time=   1.8s\n",
      "[CV] END ...C=0.001, max_iter=1000, penalty=l2, solver=lbfgs; total time=   0.7s\n",
      "[CV] END ...C=0.001, max_iter=1000, penalty=l2, solver=lbfgs; total time=   0.4s\n",
      "[CV] END ...C=0.001, max_iter=1000, penalty=l2, solver=lbfgs; total time=   0.6s\n",
      "[CV] END ...C=0.001, max_iter=1000, penalty=l2, solver=lbfgs; total time=   0.9s\n"
     ]
    },
    {
     "name": "stderr",
     "output_type": "stream",
     "text": [
      "/Users/adeshkadambi/Documents/GitHub/EgoVizML/.venv/lib/python3.11/site-packages/sklearn/linear_model/_sag.py:350: ConvergenceWarning: The max_iter was reached which means the coef_ did not converge\n",
      "  warnings.warn(\n",
      "/Users/adeshkadambi/Documents/GitHub/EgoVizML/.venv/lib/python3.11/site-packages/sklearn/linear_model/_sag.py:350: ConvergenceWarning: The max_iter was reached which means the coef_ did not converge\n",
      "  warnings.warn(\n"
     ]
    },
    {
     "name": "stdout",
     "output_type": "stream",
     "text": [
      "[CV] END .......C=100, max_iter=500, penalty=l2, solver=saga; total time=   4.3s\n",
      "[CV] END .......C=100, max_iter=500, penalty=l2, solver=saga; total time=   4.3s\n"
     ]
    },
    {
     "name": "stderr",
     "output_type": "stream",
     "text": [
      "/Users/adeshkadambi/Documents/GitHub/EgoVizML/.venv/lib/python3.11/site-packages/sklearn/linear_model/_sag.py:350: ConvergenceWarning: The max_iter was reached which means the coef_ did not converge\n",
      "  warnings.warn(\n"
     ]
    },
    {
     "name": "stdout",
     "output_type": "stream",
     "text": [
      "[CV] END ..........C=1, max_iter=100, penalty=l2, solver=sag; total time=   0.7s\n"
     ]
    },
    {
     "name": "stderr",
     "output_type": "stream",
     "text": [
      "/Users/adeshkadambi/Documents/GitHub/EgoVizML/.venv/lib/python3.11/site-packages/sklearn/linear_model/_sag.py:350: ConvergenceWarning: The max_iter was reached which means the coef_ did not converge\n",
      "  warnings.warn(\n",
      "/Users/adeshkadambi/Documents/GitHub/EgoVizML/.venv/lib/python3.11/site-packages/sklearn/linear_model/_sag.py:350: ConvergenceWarning: The max_iter was reached which means the coef_ did not converge\n",
      "  warnings.warn(\n"
     ]
    },
    {
     "name": "stdout",
     "output_type": "stream",
     "text": [
      "[CV] END ..........C=1, max_iter=100, penalty=l2, solver=sag; total time=   0.7s\n",
      "[CV] END ..........C=1, max_iter=100, penalty=l2, solver=sag; total time=   0.7s\n",
      "[CV] END .......C=1, max_iter=1000, penalty=l1, solver=lbfgs; total time=   0.0s\n",
      "[CV] END .......C=1, max_iter=1000, penalty=l1, solver=lbfgs; total time=   0.0s\n",
      "[CV] END .......C=1, max_iter=1000, penalty=l1, solver=lbfgs; total time=   0.0s\n",
      "[CV] END .......C=1, max_iter=1000, penalty=l1, solver=lbfgs; total time=   0.0s\n",
      "[CV] END .......C=1, max_iter=1000, penalty=l1, solver=lbfgs; total time=   0.0s\n"
     ]
    },
    {
     "name": "stderr",
     "output_type": "stream",
     "text": [
      "/Users/adeshkadambi/Documents/GitHub/EgoVizML/.venv/lib/python3.11/site-packages/sklearn/linear_model/_sag.py:350: ConvergenceWarning: The max_iter was reached which means the coef_ did not converge\n",
      "  warnings.warn(\n"
     ]
    },
    {
     "name": "stdout",
     "output_type": "stream",
     "text": [
      "[CV] END ..........C=1, max_iter=100, penalty=l2, solver=sag; total time=   0.7s\n"
     ]
    },
    {
     "name": "stderr",
     "output_type": "stream",
     "text": [
      "/Users/adeshkadambi/Documents/GitHub/EgoVizML/.venv/lib/python3.11/site-packages/sklearn/linear_model/_sag.py:350: ConvergenceWarning: The max_iter was reached which means the coef_ did not converge\n",
      "  warnings.warn(\n"
     ]
    },
    {
     "name": "stdout",
     "output_type": "stream",
     "text": [
      "[CV] END ..........C=1, max_iter=100, penalty=l2, solver=sag; total time=   0.8s\n"
     ]
    },
    {
     "name": "stderr",
     "output_type": "stream",
     "text": [
      "/Users/adeshkadambi/Documents/GitHub/EgoVizML/.venv/lib/python3.11/site-packages/sklearn/linear_model/_logistic.py:460: ConvergenceWarning: lbfgs failed to converge (status=1):\n",
      "STOP: TOTAL NO. of ITERATIONS REACHED LIMIT.\n",
      "\n",
      "Increase the number of iterations (max_iter) or scale the data as shown in:\n",
      "    https://scikit-learn.org/stable/modules/preprocessing.html\n",
      "Please also refer to the documentation for alternative solver options:\n",
      "    https://scikit-learn.org/stable/modules/linear_model.html#logistic-regression\n",
      "  n_iter_i = _check_optimize_result(\n"
     ]
    },
    {
     "name": "stdout",
     "output_type": "stream",
     "text": [
      "[CV] END ......C=0.1, max_iter=500, penalty=l2, solver=lbfgs; total time=   1.0s\n"
     ]
    },
    {
     "name": "stderr",
     "output_type": "stream",
     "text": [
      "/Users/adeshkadambi/Documents/GitHub/EgoVizML/.venv/lib/python3.11/site-packages/sklearn/linear_model/_logistic.py:460: ConvergenceWarning: lbfgs failed to converge (status=1):\n",
      "STOP: TOTAL NO. of ITERATIONS REACHED LIMIT.\n",
      "\n",
      "Increase the number of iterations (max_iter) or scale the data as shown in:\n",
      "    https://scikit-learn.org/stable/modules/preprocessing.html\n",
      "Please also refer to the documentation for alternative solver options:\n",
      "    https://scikit-learn.org/stable/modules/linear_model.html#logistic-regression\n",
      "  n_iter_i = _check_optimize_result(\n"
     ]
    },
    {
     "name": "stdout",
     "output_type": "stream",
     "text": [
      "[CV] END ......C=0.1, max_iter=500, penalty=l2, solver=lbfgs; total time=   1.0s\n"
     ]
    },
    {
     "name": "stderr",
     "output_type": "stream",
     "text": [
      "/Users/adeshkadambi/Documents/GitHub/EgoVizML/.venv/lib/python3.11/site-packages/sklearn/linear_model/_logistic.py:460: ConvergenceWarning: lbfgs failed to converge (status=1):\n",
      "STOP: TOTAL NO. of ITERATIONS REACHED LIMIT.\n",
      "\n",
      "Increase the number of iterations (max_iter) or scale the data as shown in:\n",
      "    https://scikit-learn.org/stable/modules/preprocessing.html\n",
      "Please also refer to the documentation for alternative solver options:\n",
      "    https://scikit-learn.org/stable/modules/linear_model.html#logistic-regression\n",
      "  n_iter_i = _check_optimize_result(\n"
     ]
    },
    {
     "name": "stdout",
     "output_type": "stream",
     "text": [
      "[CV] END ......C=0.1, max_iter=500, penalty=l2, solver=lbfgs; total time=   0.9s\n"
     ]
    },
    {
     "name": "stderr",
     "output_type": "stream",
     "text": [
      "/Users/adeshkadambi/Documents/GitHub/EgoVizML/.venv/lib/python3.11/site-packages/sklearn/linear_model/_logistic.py:460: ConvergenceWarning: lbfgs failed to converge (status=1):\n",
      "STOP: TOTAL NO. of ITERATIONS REACHED LIMIT.\n",
      "\n",
      "Increase the number of iterations (max_iter) or scale the data as shown in:\n",
      "    https://scikit-learn.org/stable/modules/preprocessing.html\n",
      "Please also refer to the documentation for alternative solver options:\n",
      "    https://scikit-learn.org/stable/modules/linear_model.html#logistic-regression\n",
      "  n_iter_i = _check_optimize_result(\n",
      "/Users/adeshkadambi/Documents/GitHub/EgoVizML/.venv/lib/python3.11/site-packages/sklearn/linear_model/_logistic.py:460: ConvergenceWarning: lbfgs failed to converge (status=1):\n",
      "STOP: TOTAL NO. of ITERATIONS REACHED LIMIT.\n",
      "\n",
      "Increase the number of iterations (max_iter) or scale the data as shown in:\n",
      "    https://scikit-learn.org/stable/modules/preprocessing.html\n",
      "Please also refer to the documentation for alternative solver options:\n",
      "    https://scikit-learn.org/stable/modules/linear_model.html#logistic-regression\n",
      "  n_iter_i = _check_optimize_result(\n",
      "/Users/adeshkadambi/Documents/GitHub/EgoVizML/.venv/lib/python3.11/site-packages/sklearn/linear_model/_logistic.py:460: ConvergenceWarning: lbfgs failed to converge (status=1):\n",
      "STOP: TOTAL NO. of ITERATIONS REACHED LIMIT.\n",
      "\n",
      "Increase the number of iterations (max_iter) or scale the data as shown in:\n",
      "    https://scikit-learn.org/stable/modules/preprocessing.html\n",
      "Please also refer to the documentation for alternative solver options:\n",
      "    https://scikit-learn.org/stable/modules/linear_model.html#logistic-regression\n",
      "  n_iter_i = _check_optimize_result(\n",
      "/Users/adeshkadambi/Documents/GitHub/EgoVizML/.venv/lib/python3.11/site-packages/sklearn/linear_model/_logistic.py:460: ConvergenceWarning: lbfgs failed to converge (status=1):\n",
      "STOP: TOTAL NO. of ITERATIONS REACHED LIMIT.\n",
      "\n",
      "Increase the number of iterations (max_iter) or scale the data as shown in:\n",
      "    https://scikit-learn.org/stable/modules/preprocessing.html\n",
      "Please also refer to the documentation for alternative solver options:\n",
      "    https://scikit-learn.org/stable/modules/linear_model.html#logistic-regression\n",
      "  n_iter_i = _check_optimize_result(\n"
     ]
    },
    {
     "name": "stdout",
     "output_type": "stream",
     "text": [
      "[CV] END .....C=0.01, max_iter=100, penalty=l2, solver=lbfgs; total time=   0.2s\n",
      "[CV] END ......C=0.1, max_iter=500, penalty=l2, solver=lbfgs; total time=   1.0s\n",
      "[CV] END .....C=0.01, max_iter=100, penalty=l2, solver=lbfgs; total time=   0.2s\n",
      "[CV] END .....C=0.01, max_iter=100, penalty=l2, solver=lbfgs; total time=   0.2s\n",
      "[CV] END ......C=0.1, max_iter=500, penalty=l2, solver=lbfgs; total time=   0.9s\n",
      "[CV] END .....C=0.01, max_iter=100, penalty=l2, solver=lbfgs; total time=   0.2s\n",
      "[CV] END .....C=0.01, max_iter=100, penalty=l2, solver=lbfgs; total time=   0.2s\n"
     ]
    },
    {
     "name": "stderr",
     "output_type": "stream",
     "text": [
      "/Users/adeshkadambi/Documents/GitHub/EgoVizML/.venv/lib/python3.11/site-packages/sklearn/linear_model/_logistic.py:460: ConvergenceWarning: lbfgs failed to converge (status=1):\n",
      "STOP: TOTAL NO. of ITERATIONS REACHED LIMIT.\n",
      "\n",
      "Increase the number of iterations (max_iter) or scale the data as shown in:\n",
      "    https://scikit-learn.org/stable/modules/preprocessing.html\n",
      "Please also refer to the documentation for alternative solver options:\n",
      "    https://scikit-learn.org/stable/modules/linear_model.html#logistic-regression\n",
      "  n_iter_i = _check_optimize_result(\n",
      "/Users/adeshkadambi/Documents/GitHub/EgoVizML/.venv/lib/python3.11/site-packages/sklearn/linear_model/_logistic.py:460: ConvergenceWarning: lbfgs failed to converge (status=1):\n",
      "STOP: TOTAL NO. of ITERATIONS REACHED LIMIT.\n",
      "\n",
      "Increase the number of iterations (max_iter) or scale the data as shown in:\n",
      "    https://scikit-learn.org/stable/modules/preprocessing.html\n",
      "Please also refer to the documentation for alternative solver options:\n",
      "    https://scikit-learn.org/stable/modules/linear_model.html#logistic-regression\n",
      "  n_iter_i = _check_optimize_result(\n",
      "/Users/adeshkadambi/Documents/GitHub/EgoVizML/.venv/lib/python3.11/site-packages/sklearn/linear_model/_logistic.py:460: ConvergenceWarning: lbfgs failed to converge (status=1):\n",
      "STOP: TOTAL NO. of ITERATIONS REACHED LIMIT.\n",
      "\n",
      "Increase the number of iterations (max_iter) or scale the data as shown in:\n",
      "    https://scikit-learn.org/stable/modules/preprocessing.html\n",
      "Please also refer to the documentation for alternative solver options:\n",
      "    https://scikit-learn.org/stable/modules/linear_model.html#logistic-regression\n",
      "  n_iter_i = _check_optimize_result(\n",
      "/Users/adeshkadambi/Documents/GitHub/EgoVizML/.venv/lib/python3.11/site-packages/sklearn/linear_model/_sag.py:350: ConvergenceWarning: The max_iter was reached which means the coef_ did not converge\n",
      "  warnings.warn(\n",
      "/Users/adeshkadambi/Documents/GitHub/EgoVizML/.venv/lib/python3.11/site-packages/sklearn/linear_model/_sag.py:350: ConvergenceWarning: The max_iter was reached which means the coef_ did not converge\n",
      "  warnings.warn(\n",
      "/Users/adeshkadambi/Documents/GitHub/EgoVizML/.venv/lib/python3.11/site-packages/sklearn/linear_model/_sag.py:350: ConvergenceWarning: The max_iter was reached which means the coef_ did not converge\n",
      "  warnings.warn(\n"
     ]
    },
    {
     "name": "stdout",
     "output_type": "stream",
     "text": [
      "[CV] END .......C=100, max_iter=500, penalty=l1, solver=saga; total time=   6.4s\n",
      "[CV] END .......C=100, max_iter=500, penalty=l1, solver=saga; total time=   6.4s\n",
      "[CV] END .......C=100, max_iter=500, penalty=l1, solver=saga; total time=   6.4s\n",
      "[CV] END C=0.001, max_iter=1000, penalty=l1, solver=liblinear; total time=   0.0s\n",
      "[CV] END C=0.001, max_iter=1000, penalty=l1, solver=liblinear; total time=   0.1s\n",
      "[CV] END C=0.001, max_iter=1000, penalty=l1, solver=liblinear; total time=   0.0s\n",
      "[CV] END C=0.001, max_iter=1000, penalty=l1, solver=liblinear; total time=   0.1s\n",
      "[CV] END C=0.001, max_iter=1000, penalty=l1, solver=liblinear; total time=   0.1s\n",
      "[CV] END ..C=100, max_iter=100, penalty=l2, solver=newton-cg; total time=  12.6s\n"
     ]
    },
    {
     "name": "stderr",
     "output_type": "stream",
     "text": [
      "/Users/adeshkadambi/Documents/GitHub/EgoVizML/.venv/lib/python3.11/site-packages/sklearn/utils/optimize.py:211: ConvergenceWarning: newton-cg failed to converge. Increase the number of iterations.\n",
      "  warnings.warn(\n"
     ]
    },
    {
     "name": "stdout",
     "output_type": "stream",
     "text": [
      "[CV] END ..C=100, max_iter=100, penalty=l2, solver=newton-cg; total time=  14.0s\n"
     ]
    },
    {
     "name": "stderr",
     "output_type": "stream",
     "text": [
      "/Users/adeshkadambi/Documents/GitHub/EgoVizML/.venv/lib/python3.11/site-packages/sklearn/utils/optimize.py:211: ConvergenceWarning: newton-cg failed to converge. Increase the number of iterations.\n",
      "  warnings.warn(\n"
     ]
    },
    {
     "name": "stdout",
     "output_type": "stream",
     "text": [
      "[CV] END ..C=100, max_iter=100, penalty=l2, solver=newton-cg; total time=  14.5s\n",
      "[CV] END ..C=100, max_iter=100, penalty=l2, solver=newton-cg; total time=  14.9s\n"
     ]
    },
    {
     "name": "stderr",
     "output_type": "stream",
     "text": [
      "/Users/adeshkadambi/Documents/GitHub/EgoVizML/.venv/lib/python3.11/site-packages/sklearn/utils/optimize.py:211: ConvergenceWarning: newton-cg failed to converge. Increase the number of iterations.\n",
      "  warnings.warn(\n"
     ]
    },
    {
     "name": "stdout",
     "output_type": "stream",
     "text": [
      "[CV] END ..C=100, max_iter=100, penalty=l2, solver=newton-cg; total time=  15.3s\n",
      "[CV] END ..C=0.1, max_iter=500, penalty=l2, solver=newton-cg; total time=   1.1s\n",
      "[CV] END .......C=100, max_iter=500, penalty=l1, solver=saga; total time=   6.5s\n"
     ]
    },
    {
     "name": "stderr",
     "output_type": "stream",
     "text": [
      "/Users/adeshkadambi/Documents/GitHub/EgoVizML/.venv/lib/python3.11/site-packages/sklearn/linear_model/_sag.py:350: ConvergenceWarning: The max_iter was reached which means the coef_ did not converge\n",
      "  warnings.warn(\n",
      "/Users/adeshkadambi/Documents/GitHub/EgoVizML/.venv/lib/python3.11/site-packages/sklearn/linear_model/_sag.py:350: ConvergenceWarning: The max_iter was reached which means the coef_ did not converge\n",
      "  warnings.warn(\n"
     ]
    },
    {
     "name": "stdout",
     "output_type": "stream",
     "text": [
      "[CV] END .......C=100, max_iter=500, penalty=l1, solver=saga; total time=   6.5s\n"
     ]
    },
    {
     "name": "stderr",
     "output_type": "stream",
     "text": [
      "/Users/adeshkadambi/Documents/GitHub/EgoVizML/.venv/lib/python3.11/site-packages/sklearn/linear_model/_sag.py:350: ConvergenceWarning: The max_iter was reached which means the coef_ did not converge\n",
      "  warnings.warn(\n"
     ]
    },
    {
     "name": "stdout",
     "output_type": "stream",
     "text": [
      "[CV] END .........C=1, max_iter=500, penalty=l1, solver=saga; total time=   6.6s\n",
      "[CV] END ..C=0.1, max_iter=500, penalty=l2, solver=newton-cg; total time=   1.9s\n",
      "[CV] END ..C=0.1, max_iter=500, penalty=l2, solver=newton-cg; total time=   1.8s\n",
      "[CV] END ..C=0.1, max_iter=500, penalty=l2, solver=newton-cg; total time=   2.1s\n",
      "[CV] END ..C=0.1, max_iter=500, penalty=l2, solver=newton-cg; total time=   1.5s\n"
     ]
    },
    {
     "name": "stderr",
     "output_type": "stream",
     "text": [
      "/Users/adeshkadambi/Documents/GitHub/EgoVizML/.venv/lib/python3.11/site-packages/sklearn/linear_model/_sag.py:350: ConvergenceWarning: The max_iter was reached which means the coef_ did not converge\n",
      "  warnings.warn(\n"
     ]
    },
    {
     "name": "stdout",
     "output_type": "stream",
     "text": [
      "[CV] END .........C=1, max_iter=500, penalty=l1, solver=saga; total time=   6.6s\n"
     ]
    },
    {
     "name": "stderr",
     "output_type": "stream",
     "text": [
      "/Users/adeshkadambi/Documents/GitHub/EgoVizML/.venv/lib/python3.11/site-packages/sklearn/linear_model/_logistic.py:460: ConvergenceWarning: lbfgs failed to converge (status=1):\n",
      "STOP: TOTAL NO. of ITERATIONS REACHED LIMIT.\n",
      "\n",
      "Increase the number of iterations (max_iter) or scale the data as shown in:\n",
      "    https://scikit-learn.org/stable/modules/preprocessing.html\n",
      "Please also refer to the documentation for alternative solver options:\n",
      "    https://scikit-learn.org/stable/modules/linear_model.html#logistic-regression\n",
      "  n_iter_i = _check_optimize_result(\n"
     ]
    },
    {
     "name": "stdout",
     "output_type": "stream",
     "text": [
      "[CV] END ......C=10, max_iter=1000, penalty=l2, solver=lbfgs; total time=   1.8s\n",
      "[CV] END ....C=0.001, max_iter=500, penalty=l1, solver=lbfgs; total time=   0.0s\n",
      "[CV] END ....C=0.001, max_iter=500, penalty=l1, solver=lbfgs; total time=   0.0s\n",
      "[CV] END ....C=0.001, max_iter=500, penalty=l1, solver=lbfgs; total time=   0.0s\n",
      "[CV] END ....C=0.001, max_iter=500, penalty=l1, solver=lbfgs; total time=   0.0s\n",
      "[CV] END ....C=0.001, max_iter=500, penalty=l1, solver=lbfgs; total time=   0.0s\n"
     ]
    },
    {
     "name": "stderr",
     "output_type": "stream",
     "text": [
      "/Users/adeshkadambi/Documents/GitHub/EgoVizML/.venv/lib/python3.11/site-packages/sklearn/linear_model/_sag.py:350: ConvergenceWarning: The max_iter was reached which means the coef_ did not converge\n",
      "  warnings.warn(\n",
      "/Users/adeshkadambi/Documents/GitHub/EgoVizML/.venv/lib/python3.11/site-packages/sklearn/linear_model/_logistic.py:460: ConvergenceWarning: lbfgs failed to converge (status=1):\n",
      "STOP: TOTAL NO. of ITERATIONS REACHED LIMIT.\n",
      "\n",
      "Increase the number of iterations (max_iter) or scale the data as shown in:\n",
      "    https://scikit-learn.org/stable/modules/preprocessing.html\n",
      "Please also refer to the documentation for alternative solver options:\n",
      "    https://scikit-learn.org/stable/modules/linear_model.html#logistic-regression\n",
      "  n_iter_i = _check_optimize_result(\n"
     ]
    },
    {
     "name": "stdout",
     "output_type": "stream",
     "text": [
      "[CV] END .........C=1, max_iter=500, penalty=l1, solver=saga; total time=   6.5s\n",
      "[CV] END ......C=10, max_iter=1000, penalty=l2, solver=lbfgs; total time=   1.9s\n"
     ]
    },
    {
     "name": "stderr",
     "output_type": "stream",
     "text": [
      "/Users/adeshkadambi/Documents/GitHub/EgoVizML/.venv/lib/python3.11/site-packages/sklearn/linear_model/_logistic.py:460: ConvergenceWarning: lbfgs failed to converge (status=1):\n",
      "STOP: TOTAL NO. of ITERATIONS REACHED LIMIT.\n",
      "\n",
      "Increase the number of iterations (max_iter) or scale the data as shown in:\n",
      "    https://scikit-learn.org/stable/modules/preprocessing.html\n",
      "Please also refer to the documentation for alternative solver options:\n",
      "    https://scikit-learn.org/stable/modules/linear_model.html#logistic-regression\n",
      "  n_iter_i = _check_optimize_result(\n",
      "/Users/adeshkadambi/Documents/GitHub/EgoVizML/.venv/lib/python3.11/site-packages/sklearn/linear_model/_logistic.py:460: ConvergenceWarning: lbfgs failed to converge (status=1):\n",
      "STOP: TOTAL NO. of ITERATIONS REACHED LIMIT.\n",
      "\n",
      "Increase the number of iterations (max_iter) or scale the data as shown in:\n",
      "    https://scikit-learn.org/stable/modules/preprocessing.html\n",
      "Please also refer to the documentation for alternative solver options:\n",
      "    https://scikit-learn.org/stable/modules/linear_model.html#logistic-regression\n",
      "  n_iter_i = _check_optimize_result(\n"
     ]
    },
    {
     "name": "stdout",
     "output_type": "stream",
     "text": [
      "[CV] END ....C=0.001, max_iter=100, penalty=l2, solver=lbfgs; total time=   0.3s\n",
      "[CV] END ......C=10, max_iter=1000, penalty=l2, solver=lbfgs; total time=   1.9s\n"
     ]
    },
    {
     "name": "stderr",
     "output_type": "stream",
     "text": [
      "/Users/adeshkadambi/Documents/GitHub/EgoVizML/.venv/lib/python3.11/site-packages/sklearn/linear_model/_logistic.py:460: ConvergenceWarning: lbfgs failed to converge (status=1):\n",
      "STOP: TOTAL NO. of ITERATIONS REACHED LIMIT.\n",
      "\n",
      "Increase the number of iterations (max_iter) or scale the data as shown in:\n",
      "    https://scikit-learn.org/stable/modules/preprocessing.html\n",
      "Please also refer to the documentation for alternative solver options:\n",
      "    https://scikit-learn.org/stable/modules/linear_model.html#logistic-regression\n",
      "  n_iter_i = _check_optimize_result(\n",
      "/Users/adeshkadambi/Documents/GitHub/EgoVizML/.venv/lib/python3.11/site-packages/sklearn/linear_model/_logistic.py:460: ConvergenceWarning: lbfgs failed to converge (status=1):\n",
      "STOP: TOTAL NO. of ITERATIONS REACHED LIMIT.\n",
      "\n",
      "Increase the number of iterations (max_iter) or scale the data as shown in:\n",
      "    https://scikit-learn.org/stable/modules/preprocessing.html\n",
      "Please also refer to the documentation for alternative solver options:\n",
      "    https://scikit-learn.org/stable/modules/linear_model.html#logistic-regression\n",
      "  n_iter_i = _check_optimize_result(\n",
      "/Users/adeshkadambi/Documents/GitHub/EgoVizML/.venv/lib/python3.11/site-packages/sklearn/linear_model/_logistic.py:460: ConvergenceWarning: lbfgs failed to converge (status=1):\n",
      "STOP: TOTAL NO. of ITERATIONS REACHED LIMIT.\n",
      "\n",
      "Increase the number of iterations (max_iter) or scale the data as shown in:\n",
      "    https://scikit-learn.org/stable/modules/preprocessing.html\n",
      "Please also refer to the documentation for alternative solver options:\n",
      "    https://scikit-learn.org/stable/modules/linear_model.html#logistic-regression\n",
      "  n_iter_i = _check_optimize_result(\n",
      "/Users/adeshkadambi/Documents/GitHub/EgoVizML/.venv/lib/python3.11/site-packages/sklearn/linear_model/_logistic.py:460: ConvergenceWarning: lbfgs failed to converge (status=1):\n",
      "STOP: TOTAL NO. of ITERATIONS REACHED LIMIT.\n",
      "\n",
      "Increase the number of iterations (max_iter) or scale the data as shown in:\n",
      "    https://scikit-learn.org/stable/modules/preprocessing.html\n",
      "Please also refer to the documentation for alternative solver options:\n",
      "    https://scikit-learn.org/stable/modules/linear_model.html#logistic-regression\n",
      "  n_iter_i = _check_optimize_result(\n",
      "/Users/adeshkadambi/Documents/GitHub/EgoVizML/.venv/lib/python3.11/site-packages/sklearn/linear_model/_logistic.py:460: ConvergenceWarning: lbfgs failed to converge (status=1):\n",
      "STOP: TOTAL NO. of ITERATIONS REACHED LIMIT.\n",
      "\n",
      "Increase the number of iterations (max_iter) or scale the data as shown in:\n",
      "    https://scikit-learn.org/stable/modules/preprocessing.html\n",
      "Please also refer to the documentation for alternative solver options:\n",
      "    https://scikit-learn.org/stable/modules/linear_model.html#logistic-regression\n",
      "  n_iter_i = _check_optimize_result(\n"
     ]
    },
    {
     "name": "stdout",
     "output_type": "stream",
     "text": [
      "[CV] END ....C=0.001, max_iter=100, penalty=l2, solver=lbfgs; total time=   0.4s\n",
      "[CV] END ......C=10, max_iter=1000, penalty=l2, solver=lbfgs; total time=   2.0s\n",
      "[CV] END ....C=0.001, max_iter=100, penalty=l2, solver=lbfgs; total time=   0.3s\n",
      "[CV] END ....C=0.001, max_iter=100, penalty=l2, solver=lbfgs; total time=   0.3s\n",
      "[CV] END ....C=0.001, max_iter=100, penalty=l2, solver=lbfgs; total time=   0.3s\n",
      "[CV] END C=0.001, max_iter=1000, penalty=l2, solver=liblinear; total time=   0.3s\n",
      "[CV] END .........C=1, max_iter=500, penalty=l1, solver=saga; total time=   6.7s\n",
      "[CV] END C=0.001, max_iter=1000, penalty=l2, solver=liblinear; total time=   0.2s\n",
      "[CV] END .........C=1, max_iter=500, penalty=l1, solver=saga; total time=   6.7s\n",
      "[CV] END C=0.001, max_iter=1000, penalty=l2, solver=liblinear; total time=   0.2s\n"
     ]
    },
    {
     "name": "stderr",
     "output_type": "stream",
     "text": [
      "/Users/adeshkadambi/Documents/GitHub/EgoVizML/.venv/lib/python3.11/site-packages/sklearn/linear_model/_sag.py:350: ConvergenceWarning: The max_iter was reached which means the coef_ did not converge\n",
      "  warnings.warn(\n",
      "/Users/adeshkadambi/Documents/GitHub/EgoVizML/.venv/lib/python3.11/site-packages/sklearn/linear_model/_sag.py:350: ConvergenceWarning: The max_iter was reached which means the coef_ did not converge\n",
      "  warnings.warn(\n"
     ]
    },
    {
     "name": "stdout",
     "output_type": "stream",
     "text": [
      "[CV] END C=0.001, max_iter=1000, penalty=l2, solver=liblinear; total time=   0.3s\n",
      "[CV] END C=0.001, max_iter=1000, penalty=l2, solver=liblinear; total time=   0.3s\n",
      "[CV] END ...C=1, max_iter=1000, penalty=l1, solver=liblinear; total time=   0.3s\n",
      "[CV] END ......C=10, max_iter=1000, penalty=l2, solver=lbfgs; total time=   2.4s\n",
      "[CV] END ...C=1, max_iter=1000, penalty=l1, solver=liblinear; total time=   0.4s\n"
     ]
    },
    {
     "name": "stderr",
     "output_type": "stream",
     "text": [
      "/Users/adeshkadambi/Documents/GitHub/EgoVizML/.venv/lib/python3.11/site-packages/sklearn/linear_model/_logistic.py:460: ConvergenceWarning: lbfgs failed to converge (status=1):\n",
      "STOP: TOTAL NO. of ITERATIONS REACHED LIMIT.\n",
      "\n",
      "Increase the number of iterations (max_iter) or scale the data as shown in:\n",
      "    https://scikit-learn.org/stable/modules/preprocessing.html\n",
      "Please also refer to the documentation for alternative solver options:\n",
      "    https://scikit-learn.org/stable/modules/linear_model.html#logistic-regression\n",
      "  n_iter_i = _check_optimize_result(\n"
     ]
    },
    {
     "name": "stdout",
     "output_type": "stream",
     "text": [
      "[CV] END ...C=1, max_iter=1000, penalty=l1, solver=liblinear; total time=   0.4s\n",
      "[CV] END ...C=1, max_iter=1000, penalty=l1, solver=liblinear; total time=   0.4s\n",
      "[CV] END ...C=1, max_iter=1000, penalty=l1, solver=liblinear; total time=   0.3s\n",
      "[CV] END .C=0.01, max_iter=100, penalty=l1, solver=liblinear; total time=   0.1s\n",
      "[CV] END .C=0.01, max_iter=100, penalty=l1, solver=liblinear; total time=   0.1s\n",
      "[CV] END .C=0.01, max_iter=100, penalty=l1, solver=liblinear; total time=   0.1s\n",
      "[CV] END ........C=1, max_iter=500, penalty=l1, solver=lbfgs; total time=   0.0s\n",
      "[CV] END ........C=1, max_iter=500, penalty=l1, solver=lbfgs; total time=   0.0s\n",
      "[CV] END ........C=1, max_iter=500, penalty=l1, solver=lbfgs; total time=   0.0s\n",
      "[CV] END ........C=1, max_iter=500, penalty=l1, solver=lbfgs; total time=   0.0s\n",
      "[CV] END .C=0.01, max_iter=100, penalty=l1, solver=liblinear; total time=   0.2s\n",
      "[CV] END ........C=1, max_iter=500, penalty=l1, solver=lbfgs; total time=   0.0s\n",
      "[CV] END .C=0.01, max_iter=100, penalty=l1, solver=liblinear; total time=   0.2s\n"
     ]
    },
    {
     "name": "stderr",
     "output_type": "stream",
     "text": [
      "/Users/adeshkadambi/Documents/GitHub/EgoVizML/.venv/lib/python3.11/site-packages/sklearn/linear_model/_sag.py:350: ConvergenceWarning: The max_iter was reached which means the coef_ did not converge\n",
      "  warnings.warn(\n",
      "/Users/adeshkadambi/Documents/GitHub/EgoVizML/.venv/lib/python3.11/site-packages/sklearn/linear_model/_sag.py:350: ConvergenceWarning: The max_iter was reached which means the coef_ did not converge\n",
      "  warnings.warn(\n",
      "/Users/adeshkadambi/Documents/GitHub/EgoVizML/.venv/lib/python3.11/site-packages/sklearn/linear_model/_sag.py:350: ConvergenceWarning: The max_iter was reached which means the coef_ did not converge\n",
      "  warnings.warn(\n"
     ]
    },
    {
     "name": "stdout",
     "output_type": "stream",
     "text": [
      "[CV] END .........C=10, max_iter=100, penalty=l2, solver=sag; total time=   0.8s\n",
      "[CV] END .........C=10, max_iter=100, penalty=l2, solver=sag; total time=   0.7s\n",
      "[CV] END .........C=10, max_iter=100, penalty=l2, solver=sag; total time=   0.8s\n"
     ]
    },
    {
     "name": "stderr",
     "output_type": "stream",
     "text": [
      "/Users/adeshkadambi/Documents/GitHub/EgoVizML/.venv/lib/python3.11/site-packages/sklearn/linear_model/_sag.py:350: ConvergenceWarning: The max_iter was reached which means the coef_ did not converge\n",
      "  warnings.warn(\n",
      "/Users/adeshkadambi/Documents/GitHub/EgoVizML/.venv/lib/python3.11/site-packages/sklearn/linear_model/_sag.py:350: ConvergenceWarning: The max_iter was reached which means the coef_ did not converge\n",
      "  warnings.warn(\n",
      "/Users/adeshkadambi/Documents/GitHub/EgoVizML/.venv/lib/python3.11/site-packages/sklearn/linear_model/_sag.py:350: ConvergenceWarning: The max_iter was reached which means the coef_ did not converge\n",
      "  warnings.warn(\n",
      "/Users/adeshkadambi/Documents/GitHub/EgoVizML/.venv/lib/python3.11/site-packages/sklearn/linear_model/_sag.py:350: ConvergenceWarning: The max_iter was reached which means the coef_ did not converge\n",
      "  warnings.warn(\n"
     ]
    },
    {
     "name": "stdout",
     "output_type": "stream",
     "text": [
      "[CV] END .....C=0.001, max_iter=100, penalty=l1, solver=saga; total time=   1.5s\n",
      "[CV] END .....C=0.001, max_iter=100, penalty=l1, solver=saga; total time=   1.6s\n",
      "[CV] END .....C=0.001, max_iter=100, penalty=l1, solver=saga; total time=   1.5s\n",
      "[CV] END .....C=0.001, max_iter=100, penalty=l1, solver=saga; total time=   1.5s\n"
     ]
    },
    {
     "name": "stderr",
     "output_type": "stream",
     "text": [
      "/Users/adeshkadambi/Documents/GitHub/EgoVizML/.venv/lib/python3.11/site-packages/sklearn/linear_model/_sag.py:350: ConvergenceWarning: The max_iter was reached which means the coef_ did not converge\n",
      "  warnings.warn(\n"
     ]
    },
    {
     "name": "stdout",
     "output_type": "stream",
     "text": [
      "[CV] END .....C=0.001, max_iter=100, penalty=l1, solver=saga; total time=   1.6s\n",
      "[CV] END C=0.001, max_iter=500, penalty=l1, solver=newton-cg; total time=   0.0s\n",
      "[CV] END C=0.001, max_iter=500, penalty=l1, solver=newton-cg; total time=   0.0s\n",
      "[CV] END C=0.001, max_iter=500, penalty=l1, solver=newton-cg; total time=   0.0s\n",
      "[CV] END C=0.001, max_iter=500, penalty=l1, solver=newton-cg; total time=   0.0s\n",
      "[CV] END C=0.001, max_iter=500, penalty=l1, solver=newton-cg; total time=   0.0s\n"
     ]
    },
    {
     "name": "stderr",
     "output_type": "stream",
     "text": [
      "/Users/adeshkadambi/Documents/GitHub/EgoVizML/.venv/lib/python3.11/site-packages/sklearn/linear_model/_sag.py:350: ConvergenceWarning: The max_iter was reached which means the coef_ did not converge\n",
      "  warnings.warn(\n",
      "/Users/adeshkadambi/Documents/GitHub/EgoVizML/.venv/lib/python3.11/site-packages/sklearn/linear_model/_sag.py:350: ConvergenceWarning: The max_iter was reached which means the coef_ did not converge\n",
      "  warnings.warn(\n"
     ]
    },
    {
     "name": "stdout",
     "output_type": "stream",
     "text": [
      "[CV] END .........C=10, max_iter=100, penalty=l2, solver=sag; total time=   1.3s\n",
      "[CV] END .........C=10, max_iter=100, penalty=l2, solver=sag; total time=   1.3s\n",
      "[CV] END ....C=1, max_iter=100, penalty=l2, solver=newton-cg; total time=   2.2s\n",
      "[CV] END ....C=1, max_iter=100, penalty=l2, solver=newton-cg; total time=   2.7s\n",
      "[CV] END ....C=1, max_iter=100, penalty=l2, solver=newton-cg; total time=   2.3s\n",
      "[CV] END .........C=10, max_iter=500, penalty=l1, solver=sag; total time=   0.0s\n",
      "[CV] END .........C=10, max_iter=500, penalty=l1, solver=sag; total time=   0.0s\n",
      "[CV] END .........C=10, max_iter=500, penalty=l1, solver=sag; total time=   0.0s\n",
      "[CV] END .........C=10, max_iter=500, penalty=l1, solver=sag; total time=   0.0s\n",
      "[CV] END .........C=10, max_iter=500, penalty=l1, solver=sag; total time=   0.0s\n",
      "[CV] END C=0.001, max_iter=100, penalty=l1, solver=newton-cg; total time=   0.0s\n",
      "[CV] END C=0.001, max_iter=100, penalty=l1, solver=newton-cg; total time=   0.0s\n",
      "[CV] END C=0.001, max_iter=100, penalty=l1, solver=newton-cg; total time=   0.0s\n",
      "[CV] END ....C=1, max_iter=100, penalty=l2, solver=newton-cg; total time=   2.4s\n",
      "[CV] END C=0.001, max_iter=100, penalty=l1, solver=newton-cg; total time=   0.0s\n",
      "[CV] END C=0.001, max_iter=100, penalty=l1, solver=newton-cg; total time=   0.0s\n",
      "[CV] END ....C=1, max_iter=100, penalty=l2, solver=newton-cg; total time=   2.8s\n"
     ]
    },
    {
     "name": "stderr",
     "output_type": "stream",
     "text": [
      "/Users/adeshkadambi/Documents/GitHub/EgoVizML/.venv/lib/python3.11/site-packages/sklearn/linear_model/_logistic.py:460: ConvergenceWarning: lbfgs failed to converge (status=1):\n",
      "STOP: TOTAL NO. of ITERATIONS REACHED LIMIT.\n",
      "\n",
      "Increase the number of iterations (max_iter) or scale the data as shown in:\n",
      "    https://scikit-learn.org/stable/modules/preprocessing.html\n",
      "Please also refer to the documentation for alternative solver options:\n",
      "    https://scikit-learn.org/stable/modules/linear_model.html#logistic-regression\n",
      "  n_iter_i = _check_optimize_result(\n",
      "/Users/adeshkadambi/Documents/GitHub/EgoVizML/.venv/lib/python3.11/site-packages/sklearn/linear_model/_logistic.py:460: ConvergenceWarning: lbfgs failed to converge (status=1):\n",
      "STOP: TOTAL NO. of ITERATIONS REACHED LIMIT.\n",
      "\n",
      "Increase the number of iterations (max_iter) or scale the data as shown in:\n",
      "    https://scikit-learn.org/stable/modules/preprocessing.html\n",
      "Please also refer to the documentation for alternative solver options:\n",
      "    https://scikit-learn.org/stable/modules/linear_model.html#logistic-regression\n",
      "  n_iter_i = _check_optimize_result(\n",
      "/Users/adeshkadambi/Documents/GitHub/EgoVizML/.venv/lib/python3.11/site-packages/sklearn/linear_model/_logistic.py:460: ConvergenceWarning: lbfgs failed to converge (status=1):\n",
      "STOP: TOTAL NO. of ITERATIONS REACHED LIMIT.\n",
      "\n",
      "Increase the number of iterations (max_iter) or scale the data as shown in:\n",
      "    https://scikit-learn.org/stable/modules/preprocessing.html\n",
      "Please also refer to the documentation for alternative solver options:\n",
      "    https://scikit-learn.org/stable/modules/linear_model.html#logistic-regression\n",
      "  n_iter_i = _check_optimize_result(\n"
     ]
    },
    {
     "name": "stdout",
     "output_type": "stream",
     "text": [
      "[CV] END .......C=10, max_iter=500, penalty=l2, solver=lbfgs; total time=   0.9s\n",
      "[CV] END .......C=10, max_iter=500, penalty=l2, solver=lbfgs; total time=   1.0s\n",
      "[CV] END .......C=10, max_iter=500, penalty=l2, solver=lbfgs; total time=   0.9s\n",
      "[CV] END ..C=0.1, max_iter=500, penalty=l1, solver=newton-cg; total time=   0.0s\n",
      "[CV] END ..C=0.1, max_iter=500, penalty=l1, solver=newton-cg; total time=   0.0s\n",
      "[CV] END ..C=0.1, max_iter=500, penalty=l1, solver=newton-cg; total time=   0.0s\n",
      "[CV] END ..C=0.1, max_iter=500, penalty=l1, solver=newton-cg; total time=   0.0s\n",
      "[CV] END ..C=0.1, max_iter=500, penalty=l1, solver=newton-cg; total time=   0.0s\n"
     ]
    },
    {
     "name": "stderr",
     "output_type": "stream",
     "text": [
      "/Users/adeshkadambi/Documents/GitHub/EgoVizML/.venv/lib/python3.11/site-packages/sklearn/linear_model/_logistic.py:460: ConvergenceWarning: lbfgs failed to converge (status=1):\n",
      "STOP: TOTAL NO. of ITERATIONS REACHED LIMIT.\n",
      "\n",
      "Increase the number of iterations (max_iter) or scale the data as shown in:\n",
      "    https://scikit-learn.org/stable/modules/preprocessing.html\n",
      "Please also refer to the documentation for alternative solver options:\n",
      "    https://scikit-learn.org/stable/modules/linear_model.html#logistic-regression\n",
      "  n_iter_i = _check_optimize_result(\n",
      "/Users/adeshkadambi/Documents/GitHub/EgoVizML/.venv/lib/python3.11/site-packages/sklearn/linear_model/_logistic.py:460: ConvergenceWarning: lbfgs failed to converge (status=1):\n",
      "STOP: TOTAL NO. of ITERATIONS REACHED LIMIT.\n",
      "\n",
      "Increase the number of iterations (max_iter) or scale the data as shown in:\n",
      "    https://scikit-learn.org/stable/modules/preprocessing.html\n",
      "Please also refer to the documentation for alternative solver options:\n",
      "    https://scikit-learn.org/stable/modules/linear_model.html#logistic-regression\n",
      "  n_iter_i = _check_optimize_result(\n"
     ]
    },
    {
     "name": "stdout",
     "output_type": "stream",
     "text": [
      "[CV] END .......C=10, max_iter=500, penalty=l2, solver=lbfgs; total time=   0.9s\n",
      "[CV] END .......C=10, max_iter=500, penalty=l2, solver=lbfgs; total time=   0.9s\n"
     ]
    },
    {
     "name": "stderr",
     "output_type": "stream",
     "text": [
      "/Users/adeshkadambi/Documents/GitHub/EgoVizML/.venv/lib/python3.11/site-packages/sklearn/linear_model/_sag.py:350: ConvergenceWarning: The max_iter was reached which means the coef_ did not converge\n",
      "  warnings.warn(\n"
     ]
    },
    {
     "name": "stdout",
     "output_type": "stream",
     "text": [
      "[CV] END .......C=0.1, max_iter=100, penalty=l1, solver=saga; total time=   1.3s\n"
     ]
    },
    {
     "name": "stderr",
     "output_type": "stream",
     "text": [
      "/Users/adeshkadambi/Documents/GitHub/EgoVizML/.venv/lib/python3.11/site-packages/sklearn/linear_model/_sag.py:350: ConvergenceWarning: The max_iter was reached which means the coef_ did not converge\n",
      "  warnings.warn(\n",
      "/Users/adeshkadambi/Documents/GitHub/EgoVizML/.venv/lib/python3.11/site-packages/sklearn/linear_model/_sag.py:350: ConvergenceWarning: The max_iter was reached which means the coef_ did not converge\n",
      "  warnings.warn(\n"
     ]
    },
    {
     "name": "stdout",
     "output_type": "stream",
     "text": [
      "[CV] END .......C=0.1, max_iter=100, penalty=l1, solver=saga; total time=   1.4s\n",
      "[CV] END .......C=0.1, max_iter=100, penalty=l1, solver=saga; total time=   1.4s\n"
     ]
    },
    {
     "name": "stderr",
     "output_type": "stream",
     "text": [
      "/Users/adeshkadambi/Documents/GitHub/EgoVizML/.venv/lib/python3.11/site-packages/sklearn/linear_model/_sag.py:350: ConvergenceWarning: The max_iter was reached which means the coef_ did not converge\n",
      "  warnings.warn(\n"
     ]
    },
    {
     "name": "stdout",
     "output_type": "stream",
     "text": [
      "[CV] END .......C=0.1, max_iter=100, penalty=l1, solver=saga; total time=   1.5s\n"
     ]
    },
    {
     "name": "stderr",
     "output_type": "stream",
     "text": [
      "/Users/adeshkadambi/Documents/GitHub/EgoVizML/.venv/lib/python3.11/site-packages/sklearn/linear_model/_sag.py:350: ConvergenceWarning: The max_iter was reached which means the coef_ did not converge\n",
      "  warnings.warn(\n"
     ]
    },
    {
     "name": "stdout",
     "output_type": "stream",
     "text": [
      "[CV] END .......C=0.1, max_iter=100, penalty=l1, solver=saga; total time=   1.3s\n"
     ]
    },
    {
     "name": "stderr",
     "output_type": "stream",
     "text": [
      "/Users/adeshkadambi/Documents/GitHub/EgoVizML/.venv/lib/python3.11/site-packages/sklearn/linear_model/_sag.py:350: ConvergenceWarning: The max_iter was reached which means the coef_ did not converge\n",
      "  warnings.warn(\n"
     ]
    },
    {
     "name": "stdout",
     "output_type": "stream",
     "text": [
      "[CV] END ......C=0.01, max_iter=500, penalty=l1, solver=saga; total time=   6.2s\n"
     ]
    },
    {
     "name": "stderr",
     "output_type": "stream",
     "text": [
      "/Users/adeshkadambi/Documents/GitHub/EgoVizML/.venv/lib/python3.11/site-packages/sklearn/linear_model/_sag.py:350: ConvergenceWarning: The max_iter was reached which means the coef_ did not converge\n",
      "  warnings.warn(\n"
     ]
    },
    {
     "name": "stdout",
     "output_type": "stream",
     "text": [
      "[CV] END ......C=0.01, max_iter=500, penalty=l1, solver=saga; total time=   6.1s\n"
     ]
    },
    {
     "name": "stderr",
     "output_type": "stream",
     "text": [
      "/Users/adeshkadambi/Documents/GitHub/EgoVizML/.venv/lib/python3.11/site-packages/sklearn/linear_model/_sag.py:350: ConvergenceWarning: The max_iter was reached which means the coef_ did not converge\n",
      "  warnings.warn(\n"
     ]
    },
    {
     "name": "stdout",
     "output_type": "stream",
     "text": [
      "[CV] END ......C=0.01, max_iter=500, penalty=l1, solver=saga; total time=   6.1s\n",
      "[CV] END .........C=10, max_iter=100, penalty=l1, solver=sag; total time=   0.0s\n",
      "[CV] END .........C=10, max_iter=100, penalty=l1, solver=sag; total time=   0.0s\n",
      "[CV] END .........C=10, max_iter=100, penalty=l1, solver=sag; total time=   0.0s\n",
      "[CV] END .........C=10, max_iter=100, penalty=l1, solver=sag; total time=   0.0s\n",
      "[CV] END .........C=10, max_iter=100, penalty=l1, solver=sag; total time=   0.0s\n"
     ]
    },
    {
     "name": "stderr",
     "output_type": "stream",
     "text": [
      "/Users/adeshkadambi/Documents/GitHub/EgoVizML/.venv/lib/python3.11/site-packages/sklearn/linear_model/_sag.py:350: ConvergenceWarning: The max_iter was reached which means the coef_ did not converge\n",
      "  warnings.warn(\n"
     ]
    },
    {
     "name": "stdout",
     "output_type": "stream",
     "text": [
      "[CV] END ........C=1, max_iter=1000, penalty=l1, solver=saga; total time=  13.8s\n"
     ]
    },
    {
     "name": "stderr",
     "output_type": "stream",
     "text": [
      "/Users/adeshkadambi/Documents/GitHub/EgoVizML/.venv/lib/python3.11/site-packages/sklearn/linear_model/_sag.py:350: ConvergenceWarning: The max_iter was reached which means the coef_ did not converge\n",
      "  warnings.warn(\n",
      "/Users/adeshkadambi/Documents/GitHub/EgoVizML/.venv/lib/python3.11/site-packages/sklearn/linear_model/_sag.py:350: ConvergenceWarning: The max_iter was reached which means the coef_ did not converge\n",
      "  warnings.warn(\n"
     ]
    },
    {
     "name": "stdout",
     "output_type": "stream",
     "text": [
      "[CV] END ........C=1, max_iter=1000, penalty=l1, solver=saga; total time=  13.8s\n",
      "[CV] END ........C=1, max_iter=1000, penalty=l1, solver=saga; total time=  13.9s\n"
     ]
    },
    {
     "name": "stderr",
     "output_type": "stream",
     "text": [
      "/Users/adeshkadambi/Documents/GitHub/EgoVizML/.venv/lib/python3.11/site-packages/sklearn/linear_model/_sag.py:350: ConvergenceWarning: The max_iter was reached which means the coef_ did not converge\n",
      "  warnings.warn(\n"
     ]
    },
    {
     "name": "stdout",
     "output_type": "stream",
     "text": [
      "[CV] END ........C=1, max_iter=1000, penalty=l1, solver=saga; total time=  14.2s\n",
      "[CV] END .....C=0.001, max_iter=1000, penalty=l2, solver=sag; total time=   3.0s\n",
      "[CV] END .C=0.01, max_iter=500, penalty=l1, solver=newton-cg; total time=   0.0s\n",
      "[CV] END .C=0.01, max_iter=500, penalty=l1, solver=newton-cg; total time=   0.0s\n",
      "[CV] END .C=0.01, max_iter=500, penalty=l1, solver=newton-cg; total time=   0.0s\n",
      "[CV] END .C=0.01, max_iter=500, penalty=l1, solver=newton-cg; total time=   0.0s\n",
      "[CV] END .C=0.01, max_iter=500, penalty=l1, solver=newton-cg; total time=   0.0s\n"
     ]
    },
    {
     "name": "stderr",
     "output_type": "stream",
     "text": [
      "/Users/adeshkadambi/Documents/GitHub/EgoVizML/.venv/lib/python3.11/site-packages/sklearn/linear_model/_sag.py:350: ConvergenceWarning: The max_iter was reached which means the coef_ did not converge\n",
      "  warnings.warn(\n"
     ]
    },
    {
     "name": "stdout",
     "output_type": "stream",
     "text": [
      "[CV] END ........C=1, max_iter=1000, penalty=l1, solver=saga; total time=  14.3s\n",
      "[CV] END .....C=0.001, max_iter=1000, penalty=l2, solver=sag; total time=   3.1s\n",
      "[CV] END .....C=0.001, max_iter=1000, penalty=l2, solver=sag; total time=   3.0s\n",
      "[CV] END .....C=0.001, max_iter=1000, penalty=l2, solver=sag; total time=   3.2s\n"
     ]
    },
    {
     "name": "stderr",
     "output_type": "stream",
     "text": [
      "/Users/adeshkadambi/Documents/GitHub/EgoVizML/.venv/lib/python3.11/site-packages/sklearn/linear_model/_sag.py:350: ConvergenceWarning: The max_iter was reached which means the coef_ did not converge\n",
      "  warnings.warn(\n"
     ]
    },
    {
     "name": "stdout",
     "output_type": "stream",
     "text": [
      "[CV] END ......C=0.01, max_iter=500, penalty=l1, solver=saga; total time=   6.5s\n",
      "[CV] END .....C=0.001, max_iter=1000, penalty=l2, solver=sag; total time=   2.4s\n"
     ]
    },
    {
     "name": "stderr",
     "output_type": "stream",
     "text": [
      "/Users/adeshkadambi/Documents/GitHub/EgoVizML/.venv/lib/python3.11/site-packages/sklearn/linear_model/_sag.py:350: ConvergenceWarning: The max_iter was reached which means the coef_ did not converge\n",
      "  warnings.warn(\n"
     ]
    },
    {
     "name": "stdout",
     "output_type": "stream",
     "text": [
      "[CV] END ......C=0.01, max_iter=500, penalty=l1, solver=saga; total time=   6.4s\n"
     ]
    },
    {
     "name": "stderr",
     "output_type": "stream",
     "text": [
      "/Users/adeshkadambi/Documents/GitHub/EgoVizML/.venv/lib/python3.11/site-packages/sklearn/linear_model/_sag.py:350: ConvergenceWarning: The max_iter was reached which means the coef_ did not converge\n",
      "  warnings.warn(\n"
     ]
    },
    {
     "name": "stdout",
     "output_type": "stream",
     "text": [
      "[CV] END .........C=10, max_iter=500, penalty=l2, solver=sag; total time=   3.9s\n"
     ]
    },
    {
     "name": "stderr",
     "output_type": "stream",
     "text": [
      "/Users/adeshkadambi/Documents/GitHub/EgoVizML/.venv/lib/python3.11/site-packages/sklearn/linear_model/_sag.py:350: ConvergenceWarning: The max_iter was reached which means the coef_ did not converge\n",
      "  warnings.warn(\n"
     ]
    },
    {
     "name": "stdout",
     "output_type": "stream",
     "text": [
      "[CV] END .........C=10, max_iter=500, penalty=l2, solver=sag; total time=   3.9s\n"
     ]
    },
    {
     "name": "stderr",
     "output_type": "stream",
     "text": [
      "/Users/adeshkadambi/Documents/GitHub/EgoVizML/.venv/lib/python3.11/site-packages/sklearn/linear_model/_sag.py:350: ConvergenceWarning: The max_iter was reached which means the coef_ did not converge\n",
      "  warnings.warn(\n"
     ]
    },
    {
     "name": "stdout",
     "output_type": "stream",
     "text": [
      "[CV] END .........C=10, max_iter=500, penalty=l2, solver=sag; total time=   3.9s\n"
     ]
    },
    {
     "name": "stderr",
     "output_type": "stream",
     "text": [
      "/Users/adeshkadambi/Documents/GitHub/EgoVizML/.venv/lib/python3.11/site-packages/sklearn/linear_model/_sag.py:350: ConvergenceWarning: The max_iter was reached which means the coef_ did not converge\n",
      "  warnings.warn(\n",
      "/Users/adeshkadambi/Documents/GitHub/EgoVizML/.venv/lib/python3.11/site-packages/sklearn/linear_model/_sag.py:350: ConvergenceWarning: The max_iter was reached which means the coef_ did not converge\n",
      "  warnings.warn(\n"
     ]
    },
    {
     "name": "stdout",
     "output_type": "stream",
     "text": [
      "[CV] END .........C=10, max_iter=500, penalty=l2, solver=sag; total time=   4.0s\n",
      "[CV] END C=0.001, max_iter=1000, penalty=l2, solver=newton-cg; total time=   0.7s\n",
      "[CV] END .........C=10, max_iter=500, penalty=l2, solver=sag; total time=   3.9s\n",
      "[CV] END C=0.001, max_iter=1000, penalty=l2, solver=newton-cg; total time=   0.6s\n",
      "[CV] END C=0.001, max_iter=1000, penalty=l2, solver=newton-cg; total time=   0.7s\n",
      "[CV] END .....C=0.001, max_iter=1000, penalty=l1, solver=sag; total time=   0.0s\n",
      "[CV] END .....C=0.001, max_iter=1000, penalty=l1, solver=sag; total time=   0.0s\n",
      "[CV] END .....C=0.001, max_iter=1000, penalty=l1, solver=sag; total time=   0.0s\n",
      "[CV] END .....C=0.001, max_iter=1000, penalty=l1, solver=sag; total time=   0.0s\n",
      "[CV] END .....C=0.001, max_iter=1000, penalty=l1, solver=sag; total time=   0.0s\n",
      "[CV] END C=0.001, max_iter=1000, penalty=l2, solver=newton-cg; total time=   0.8s\n",
      "[CV] END C=0.001, max_iter=1000, penalty=l2, solver=newton-cg; total time=   0.7s\n",
      "[CV] END ........C=10, max_iter=500, penalty=l2, solver=saga; total time=   4.7s\n"
     ]
    },
    {
     "name": "stderr",
     "output_type": "stream",
     "text": [
      "/Users/adeshkadambi/Documents/GitHub/EgoVizML/.venv/lib/python3.11/site-packages/sklearn/linear_model/_sag.py:350: ConvergenceWarning: The max_iter was reached which means the coef_ did not converge\n",
      "  warnings.warn(\n",
      "/Users/adeshkadambi/Documents/GitHub/EgoVizML/.venv/lib/python3.11/site-packages/sklearn/linear_model/_sag.py:350: ConvergenceWarning: The max_iter was reached which means the coef_ did not converge\n",
      "  warnings.warn(\n"
     ]
    },
    {
     "name": "stdout",
     "output_type": "stream",
     "text": [
      "[CV] END ........C=10, max_iter=500, penalty=l2, solver=saga; total time=   4.7s\n"
     ]
    },
    {
     "name": "stderr",
     "output_type": "stream",
     "text": [
      "/Users/adeshkadambi/Documents/GitHub/EgoVizML/.venv/lib/python3.11/site-packages/sklearn/linear_model/_sag.py:350: ConvergenceWarning: The max_iter was reached which means the coef_ did not converge\n",
      "  warnings.warn(\n"
     ]
    },
    {
     "name": "stdout",
     "output_type": "stream",
     "text": [
      "[CV] END ........C=10, max_iter=500, penalty=l2, solver=saga; total time=   4.7s\n",
      "[CV] END .....C=0.1, max_iter=1000, penalty=l1, solver=lbfgs; total time=   0.0s\n",
      "[CV] END .....C=0.1, max_iter=1000, penalty=l1, solver=lbfgs; total time=   0.0s\n",
      "[CV] END .....C=0.1, max_iter=1000, penalty=l1, solver=lbfgs; total time=   0.0s\n",
      "[CV] END .....C=0.1, max_iter=1000, penalty=l1, solver=lbfgs; total time=   0.0s\n",
      "[CV] END .....C=0.1, max_iter=1000, penalty=l1, solver=lbfgs; total time=   0.0s\n"
     ]
    },
    {
     "name": "stderr",
     "output_type": "stream",
     "text": [
      "/Users/adeshkadambi/Documents/GitHub/EgoVizML/.venv/lib/python3.11/site-packages/sklearn/linear_model/_sag.py:350: ConvergenceWarning: The max_iter was reached which means the coef_ did not converge\n",
      "  warnings.warn(\n",
      "/Users/adeshkadambi/Documents/GitHub/EgoVizML/.venv/lib/python3.11/site-packages/sklearn/linear_model/_sag.py:350: ConvergenceWarning: The max_iter was reached which means the coef_ did not converge\n",
      "  warnings.warn(\n"
     ]
    },
    {
     "name": "stdout",
     "output_type": "stream",
     "text": [
      "[CV] END ........C=10, max_iter=500, penalty=l2, solver=saga; total time=   4.7s\n",
      "[CV] END ........C=10, max_iter=500, penalty=l2, solver=saga; total time=   4.6s\n"
     ]
    },
    {
     "name": "stderr",
     "output_type": "stream",
     "text": [
      "/Users/adeshkadambi/Documents/GitHub/EgoVizML/.venv/lib/python3.11/site-packages/sklearn/linear_model/_sag.py:350: ConvergenceWarning: The max_iter was reached which means the coef_ did not converge\n",
      "  warnings.warn(\n"
     ]
    },
    {
     "name": "stdout",
     "output_type": "stream",
     "text": [
      "[CV] END .......C=0.1, max_iter=500, penalty=l2, solver=saga; total time=   4.6s\n"
     ]
    },
    {
     "name": "stderr",
     "output_type": "stream",
     "text": [
      "/Users/adeshkadambi/Documents/GitHub/EgoVizML/.venv/lib/python3.11/site-packages/sklearn/linear_model/_sag.py:350: ConvergenceWarning: The max_iter was reached which means the coef_ did not converge\n",
      "  warnings.warn(\n",
      "/Users/adeshkadambi/Documents/GitHub/EgoVizML/.venv/lib/python3.11/site-packages/sklearn/linear_model/_sag.py:350: ConvergenceWarning: The max_iter was reached which means the coef_ did not converge\n",
      "  warnings.warn(\n"
     ]
    },
    {
     "name": "stdout",
     "output_type": "stream",
     "text": [
      "[CV] END .......C=0.1, max_iter=500, penalty=l2, solver=saga; total time=   4.7s\n",
      "[CV] END .......C=0.1, max_iter=500, penalty=l2, solver=saga; total time=   4.6s\n"
     ]
    },
    {
     "name": "stderr",
     "output_type": "stream",
     "text": [
      "/Users/adeshkadambi/Documents/GitHub/EgoVizML/.venv/lib/python3.11/site-packages/sklearn/linear_model/_sag.py:350: ConvergenceWarning: The max_iter was reached which means the coef_ did not converge\n",
      "  warnings.warn(\n"
     ]
    },
    {
     "name": "stdout",
     "output_type": "stream",
     "text": [
      "[CV] END .......C=0.1, max_iter=500, penalty=l2, solver=saga; total time=   4.7s\n"
     ]
    },
    {
     "name": "stderr",
     "output_type": "stream",
     "text": [
      "/Users/adeshkadambi/Documents/GitHub/EgoVizML/.venv/lib/python3.11/site-packages/sklearn/linear_model/_sag.py:350: ConvergenceWarning: The max_iter was reached which means the coef_ did not converge\n",
      "  warnings.warn(\n"
     ]
    },
    {
     "name": "stdout",
     "output_type": "stream",
     "text": [
      "[CV] END .......C=0.1, max_iter=500, penalty=l2, solver=saga; total time=   4.9s\n"
     ]
    },
    {
     "name": "stderr",
     "output_type": "stream",
     "text": [
      "/Users/adeshkadambi/Documents/GitHub/EgoVizML/.venv/lib/python3.11/site-packages/sklearn/linear_model/_sag.py:350: ConvergenceWarning: The max_iter was reached which means the coef_ did not converge\n",
      "  warnings.warn(\n",
      "/Users/adeshkadambi/Documents/GitHub/EgoVizML/.venv/lib/python3.11/site-packages/sklearn/linear_model/_sag.py:350: ConvergenceWarning: The max_iter was reached which means the coef_ did not converge\n",
      "  warnings.warn(\n"
     ]
    },
    {
     "name": "stdout",
     "output_type": "stream",
     "text": [
      "[CV] END .......C=10, max_iter=1000, penalty=l1, solver=saga; total time=  13.8s\n",
      "[CV] END .......C=10, max_iter=1000, penalty=l1, solver=saga; total time=  13.8s\n"
     ]
    },
    {
     "name": "stderr",
     "output_type": "stream",
     "text": [
      "/Users/adeshkadambi/Documents/GitHub/EgoVizML/.venv/lib/python3.11/site-packages/sklearn/linear_model/_sag.py:350: ConvergenceWarning: The max_iter was reached which means the coef_ did not converge\n",
      "  warnings.warn(\n"
     ]
    },
    {
     "name": "stdout",
     "output_type": "stream",
     "text": [
      "[CV] END .......C=10, max_iter=1000, penalty=l1, solver=saga; total time=  14.2s\n"
     ]
    },
    {
     "name": "stderr",
     "output_type": "stream",
     "text": [
      "/Users/adeshkadambi/Documents/GitHub/EgoVizML/.venv/lib/python3.11/site-packages/sklearn/linear_model/_sag.py:350: ConvergenceWarning: The max_iter was reached which means the coef_ did not converge\n",
      "  warnings.warn(\n"
     ]
    },
    {
     "name": "stdout",
     "output_type": "stream",
     "text": [
      "[CV] END .......C=10, max_iter=1000, penalty=l1, solver=saga; total time=  14.4s\n"
     ]
    },
    {
     "name": "stderr",
     "output_type": "stream",
     "text": [
      "/Users/adeshkadambi/Documents/GitHub/EgoVizML/.venv/lib/python3.11/site-packages/sklearn/linear_model/_sag.py:350: ConvergenceWarning: The max_iter was reached which means the coef_ did not converge\n",
      "  warnings.warn(\n"
     ]
    },
    {
     "name": "stdout",
     "output_type": "stream",
     "text": [
      "[CV] END .......C=10, max_iter=1000, penalty=l1, solver=saga; total time=  14.5s\n"
     ]
    },
    {
     "name": "stderr",
     "output_type": "stream",
     "text": [
      "/Users/adeshkadambi/Documents/GitHub/EgoVizML/.venv/lib/python3.11/site-packages/sklearn/linear_model/_sag.py:350: ConvergenceWarning: The max_iter was reached which means the coef_ did not converge\n",
      "  warnings.warn(\n",
      "/Users/adeshkadambi/Documents/GitHub/EgoVizML/.venv/lib/python3.11/site-packages/sklearn/linear_model/_sag.py:350: ConvergenceWarning: The max_iter was reached which means the coef_ did not converge\n",
      "  warnings.warn(\n"
     ]
    },
    {
     "name": "stdout",
     "output_type": "stream",
     "text": [
      "[CV] END ......C=0.01, max_iter=100, penalty=l2, solver=saga; total time=   1.3s\n",
      "[CV] END ......C=0.01, max_iter=100, penalty=l2, solver=saga; total time=   1.2s\n"
     ]
    },
    {
     "name": "stderr",
     "output_type": "stream",
     "text": [
      "/Users/adeshkadambi/Documents/GitHub/EgoVizML/.venv/lib/python3.11/site-packages/sklearn/linear_model/_sag.py:350: ConvergenceWarning: The max_iter was reached which means the coef_ did not converge\n",
      "  warnings.warn(\n"
     ]
    },
    {
     "name": "stdout",
     "output_type": "stream",
     "text": [
      "[CV] END ......C=0.01, max_iter=100, penalty=l2, solver=saga; total time=   1.6s\n"
     ]
    },
    {
     "name": "stderr",
     "output_type": "stream",
     "text": [
      "/Users/adeshkadambi/Documents/GitHub/EgoVizML/.venv/lib/python3.11/site-packages/sklearn/linear_model/_sag.py:350: ConvergenceWarning: The max_iter was reached which means the coef_ did not converge\n",
      "  warnings.warn(\n",
      "/Users/adeshkadambi/Documents/GitHub/EgoVizML/.venv/lib/python3.11/site-packages/sklearn/linear_model/_sag.py:350: ConvergenceWarning: The max_iter was reached which means the coef_ did not converge\n",
      "  warnings.warn(\n"
     ]
    },
    {
     "name": "stdout",
     "output_type": "stream",
     "text": [
      "[CV] END ......C=0.01, max_iter=100, penalty=l2, solver=saga; total time=   1.5s\n",
      "[CV] END ......C=0.01, max_iter=100, penalty=l2, solver=saga; total time=   1.5s\n"
     ]
    },
    {
     "name": "stderr",
     "output_type": "stream",
     "text": [
      "/Users/adeshkadambi/Documents/GitHub/EgoVizML/.venv/lib/python3.11/site-packages/sklearn/linear_model/_sag.py:350: ConvergenceWarning: The max_iter was reached which means the coef_ did not converge\n",
      "  warnings.warn(\n",
      "/Users/adeshkadambi/Documents/GitHub/EgoVizML/.venv/lib/python3.11/site-packages/sklearn/linear_model/_sag.py:350: ConvergenceWarning: The max_iter was reached which means the coef_ did not converge\n",
      "  warnings.warn(\n"
     ]
    },
    {
     "name": "stdout",
     "output_type": "stream",
     "text": [
      "[CV] END ..........C=1, max_iter=500, penalty=l2, solver=sag; total time=   4.1s\n",
      "[CV] END ......C=0.1, max_iter=1000, penalty=l1, solver=saga; total time=  14.2s\n"
     ]
    },
    {
     "name": "stderr",
     "output_type": "stream",
     "text": [
      "/Users/adeshkadambi/Documents/GitHub/EgoVizML/.venv/lib/python3.11/site-packages/sklearn/linear_model/_sag.py:350: ConvergenceWarning: The max_iter was reached which means the coef_ did not converge\n",
      "  warnings.warn(\n",
      "/Users/adeshkadambi/Documents/GitHub/EgoVizML/.venv/lib/python3.11/site-packages/sklearn/linear_model/_sag.py:350: ConvergenceWarning: The max_iter was reached which means the coef_ did not converge\n",
      "  warnings.warn(\n"
     ]
    },
    {
     "name": "stdout",
     "output_type": "stream",
     "text": [
      "[CV] END ..........C=1, max_iter=500, penalty=l2, solver=sag; total time=   4.2s\n",
      "[CV] END ..........C=1, max_iter=500, penalty=l2, solver=sag; total time=   4.1s\n"
     ]
    },
    {
     "name": "stderr",
     "output_type": "stream",
     "text": [
      "/Users/adeshkadambi/Documents/GitHub/EgoVizML/.venv/lib/python3.11/site-packages/sklearn/linear_model/_sag.py:350: ConvergenceWarning: The max_iter was reached which means the coef_ did not converge\n",
      "  warnings.warn(\n",
      "/Users/adeshkadambi/Documents/GitHub/EgoVizML/.venv/lib/python3.11/site-packages/sklearn/linear_model/_sag.py:350: ConvergenceWarning: The max_iter was reached which means the coef_ did not converge\n",
      "  warnings.warn(\n",
      "/Users/adeshkadambi/Documents/GitHub/EgoVizML/.venv/lib/python3.11/site-packages/sklearn/linear_model/_sag.py:350: ConvergenceWarning: The max_iter was reached which means the coef_ did not converge\n",
      "  warnings.warn(\n"
     ]
    },
    {
     "name": "stdout",
     "output_type": "stream",
     "text": [
      "[CV] END ......C=0.1, max_iter=1000, penalty=l1, solver=saga; total time=  13.8s\n",
      "[CV] END ..........C=1, max_iter=500, penalty=l2, solver=sag; total time=   3.3s\n",
      "[CV] END ..........C=1, max_iter=500, penalty=l2, solver=sag; total time=   3.2s\n"
     ]
    },
    {
     "name": "stderr",
     "output_type": "stream",
     "text": [
      "/Users/adeshkadambi/Documents/GitHub/EgoVizML/.venv/lib/python3.11/site-packages/sklearn/linear_model/_sag.py:350: ConvergenceWarning: The max_iter was reached which means the coef_ did not converge\n",
      "  warnings.warn(\n"
     ]
    },
    {
     "name": "stdout",
     "output_type": "stream",
     "text": [
      "[CV] END ......C=0.1, max_iter=1000, penalty=l1, solver=saga; total time=  12.9s\n"
     ]
    },
    {
     "name": "stderr",
     "output_type": "stream",
     "text": [
      "/Users/adeshkadambi/Documents/GitHub/EgoVizML/.venv/lib/python3.11/site-packages/sklearn/linear_model/_sag.py:350: ConvergenceWarning: The max_iter was reached which means the coef_ did not converge\n",
      "  warnings.warn(\n",
      "/Users/adeshkadambi/Documents/GitHub/EgoVizML/.venv/lib/python3.11/site-packages/sklearn/linear_model/_sag.py:350: ConvergenceWarning: The max_iter was reached which means the coef_ did not converge\n",
      "  warnings.warn(\n",
      "/Users/adeshkadambi/Documents/GitHub/EgoVizML/.venv/lib/python3.11/site-packages/sklearn/model_selection/_validation.py:425: FitFailedWarning: \n",
      "135 fits failed out of a total of 500.\n",
      "The score on these train-test partitions for these parameters will be set to nan.\n",
      "If these failures are not expected, you can try to debug them by setting error_score='raise'.\n",
      "\n",
      "Below are more details about the failures:\n",
      "--------------------------------------------------------------------------------\n",
      "40 fits failed with the following error:\n",
      "Traceback (most recent call last):\n",
      "  File \"/Users/adeshkadambi/Documents/GitHub/EgoVizML/.venv/lib/python3.11/site-packages/sklearn/model_selection/_validation.py\", line 729, in _fit_and_score\n",
      "    estimator.fit(X_train, y_train, **fit_params)\n",
      "  File \"/Users/adeshkadambi/Documents/GitHub/EgoVizML/.venv/lib/python3.11/site-packages/sklearn/base.py\", line 1152, in wrapper\n",
      "    return fit_method(estimator, *args, **kwargs)\n",
      "           ^^^^^^^^^^^^^^^^^^^^^^^^^^^^^^^^^^^^^^\n",
      "  File \"/Users/adeshkadambi/Documents/GitHub/EgoVizML/.venv/lib/python3.11/site-packages/sklearn/linear_model/_logistic.py\", line 1169, in fit\n",
      "    solver = _check_solver(self.solver, self.penalty, self.dual)\n",
      "             ^^^^^^^^^^^^^^^^^^^^^^^^^^^^^^^^^^^^^^^^^^^^^^^^^^^\n",
      "  File \"/Users/adeshkadambi/Documents/GitHub/EgoVizML/.venv/lib/python3.11/site-packages/sklearn/linear_model/_logistic.py\", line 56, in _check_solver\n",
      "    raise ValueError(\n",
      "ValueError: Solver sag supports only 'l2' or 'none' penalties, got l1 penalty.\n",
      "\n",
      "--------------------------------------------------------------------------------\n",
      "45 fits failed with the following error:\n",
      "Traceback (most recent call last):\n",
      "  File \"/Users/adeshkadambi/Documents/GitHub/EgoVizML/.venv/lib/python3.11/site-packages/sklearn/model_selection/_validation.py\", line 729, in _fit_and_score\n",
      "    estimator.fit(X_train, y_train, **fit_params)\n",
      "  File \"/Users/adeshkadambi/Documents/GitHub/EgoVizML/.venv/lib/python3.11/site-packages/sklearn/base.py\", line 1152, in wrapper\n",
      "    return fit_method(estimator, *args, **kwargs)\n",
      "           ^^^^^^^^^^^^^^^^^^^^^^^^^^^^^^^^^^^^^^\n",
      "  File \"/Users/adeshkadambi/Documents/GitHub/EgoVizML/.venv/lib/python3.11/site-packages/sklearn/linear_model/_logistic.py\", line 1169, in fit\n",
      "    solver = _check_solver(self.solver, self.penalty, self.dual)\n",
      "             ^^^^^^^^^^^^^^^^^^^^^^^^^^^^^^^^^^^^^^^^^^^^^^^^^^^\n",
      "  File \"/Users/adeshkadambi/Documents/GitHub/EgoVizML/.venv/lib/python3.11/site-packages/sklearn/linear_model/_logistic.py\", line 56, in _check_solver\n",
      "    raise ValueError(\n",
      "ValueError: Solver lbfgs supports only 'l2' or 'none' penalties, got l1 penalty.\n",
      "\n",
      "--------------------------------------------------------------------------------\n",
      "50 fits failed with the following error:\n",
      "Traceback (most recent call last):\n",
      "  File \"/Users/adeshkadambi/Documents/GitHub/EgoVizML/.venv/lib/python3.11/site-packages/sklearn/model_selection/_validation.py\", line 729, in _fit_and_score\n",
      "    estimator.fit(X_train, y_train, **fit_params)\n",
      "  File \"/Users/adeshkadambi/Documents/GitHub/EgoVizML/.venv/lib/python3.11/site-packages/sklearn/base.py\", line 1152, in wrapper\n",
      "    return fit_method(estimator, *args, **kwargs)\n",
      "           ^^^^^^^^^^^^^^^^^^^^^^^^^^^^^^^^^^^^^^\n",
      "  File \"/Users/adeshkadambi/Documents/GitHub/EgoVizML/.venv/lib/python3.11/site-packages/sklearn/linear_model/_logistic.py\", line 1169, in fit\n",
      "    solver = _check_solver(self.solver, self.penalty, self.dual)\n",
      "             ^^^^^^^^^^^^^^^^^^^^^^^^^^^^^^^^^^^^^^^^^^^^^^^^^^^\n",
      "  File \"/Users/adeshkadambi/Documents/GitHub/EgoVizML/.venv/lib/python3.11/site-packages/sklearn/linear_model/_logistic.py\", line 56, in _check_solver\n",
      "    raise ValueError(\n",
      "ValueError: Solver newton-cg supports only 'l2' or 'none' penalties, got l1 penalty.\n",
      "\n",
      "  warnings.warn(some_fits_failed_message, FitFailedWarning)\n",
      "/Users/adeshkadambi/Documents/GitHub/EgoVizML/.venv/lib/python3.11/site-packages/sklearn/model_selection/_search.py:979: UserWarning: One or more of the test scores are non-finite: [0.85509405 0.82911036        nan 0.86947552 0.85730246 0.86727476\n",
      " 0.69690547 0.85951853        nan 0.8716824         nan 0.85067109\n",
      " 0.85067109 0.87942333 0.88497268 0.86782724        nan 0.85730246\n",
      " 0.87556664 0.88497268 0.88828301        nan        nan        nan\n",
      " 0.84956459 0.87721339        nan 0.85730705 0.87279044        nan\n",
      " 0.86615601 0.88497268        nan 0.87667315 0.87888462 0.85620055\n",
      " 0.88828301 0.88386465 0.89049448        nan 0.6587426         nan\n",
      " 0.85067109        nan        nan 0.87942333        nan 0.85841355\n",
      " 0.86615601 0.87334905        nan 0.87445555 0.6587426  0.84678992\n",
      " 0.88497268 0.88386465 0.87721339 0.88607306 0.88385087 0.86782724\n",
      " 0.84788724 0.85951853        nan 0.88275662 0.87888003 0.86615601\n",
      " 0.6587426  0.86615601 0.88386465 0.859517          nan 0.86616673\n",
      " 0.84127118 0.88330757 0.69635298 0.82911036        nan 0.85951853\n",
      " 0.87334905        nan 0.86947552        nan        nan 0.86061891\n",
      "        nan 0.85067569 0.83906888        nan 0.85730705        nan\n",
      " 0.86892303 0.86615601 0.86727476        nan 0.86892303        nan\n",
      " 0.86615601 0.86947705 0.85067263 0.86892303]\n",
      "  warnings.warn(\n"
     ]
    },
    {
     "name": "stdout",
     "output_type": "stream",
     "text": [
      "[CV] END ......C=0.1, max_iter=1000, penalty=l1, solver=saga; total time=  12.1s\n",
      "[CV] END ......C=0.1, max_iter=1000, penalty=l1, solver=saga; total time=  12.1s\n",
      "{'solver': 'liblinear', 'penalty': 'l2', 'max_iter': 100, 'C': 0.1}\n"
     ]
    }
   ],
   "source": [
    "# fit logistic regression model\n",
    "\n",
    "log_random_search.fit(X_train, y_train)\n",
    "\n",
    "# print best params\n",
    "\n",
    "print(log_random_search.best_params_)"
   ]
  },
  {
   "cell_type": "markdown",
   "metadata": {},
   "source": [
    "### Evaluate Models with Best Params"
   ]
  },
  {
   "cell_type": "code",
   "execution_count": 14,
   "metadata": {},
   "outputs": [],
   "source": [
    "groups = df['video'].str[:5]\n",
    "\n",
    "# create random forest model with best params\n",
    "\n",
    "rf_clf = RandomForestClassifier(random_state=SEED, **rf_random_search.best_params_)\n",
    "\n",
    "# create logistic regression model with best params\n",
    "\n",
    "log_clf = LogisticRegression(random_state=SEED, **log_random_search.best_params_)"
   ]
  },
  {
   "cell_type": "code",
   "execution_count": 15,
   "metadata": {},
   "outputs": [
    {
     "name": "stderr",
     "output_type": "stream",
     "text": [
      "2023-11-29 11:28:02,222 - root - INFO - Training complete for RandomForestClassifier, group left out: SCI02\n",
      "2023-11-29 11:28:03,537 - root - INFO - Training complete for RandomForestClassifier, group left out: SCI03\n",
      "2023-11-29 11:28:04,907 - root - INFO - Training complete for RandomForestClassifier, group left out: SCI06\n",
      "2023-11-29 11:28:06,198 - root - INFO - Training complete for RandomForestClassifier, group left out: SCI08\n",
      "2023-11-29 11:28:07,586 - root - INFO - Training complete for RandomForestClassifier, group left out: SCI10\n",
      "2023-11-29 11:28:08,760 - root - INFO - Training complete for RandomForestClassifier, group left out: SCI11\n",
      "2023-11-29 11:28:09,865 - root - INFO - Training complete for RandomForestClassifier, group left out: SCI12\n",
      "2023-11-29 11:28:11,055 - root - INFO - Training complete for RandomForestClassifier, group left out: SCI13\n",
      "2023-11-29 11:28:12,185 - root - INFO - Training complete for RandomForestClassifier, group left out: SCI14\n",
      "2023-11-29 11:28:13,743 - root - INFO - Training complete for RandomForestClassifier, group left out: SCI15\n",
      "2023-11-29 11:28:15,064 - root - INFO - Training complete for RandomForestClassifier, group left out: SCI16\n",
      "2023-11-29 11:28:16,315 - root - INFO - Training complete for RandomForestClassifier, group left out: SCI17\n",
      "2023-11-29 11:28:17,543 - root - INFO - Training complete for RandomForestClassifier, group left out: SCI18\n",
      "2023-11-29 11:28:18,749 - root - INFO - Training complete for RandomForestClassifier, group left out: SCI19\n",
      "2023-11-29 11:28:19,956 - root - INFO - Training complete for RandomForestClassifier, group left out: SCI20\n",
      "2023-11-29 11:28:21,066 - root - INFO - Training complete for RandomForestClassifier, group left out: SCI21\n"
     ]
    },
    {
     "data": {
      "image/png": "[encoded data removed]",
      "text/plain": [
       "<Figure size 800x600 with 2 Axes>"
      ]
     },
     "metadata": {},
     "output_type": "display_data"
    },
    {
     "name": "stderr",
     "output_type": "stream",
     "text": [
      "2023-11-29 11:28:21,649 - root - INFO - LOGOCV complete for RandomForestClassifier\n",
      "2023-11-29 11:28:21,977 - root - INFO - Training complete for LogisticRegression, group left out: SCI02\n",
      "2023-11-29 11:28:22,184 - root - INFO - Training complete for LogisticRegression, group left out: SCI03\n",
      "2023-11-29 11:28:22,382 - root - INFO - Training complete for LogisticRegression, group left out: SCI06\n",
      "2023-11-29 11:28:22,593 - root - INFO - Training complete for LogisticRegression, group left out: SCI08\n",
      "2023-11-29 11:28:22,777 - root - INFO - Training complete for LogisticRegression, group left out: SCI10\n",
      "2023-11-29 11:28:22,967 - root - INFO - Training complete for LogisticRegression, group left out: SCI11\n",
      "2023-11-29 11:28:23,141 - root - INFO - Training complete for LogisticRegression, group left out: SCI12\n",
      "2023-11-29 11:28:23,342 - root - INFO - Training complete for LogisticRegression, group left out: SCI13\n",
      "2023-11-29 11:28:23,530 - root - INFO - Training complete for LogisticRegression, group left out: SCI14\n",
      "2023-11-29 11:28:23,723 - root - INFO - Training complete for LogisticRegression, group left out: SCI15\n",
      "2023-11-29 11:28:23,912 - root - INFO - Training complete for LogisticRegression, group left out: SCI16\n",
      "2023-11-29 11:28:24,110 - root - INFO - Training complete for LogisticRegression, group left out: SCI17\n",
      "2023-11-29 11:28:24,331 - root - INFO - Training complete for LogisticRegression, group left out: SCI18\n",
      "2023-11-29 11:28:24,533 - root - INFO - Training complete for LogisticRegression, group left out: SCI19\n",
      "2023-11-29 11:28:24,750 - root - INFO - Training complete for LogisticRegression, group left out: SCI20\n",
      "2023-11-29 11:28:24,959 - root - INFO - Training complete for LogisticRegression, group left out: SCI21\n"
     ]
    },
    {
     "data": {
      "image/png": "[encoded data removed]",
      "text/plain": [
       "<Figure size 800x600 with 2 Axes>"
      ]
     },
     "metadata": {},
     "output_type": "display_data"
    },
    {
     "name": "stderr",
     "output_type": "stream",
     "text": [
      "2023-11-29 11:28:25,436 - root - INFO - LOGOCV complete for LogisticRegression\n"
     ]
    }
   ],
   "source": [
    "# evaluate models using cross validation\n",
    "\n",
    "rf_eval = ev.leave_one_group_out_cv(df, X, y, groups, rf_clf)\n",
    "log_eval = ev.leave_one_group_out_cv(df, X, y, groups, log_clf)"
   ]
  },
  {
   "cell_type": "code",
   "execution_count": 16,
   "metadata": {},
   "outputs": [
    {
     "data": {
      "text/html": [
       "<div>\n",
       "<style scoped>\n",
       "    .dataframe tbody tr th:only-of-type {\n",
       "        vertical-align: middle;\n",
       "    }\n",
       "\n",
       "    .dataframe tbody tr th {\n",
       "        vertical-align: top;\n",
       "    }\n",
       "\n",
       "    .dataframe thead th {\n",
       "        text-align: right;\n",
       "    }\n",
       "</style>\n",
       "<table border=\"1\" class=\"dataframe\">\n",
       "  <thead>\n",
       "    <tr style=\"text-align: right;\">\n",
       "      <th></th>\n",
       "      <th>group_left_out</th>\n",
       "      <th>accuracy</th>\n",
       "      <th>precision</th>\n",
       "      <th>recall</th>\n",
       "      <th>f1</th>\n",
       "      <th>mean_accuracy</th>\n",
       "      <th>mean_precision</th>\n",
       "      <th>mean_recall</th>\n",
       "      <th>mean_f1</th>\n",
       "    </tr>\n",
       "  </thead>\n",
       "  <tbody>\n",
       "    <tr>\n",
       "      <th>0</th>\n",
       "      <td>SCI02</td>\n",
       "      <td>0.875000</td>\n",
       "      <td>0.873171</td>\n",
       "      <td>0.392982</td>\n",
       "      <td>0.420460</td>\n",
       "      <td>0.670257</td>\n",
       "      <td>0.631389</td>\n",
       "      <td>0.591094</td>\n",
       "      <td>0.468467</td>\n",
       "    </tr>\n",
       "    <tr>\n",
       "      <th>1</th>\n",
       "      <td>SCI03</td>\n",
       "      <td>0.765625</td>\n",
       "      <td>0.707090</td>\n",
       "      <td>0.561920</td>\n",
       "      <td>0.326276</td>\n",
       "      <td>0.670257</td>\n",
       "      <td>0.631389</td>\n",
       "      <td>0.591094</td>\n",
       "      <td>0.468467</td>\n",
       "    </tr>\n",
       "    <tr>\n",
       "      <th>2</th>\n",
       "      <td>SCI06</td>\n",
       "      <td>0.640777</td>\n",
       "      <td>0.469375</td>\n",
       "      <td>0.300649</td>\n",
       "      <td>0.550078</td>\n",
       "      <td>0.670257</td>\n",
       "      <td>0.631389</td>\n",
       "      <td>0.591094</td>\n",
       "      <td>0.468467</td>\n",
       "    </tr>\n",
       "    <tr>\n",
       "      <th>3</th>\n",
       "      <td>SCI08</td>\n",
       "      <td>0.571429</td>\n",
       "      <td>0.666667</td>\n",
       "      <td>0.666667</td>\n",
       "      <td>0.333333</td>\n",
       "      <td>0.670257</td>\n",
       "      <td>0.631389</td>\n",
       "      <td>0.591094</td>\n",
       "      <td>0.468467</td>\n",
       "    </tr>\n",
       "    <tr>\n",
       "      <th>4</th>\n",
       "      <td>SCI10</td>\n",
       "      <td>0.183486</td>\n",
       "      <td>0.438492</td>\n",
       "      <td>0.658009</td>\n",
       "      <td>0.174661</td>\n",
       "      <td>0.670257</td>\n",
       "      <td>0.631389</td>\n",
       "      <td>0.591094</td>\n",
       "      <td>0.468467</td>\n",
       "    </tr>\n",
       "    <tr>\n",
       "      <th>5</th>\n",
       "      <td>SCI11</td>\n",
       "      <td>0.742424</td>\n",
       "      <td>0.687398</td>\n",
       "      <td>0.384317</td>\n",
       "      <td>0.390881</td>\n",
       "      <td>0.670257</td>\n",
       "      <td>0.631389</td>\n",
       "      <td>0.591094</td>\n",
       "      <td>0.468467</td>\n",
       "    </tr>\n",
       "    <tr>\n",
       "      <th>6</th>\n",
       "      <td>SCI12</td>\n",
       "      <td>0.740909</td>\n",
       "      <td>0.488212</td>\n",
       "      <td>0.596707</td>\n",
       "      <td>0.800379</td>\n",
       "      <td>0.670257</td>\n",
       "      <td>0.631389</td>\n",
       "      <td>0.591094</td>\n",
       "      <td>0.468467</td>\n",
       "    </tr>\n",
       "    <tr>\n",
       "      <th>7</th>\n",
       "      <td>SCI13</td>\n",
       "      <td>0.666667</td>\n",
       "      <td>0.575866</td>\n",
       "      <td>0.652578</td>\n",
       "      <td>0.337965</td>\n",
       "      <td>0.670257</td>\n",
       "      <td>0.631389</td>\n",
       "      <td>0.591094</td>\n",
       "      <td>0.468467</td>\n",
       "    </tr>\n",
       "    <tr>\n",
       "      <th>8</th>\n",
       "      <td>SCI14</td>\n",
       "      <td>0.608696</td>\n",
       "      <td>0.627502</td>\n",
       "      <td>0.521725</td>\n",
       "      <td>0.401038</td>\n",
       "      <td>0.670257</td>\n",
       "      <td>0.631389</td>\n",
       "      <td>0.591094</td>\n",
       "      <td>0.468467</td>\n",
       "    </tr>\n",
       "    <tr>\n",
       "      <th>9</th>\n",
       "      <td>SCI15</td>\n",
       "      <td>0.905882</td>\n",
       "      <td>0.932365</td>\n",
       "      <td>0.639907</td>\n",
       "      <td>0.655776</td>\n",
       "      <td>0.670257</td>\n",
       "      <td>0.631389</td>\n",
       "      <td>0.591094</td>\n",
       "      <td>0.468467</td>\n",
       "    </tr>\n",
       "    <tr>\n",
       "      <th>10</th>\n",
       "      <td>SCI16</td>\n",
       "      <td>0.785366</td>\n",
       "      <td>0.543720</td>\n",
       "      <td>0.688168</td>\n",
       "      <td>0.594545</td>\n",
       "      <td>0.670257</td>\n",
       "      <td>0.631389</td>\n",
       "      <td>0.591094</td>\n",
       "      <td>0.468467</td>\n",
       "    </tr>\n",
       "    <tr>\n",
       "      <th>11</th>\n",
       "      <td>SCI17</td>\n",
       "      <td>0.947598</td>\n",
       "      <td>0.478125</td>\n",
       "      <td>0.810738</td>\n",
       "      <td>0.644150</td>\n",
       "      <td>0.670257</td>\n",
       "      <td>0.631389</td>\n",
       "      <td>0.591094</td>\n",
       "      <td>0.468467</td>\n",
       "    </tr>\n",
       "    <tr>\n",
       "      <th>12</th>\n",
       "      <td>SCI18</td>\n",
       "      <td>0.805970</td>\n",
       "      <td>0.657250</td>\n",
       "      <td>0.671905</td>\n",
       "      <td>0.496689</td>\n",
       "      <td>0.670257</td>\n",
       "      <td>0.631389</td>\n",
       "      <td>0.591094</td>\n",
       "      <td>0.468467</td>\n",
       "    </tr>\n",
       "    <tr>\n",
       "      <th>13</th>\n",
       "      <td>SCI19</td>\n",
       "      <td>0.306122</td>\n",
       "      <td>0.732323</td>\n",
       "      <td>0.439744</td>\n",
       "      <td>0.268750</td>\n",
       "      <td>0.670257</td>\n",
       "      <td>0.631389</td>\n",
       "      <td>0.591094</td>\n",
       "      <td>0.468467</td>\n",
       "    </tr>\n",
       "    <tr>\n",
       "      <th>14</th>\n",
       "      <td>SCI20</td>\n",
       "      <td>0.844828</td>\n",
       "      <td>0.769231</td>\n",
       "      <td>0.911765</td>\n",
       "      <td>0.772682</td>\n",
       "      <td>0.670257</td>\n",
       "      <td>0.631389</td>\n",
       "      <td>0.591094</td>\n",
       "      <td>0.468467</td>\n",
       "    </tr>\n",
       "    <tr>\n",
       "      <th>15</th>\n",
       "      <td>SCI21</td>\n",
       "      <td>0.333333</td>\n",
       "      <td>0.455433</td>\n",
       "      <td>0.559723</td>\n",
       "      <td>0.327811</td>\n",
       "      <td>0.670257</td>\n",
       "      <td>0.631389</td>\n",
       "      <td>0.591094</td>\n",
       "      <td>0.468467</td>\n",
       "    </tr>\n",
       "  </tbody>\n",
       "</table>\n",
       "</div>"
      ],
      "text/plain": [
       "   group_left_out  accuracy  precision    recall        f1  mean_accuracy  \\\n",
       "0           SCI02  0.875000   0.873171  0.392982  0.420460       0.670257   \n",
       "1           SCI03  0.765625   0.707090  0.561920  0.326276       0.670257   \n",
       "2           SCI06  0.640777   0.469375  0.300649  0.550078       0.670257   \n",
       "3           SCI08  0.571429   0.666667  0.666667  0.333333       0.670257   \n",
       "4           SCI10  0.183486   0.438492  0.658009  0.174661       0.670257   \n",
       "5           SCI11  0.742424   0.687398  0.384317  0.390881       0.670257   \n",
       "6           SCI12  0.740909   0.488212  0.596707  0.800379       0.670257   \n",
       "7           SCI13  0.666667   0.575866  0.652578  0.337965       0.670257   \n",
       "8           SCI14  0.608696   0.627502  0.521725  0.401038       0.670257   \n",
       "9           SCI15  0.905882   0.932365  0.639907  0.655776       0.670257   \n",
       "10          SCI16  0.785366   0.543720  0.688168  0.594545       0.670257   \n",
       "11          SCI17  0.947598   0.478125  0.810738  0.644150       0.670257   \n",
       "12          SCI18  0.805970   0.657250  0.671905  0.496689       0.670257   \n",
       "13          SCI19  0.306122   0.732323  0.439744  0.268750       0.670257   \n",
       "14          SCI20  0.844828   0.769231  0.911765  0.772682       0.670257   \n",
       "15          SCI21  0.333333   0.455433  0.559723  0.327811       0.670257   \n",
       "\n",
       "    mean_precision  mean_recall   mean_f1  \n",
       "0         0.631389     0.591094  0.468467  \n",
       "1         0.631389     0.591094  0.468467  \n",
       "2         0.631389     0.591094  0.468467  \n",
       "3         0.631389     0.591094  0.468467  \n",
       "4         0.631389     0.591094  0.468467  \n",
       "5         0.631389     0.591094  0.468467  \n",
       "6         0.631389     0.591094  0.468467  \n",
       "7         0.631389     0.591094  0.468467  \n",
       "8         0.631389     0.591094  0.468467  \n",
       "9         0.631389     0.591094  0.468467  \n",
       "10        0.631389     0.591094  0.468467  \n",
       "11        0.631389     0.591094  0.468467  \n",
       "12        0.631389     0.591094  0.468467  \n",
       "13        0.631389     0.591094  0.468467  \n",
       "14        0.631389     0.591094  0.468467  \n",
       "15        0.631389     0.591094  0.468467  "
      ]
     },
     "execution_count": 16,
     "metadata": {},
     "output_type": "execute_result"
    }
   ],
   "source": [
    "rf_eval"
   ]
  },
  {
   "cell_type": "code",
   "execution_count": 17,
   "metadata": {},
   "outputs": [
    {
     "data": {
      "text/html": [
       "<div>\n",
       "<style scoped>\n",
       "    .dataframe tbody tr th:only-of-type {\n",
       "        vertical-align: middle;\n",
       "    }\n",
       "\n",
       "    .dataframe tbody tr th {\n",
       "        vertical-align: top;\n",
       "    }\n",
       "\n",
       "    .dataframe thead th {\n",
       "        text-align: right;\n",
       "    }\n",
       "</style>\n",
       "<table border=\"1\" class=\"dataframe\">\n",
       "  <thead>\n",
       "    <tr style=\"text-align: right;\">\n",
       "      <th></th>\n",
       "      <th>group_left_out</th>\n",
       "      <th>accuracy</th>\n",
       "      <th>precision</th>\n",
       "      <th>recall</th>\n",
       "      <th>f1</th>\n",
       "      <th>mean_accuracy</th>\n",
       "      <th>mean_precision</th>\n",
       "      <th>mean_recall</th>\n",
       "      <th>mean_f1</th>\n",
       "    </tr>\n",
       "  </thead>\n",
       "  <tbody>\n",
       "    <tr>\n",
       "      <th>0</th>\n",
       "      <td>SCI02</td>\n",
       "      <td>0.947917</td>\n",
       "      <td>0.881892</td>\n",
       "      <td>0.466667</td>\n",
       "      <td>0.470734</td>\n",
       "      <td>0.701614</td>\n",
       "      <td>0.528573</td>\n",
       "      <td>0.657077</td>\n",
       "      <td>0.511502</td>\n",
       "    </tr>\n",
       "    <tr>\n",
       "      <th>1</th>\n",
       "      <td>SCI03</td>\n",
       "      <td>0.828125</td>\n",
       "      <td>0.625837</td>\n",
       "      <td>0.694516</td>\n",
       "      <td>0.521098</td>\n",
       "      <td>0.701614</td>\n",
       "      <td>0.528573</td>\n",
       "      <td>0.657077</td>\n",
       "      <td>0.511502</td>\n",
       "    </tr>\n",
       "    <tr>\n",
       "      <th>2</th>\n",
       "      <td>SCI06</td>\n",
       "      <td>0.660194</td>\n",
       "      <td>0.621308</td>\n",
       "      <td>0.334632</td>\n",
       "      <td>0.594771</td>\n",
       "      <td>0.701614</td>\n",
       "      <td>0.528573</td>\n",
       "      <td>0.657077</td>\n",
       "      <td>0.511502</td>\n",
       "    </tr>\n",
       "    <tr>\n",
       "      <th>3</th>\n",
       "      <td>SCI08</td>\n",
       "      <td>0.571429</td>\n",
       "      <td>0.666667</td>\n",
       "      <td>0.666667</td>\n",
       "      <td>0.333333</td>\n",
       "      <td>0.701614</td>\n",
       "      <td>0.528573</td>\n",
       "      <td>0.657077</td>\n",
       "      <td>0.511502</td>\n",
       "    </tr>\n",
       "    <tr>\n",
       "      <th>4</th>\n",
       "      <td>SCI10</td>\n",
       "      <td>0.541284</td>\n",
       "      <td>0.291592</td>\n",
       "      <td>0.772670</td>\n",
       "      <td>0.209265</td>\n",
       "      <td>0.701614</td>\n",
       "      <td>0.528573</td>\n",
       "      <td>0.657077</td>\n",
       "      <td>0.511502</td>\n",
       "    </tr>\n",
       "    <tr>\n",
       "      <th>5</th>\n",
       "      <td>SCI11</td>\n",
       "      <td>0.787879</td>\n",
       "      <td>0.478204</td>\n",
       "      <td>0.429051</td>\n",
       "      <td>0.576093</td>\n",
       "      <td>0.701614</td>\n",
       "      <td>0.528573</td>\n",
       "      <td>0.657077</td>\n",
       "      <td>0.511502</td>\n",
       "    </tr>\n",
       "    <tr>\n",
       "      <th>6</th>\n",
       "      <td>SCI12</td>\n",
       "      <td>0.659091</td>\n",
       "      <td>0.543651</td>\n",
       "      <td>0.629978</td>\n",
       "      <td>0.541199</td>\n",
       "      <td>0.701614</td>\n",
       "      <td>0.528573</td>\n",
       "      <td>0.657077</td>\n",
       "      <td>0.511502</td>\n",
       "    </tr>\n",
       "    <tr>\n",
       "      <th>7</th>\n",
       "      <td>SCI13</td>\n",
       "      <td>0.531073</td>\n",
       "      <td>0.407181</td>\n",
       "      <td>0.667442</td>\n",
       "      <td>0.421036</td>\n",
       "      <td>0.701614</td>\n",
       "      <td>0.528573</td>\n",
       "      <td>0.657077</td>\n",
       "      <td>0.511502</td>\n",
       "    </tr>\n",
       "    <tr>\n",
       "      <th>8</th>\n",
       "      <td>SCI14</td>\n",
       "      <td>0.755435</td>\n",
       "      <td>0.583689</td>\n",
       "      <td>0.656038</td>\n",
       "      <td>0.682316</td>\n",
       "      <td>0.701614</td>\n",
       "      <td>0.528573</td>\n",
       "      <td>0.657077</td>\n",
       "      <td>0.511502</td>\n",
       "    </tr>\n",
       "    <tr>\n",
       "      <th>9</th>\n",
       "      <td>SCI15</td>\n",
       "      <td>0.900000</td>\n",
       "      <td>0.552713</td>\n",
       "      <td>0.726882</td>\n",
       "      <td>0.735414</td>\n",
       "      <td>0.701614</td>\n",
       "      <td>0.528573</td>\n",
       "      <td>0.657077</td>\n",
       "      <td>0.511502</td>\n",
       "    </tr>\n",
       "    <tr>\n",
       "      <th>10</th>\n",
       "      <td>SCI16</td>\n",
       "      <td>0.800000</td>\n",
       "      <td>0.562468</td>\n",
       "      <td>0.853512</td>\n",
       "      <td>0.515811</td>\n",
       "      <td>0.701614</td>\n",
       "      <td>0.528573</td>\n",
       "      <td>0.657077</td>\n",
       "      <td>0.511502</td>\n",
       "    </tr>\n",
       "    <tr>\n",
       "      <th>11</th>\n",
       "      <td>SCI17</td>\n",
       "      <td>0.807860</td>\n",
       "      <td>0.498922</td>\n",
       "      <td>0.913881</td>\n",
       "      <td>0.464952</td>\n",
       "      <td>0.701614</td>\n",
       "      <td>0.528573</td>\n",
       "      <td>0.657077</td>\n",
       "      <td>0.511502</td>\n",
       "    </tr>\n",
       "    <tr>\n",
       "      <th>12</th>\n",
       "      <td>SCI18</td>\n",
       "      <td>0.746269</td>\n",
       "      <td>0.442735</td>\n",
       "      <td>0.790079</td>\n",
       "      <td>0.440039</td>\n",
       "      <td>0.701614</td>\n",
       "      <td>0.528573</td>\n",
       "      <td>0.657077</td>\n",
       "      <td>0.511502</td>\n",
       "    </tr>\n",
       "    <tr>\n",
       "      <th>13</th>\n",
       "      <td>SCI19</td>\n",
       "      <td>0.673469</td>\n",
       "      <td>0.519872</td>\n",
       "      <td>0.503205</td>\n",
       "      <td>0.757835</td>\n",
       "      <td>0.701614</td>\n",
       "      <td>0.528573</td>\n",
       "      <td>0.657077</td>\n",
       "      <td>0.511502</td>\n",
       "    </tr>\n",
       "    <tr>\n",
       "      <th>14</th>\n",
       "      <td>SCI20</td>\n",
       "      <td>0.724138</td>\n",
       "      <td>0.473913</td>\n",
       "      <td>0.905882</td>\n",
       "      <td>0.457841</td>\n",
       "      <td>0.701614</td>\n",
       "      <td>0.528573</td>\n",
       "      <td>0.657077</td>\n",
       "      <td>0.511502</td>\n",
       "    </tr>\n",
       "    <tr>\n",
       "      <th>15</th>\n",
       "      <td>SCI21</td>\n",
       "      <td>0.291667</td>\n",
       "      <td>0.306519</td>\n",
       "      <td>0.502130</td>\n",
       "      <td>0.462294</td>\n",
       "      <td>0.701614</td>\n",
       "      <td>0.528573</td>\n",
       "      <td>0.657077</td>\n",
       "      <td>0.511502</td>\n",
       "    </tr>\n",
       "  </tbody>\n",
       "</table>\n",
       "</div>"
      ],
      "text/plain": [
       "   group_left_out  accuracy  precision    recall        f1  mean_accuracy  \\\n",
       "0           SCI02  0.947917   0.881892  0.466667  0.470734       0.701614   \n",
       "1           SCI03  0.828125   0.625837  0.694516  0.521098       0.701614   \n",
       "2           SCI06  0.660194   0.621308  0.334632  0.594771       0.701614   \n",
       "3           SCI08  0.571429   0.666667  0.666667  0.333333       0.701614   \n",
       "4           SCI10  0.541284   0.291592  0.772670  0.209265       0.701614   \n",
       "5           SCI11  0.787879   0.478204  0.429051  0.576093       0.701614   \n",
       "6           SCI12  0.659091   0.543651  0.629978  0.541199       0.701614   \n",
       "7           SCI13  0.531073   0.407181  0.667442  0.421036       0.701614   \n",
       "8           SCI14  0.755435   0.583689  0.656038  0.682316       0.701614   \n",
       "9           SCI15  0.900000   0.552713  0.726882  0.735414       0.701614   \n",
       "10          SCI16  0.800000   0.562468  0.853512  0.515811       0.701614   \n",
       "11          SCI17  0.807860   0.498922  0.913881  0.464952       0.701614   \n",
       "12          SCI18  0.746269   0.442735  0.790079  0.440039       0.701614   \n",
       "13          SCI19  0.673469   0.519872  0.503205  0.757835       0.701614   \n",
       "14          SCI20  0.724138   0.473913  0.905882  0.457841       0.701614   \n",
       "15          SCI21  0.291667   0.306519  0.502130  0.462294       0.701614   \n",
       "\n",
       "    mean_precision  mean_recall   mean_f1  \n",
       "0         0.528573     0.657077  0.511502  \n",
       "1         0.528573     0.657077  0.511502  \n",
       "2         0.528573     0.657077  0.511502  \n",
       "3         0.528573     0.657077  0.511502  \n",
       "4         0.528573     0.657077  0.511502  \n",
       "5         0.528573     0.657077  0.511502  \n",
       "6         0.528573     0.657077  0.511502  \n",
       "7         0.528573     0.657077  0.511502  \n",
       "8         0.528573     0.657077  0.511502  \n",
       "9         0.528573     0.657077  0.511502  \n",
       "10        0.528573     0.657077  0.511502  \n",
       "11        0.528573     0.657077  0.511502  \n",
       "12        0.528573     0.657077  0.511502  \n",
       "13        0.528573     0.657077  0.511502  \n",
       "14        0.528573     0.657077  0.511502  \n",
       "15        0.528573     0.657077  0.511502  "
      ]
     },
     "execution_count": 17,
     "metadata": {},
     "output_type": "execute_result"
    }
   ],
   "source": [
    "log_eval"
   ]
  },
  {
   "cell_type": "code",
   "execution_count": null,
   "metadata": {},
   "outputs": [],
   "source": []
  }
 ],
 "metadata": {
  "kernelspec": {
   "display_name": ".venv",
   "language": "python",
   "name": "python3"
  },
  "language_info": {
   "codemirror_mode": {
    "name": "ipython",
    "version": 3
   },
   "file_extension": ".py",
   "mimetype": "text/x-python",
   "name": "python",
   "nbconvert_exporter": "python",
   "pygments_lexer": "ipython3",
   "version": "3.11.5"
  }
 },
 "nbformat": 4,
 "nbformat_minor": 2
}
