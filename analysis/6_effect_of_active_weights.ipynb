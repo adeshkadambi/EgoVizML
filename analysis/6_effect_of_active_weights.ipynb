{
 "cells": [
  {
   "cell_type": "markdown",
   "metadata": {},
   "source": [
    "# Active Weights\n",
    "\n",
    "Explore the difference between computing active object weights vs. seperate columns for active object counts."
   ]
  },
  {
   "cell_type": "code",
   "execution_count": 1,
   "metadata": {},
   "outputs": [],
   "source": [
    "import os\n",
    "\n",
    "import pandas as pd\n",
    "from sklearn.ensemble import GradientBoostingClassifier, RandomForestClassifier\n",
    "from sklearn.linear_model import LogisticRegression\n",
    "from sklearn.neural_network import MLPClassifier\n",
    "from sklearn.preprocessing import LabelEncoder\n",
    "from sklearn.svm import SVC\n",
    "from xgboost import XGBClassifier\n",
    "\n",
    "import egoviz.models.evaluation as ev\n",
    "import egoviz.models.processing as pr\n",
    "\n",
    "SEED = 42\n",
    "\n",
    "pd.set_option(\"display.max_rows\", 300)"
   ]
  },
  {
   "cell_type": "markdown",
   "metadata": {},
   "source": [
    "### Load Data and Generate Dataframes"
   ]
  },
  {
   "cell_type": "code",
   "execution_count": 2,
   "metadata": {},
   "outputs": [],
   "source": [
    "# load and process data\n",
    "cwd = os.getcwd()\n",
    "df = pr.load_pickle(os.path.join(cwd, '../data/home_data_all_preds_df.pkl'))\n",
    "\n",
    "df_counts = pr.generate_counts_df(df)\n",
    "df_weight_2 = pr.generate_counts_df(df, weighted=True, weight=2)\n",
    "df_weight_5 = pr.generate_counts_df(df, weighted=True, weight=5)\n",
    "df_weight_10 = pr.generate_counts_df(df, weighted=True, weight=10)\n",
    "\n",
    "# scale data\n",
    "df_counts_scaled = pr.row_wise_min_max_scaling(df_counts)\n",
    "df_weight_10_scaled = pr.row_wise_min_max_scaling(df_weight_10)"
   ]
  },
  {
   "cell_type": "markdown",
   "metadata": {},
   "source": [
    "### Evaluate Models"
   ]
  },
  {
   "cell_type": "code",
   "execution_count": 3,
   "metadata": {},
   "outputs": [],
   "source": [
    "# prepare data for evaluation\n",
    "label_encoder = LabelEncoder()"
   ]
  },
  {
   "cell_type": "code",
   "execution_count": 4,
   "metadata": {},
   "outputs": [
    {
     "name": "stderr",
     "output_type": "stream",
     "text": [
      "2023-12-04 00:07:51,859 - root - INFO - LOGOCV complete for LogisticRegression\n",
      "2023-12-04 00:08:00,423 - root - INFO - LOGOCV complete for RandomForestClassifier\n",
      "2023-12-04 00:10:51,572 - root - INFO - LOGOCV complete for GradientBoostingClassifier\n",
      "2023-12-04 00:10:59,712 - root - INFO - LOGOCV complete for XGBClassifier\n",
      "2023-12-04 00:11:01,336 - root - INFO - LOGOCV complete for SVC\n",
      "2023-12-04 00:11:07,808 - root - INFO - LOGOCV complete for MLPClassifier\n"
     ]
    }
   ],
   "source": [
    "models = [\n",
    "    ('Logistic Regression', LogisticRegression(max_iter=1000, random_state=SEED, class_weight='balanced')),\n",
    "    ('Random Forest', RandomForestClassifier(random_state=SEED, class_weight='balanced')),\n",
    "    ('Gradient Boosting', GradientBoostingClassifier(random_state=SEED)),\n",
    "    ('XGBoost', XGBClassifier(random_state=SEED)),\n",
    "    ('SVM', SVC(random_state=SEED, class_weight='balanced')),\n",
    "    ('MLP', MLPClassifier(random_state=SEED, learning_rate='adaptive', max_iter=1000, early_stopping=True))\n",
    "]\n",
    "\n",
    "results_counts = ev.evaluate_models(models, df_counts_scaled, label_encoder)"
   ]
  },
  {
   "cell_type": "code",
   "execution_count": 5,
   "metadata": {},
   "outputs": [
    {
     "name": "stderr",
     "output_type": "stream",
     "text": [
      "2023-12-04 00:11:08,382 - root - INFO - LOGOCV complete for LogisticRegression\n",
      "2023-12-04 00:11:23,296 - root - INFO - LOGOCV complete for RandomForestClassifier\n",
      "2023-12-04 00:13:51,411 - root - INFO - LOGOCV complete for GradientBoostingClassifier\n",
      "2023-12-04 00:13:58,497 - root - INFO - LOGOCV complete for XGBClassifier\n",
      "2023-12-04 00:13:59,569 - root - INFO - LOGOCV complete for SVC\n",
      "2023-12-04 00:14:02,451 - root - INFO - LOGOCV complete for MLPClassifier\n"
     ]
    }
   ],
   "source": [
    "models = [\n",
    "    ('Logistic Regression', LogisticRegression(max_iter=1000, random_state=SEED, class_weight='balanced')),\n",
    "    ('Random Forest', RandomForestClassifier(random_state=SEED, class_weight='balanced')),\n",
    "    ('Gradient Boosting', GradientBoostingClassifier(random_state=SEED)),\n",
    "    ('XGBoost', XGBClassifier(random_state=SEED)),\n",
    "    ('SVM', SVC(random_state=SEED, class_weight='balanced')),\n",
    "    ('MLP', MLPClassifier(random_state=SEED, learning_rate='adaptive', max_iter=1000, early_stopping=True))\n",
    "]\n",
    "\n",
    "results_weight_10 = ev.evaluate_models(models, df_weight_10_scaled, label_encoder)"
   ]
  },
  {
   "cell_type": "markdown",
   "metadata": {},
   "source": [
    "### Compare Models"
   ]
  },
  {
   "cell_type": "code",
   "execution_count": 6,
   "metadata": {},
   "outputs": [
    {
     "data": {
      "text/html": [
       "<div>\n",
       "<style scoped>\n",
       "    .dataframe tbody tr th:only-of-type {\n",
       "        vertical-align: middle;\n",
       "    }\n",
       "\n",
       "    .dataframe tbody tr th {\n",
       "        vertical-align: top;\n",
       "    }\n",
       "\n",
       "    .dataframe thead th {\n",
       "        text-align: right;\n",
       "    }\n",
       "</style>\n",
       "<table border=\"1\" class=\"dataframe\">\n",
       "  <thead>\n",
       "    <tr style=\"text-align: right;\">\n",
       "      <th></th>\n",
       "      <th>model</th>\n",
       "      <th>median_precision</th>\n",
       "      <th>median_recall</th>\n",
       "      <th>median_f1</th>\n",
       "    </tr>\n",
       "  </thead>\n",
       "  <tbody>\n",
       "    <tr>\n",
       "      <th>0</th>\n",
       "      <td>GradientBoostingClassifier</td>\n",
       "      <td>0.490829</td>\n",
       "      <td>0.667125</td>\n",
       "      <td>0.524714</td>\n",
       "    </tr>\n",
       "    <tr>\n",
       "      <th>1</th>\n",
       "      <td>LogisticRegression</td>\n",
       "      <td>0.507118</td>\n",
       "      <td>0.659284</td>\n",
       "      <td>0.452529</td>\n",
       "    </tr>\n",
       "    <tr>\n",
       "      <th>2</th>\n",
       "      <td>MLPClassifier</td>\n",
       "      <td>0.560491</td>\n",
       "      <td>0.641847</td>\n",
       "      <td>0.452407</td>\n",
       "    </tr>\n",
       "    <tr>\n",
       "      <th>3</th>\n",
       "      <td>RandomForestClassifier</td>\n",
       "      <td>0.575353</td>\n",
       "      <td>0.617427</td>\n",
       "      <td>0.528003</td>\n",
       "    </tr>\n",
       "    <tr>\n",
       "      <th>4</th>\n",
       "      <td>SVC</td>\n",
       "      <td>0.485208</td>\n",
       "      <td>0.628113</td>\n",
       "      <td>0.466500</td>\n",
       "    </tr>\n",
       "    <tr>\n",
       "      <th>5</th>\n",
       "      <td>XGBClassifier</td>\n",
       "      <td>0.484950</td>\n",
       "      <td>0.634075</td>\n",
       "      <td>0.542522</td>\n",
       "    </tr>\n",
       "  </tbody>\n",
       "</table>\n",
       "</div>"
      ],
      "text/plain": [
       "                        model  median_precision  median_recall  median_f1\n",
       "0  GradientBoostingClassifier          0.490829       0.667125   0.524714\n",
       "1          LogisticRegression          0.507118       0.659284   0.452529\n",
       "2               MLPClassifier          0.560491       0.641847   0.452407\n",
       "3      RandomForestClassifier          0.575353       0.617427   0.528003\n",
       "4                         SVC          0.485208       0.628113   0.466500\n",
       "5               XGBClassifier          0.484950       0.634075   0.542522"
      ]
     },
     "execution_count": 6,
     "metadata": {},
     "output_type": "execute_result"
    }
   ],
   "source": [
    "results_counts[1][['median_precision', 'median_recall', 'median_f1', 'model']].groupby('model').first().reset_index()"
   ]
  },
  {
   "cell_type": "code",
   "execution_count": 7,
   "metadata": {},
   "outputs": [
    {
     "data": {
      "text/html": [
       "<div>\n",
       "<style scoped>\n",
       "    .dataframe tbody tr th:only-of-type {\n",
       "        vertical-align: middle;\n",
       "    }\n",
       "\n",
       "    .dataframe tbody tr th {\n",
       "        vertical-align: top;\n",
       "    }\n",
       "\n",
       "    .dataframe thead th {\n",
       "        text-align: right;\n",
       "    }\n",
       "</style>\n",
       "<table border=\"1\" class=\"dataframe\">\n",
       "  <thead>\n",
       "    <tr style=\"text-align: right;\">\n",
       "      <th></th>\n",
       "      <th>median_f1</th>\n",
       "      <th>percentage_above_05</th>\n",
       "    </tr>\n",
       "    <tr>\n",
       "      <th>model</th>\n",
       "      <th></th>\n",
       "      <th></th>\n",
       "    </tr>\n",
       "  </thead>\n",
       "  <tbody>\n",
       "    <tr>\n",
       "      <th>GradientBoostingClassifier</th>\n",
       "      <td>0.524714</td>\n",
       "      <td>0.56</td>\n",
       "    </tr>\n",
       "    <tr>\n",
       "      <th>LogisticRegression</th>\n",
       "      <td>0.452529</td>\n",
       "      <td>0.31</td>\n",
       "    </tr>\n",
       "    <tr>\n",
       "      <th>MLPClassifier</th>\n",
       "      <td>0.452407</td>\n",
       "      <td>0.38</td>\n",
       "    </tr>\n",
       "    <tr>\n",
       "      <th>RandomForestClassifier</th>\n",
       "      <td>0.528003</td>\n",
       "      <td>0.56</td>\n",
       "    </tr>\n",
       "    <tr>\n",
       "      <th>SVC</th>\n",
       "      <td>0.466500</td>\n",
       "      <td>0.38</td>\n",
       "    </tr>\n",
       "    <tr>\n",
       "      <th>XGBClassifier</th>\n",
       "      <td>0.542522</td>\n",
       "      <td>0.56</td>\n",
       "    </tr>\n",
       "  </tbody>\n",
       "</table>\n",
       "</div>"
      ],
      "text/plain": [
       "                            median_f1  percentage_above_05\n",
       "model                                                     \n",
       "GradientBoostingClassifier   0.524714                 0.56\n",
       "LogisticRegression           0.452529                 0.31\n",
       "MLPClassifier                0.452407                 0.38\n",
       "RandomForestClassifier       0.528003                 0.56\n",
       "SVC                          0.466500                 0.38\n",
       "XGBClassifier                0.542522                 0.56"
      ]
     },
     "execution_count": 7,
     "metadata": {},
     "output_type": "execute_result"
    }
   ],
   "source": [
    "results_counts[1][['f1', 'median_f1', 'model']].groupby('model').agg(\n",
    "    # get the first median f1 score\n",
    "    median_f1=('median_f1', 'first'),\n",
    "    # get the percentage of f1 scores that are above 0.5\n",
    "    percentage_above_05=('f1', lambda x: round(len(x[x > 0.5]) / len(x), 2)),\n",
    ")"
   ]
  },
  {
   "cell_type": "code",
   "execution_count": 8,
   "metadata": {},
   "outputs": [
    {
     "data": {
      "text/html": [
       "<div>\n",
       "<style scoped>\n",
       "    .dataframe tbody tr th:only-of-type {\n",
       "        vertical-align: middle;\n",
       "    }\n",
       "\n",
       "    .dataframe tbody tr th {\n",
       "        vertical-align: top;\n",
       "    }\n",
       "\n",
       "    .dataframe thead th {\n",
       "        text-align: right;\n",
       "    }\n",
       "</style>\n",
       "<table border=\"1\" class=\"dataframe\">\n",
       "  <thead>\n",
       "    <tr style=\"text-align: right;\">\n",
       "      <th></th>\n",
       "      <th>model</th>\n",
       "      <th>median_precision</th>\n",
       "      <th>median_recall</th>\n",
       "      <th>median_f1</th>\n",
       "    </tr>\n",
       "  </thead>\n",
       "  <tbody>\n",
       "    <tr>\n",
       "      <th>0</th>\n",
       "      <td>GradientBoostingClassifier</td>\n",
       "      <td>0.484220</td>\n",
       "      <td>0.656718</td>\n",
       "      <td>0.559557</td>\n",
       "    </tr>\n",
       "    <tr>\n",
       "      <th>1</th>\n",
       "      <td>LogisticRegression</td>\n",
       "      <td>0.494314</td>\n",
       "      <td>0.698342</td>\n",
       "      <td>0.524217</td>\n",
       "    </tr>\n",
       "    <tr>\n",
       "      <th>2</th>\n",
       "      <td>MLPClassifier</td>\n",
       "      <td>0.537698</td>\n",
       "      <td>0.672185</td>\n",
       "      <td>0.503334</td>\n",
       "    </tr>\n",
       "    <tr>\n",
       "      <th>3</th>\n",
       "      <td>RandomForestClassifier</td>\n",
       "      <td>0.515892</td>\n",
       "      <td>0.628193</td>\n",
       "      <td>0.503513</td>\n",
       "    </tr>\n",
       "    <tr>\n",
       "      <th>4</th>\n",
       "      <td>SVC</td>\n",
       "      <td>0.494899</td>\n",
       "      <td>0.697204</td>\n",
       "      <td>0.452942</td>\n",
       "    </tr>\n",
       "    <tr>\n",
       "      <th>5</th>\n",
       "      <td>XGBClassifier</td>\n",
       "      <td>0.476995</td>\n",
       "      <td>0.668981</td>\n",
       "      <td>0.487353</td>\n",
       "    </tr>\n",
       "  </tbody>\n",
       "</table>\n",
       "</div>"
      ],
      "text/plain": [
       "                        model  median_precision  median_recall  median_f1\n",
       "0  GradientBoostingClassifier          0.484220       0.656718   0.559557\n",
       "1          LogisticRegression          0.494314       0.698342   0.524217\n",
       "2               MLPClassifier          0.537698       0.672185   0.503334\n",
       "3      RandomForestClassifier          0.515892       0.628193   0.503513\n",
       "4                         SVC          0.494899       0.697204   0.452942\n",
       "5               XGBClassifier          0.476995       0.668981   0.487353"
      ]
     },
     "execution_count": 8,
     "metadata": {},
     "output_type": "execute_result"
    }
   ],
   "source": [
    "results_weight_10[1][['median_precision', 'median_recall', 'median_f1', 'model']].groupby('model').first().reset_index()"
   ]
  },
  {
   "cell_type": "code",
   "execution_count": 9,
   "metadata": {},
   "outputs": [
    {
     "data": {
      "text/html": [
       "<div>\n",
       "<style scoped>\n",
       "    .dataframe tbody tr th:only-of-type {\n",
       "        vertical-align: middle;\n",
       "    }\n",
       "\n",
       "    .dataframe tbody tr th {\n",
       "        vertical-align: top;\n",
       "    }\n",
       "\n",
       "    .dataframe thead th {\n",
       "        text-align: right;\n",
       "    }\n",
       "</style>\n",
       "<table border=\"1\" class=\"dataframe\">\n",
       "  <thead>\n",
       "    <tr style=\"text-align: right;\">\n",
       "      <th></th>\n",
       "      <th>median_f1</th>\n",
       "      <th>percentage_above_05</th>\n",
       "    </tr>\n",
       "    <tr>\n",
       "      <th>model</th>\n",
       "      <th></th>\n",
       "      <th></th>\n",
       "    </tr>\n",
       "  </thead>\n",
       "  <tbody>\n",
       "    <tr>\n",
       "      <th>GradientBoostingClassifier</th>\n",
       "      <td>0.559557</td>\n",
       "      <td>0.56</td>\n",
       "    </tr>\n",
       "    <tr>\n",
       "      <th>LogisticRegression</th>\n",
       "      <td>0.524217</td>\n",
       "      <td>0.62</td>\n",
       "    </tr>\n",
       "    <tr>\n",
       "      <th>MLPClassifier</th>\n",
       "      <td>0.503334</td>\n",
       "      <td>0.50</td>\n",
       "    </tr>\n",
       "    <tr>\n",
       "      <th>RandomForestClassifier</th>\n",
       "      <td>0.503513</td>\n",
       "      <td>0.56</td>\n",
       "    </tr>\n",
       "    <tr>\n",
       "      <th>SVC</th>\n",
       "      <td>0.452942</td>\n",
       "      <td>0.44</td>\n",
       "    </tr>\n",
       "    <tr>\n",
       "      <th>XGBClassifier</th>\n",
       "      <td>0.487353</td>\n",
       "      <td>0.50</td>\n",
       "    </tr>\n",
       "  </tbody>\n",
       "</table>\n",
       "</div>"
      ],
      "text/plain": [
       "                            median_f1  percentage_above_05\n",
       "model                                                     \n",
       "GradientBoostingClassifier   0.559557                 0.56\n",
       "LogisticRegression           0.524217                 0.62\n",
       "MLPClassifier                0.503334                 0.50\n",
       "RandomForestClassifier       0.503513                 0.56\n",
       "SVC                          0.452942                 0.44\n",
       "XGBClassifier                0.487353                 0.50"
      ]
     },
     "execution_count": 9,
     "metadata": {},
     "output_type": "execute_result"
    }
   ],
   "source": [
    "results_weight_10[1][['f1', 'median_f1', 'model']].groupby('model').agg(\n",
    "    # get the first median f1 score\n",
    "    median_f1=('median_f1', 'first'),\n",
    "    # get the percentage of f1 scores that are above 0.5\n",
    "    percentage_above_05=('f1', lambda x: round(len(x[x > 0.5]) / len(x), 2)),\n",
    ")"
   ]
  },
  {
   "cell_type": "markdown",
   "metadata": {},
   "source": [
    "### Conclusions\n",
    "\n",
    "For the most part, the models are very similar regardless of whether we use active weights or active counts, slightly favoring the active weights. The exception is the XGBoost model, which performs significantly better without active weights."
   ]
  }
 ],
 "metadata": {
  "kernelspec": {
   "display_name": ".venv",
   "language": "python",
   "name": "python3"
  },
  "language_info": {
   "codemirror_mode": {
    "name": "ipython",
    "version": 3
   },
   "file_extension": ".py",
   "mimetype": "text/x-python",
   "name": "python",
   "nbconvert_exporter": "python",
   "pygments_lexer": "ipython3",
   "version": "3.11.5"
  }
 },
 "nbformat": 4,
 "nbformat_minor": 2
}
