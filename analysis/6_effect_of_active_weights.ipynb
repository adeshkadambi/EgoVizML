{
 "cells": [
  {
   "cell_type": "markdown",
   "metadata": {},
   "source": [
    "# Active Weights\n",
    "\n",
    "Explore the difference between computing active object weights vs. seperate columns for active object counts."
   ]
  },
  {
   "cell_type": "code",
   "execution_count": 1,
   "metadata": {},
   "outputs": [],
   "source": [
    "import os\n",
    "\n",
    "import pandas as pd\n",
    "from sklearn.ensemble import GradientBoostingClassifier, RandomForestClassifier\n",
    "from sklearn.linear_model import LogisticRegression\n",
    "from sklearn.neural_network import MLPClassifier\n",
    "from sklearn.preprocessing import LabelEncoder\n",
    "from sklearn.svm import SVC\n",
    "from xgboost import XGBClassifier\n",
    "\n",
    "import egoviz.models.evaluation as ev\n",
    "import egoviz.models.processing as pr\n",
    "\n",
    "SEED = 42\n",
    "\n",
    "pd.set_option(\"display.max_rows\", 300)"
   ]
  },
  {
   "cell_type": "markdown",
   "metadata": {},
   "source": [
    "### Load Data and Generate Dataframes"
   ]
  },
  {
   "cell_type": "code",
   "execution_count": 2,
   "metadata": {},
   "outputs": [],
   "source": [
    "# load and process data\n",
    "cwd = os.getcwd()\n",
    "df = pr.load_pickle(os.path.join(cwd, '../data/home_data_all_preds_df.pkl'))\n",
    "\n",
    "df_counts = pr.generate_counts_df(df)\n",
    "df_weight_2 = pr.generate_counts_df(df, weighted=True, weight=2)\n",
    "df_weight_5 = pr.generate_counts_df(df, weighted=True, weight=5)\n",
    "df_weight_10 = pr.generate_counts_df(df, weighted=True, weight=10)\n",
    "\n",
    "# scale data\n",
    "df_counts_scaled = pr.row_wise_min_max_scaling(df_counts)\n",
    "df_weight_2_scaled = pr.row_wise_min_max_scaling(df_weight_2)\n",
    "df_weight_5_scaled = pr.row_wise_min_max_scaling(df_weight_5)\n",
    "df_weight_10_scaled = pr.row_wise_min_max_scaling(df_weight_10)"
   ]
  },
  {
   "cell_type": "markdown",
   "metadata": {},
   "source": [
    "### Evaluate Models"
   ]
  },
  {
   "cell_type": "code",
   "execution_count": 3,
   "metadata": {},
   "outputs": [],
   "source": [
    "# prepare data for evaluation\n",
    "label_encoder = LabelEncoder()"
   ]
  },
  {
   "cell_type": "code",
   "execution_count": 4,
   "metadata": {},
   "outputs": [
    {
     "name": "stderr",
     "output_type": "stream",
     "text": [
      "2023-12-03 23:18:45,609 - root - INFO - LOGOCV complete for LogisticRegression\n",
      "2023-12-03 23:18:54,322 - root - INFO - LOGOCV complete for RandomForestClassifier\n",
      "2023-12-03 23:21:42,550 - root - INFO - LOGOCV complete for GradientBoostingClassifier\n",
      "2023-12-03 23:21:50,715 - root - INFO - LOGOCV complete for XGBClassifier\n",
      "2023-12-03 23:21:52,226 - root - INFO - LOGOCV complete for SVC\n",
      "2023-12-03 23:21:58,611 - root - INFO - LOGOCV complete for MLPClassifier\n"
     ]
    }
   ],
   "source": [
    "models = [\n",
    "    ('Logistic Regression', LogisticRegression(max_iter=1000, random_state=SEED, class_weight='balanced')),\n",
    "    ('Random Forest', RandomForestClassifier(random_state=SEED, class_weight='balanced')),\n",
    "    ('Gradient Boosting', GradientBoostingClassifier(random_state=SEED)),\n",
    "    ('XGBoost', XGBClassifier(random_state=SEED)),\n",
    "    ('SVM', SVC(random_state=SEED, class_weight='balanced')),\n",
    "    ('MLP', MLPClassifier(random_state=SEED, learning_rate='adaptive', max_iter=1000, early_stopping=True))\n",
    "]\n",
    "\n",
    "results_counts = ev.evaluate_models(models, df_counts_scaled, label_encoder)"
   ]
  },
  {
   "cell_type": "code",
   "execution_count": 5,
   "metadata": {},
   "outputs": [
    {
     "name": "stderr",
     "output_type": "stream",
     "text": [
      "2023-12-03 23:21:59,162 - root - INFO - LOGOCV complete for LogisticRegression\n",
      "2023-12-03 23:22:10,892 - root - INFO - LOGOCV complete for RandomForestClassifier\n",
      "2023-12-03 23:24:47,530 - root - INFO - LOGOCV complete for GradientBoostingClassifier\n",
      "2023-12-03 23:24:54,377 - root - INFO - LOGOCV complete for XGBClassifier\n",
      "2023-12-03 23:24:55,720 - root - INFO - LOGOCV complete for SVC\n",
      "2023-12-03 23:24:59,091 - root - INFO - LOGOCV complete for MLPClassifier\n"
     ]
    }
   ],
   "source": [
    "models = [\n",
    "    ('Logistic Regression', LogisticRegression(max_iter=1000, random_state=SEED, class_weight='balanced')),\n",
    "    ('Random Forest', RandomForestClassifier(random_state=SEED, class_weight='balanced')),\n",
    "    ('Gradient Boosting', GradientBoostingClassifier(random_state=SEED)),\n",
    "    ('XGBoost', XGBClassifier(random_state=SEED)),\n",
    "    ('SVM', SVC(random_state=SEED, class_weight='balanced')),\n",
    "    ('MLP', MLPClassifier(random_state=SEED, learning_rate='adaptive', max_iter=1000, early_stopping=True))\n",
    "]\n",
    "\n",
    "results_weight_2 = ev.evaluate_models(models, df_weight_2_scaled, label_encoder)"
   ]
  },
  {
   "cell_type": "code",
   "execution_count": 6,
   "metadata": {},
   "outputs": [
    {
     "name": "stderr",
     "output_type": "stream",
     "text": [
      "2023-12-03 23:24:59,606 - root - INFO - LOGOCV complete for LogisticRegression\n",
      "2023-12-03 23:25:11,424 - root - INFO - LOGOCV complete for RandomForestClassifier\n",
      "2023-12-03 23:27:54,412 - root - INFO - LOGOCV complete for GradientBoostingClassifier\n",
      "2023-12-03 23:28:01,388 - root - INFO - LOGOCV complete for XGBClassifier\n",
      "2023-12-03 23:28:02,637 - root - INFO - LOGOCV complete for SVC\n",
      "2023-12-03 23:28:06,001 - root - INFO - LOGOCV complete for MLPClassifier\n"
     ]
    }
   ],
   "source": [
    "models = [\n",
    "    ('Logistic Regression', LogisticRegression(max_iter=1000, random_state=SEED, class_weight='balanced')),\n",
    "    ('Random Forest', RandomForestClassifier(random_state=SEED, class_weight='balanced')),\n",
    "    ('Gradient Boosting', GradientBoostingClassifier(random_state=SEED)),\n",
    "    ('XGBoost', XGBClassifier(random_state=SEED)),\n",
    "    ('SVM', SVC(random_state=SEED, class_weight='balanced')),\n",
    "    ('MLP', MLPClassifier(random_state=SEED, learning_rate='adaptive', max_iter=1000, early_stopping=True))\n",
    "]\n",
    "\n",
    "results_weight_5 = ev.evaluate_models(models, df_weight_5_scaled, label_encoder)"
   ]
  },
  {
   "cell_type": "code",
   "execution_count": 7,
   "metadata": {},
   "outputs": [
    {
     "name": "stderr",
     "output_type": "stream",
     "text": [
      "2023-12-03 23:28:06,532 - root - INFO - LOGOCV complete for LogisticRegression\n",
      "2023-12-03 23:28:18,552 - root - INFO - LOGOCV complete for RandomForestClassifier\n",
      "2023-12-03 23:31:06,387 - root - INFO - LOGOCV complete for GradientBoostingClassifier\n",
      "2023-12-03 23:31:13,439 - root - INFO - LOGOCV complete for XGBClassifier\n",
      "2023-12-03 23:31:14,671 - root - INFO - LOGOCV complete for SVC\n",
      "2023-12-03 23:31:18,047 - root - INFO - LOGOCV complete for MLPClassifier\n"
     ]
    }
   ],
   "source": [
    "models = [\n",
    "    ('Logistic Regression', LogisticRegression(max_iter=1000, random_state=SEED, class_weight='balanced')),\n",
    "    ('Random Forest', RandomForestClassifier(random_state=SEED, class_weight='balanced')),\n",
    "    ('Gradient Boosting', GradientBoostingClassifier(random_state=SEED)),\n",
    "    ('XGBoost', XGBClassifier(random_state=SEED)),\n",
    "    ('SVM', SVC(random_state=SEED, class_weight='balanced')),\n",
    "    ('MLP', MLPClassifier(random_state=SEED, learning_rate='adaptive', max_iter=1000, early_stopping=True))\n",
    "]\n",
    "\n",
    "results_weight_10 = ev.evaluate_models(models, df_weight_10_scaled, label_encoder)"
   ]
  },
  {
   "cell_type": "markdown",
   "metadata": {},
   "source": [
    "### Compare Models"
   ]
  },
  {
   "cell_type": "code",
   "execution_count": 12,
   "metadata": {},
   "outputs": [
    {
     "data": {
      "text/html": [
       "<div>\n",
       "<style scoped>\n",
       "    .dataframe tbody tr th:only-of-type {\n",
       "        vertical-align: middle;\n",
       "    }\n",
       "\n",
       "    .dataframe tbody tr th {\n",
       "        vertical-align: top;\n",
       "    }\n",
       "\n",
       "    .dataframe thead th {\n",
       "        text-align: right;\n",
       "    }\n",
       "</style>\n",
       "<table border=\"1\" class=\"dataframe\">\n",
       "  <thead>\n",
       "    <tr style=\"text-align: right;\">\n",
       "      <th></th>\n",
       "      <th>model</th>\n",
       "      <th>median_precision</th>\n",
       "      <th>median_recall</th>\n",
       "      <th>median_f1</th>\n",
       "    </tr>\n",
       "  </thead>\n",
       "  <tbody>\n",
       "    <tr>\n",
       "      <th>0</th>\n",
       "      <td>GradientBoostingClassifier</td>\n",
       "      <td>0.493412</td>\n",
       "      <td>0.648244</td>\n",
       "      <td>0.515797</td>\n",
       "    </tr>\n",
       "    <tr>\n",
       "      <th>1</th>\n",
       "      <td>LogisticRegression</td>\n",
       "      <td>0.507118</td>\n",
       "      <td>0.659284</td>\n",
       "      <td>0.452529</td>\n",
       "    </tr>\n",
       "    <tr>\n",
       "      <th>2</th>\n",
       "      <td>MLPClassifier</td>\n",
       "      <td>0.547041</td>\n",
       "      <td>0.637935</td>\n",
       "      <td>0.450635</td>\n",
       "    </tr>\n",
       "    <tr>\n",
       "      <th>3</th>\n",
       "      <td>RandomForestClassifier</td>\n",
       "      <td>0.528335</td>\n",
       "      <td>0.638615</td>\n",
       "      <td>0.482869</td>\n",
       "    </tr>\n",
       "    <tr>\n",
       "      <th>4</th>\n",
       "      <td>SVC</td>\n",
       "      <td>0.485208</td>\n",
       "      <td>0.628113</td>\n",
       "      <td>0.466500</td>\n",
       "    </tr>\n",
       "    <tr>\n",
       "      <th>5</th>\n",
       "      <td>XGBClassifier</td>\n",
       "      <td>0.484950</td>\n",
       "      <td>0.634075</td>\n",
       "      <td>0.586012</td>\n",
       "    </tr>\n",
       "  </tbody>\n",
       "</table>\n",
       "</div>"
      ],
      "text/plain": [
       "                        model  median_precision  median_recall  median_f1\n",
       "0  GradientBoostingClassifier          0.493412       0.648244   0.515797\n",
       "1          LogisticRegression          0.507118       0.659284   0.452529\n",
       "2               MLPClassifier          0.547041       0.637935   0.450635\n",
       "3      RandomForestClassifier          0.528335       0.638615   0.482869\n",
       "4                         SVC          0.485208       0.628113   0.466500\n",
       "5               XGBClassifier          0.484950       0.634075   0.586012"
      ]
     },
     "execution_count": 12,
     "metadata": {},
     "output_type": "execute_result"
    }
   ],
   "source": [
    "results_counts[1][['median_precision', 'median_recall', 'median_f1', 'model']].groupby('model').first().reset_index()"
   ]
  },
  {
   "cell_type": "code",
   "execution_count": 13,
   "metadata": {},
   "outputs": [
    {
     "data": {
      "text/html": [
       "<div>\n",
       "<style scoped>\n",
       "    .dataframe tbody tr th:only-of-type {\n",
       "        vertical-align: middle;\n",
       "    }\n",
       "\n",
       "    .dataframe tbody tr th {\n",
       "        vertical-align: top;\n",
       "    }\n",
       "\n",
       "    .dataframe thead th {\n",
       "        text-align: right;\n",
       "    }\n",
       "</style>\n",
       "<table border=\"1\" class=\"dataframe\">\n",
       "  <thead>\n",
       "    <tr style=\"text-align: right;\">\n",
       "      <th></th>\n",
       "      <th>model</th>\n",
       "      <th>median_precision</th>\n",
       "      <th>median_recall</th>\n",
       "      <th>median_f1</th>\n",
       "    </tr>\n",
       "  </thead>\n",
       "  <tbody>\n",
       "    <tr>\n",
       "      <th>0</th>\n",
       "      <td>GradientBoostingClassifier</td>\n",
       "      <td>0.484220</td>\n",
       "      <td>0.656718</td>\n",
       "      <td>0.559557</td>\n",
       "    </tr>\n",
       "    <tr>\n",
       "      <th>1</th>\n",
       "      <td>LogisticRegression</td>\n",
       "      <td>0.494314</td>\n",
       "      <td>0.698342</td>\n",
       "      <td>0.524217</td>\n",
       "    </tr>\n",
       "    <tr>\n",
       "      <th>2</th>\n",
       "      <td>MLPClassifier</td>\n",
       "      <td>0.537698</td>\n",
       "      <td>0.672185</td>\n",
       "      <td>0.503334</td>\n",
       "    </tr>\n",
       "    <tr>\n",
       "      <th>3</th>\n",
       "      <td>RandomForestClassifier</td>\n",
       "      <td>0.515892</td>\n",
       "      <td>0.628193</td>\n",
       "      <td>0.503513</td>\n",
       "    </tr>\n",
       "    <tr>\n",
       "      <th>4</th>\n",
       "      <td>SVC</td>\n",
       "      <td>0.494899</td>\n",
       "      <td>0.697204</td>\n",
       "      <td>0.452942</td>\n",
       "    </tr>\n",
       "    <tr>\n",
       "      <th>5</th>\n",
       "      <td>XGBClassifier</td>\n",
       "      <td>0.476995</td>\n",
       "      <td>0.668981</td>\n",
       "      <td>0.487353</td>\n",
       "    </tr>\n",
       "  </tbody>\n",
       "</table>\n",
       "</div>"
      ],
      "text/plain": [
       "                        model  median_precision  median_recall  median_f1\n",
       "0  GradientBoostingClassifier          0.484220       0.656718   0.559557\n",
       "1          LogisticRegression          0.494314       0.698342   0.524217\n",
       "2               MLPClassifier          0.537698       0.672185   0.503334\n",
       "3      RandomForestClassifier          0.515892       0.628193   0.503513\n",
       "4                         SVC          0.494899       0.697204   0.452942\n",
       "5               XGBClassifier          0.476995       0.668981   0.487353"
      ]
     },
     "execution_count": 13,
     "metadata": {},
     "output_type": "execute_result"
    }
   ],
   "source": [
    "results_weight_10[1][['median_precision', 'median_recall', 'median_f1', 'model']].groupby('model').first().reset_index()"
   ]
  },
  {
   "cell_type": "markdown",
   "metadata": {},
   "source": [
    "### Conclusions\n",
    "\n",
    "For the most part, the models are very similar regardless of whether we use active weights or active counts, slightly favoring the active weights. The exception is the XGBoost model, which performs significantly better without active weights."
   ]
  }
 ],
 "metadata": {
  "kernelspec": {
   "display_name": ".venv",
   "language": "python",
   "name": "python3"
  },
  "language_info": {
   "codemirror_mode": {
    "name": "ipython",
    "version": 3
   },
   "file_extension": ".py",
   "mimetype": "text/x-python",
   "name": "python",
   "nbconvert_exporter": "python",
   "pygments_lexer": "ipython3",
   "version": "3.11.5"
  }
 },
 "nbformat": 4,
 "nbformat_minor": 2
}
